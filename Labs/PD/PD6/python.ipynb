{
  "cells": [
    {
      "cell_type": "markdown",
      "metadata": {
        "id": "Z4jKiGPB__ke",
        "papermill": {
          "duration": 0.011184,
          "end_time": "2021-02-28T17:17:25.882205",
          "exception": false,
          "start_time": "2021-02-28T17:17:25.871021",
          "status": "completed"
        },
        "tags": []
      },
      "source": [
        "# Application: Heterogeneous Effect of Sex on Wage Using Double Lasso\n",
        "\n",
        "We use US census data from the year 2015 to analyse the effect of gender and interaction effects of other variables with gender on wage jointly. The dependent variable is the logarithm of the wage, the target variable is *female* (in combination with other variables). All other variables denote some other socio-economic characteristics, e.g. marital status, education, and experience.  \n",
        "\n",
        "\n",
        "\n",
        "This analysis allows a closer look how the gender wage gap is related to other socio-economic variables.\n"
      ]
    },
    {
      "cell_type": "code",
      "execution_count": 1,
      "metadata": {
        "id": "hfOxxCgf__kc"
      },
      "outputs": [],
      "source": [
        "# Import relevant packages\n",
        "import pandas as pd\n",
        "import numpy as np\n",
        "from scipy.stats import norm\n",
        "from sklearn.linear_model import LinearRegression\n",
        "import patsy\n",
        "import warnings\n",
        "warnings.simplefilter('ignore')\n",
        "np.random.seed(1234)"
      ]
    },
    {
      "cell_type": "code",
      "execution_count": 2,
      "metadata": {
        "id": "mn-ywPJb__kf"
      },
      "outputs": [],
      "source": [
        "file = \"https://raw.githubusercontent.com/CausalAIBook/MetricsMLNotebooks/main/data/wage2015_subsample_inference.csv\"\n",
        "data = pd.read_csv(file)"
      ]
    },
    {
      "cell_type": "code",
      "execution_count": 3,
      "metadata": {
        "colab": {
          "base_uri": "https://localhost:8080/",
          "height": 320
        },
        "id": "JjAg9We1__kf",
        "outputId": "be47eb27-b37b-40a9-c2fb-f727093bf639"
      },
      "outputs": [
        {
          "output_type": "execute_result",
          "data": {
            "text/plain": [
              "              wage        lwage          sex          shs          hsg  \\\n",
              "count  5150.000000  5150.000000  5150.000000  5150.000000  5150.000000   \n",
              "mean     23.410410     2.970787     0.444466     0.023301     0.243883   \n",
              "std      21.003016     0.570385     0.496955     0.150872     0.429465   \n",
              "min       3.021978     1.105912     0.000000     0.000000     0.000000   \n",
              "25%      13.461538     2.599837     0.000000     0.000000     0.000000   \n",
              "50%      19.230769     2.956512     0.000000     0.000000     0.000000   \n",
              "75%      27.777778     3.324236     1.000000     0.000000     0.000000   \n",
              "max     528.845673     6.270697     1.000000     1.000000     1.000000   \n",
              "\n",
              "               scl          clg           ad           mw           so  \\\n",
              "count  5150.000000  5150.000000  5150.000000  5150.000000  5150.000000   \n",
              "mean      0.278058     0.317670     0.137087     0.259612     0.296505   \n",
              "std       0.448086     0.465616     0.343973     0.438464     0.456761   \n",
              "min       0.000000     0.000000     0.000000     0.000000     0.000000   \n",
              "25%       0.000000     0.000000     0.000000     0.000000     0.000000   \n",
              "50%       0.000000     0.000000     0.000000     0.000000     0.000000   \n",
              "75%       1.000000     1.000000     0.000000     1.000000     1.000000   \n",
              "max       1.000000     1.000000     1.000000     1.000000     1.000000   \n",
              "\n",
              "                we           ne         exp1         exp2         exp3  \\\n",
              "count  5150.000000  5150.000000  5150.000000  5150.000000  5150.000000   \n",
              "mean      0.216117     0.227767    13.760583     3.018925     8.235867   \n",
              "std       0.411635     0.419432    10.609465     4.000904    14.488962   \n",
              "min       0.000000     0.000000     0.000000     0.000000     0.000000   \n",
              "25%       0.000000     0.000000     5.000000     0.250000     0.125000   \n",
              "50%       0.000000     0.000000    10.000000     1.000000     1.000000   \n",
              "75%       0.000000     0.000000    21.000000     4.410000     9.261000   \n",
              "max       1.000000     1.000000    47.000000    22.090000   103.823000   \n",
              "\n",
              "              exp4            occ         occ2            ind         ind2  \n",
              "count  5150.000000    5150.000000  5150.000000    5150.000000  5150.000000  \n",
              "mean     25.118038    5310.737476    11.670874    6629.154951    13.316893  \n",
              "std      53.530225   11874.356080     6.966684    5333.443992     5.701019  \n",
              "min       0.000000      10.000000     1.000000     370.000000     2.000000  \n",
              "25%       0.062500    1740.000000     5.000000    4880.000000     9.000000  \n",
              "50%       1.000000    4040.000000    13.000000    7370.000000    14.000000  \n",
              "75%      19.448100    5610.000000    17.000000    8190.000000    18.000000  \n",
              "max     487.968100  100000.000000    22.000000  100000.000000    22.000000  "
            ],
            "text/html": [
              "\n",
              "  <div id=\"df-b57a07cf-be96-464e-9529-5b764fcc5ce7\" class=\"colab-df-container\">\n",
              "    <div>\n",
              "<style scoped>\n",
              "    .dataframe tbody tr th:only-of-type {\n",
              "        vertical-align: middle;\n",
              "    }\n",
              "\n",
              "    .dataframe tbody tr th {\n",
              "        vertical-align: top;\n",
              "    }\n",
              "\n",
              "    .dataframe thead th {\n",
              "        text-align: right;\n",
              "    }\n",
              "</style>\n",
              "<table border=\"1\" class=\"dataframe\">\n",
              "  <thead>\n",
              "    <tr style=\"text-align: right;\">\n",
              "      <th></th>\n",
              "      <th>wage</th>\n",
              "      <th>lwage</th>\n",
              "      <th>sex</th>\n",
              "      <th>shs</th>\n",
              "      <th>hsg</th>\n",
              "      <th>scl</th>\n",
              "      <th>clg</th>\n",
              "      <th>ad</th>\n",
              "      <th>mw</th>\n",
              "      <th>so</th>\n",
              "      <th>we</th>\n",
              "      <th>ne</th>\n",
              "      <th>exp1</th>\n",
              "      <th>exp2</th>\n",
              "      <th>exp3</th>\n",
              "      <th>exp4</th>\n",
              "      <th>occ</th>\n",
              "      <th>occ2</th>\n",
              "      <th>ind</th>\n",
              "      <th>ind2</th>\n",
              "    </tr>\n",
              "  </thead>\n",
              "  <tbody>\n",
              "    <tr>\n",
              "      <th>count</th>\n",
              "      <td>5150.000000</td>\n",
              "      <td>5150.000000</td>\n",
              "      <td>5150.000000</td>\n",
              "      <td>5150.000000</td>\n",
              "      <td>5150.000000</td>\n",
              "      <td>5150.000000</td>\n",
              "      <td>5150.000000</td>\n",
              "      <td>5150.000000</td>\n",
              "      <td>5150.000000</td>\n",
              "      <td>5150.000000</td>\n",
              "      <td>5150.000000</td>\n",
              "      <td>5150.000000</td>\n",
              "      <td>5150.000000</td>\n",
              "      <td>5150.000000</td>\n",
              "      <td>5150.000000</td>\n",
              "      <td>5150.000000</td>\n",
              "      <td>5150.000000</td>\n",
              "      <td>5150.000000</td>\n",
              "      <td>5150.000000</td>\n",
              "      <td>5150.000000</td>\n",
              "    </tr>\n",
              "    <tr>\n",
              "      <th>mean</th>\n",
              "      <td>23.410410</td>\n",
              "      <td>2.970787</td>\n",
              "      <td>0.444466</td>\n",
              "      <td>0.023301</td>\n",
              "      <td>0.243883</td>\n",
              "      <td>0.278058</td>\n",
              "      <td>0.317670</td>\n",
              "      <td>0.137087</td>\n",
              "      <td>0.259612</td>\n",
              "      <td>0.296505</td>\n",
              "      <td>0.216117</td>\n",
              "      <td>0.227767</td>\n",
              "      <td>13.760583</td>\n",
              "      <td>3.018925</td>\n",
              "      <td>8.235867</td>\n",
              "      <td>25.118038</td>\n",
              "      <td>5310.737476</td>\n",
              "      <td>11.670874</td>\n",
              "      <td>6629.154951</td>\n",
              "      <td>13.316893</td>\n",
              "    </tr>\n",
              "    <tr>\n",
              "      <th>std</th>\n",
              "      <td>21.003016</td>\n",
              "      <td>0.570385</td>\n",
              "      <td>0.496955</td>\n",
              "      <td>0.150872</td>\n",
              "      <td>0.429465</td>\n",
              "      <td>0.448086</td>\n",
              "      <td>0.465616</td>\n",
              "      <td>0.343973</td>\n",
              "      <td>0.438464</td>\n",
              "      <td>0.456761</td>\n",
              "      <td>0.411635</td>\n",
              "      <td>0.419432</td>\n",
              "      <td>10.609465</td>\n",
              "      <td>4.000904</td>\n",
              "      <td>14.488962</td>\n",
              "      <td>53.530225</td>\n",
              "      <td>11874.356080</td>\n",
              "      <td>6.966684</td>\n",
              "      <td>5333.443992</td>\n",
              "      <td>5.701019</td>\n",
              "    </tr>\n",
              "    <tr>\n",
              "      <th>min</th>\n",
              "      <td>3.021978</td>\n",
              "      <td>1.105912</td>\n",
              "      <td>0.000000</td>\n",
              "      <td>0.000000</td>\n",
              "      <td>0.000000</td>\n",
              "      <td>0.000000</td>\n",
              "      <td>0.000000</td>\n",
              "      <td>0.000000</td>\n",
              "      <td>0.000000</td>\n",
              "      <td>0.000000</td>\n",
              "      <td>0.000000</td>\n",
              "      <td>0.000000</td>\n",
              "      <td>0.000000</td>\n",
              "      <td>0.000000</td>\n",
              "      <td>0.000000</td>\n",
              "      <td>0.000000</td>\n",
              "      <td>10.000000</td>\n",
              "      <td>1.000000</td>\n",
              "      <td>370.000000</td>\n",
              "      <td>2.000000</td>\n",
              "    </tr>\n",
              "    <tr>\n",
              "      <th>25%</th>\n",
              "      <td>13.461538</td>\n",
              "      <td>2.599837</td>\n",
              "      <td>0.000000</td>\n",
              "      <td>0.000000</td>\n",
              "      <td>0.000000</td>\n",
              "      <td>0.000000</td>\n",
              "      <td>0.000000</td>\n",
              "      <td>0.000000</td>\n",
              "      <td>0.000000</td>\n",
              "      <td>0.000000</td>\n",
              "      <td>0.000000</td>\n",
              "      <td>0.000000</td>\n",
              "      <td>5.000000</td>\n",
              "      <td>0.250000</td>\n",
              "      <td>0.125000</td>\n",
              "      <td>0.062500</td>\n",
              "      <td>1740.000000</td>\n",
              "      <td>5.000000</td>\n",
              "      <td>4880.000000</td>\n",
              "      <td>9.000000</td>\n",
              "    </tr>\n",
              "    <tr>\n",
              "      <th>50%</th>\n",
              "      <td>19.230769</td>\n",
              "      <td>2.956512</td>\n",
              "      <td>0.000000</td>\n",
              "      <td>0.000000</td>\n",
              "      <td>0.000000</td>\n",
              "      <td>0.000000</td>\n",
              "      <td>0.000000</td>\n",
              "      <td>0.000000</td>\n",
              "      <td>0.000000</td>\n",
              "      <td>0.000000</td>\n",
              "      <td>0.000000</td>\n",
              "      <td>0.000000</td>\n",
              "      <td>10.000000</td>\n",
              "      <td>1.000000</td>\n",
              "      <td>1.000000</td>\n",
              "      <td>1.000000</td>\n",
              "      <td>4040.000000</td>\n",
              "      <td>13.000000</td>\n",
              "      <td>7370.000000</td>\n",
              "      <td>14.000000</td>\n",
              "    </tr>\n",
              "    <tr>\n",
              "      <th>75%</th>\n",
              "      <td>27.777778</td>\n",
              "      <td>3.324236</td>\n",
              "      <td>1.000000</td>\n",
              "      <td>0.000000</td>\n",
              "      <td>0.000000</td>\n",
              "      <td>1.000000</td>\n",
              "      <td>1.000000</td>\n",
              "      <td>0.000000</td>\n",
              "      <td>1.000000</td>\n",
              "      <td>1.000000</td>\n",
              "      <td>0.000000</td>\n",
              "      <td>0.000000</td>\n",
              "      <td>21.000000</td>\n",
              "      <td>4.410000</td>\n",
              "      <td>9.261000</td>\n",
              "      <td>19.448100</td>\n",
              "      <td>5610.000000</td>\n",
              "      <td>17.000000</td>\n",
              "      <td>8190.000000</td>\n",
              "      <td>18.000000</td>\n",
              "    </tr>\n",
              "    <tr>\n",
              "      <th>max</th>\n",
              "      <td>528.845673</td>\n",
              "      <td>6.270697</td>\n",
              "      <td>1.000000</td>\n",
              "      <td>1.000000</td>\n",
              "      <td>1.000000</td>\n",
              "      <td>1.000000</td>\n",
              "      <td>1.000000</td>\n",
              "      <td>1.000000</td>\n",
              "      <td>1.000000</td>\n",
              "      <td>1.000000</td>\n",
              "      <td>1.000000</td>\n",
              "      <td>1.000000</td>\n",
              "      <td>47.000000</td>\n",
              "      <td>22.090000</td>\n",
              "      <td>103.823000</td>\n",
              "      <td>487.968100</td>\n",
              "      <td>100000.000000</td>\n",
              "      <td>22.000000</td>\n",
              "      <td>100000.000000</td>\n",
              "      <td>22.000000</td>\n",
              "    </tr>\n",
              "  </tbody>\n",
              "</table>\n",
              "</div>\n",
              "    <div class=\"colab-df-buttons\">\n",
              "\n",
              "  <div class=\"colab-df-container\">\n",
              "    <button class=\"colab-df-convert\" onclick=\"convertToInteractive('df-b57a07cf-be96-464e-9529-5b764fcc5ce7')\"\n",
              "            title=\"Convert this dataframe to an interactive table.\"\n",
              "            style=\"display:none;\">\n",
              "\n",
              "  <svg xmlns=\"http://www.w3.org/2000/svg\" height=\"24px\" viewBox=\"0 -960 960 960\">\n",
              "    <path d=\"M120-120v-720h720v720H120Zm60-500h600v-160H180v160Zm220 220h160v-160H400v160Zm0 220h160v-160H400v160ZM180-400h160v-160H180v160Zm440 0h160v-160H620v160ZM180-180h160v-160H180v160Zm440 0h160v-160H620v160Z\"/>\n",
              "  </svg>\n",
              "    </button>\n",
              "\n",
              "  <style>\n",
              "    .colab-df-container {\n",
              "      display:flex;\n",
              "      gap: 12px;\n",
              "    }\n",
              "\n",
              "    .colab-df-convert {\n",
              "      background-color: #E8F0FE;\n",
              "      border: none;\n",
              "      border-radius: 50%;\n",
              "      cursor: pointer;\n",
              "      display: none;\n",
              "      fill: #1967D2;\n",
              "      height: 32px;\n",
              "      padding: 0 0 0 0;\n",
              "      width: 32px;\n",
              "    }\n",
              "\n",
              "    .colab-df-convert:hover {\n",
              "      background-color: #E2EBFA;\n",
              "      box-shadow: 0px 1px 2px rgba(60, 64, 67, 0.3), 0px 1px 3px 1px rgba(60, 64, 67, 0.15);\n",
              "      fill: #174EA6;\n",
              "    }\n",
              "\n",
              "    .colab-df-buttons div {\n",
              "      margin-bottom: 4px;\n",
              "    }\n",
              "\n",
              "    [theme=dark] .colab-df-convert {\n",
              "      background-color: #3B4455;\n",
              "      fill: #D2E3FC;\n",
              "    }\n",
              "\n",
              "    [theme=dark] .colab-df-convert:hover {\n",
              "      background-color: #434B5C;\n",
              "      box-shadow: 0px 1px 3px 1px rgba(0, 0, 0, 0.15);\n",
              "      filter: drop-shadow(0px 1px 2px rgba(0, 0, 0, 0.3));\n",
              "      fill: #FFFFFF;\n",
              "    }\n",
              "  </style>\n",
              "\n",
              "    <script>\n",
              "      const buttonEl =\n",
              "        document.querySelector('#df-b57a07cf-be96-464e-9529-5b764fcc5ce7 button.colab-df-convert');\n",
              "      buttonEl.style.display =\n",
              "        google.colab.kernel.accessAllowed ? 'block' : 'none';\n",
              "\n",
              "      async function convertToInteractive(key) {\n",
              "        const element = document.querySelector('#df-b57a07cf-be96-464e-9529-5b764fcc5ce7');\n",
              "        const dataTable =\n",
              "          await google.colab.kernel.invokeFunction('convertToInteractive',\n",
              "                                                    [key], {});\n",
              "        if (!dataTable) return;\n",
              "\n",
              "        const docLinkHtml = 'Like what you see? Visit the ' +\n",
              "          '<a target=\"_blank\" href=https://colab.research.google.com/notebooks/data_table.ipynb>data table notebook</a>'\n",
              "          + ' to learn more about interactive tables.';\n",
              "        element.innerHTML = '';\n",
              "        dataTable['output_type'] = 'display_data';\n",
              "        await google.colab.output.renderOutput(dataTable, element);\n",
              "        const docLink = document.createElement('div');\n",
              "        docLink.innerHTML = docLinkHtml;\n",
              "        element.appendChild(docLink);\n",
              "      }\n",
              "    </script>\n",
              "  </div>\n",
              "\n",
              "\n",
              "<div id=\"df-5c80eb46-d939-46bc-ad21-43eb11651e88\">\n",
              "  <button class=\"colab-df-quickchart\" onclick=\"quickchart('df-5c80eb46-d939-46bc-ad21-43eb11651e88')\"\n",
              "            title=\"Suggest charts\"\n",
              "            style=\"display:none;\">\n",
              "\n",
              "<svg xmlns=\"http://www.w3.org/2000/svg\" height=\"24px\"viewBox=\"0 0 24 24\"\n",
              "     width=\"24px\">\n",
              "    <g>\n",
              "        <path d=\"M19 3H5c-1.1 0-2 .9-2 2v14c0 1.1.9 2 2 2h14c1.1 0 2-.9 2-2V5c0-1.1-.9-2-2-2zM9 17H7v-7h2v7zm4 0h-2V7h2v10zm4 0h-2v-4h2v4z\"/>\n",
              "    </g>\n",
              "</svg>\n",
              "  </button>\n",
              "\n",
              "<style>\n",
              "  .colab-df-quickchart {\n",
              "      --bg-color: #E8F0FE;\n",
              "      --fill-color: #1967D2;\n",
              "      --hover-bg-color: #E2EBFA;\n",
              "      --hover-fill-color: #174EA6;\n",
              "      --disabled-fill-color: #AAA;\n",
              "      --disabled-bg-color: #DDD;\n",
              "  }\n",
              "\n",
              "  [theme=dark] .colab-df-quickchart {\n",
              "      --bg-color: #3B4455;\n",
              "      --fill-color: #D2E3FC;\n",
              "      --hover-bg-color: #434B5C;\n",
              "      --hover-fill-color: #FFFFFF;\n",
              "      --disabled-bg-color: #3B4455;\n",
              "      --disabled-fill-color: #666;\n",
              "  }\n",
              "\n",
              "  .colab-df-quickchart {\n",
              "    background-color: var(--bg-color);\n",
              "    border: none;\n",
              "    border-radius: 50%;\n",
              "    cursor: pointer;\n",
              "    display: none;\n",
              "    fill: var(--fill-color);\n",
              "    height: 32px;\n",
              "    padding: 0;\n",
              "    width: 32px;\n",
              "  }\n",
              "\n",
              "  .colab-df-quickchart:hover {\n",
              "    background-color: var(--hover-bg-color);\n",
              "    box-shadow: 0 1px 2px rgba(60, 64, 67, 0.3), 0 1px 3px 1px rgba(60, 64, 67, 0.15);\n",
              "    fill: var(--button-hover-fill-color);\n",
              "  }\n",
              "\n",
              "  .colab-df-quickchart-complete:disabled,\n",
              "  .colab-df-quickchart-complete:disabled:hover {\n",
              "    background-color: var(--disabled-bg-color);\n",
              "    fill: var(--disabled-fill-color);\n",
              "    box-shadow: none;\n",
              "  }\n",
              "\n",
              "  .colab-df-spinner {\n",
              "    border: 2px solid var(--fill-color);\n",
              "    border-color: transparent;\n",
              "    border-bottom-color: var(--fill-color);\n",
              "    animation:\n",
              "      spin 1s steps(1) infinite;\n",
              "  }\n",
              "\n",
              "  @keyframes spin {\n",
              "    0% {\n",
              "      border-color: transparent;\n",
              "      border-bottom-color: var(--fill-color);\n",
              "      border-left-color: var(--fill-color);\n",
              "    }\n",
              "    20% {\n",
              "      border-color: transparent;\n",
              "      border-left-color: var(--fill-color);\n",
              "      border-top-color: var(--fill-color);\n",
              "    }\n",
              "    30% {\n",
              "      border-color: transparent;\n",
              "      border-left-color: var(--fill-color);\n",
              "      border-top-color: var(--fill-color);\n",
              "      border-right-color: var(--fill-color);\n",
              "    }\n",
              "    40% {\n",
              "      border-color: transparent;\n",
              "      border-right-color: var(--fill-color);\n",
              "      border-top-color: var(--fill-color);\n",
              "    }\n",
              "    60% {\n",
              "      border-color: transparent;\n",
              "      border-right-color: var(--fill-color);\n",
              "    }\n",
              "    80% {\n",
              "      border-color: transparent;\n",
              "      border-right-color: var(--fill-color);\n",
              "      border-bottom-color: var(--fill-color);\n",
              "    }\n",
              "    90% {\n",
              "      border-color: transparent;\n",
              "      border-bottom-color: var(--fill-color);\n",
              "    }\n",
              "  }\n",
              "</style>\n",
              "\n",
              "  <script>\n",
              "    async function quickchart(key) {\n",
              "      const quickchartButtonEl =\n",
              "        document.querySelector('#' + key + ' button');\n",
              "      quickchartButtonEl.disabled = true;  // To prevent multiple clicks.\n",
              "      quickchartButtonEl.classList.add('colab-df-spinner');\n",
              "      try {\n",
              "        const charts = await google.colab.kernel.invokeFunction(\n",
              "            'suggestCharts', [key], {});\n",
              "      } catch (error) {\n",
              "        console.error('Error during call to suggestCharts:', error);\n",
              "      }\n",
              "      quickchartButtonEl.classList.remove('colab-df-spinner');\n",
              "      quickchartButtonEl.classList.add('colab-df-quickchart-complete');\n",
              "    }\n",
              "    (() => {\n",
              "      let quickchartButtonEl =\n",
              "        document.querySelector('#df-5c80eb46-d939-46bc-ad21-43eb11651e88 button');\n",
              "      quickchartButtonEl.style.display =\n",
              "        google.colab.kernel.accessAllowed ? 'block' : 'none';\n",
              "    })();\n",
              "  </script>\n",
              "</div>\n",
              "\n",
              "    </div>\n",
              "  </div>\n"
            ],
            "application/vnd.google.colaboratory.intrinsic+json": {
              "type": "dataframe",
              "summary": "{\n  \"name\": \"data\",\n  \"rows\": 8,\n  \"fields\": [\n    {\n      \"column\": \"wage\",\n      \"properties\": {\n        \"dtype\": \"number\",\n        \"std\": 1797.565320303305,\n        \"min\": 3.02197802197802,\n        \"max\": 5150.0,\n        \"num_unique_values\": 8,\n        \"samples\": [\n          23.410410037881213,\n          19.2307692307692,\n          5150.0\n        ],\n        \"semantic_type\": \"\",\n        \"description\": \"\"\n      }\n    },\n    {\n      \"column\": \"lwage\",\n      \"properties\": {\n        \"dtype\": \"number\",\n        \"std\": 1819.8007879738893,\n        \"min\": 0.5703847829926472,\n        \"max\": 5150.0,\n        \"num_unique_values\": 8,\n        \"samples\": [\n          2.9707867022915577,\n          2.95651156040071,\n          5150.0\n        ],\n        \"semantic_type\": \"\",\n        \"description\": \"\"\n      }\n    },\n    {\n      \"column\": \"sex\",\n      \"properties\": {\n        \"dtype\": \"number\",\n        \"std\": 1820.651444789497,\n        \"min\": 0.0,\n        \"max\": 5150.0,\n        \"num_unique_values\": 5,\n        \"samples\": [\n          0.4444660194174757,\n          1.0,\n          0.49695465704835745\n        ],\n        \"semantic_type\": \"\",\n        \"description\": \"\"\n      }\n    },\n    {\n      \"column\": \"shs\",\n      \"properties\": {\n        \"dtype\": \"number\",\n        \"std\": 1820.740689266874,\n        \"min\": 0.0,\n        \"max\": 5150.0,\n        \"num_unique_values\": 5,\n        \"samples\": [\n          0.02330097087378641,\n          1.0,\n          0.1508723153013897\n        ],\n        \"semantic_type\": \"\",\n        \"description\": \"\"\n      }\n    },\n    {\n      \"column\": \"hsg\",\n      \"properties\": {\n        \"dtype\": \"number\",\n        \"std\": 1820.7154778028055,\n        \"min\": 0.0,\n        \"max\": 5150.0,\n        \"num_unique_values\": 5,\n        \"samples\": [\n          0.24388349514563107,\n          1.0,\n          0.4294649573160263\n        ],\n        \"semantic_type\": \"\",\n        \"description\": \"\"\n      }\n    },\n    {\n      \"column\": \"scl\",\n      \"properties\": {\n        \"dtype\": \"number\",\n        \"std\": 1820.662318212018,\n        \"min\": 0.0,\n        \"max\": 5150.0,\n        \"num_unique_values\": 5,\n        \"samples\": [\n          0.27805825242718446,\n          1.0,\n          0.44808575881923257\n        ],\n        \"semantic_type\": \"\",\n        \"description\": \"\"\n      }\n    },\n    {\n      \"column\": \"clg\",\n      \"properties\": {\n        \"dtype\": \"number\",\n        \"std\": 1820.6594319236467,\n        \"min\": 0.0,\n        \"max\": 5150.0,\n        \"num_unique_values\": 5,\n        \"samples\": [\n          0.31766990291262137,\n          1.0,\n          0.46561554136710825\n        ],\n        \"semantic_type\": \"\",\n        \"description\": \"\"\n      }\n    },\n    {\n      \"column\": \"ad\",\n      \"properties\": {\n        \"dtype\": \"number\",\n        \"std\": 1820.7251890277164,\n        \"min\": 0.0,\n        \"max\": 5150.0,\n        \"num_unique_values\": 5,\n        \"samples\": [\n          0.1370873786407767,\n          1.0,\n          0.3439729691578773\n        ],\n        \"semantic_type\": \"\",\n        \"description\": \"\"\n      }\n    },\n    {\n      \"column\": \"mw\",\n      \"properties\": {\n        \"dtype\": \"number\",\n        \"std\": 1820.6637360024881,\n        \"min\": 0.0,\n        \"max\": 5150.0,\n        \"num_unique_values\": 5,\n        \"samples\": [\n          0.2596116504854369,\n          1.0,\n          0.438464105331998\n        ],\n        \"semantic_type\": \"\",\n        \"description\": \"\"\n      }\n    },\n    {\n      \"column\": \"so\",\n      \"properties\": {\n        \"dtype\": \"number\",\n        \"std\": 1820.6609482636918,\n        \"min\": 0.0,\n        \"max\": 5150.0,\n        \"num_unique_values\": 5,\n        \"samples\": [\n          0.29650485436893204,\n          1.0,\n          0.45676058983904344\n        ],\n        \"semantic_type\": \"\",\n        \"description\": \"\"\n      }\n    },\n    {\n      \"column\": \"we\",\n      \"properties\": {\n        \"dtype\": \"number\",\n        \"std\": 1820.7177805695885,\n        \"min\": 0.0,\n        \"max\": 5150.0,\n        \"num_unique_values\": 5,\n        \"samples\": [\n          0.21611650485436892,\n          1.0,\n          0.4116346228750479\n        ],\n        \"semantic_type\": \"\",\n        \"description\": \"\"\n      }\n    },\n    {\n      \"column\": \"ne\",\n      \"properties\": {\n        \"dtype\": \"number\",\n        \"std\": 1820.7167983955985,\n        \"min\": 0.0,\n        \"max\": 5150.0,\n        \"num_unique_values\": 5,\n        \"samples\": [\n          0.22776699029126213,\n          1.0,\n          0.41943217365669294\n        ],\n        \"semantic_type\": \"\",\n        \"description\": \"\"\n      }\n    },\n    {\n      \"column\": \"exp1\",\n      \"properties\": {\n        \"dtype\": \"number\",\n        \"std\": 1815.4332201275035,\n        \"min\": 0.0,\n        \"max\": 5150.0,\n        \"num_unique_values\": 8,\n        \"samples\": [\n          13.760582524271845,\n          10.0,\n          5150.0\n        ],\n        \"semantic_type\": \"\",\n        \"description\": \"\"\n      }\n    },\n    {\n      \"column\": \"exp2\",\n      \"properties\": {\n        \"dtype\": \"number\",\n        \"std\": 1819.057991163466,\n        \"min\": 0.0,\n        \"max\": 5150.0,\n        \"num_unique_values\": 8,\n        \"samples\": [\n          3.0189252427184465,\n          1.0,\n          5150.0\n        ],\n        \"semantic_type\": \"\",\n        \"description\": \"\"\n      }\n    },\n    {\n      \"column\": \"exp3\",\n      \"properties\": {\n        \"dtype\": \"number\",\n        \"std\": 1814.2170720867746,\n        \"min\": 0.0,\n        \"max\": 5150.0,\n        \"num_unique_values\": 8,\n        \"samples\": [\n          8.23586713592233,\n          1.0,\n          5150.0\n        ],\n        \"semantic_type\": \"\",\n        \"description\": \"\"\n      }\n    },\n    {\n      \"column\": \"exp4\",\n      \"properties\": {\n        \"dtype\": \"number\",\n        \"std\": 1798.8154942594686,\n        \"min\": 0.0,\n        \"max\": 5150.0,\n        \"num_unique_values\": 8,\n        \"samples\": [\n          25.118037682038835,\n          1.0,\n          5150.0\n        ],\n        \"semantic_type\": \"\",\n        \"description\": \"\"\n      }\n    },\n    {\n      \"column\": \"occ\",\n      \"properties\": {\n        \"dtype\": \"number\",\n        \"std\": 33829.22185415845,\n        \"min\": 10.0,\n        \"max\": 100000.0,\n        \"num_unique_values\": 8,\n        \"samples\": [\n          5310.737475728155,\n          4040.0,\n          5150.0\n        ],\n        \"semantic_type\": \"\",\n        \"description\": \"\"\n      }\n    },\n    {\n      \"column\": \"occ2\",\n      \"properties\": {\n        \"dtype\": \"number\",\n        \"std\": 1816.9415126732254,\n        \"min\": 1.0,\n        \"max\": 5150.0,\n        \"num_unique_values\": 8,\n        \"samples\": [\n          11.670873786407768,\n          13.0,\n          5150.0\n        ],\n        \"semantic_type\": \"\",\n        \"description\": \"\"\n      }\n    },\n    {\n      \"column\": \"ind\",\n      \"properties\": {\n        \"dtype\": \"number\",\n        \"std\": 33522.75923644105,\n        \"min\": 370.0,\n        \"max\": 100000.0,\n        \"num_unique_values\": 8,\n        \"samples\": [\n          6629.15495145631,\n          7370.0,\n          5150.0\n        ],\n        \"semantic_type\": \"\",\n        \"description\": \"\"\n      }\n    },\n    {\n      \"column\": \"ind2\",\n      \"properties\": {\n        \"dtype\": \"number\",\n        \"std\": 1816.5678353532398,\n        \"min\": 2.0,\n        \"max\": 5150.0,\n        \"num_unique_values\": 8,\n        \"samples\": [\n          13.316893203883495,\n          14.0,\n          5150.0\n        ],\n        \"semantic_type\": \"\",\n        \"description\": \"\"\n      }\n    }\n  ]\n}"
            }
          },
          "metadata": {},
          "execution_count": 3
        }
      ],
      "source": [
        "data.describe()"
      ]
    },
    {
      "cell_type": "markdown",
      "metadata": {
        "id": "kvlmaeFU__kf"
      },
      "source": [
        "Define outcome and regressors"
      ]
    },
    {
      "cell_type": "code",
      "execution_count": 4,
      "metadata": {
        "colab": {
          "base_uri": "https://localhost:8080/"
        },
        "id": "FheFuCL1__kg",
        "outputId": "42d59c9e-f48e-47de-aa67-917c8d7ec815"
      },
      "outputs": [
        {
          "output_type": "execute_result",
          "data": {
            "text/plain": [
              "Index(['sex', 'shs', 'hsg', 'scl', 'clg', 'ad', 'mw', 'so', 'we', 'ne', 'exp1',\n",
              "       'exp2', 'exp3', 'exp4', 'occ', 'occ2', 'ind', 'ind2'],\n",
              "      dtype='object')"
            ]
          },
          "metadata": {},
          "execution_count": 4
        }
      ],
      "source": [
        "y = np.log(data['wage']).values\n",
        "Z = data.drop(['wage', 'lwage'], axis=1)\n",
        "Z.columns"
      ]
    },
    {
      "cell_type": "markdown",
      "metadata": {
        "id": "g2vGrvdJ__kg"
      },
      "source": [
        "## Feature Engineering"
      ]
    },
    {
      "cell_type": "markdown",
      "metadata": {
        "id": "JxlhqsDs__kg"
      },
      "source": [
        "Construct all our control variables"
      ]
    },
    {
      "cell_type": "code",
      "execution_count": 5,
      "metadata": {
        "id": "tjA6vrOf__kg"
      },
      "outputs": [],
      "source": [
        "# Ultra flexible controls of all pair-wise interactions (around 1k variables); un-comment to run this\n",
        "Zcontrols = patsy.dmatrix('0 + (shs+hsg+scl+clg+C(occ2)+C(ind2)+mw+so+we+exp1+exp2+exp3+exp4)**2',\n",
        "                          Z, return_type='dataframe')\n",
        "\n",
        "Zcontrols = Zcontrols - Zcontrols.mean(axis=0)"
      ]
    },
    {
      "cell_type": "markdown",
      "metadata": {
        "id": "hD36OSyb__kg"
      },
      "source": [
        "Construct all the variables that we will use to model heterogeneity of effect in a linear manner"
      ]
    },
    {
      "cell_type": "code",
      "execution_count": 6,
      "metadata": {
        "id": "DNPlH_rs__kh"
      },
      "outputs": [],
      "source": [
        "Zhet = patsy.dmatrix('0 + (shs+hsg+scl+clg+mw+so+we+exp1+exp2+exp3+exp4)',\n",
        "                     Z, return_type='dataframe')\n",
        "Zhet = Zhet - Zhet.mean(axis=0)"
      ]
    },
    {
      "cell_type": "markdown",
      "metadata": {
        "id": "woskUlaj__kh"
      },
      "source": [
        "Construct all interaction variables between sex and heterogeneity variables"
      ]
    },
    {
      "cell_type": "code",
      "execution_count": 7,
      "metadata": {
        "id": "kNsQotu6__kh"
      },
      "outputs": [],
      "source": [
        "Zhet['sex'] = Z['sex']\n",
        "Zinteractions = patsy.dmatrix('0 + sex + sex * (shs+hsg+scl+clg+mw+so+we+exp1+exp2+exp3+exp4)',\n",
        "                              Zhet, return_type='dataframe')\n",
        "interaction_cols = [c for c in Zinteractions.columns if c.startswith('sex')]"
      ]
    },
    {
      "cell_type": "markdown",
      "metadata": {
        "id": "-iMb_R87__ki"
      },
      "source": [
        "Put all the variables together"
      ]
    },
    {
      "cell_type": "code",
      "execution_count": 8,
      "metadata": {
        "colab": {
          "base_uri": "https://localhost:8080/"
        },
        "id": "bzFOlDdw__ki",
        "outputId": "cf5fdc12-0d66-498f-cfad-2d308c7c4821"
      },
      "outputs": [
        {
          "output_type": "execute_result",
          "data": {
            "text/plain": [
              "(5150, 1002)"
            ]
          },
          "metadata": {},
          "execution_count": 8
        }
      ],
      "source": [
        "X = pd.concat([Zinteractions, Zcontrols], axis=1)\n",
        "X.shape"
      ]
    },
    {
      "cell_type": "markdown",
      "metadata": {
        "id": "dJDCw_Zc__ki"
      },
      "source": [
        "## Double Lasso for All Interactive Effects"
      ]
    },
    {
      "cell_type": "markdown",
      "metadata": {
        "id": "vQvJnv-v__ki"
      },
      "source": [
        "We use \"plug-in\" tuning with a theoretically valid choice of penalty $\\lambda = 2 \\cdot c \\hat{\\sigma}\\sqrt{n}  \\Phi^{-1}(1-\\alpha/2p)$, where $c>1$ and $1-\\alpha$ is a confidence level, and $\\Phi^{-1}$ denotes the quantile function. This choice ensures that the Lasso predictor is well behaved under independence as long as appropriate penalty weights are used.\n",
        "\n",
        "In practice, many people choose to use cross-validation, which is perfectly fine for predictive tasks. However, when conducting inference, to make our analysis valid we will require cross-fitting in addition to cross-validation. As we have not yet discussed cross-fitting, we rely on this theoretically-driven penalty in order to allow for accurate inference in the upcoming notebooks.\n",
        "\n",
        "Note: In the book, we multiply by $\\sqrt{n}$. This is because there, Lasso minimizes the sum of errors. If you were using say sklearn's Lasso whose objective minimizes the average errors, you would instead divide by $\\sqrt{n}$."
      ]
    },
    {
      "cell_type": "markdown",
      "metadata": {
        "id": "6eV_tNex__km"
      },
      "source": [
        "To estimate lasso using the theoretically motivated penalty level, we just use the hdmpy package. To install it run\n",
        "```\n",
        "!pip install multiprocess\n",
        "!git clone https://github.com/maxhuppertz/hdmpy.git\n",
        "```\n",
        "\n",
        "You can run the cells below and then repeat the whole analysis above using the newly defined `lasso_model` variable."
      ]
    },
    {
      "cell_type": "code",
      "execution_count": 9,
      "metadata": {
        "colab": {
          "base_uri": "https://localhost:8080/"
        },
        "id": "M9ihHr7DodEA",
        "outputId": "7c2bb631-8bb1-4abf-874d-8d635130a27f"
      },
      "outputs": [
        {
          "output_type": "stream",
          "name": "stdout",
          "text": [
            "Collecting multiprocess\n",
            "  Downloading multiprocess-0.70.16-py310-none-any.whl.metadata (7.2 kB)\n",
            "Collecting dill>=0.3.8 (from multiprocess)\n",
            "  Downloading dill-0.3.8-py3-none-any.whl.metadata (10 kB)\n",
            "Downloading multiprocess-0.70.16-py310-none-any.whl (134 kB)\n",
            "\u001b[2K   \u001b[90m━━━━━━━━━━━━━━━━━━━━━━━━━━━━━━━━━━━━━━━━\u001b[0m \u001b[32m134.8/134.8 kB\u001b[0m \u001b[31m4.7 MB/s\u001b[0m eta \u001b[36m0:00:00\u001b[0m\n",
            "\u001b[?25hDownloading dill-0.3.8-py3-none-any.whl (116 kB)\n",
            "\u001b[2K   \u001b[90m━━━━━━━━━━━━━━━━━━━━━━━━━━━━━━━━━━━━━━━━\u001b[0m \u001b[32m116.3/116.3 kB\u001b[0m \u001b[31m4.9 MB/s\u001b[0m eta \u001b[36m0:00:00\u001b[0m\n",
            "\u001b[?25hInstalling collected packages: dill, multiprocess\n",
            "Successfully installed dill-0.3.8 multiprocess-0.70.16\n",
            "Cloning into 'hdmpy'...\n",
            "remote: Enumerating objects: 70, done.\u001b[K\n",
            "remote: Counting objects: 100% (70/70), done.\u001b[K\n",
            "remote: Compressing objects: 100% (49/49), done.\u001b[K\n",
            "remote: Total 70 (delta 39), reused 52 (delta 21), pack-reused 0 (from 0)\u001b[K\n",
            "Receiving objects: 100% (70/70), 25.30 KiB | 2.11 MiB/s, done.\n",
            "Resolving deltas: 100% (39/39), done.\n"
          ]
        }
      ],
      "source": [
        "!pip install multiprocess\n",
        "!git clone https://github.com/maxhuppertz/hdmpy.git"
      ]
    },
    {
      "cell_type": "code",
      "execution_count": 10,
      "metadata": {
        "id": "acQhFTC0__km"
      },
      "outputs": [],
      "source": [
        "import sys\n",
        "sys.path.insert(1, \"./hdmpy\")"
      ]
    },
    {
      "cell_type": "code",
      "execution_count": 11,
      "metadata": {
        "id": "awA9uVQc__km"
      },
      "outputs": [],
      "source": [
        "# We wrap the package so that it has the familiar sklearn API\n",
        "import hdmpy\n",
        "from sklearn.base import BaseEstimator\n",
        "\n",
        "\n",
        "class RLasso(BaseEstimator):\n",
        "\n",
        "    def __init__(self, *, post=True):\n",
        "        self.post = post\n",
        "\n",
        "    def fit(self, X, y):\n",
        "        self.rlasso_ = hdmpy.rlasso(X, y, post=self.post)\n",
        "        return self\n",
        "\n",
        "    def predict(self, X):\n",
        "        return np.array(X) @ np.array(self.rlasso_.est['beta']).flatten() + np.array(self.rlasso_.est['intercept'])\n",
        "\n",
        "\n",
        "def lasso_model():\n",
        "    return RLasso(post=False)"
      ]
    },
    {
      "cell_type": "code",
      "execution_count": null,
      "metadata": {
        "colab": {
          "base_uri": "https://localhost:8080/"
        },
        "id": "OBmzPIRZ__ks",
        "outputId": "2491d0d6-8c84-4eeb-b83a-83b0ff5b59fc"
      },
      "outputs": [
        {
          "output_type": "stream",
          "name": "stdout",
          "text": [
            "Double Lasso for target variable sex\n",
            "Double Lasso for target variable sex:shs\n",
            "Double Lasso for target variable sex:hsg\n",
            "Double Lasso for target variable sex:scl\n",
            "Double Lasso for target variable sex:clg\n",
            "Double Lasso for target variable sex:mw\n",
            "Double Lasso for target variable sex:so\n",
            "Double Lasso for target variable sex:we\n",
            "Double Lasso for target variable sex:exp1\n"
          ]
        }
      ],
      "source": [
        "alpha = {}\n",
        "res_y, res_D, epsilon = {}, {}, {}\n",
        "for c in interaction_cols:\n",
        "    print(f\"Double Lasso for target variable {c}\")\n",
        "    D = X[c].values\n",
        "    W = X.drop([c], axis=1)\n",
        "    res_y[c] = y - lasso_model().fit(W, y).predict(W)\n",
        "    res_D[c] = D - lasso_model().fit(W, D).predict(W)\n",
        "    final = LinearRegression(fit_intercept=False).fit(res_D[c].reshape(-1, 1), res_y[c])\n",
        "    epsilon[c] = res_y[c] - final.predict(res_D[c].reshape(-1, 1))\n",
        "    alpha[c] = [final.coef_[0]]\n",
        "\n",
        "# Calculate the covariance matrix of the estimated parameters\n",
        "V = np.zeros((len(interaction_cols), len(interaction_cols)))\n",
        "for it, c in enumerate(interaction_cols):\n",
        "    Jc = np.mean(res_D[c]**2)\n",
        "    for itp, cp in enumerate(interaction_cols):\n",
        "        Jcp = np.mean(res_D[cp]**2)\n",
        "        Sigma = np.mean(res_D[c] * epsilon[c] * epsilon[cp] * res_D[cp])\n",
        "        V[it, itp] = Sigma / (Jc * Jcp)\n",
        "\n",
        "# Calculate standard errors for each parameter\n",
        "n = X.shape[0]\n",
        "for it, c in enumerate(interaction_cols):\n",
        "    alpha[c] += [np.sqrt(V[it, it] / n)]\n",
        "\n",
        "# put all in a dataframe\n",
        "df = pd.DataFrame.from_dict(alpha, orient='index', columns=['point', 'stderr'])\n",
        "\n",
        "# Calculate and pointwise p-value\n",
        "summary = pd.DataFrame()\n",
        "summary['Estimate'] = df['point']\n",
        "summary['Std. Error'] = df['stderr']\n",
        "summary['p-value'] = norm.sf(np.abs(df['point'] / df['stderr']), loc=0, scale=1) * 2\n",
        "summary['ci_lower'] = df['point'] - 1.96 * df['stderr']\n",
        "summary['ci_upper'] = df['point'] + 1.96 * df['stderr']\n",
        "summary"
      ]
    },
    {
      "cell_type": "markdown",
      "metadata": {
        "id": "DcW2A3JTMBiv"
      },
      "source": [
        "### Joint Confidence Intervals"
      ]
    },
    {
      "cell_type": "code",
      "execution_count": null,
      "metadata": {
        "id": "IPClP_jTeZlr"
      },
      "outputs": [],
      "source": [
        "Drootinv = np.diagflat(1 / np.sqrt(np.diag(V)))\n",
        "scaledCov = Drootinv @ V @ Drootinv\n",
        "np.random.seed(123)\n",
        "U = np.random.multivariate_normal(np.zeros(scaledCov.shape[0]), scaledCov, size=10000)\n",
        "z = np.max(np.abs(U), axis=1)\n",
        "c = np.percentile(z, 95)\n",
        "\n",
        "summary = pd.DataFrame()\n",
        "summary['Estimate'] = df['point']\n",
        "summary['CI lower'] = df['point'] - c * df['stderr']\n",
        "summary['CI upper'] = df['point'] + c * df['stderr']\n",
        "summary"
      ]
    }
  ],
  "metadata": {
    "colab": {
      "provenance": []
    },
    "kernelspec": {
      "display_name": "Python 3 (ipykernel)",
      "language": "python",
      "name": "python3"
    },
    "language_info": {
      "codemirror_mode": {
        "name": "ipython",
        "version": 3
      },
      "file_extension": ".py",
      "mimetype": "text/x-python",
      "name": "python",
      "nbconvert_exporter": "python",
      "pygments_lexer": "ipython3",
      "version": "3.11.5"
    },
    "papermill": {
      "default_parameters": {},
      "duration": 89.365707,
      "end_time": "2021-02-28T17:18:51.003711",
      "environment_variables": {},
      "exception": null,
      "input_path": "__notebook__.ipynb",
      "output_path": "__notebook__.ipynb",
      "parameters": {},
      "start_time": "2021-02-28T17:17:21.638004",
      "version": "2.2.2"
    }
  },
  "nbformat": 4,
  "nbformat_minor": 0
}
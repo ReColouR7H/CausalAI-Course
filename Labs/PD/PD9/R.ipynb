{
 "cells": [
  {
   "cell_type": "code",
   "execution_count": 1,
   "metadata": {
    "vscode": {
     "languageId": "r"
    }
   },
   "outputs": [
    {
     "name": "stderr",
     "output_type": "stream",
     "text": [
      "Warning message:\n",
      "\"package 'datasets' is a base package, and should not be updated\"\n"
     ]
    },
    {
     "name": "stdout",
     "output_type": "stream",
     "text": [
      "\n",
      "The downloaded binary packages are in\n",
      "\t/var/folders/k0/5jhn7d7s1l75cf1srqv1wy980000gn/T//Rtmp19A3km/downloaded_packages\n"
     ]
    }
   ],
   "source": [
    "install.packages(c(\"tree\", \"caret\", \"ISLR\", \"datasets\"))"
   ]
  },
  {
   "cell_type": "markdown",
   "metadata": {},
   "source": [
    "# PD9: Classification and Regression with Decision Trees\n",
    "\n",
    "In class, we saw decision trees, which are a Machine Learning method for non-parametric prediction. They rely on partitionning the data into regions by finding thresholds in the features, and datapoints are grouped by their relationship to these thresholds. The value of the thresholds is chosen such that the target values in each region have the least variance (in the case of regression trees) or diversity (in the case of classification trees).\n",
    "\n",
    "Today we will see how to use them in practice by fitting classification and regression trees."
   ]
  },
  {
   "cell_type": "markdown",
   "metadata": {},
   "source": [
    "## Classification: The Iris Dataset\n",
    "\n",
    "Our running example for classification problems will be the __iris flower dataset__.\n",
    "\n",
    "This is a classical dataset originally published by [R. A. Fisher](https://en.wikipedia.org/wiki/Ronald_Fisher) in 1936. This is perhaps the best known database to be found in the pattern recognition literature.  Fisher's paper is a classic in the field and is referenced frequently to this day.  (See Duda & Hart, for example.)  The data set contains 3 classes of 50 instances each, where each class refers to a type of iris plant.  One class is linearly separable from the other 2; the latter are NOT linearly separable from each other.\n",
    "\n",
    "<center><img width=50% src=\"https://raw.githubusercontent.com/kuleshov/cornell-cs5785-2024-applied-ml/refs/heads/main/slides/img/iris.png\"/> <br>\n",
    "<small style='color: gray;'>Image source: <a href=\"https://www.datacamp.com/tutorial/machine-learning-in-r\">Machine Learning in R for Beginners</a></small></center>\n",
    "\n",
    "First, we load the dataset (here, it is available through the `datasets` library)"
   ]
  },
  {
   "cell_type": "code",
   "execution_count": 148,
   "metadata": {
    "vscode": {
     "languageId": "r"
    }
   },
   "outputs": [],
   "source": [
    "library(tree)\n",
    "library(caret)\n",
    "library(ISLR)\n",
    "library(datasets)\n",
    "library(ggplot2)\n",
    "\n",
    "data(iris)"
   ]
  },
  {
   "cell_type": "markdown",
   "metadata": {},
   "source": [
    "Now, let's see what we mean by the latter two classes not being \"linearly separable\""
   ]
  },
  {
   "cell_type": "code",
   "execution_count": 9,
   "metadata": {
    "vscode": {
     "languageId": "r"
    }
   },
   "outputs": [
    {
     "data": {
      "image/png": "[encoded data removed]",
      "text/plain": [
       "plot without title"
      ]
     },
     "metadata": {
      "image/png": {
       "height": 420,
       "width": 420
      }
     },
     "output_type": "display_data"
    }
   ],
   "source": [
    "ggplot(iris, aes(x = Sepal.Length, y = Sepal.Width, color = Species)) +\n",
    "  geom_point(size = 3) +\n",
    "  labs(\n",
    "       x = \"Sepal Length\",\n",
    "       y = \"Sepal Width\") +\n",
    "  theme_minimal()"
   ]
  },
  {
   "cell_type": "markdown",
   "metadata": {},
   "source": [
    "It should be fairly easy to classify the setosa species, but the other species may be quite challenging.\n",
    "\n",
    "Now we split the data into training and testing sets."
   ]
  },
  {
   "cell_type": "code",
   "execution_count": 10,
   "metadata": {
    "vscode": {
     "languageId": "r"
    }
   },
   "outputs": [],
   "source": [
    "# Set a seed for reproducibility\n",
    "set.seed(42)\n",
    "\n",
    "# Generate a random sample index for 90% of the data\n",
    "train_index <- sample(seq_len(nrow(iris)), size = 0.9 * nrow(iris))\n",
    "train_data <- iris[train_index, ]\n",
    "test_data <- iris[-train_index, ]"
   ]
  },
  {
   "cell_type": "markdown",
   "metadata": {},
   "source": [
    "We now can fit the tree with the training data with the `tree` function of the `tree` library. We will start with a tree that overfits the data (has a large number of partitions/regions)"
   ]
  },
  {
   "cell_type": "code",
   "execution_count": null,
   "metadata": {
    "vscode": {
     "languageId": "r"
    }
   },
   "outputs": [],
   "source": [
    "library(tree)\n",
    "\n",
    "tree_model <- tree(Species ~ .,\n",
    "                   data = train_data,\n",
    "                   mincut = 0,\n",
    "                   minsize = 0,\n",
    "                   mindev = 0)\n"
   ]
  },
  {
   "cell_type": "markdown",
   "metadata": {},
   "source": [
    "We can take a look at how our model classifies data by plotting it (the R utility for plotting trees has difficulty showing complex ones)."
   ]
  },
  {
   "cell_type": "code",
   "execution_count": 49,
   "metadata": {
    "vscode": {
     "languageId": "r"
    }
   },
   "outputs": [
    {
     "data": {
      "image/png": "[encoded data removed]",
      "text/plain": [
       "plot without title"
      ]
     },
     "metadata": {
      "image/png": {
       "height": 420,
       "width": 420
      }
     },
     "output_type": "display_data"
    }
   ],
   "source": [
    "plot(tree_model)\n",
    "text(tree_model, pretty = 0)"
   ]
  },
  {
   "cell_type": "markdown",
   "metadata": {},
   "source": [
    "We compute the accuracy of the model"
   ]
  },
  {
   "cell_type": "code",
   "execution_count": 88,
   "metadata": {
    "vscode": {
     "languageId": "r"
    }
   },
   "outputs": [
    {
     "data": {
      "text/html": [
       "0.933333333333333"
      ],
      "text/latex": [
       "0.933333333333333"
      ],
      "text/markdown": [
       "0.933333333333333"
      ],
      "text/plain": [
       "[1] 0.9333333"
      ]
     },
     "metadata": {},
     "output_type": "display_data"
    }
   ],
   "source": [
    "predictions <- as.numeric(predict(tree_model, test_data, type = \"class\"))\n",
    "mean(as.numeric(test_data$Species) == predictions)"
   ]
  },
  {
   "cell_type": "markdown",
   "metadata": {},
   "source": [
    "This is actually quite a large out-of-sample accuracy. Although we have quite a large tree, it does not seem to overfit the data.\n",
    "\n",
    "Regardless, we will now prune the tree through the cost-complexity pruning procedure. For the trained tree, we can use the `prune.tree` function and specify the $\\alpha$ hyperparameter with the `k` option."
   ]
  },
  {
   "cell_type": "code",
   "execution_count": 63,
   "metadata": {
    "vscode": {
     "languageId": "r"
    }
   },
   "outputs": [],
   "source": [
    "tree_model_prune <- prune.tree(tree_model, k = 5)"
   ]
  },
  {
   "cell_type": "markdown",
   "metadata": {},
   "source": [
    "This value for $\\alpha$ gives us a significantly smaller tree"
   ]
  },
  {
   "cell_type": "code",
   "execution_count": 64,
   "metadata": {
    "vscode": {
     "languageId": "r"
    }
   },
   "outputs": [
    {
     "data": {
      "image/png": "[encoded data removed]",
      "text/plain": [
       "plot without title"
      ]
     },
     "metadata": {
      "image/png": {
       "height": 420,
       "width": 420
      }
     },
     "output_type": "display_data"
    }
   ],
   "source": [
    "plot(tree_model_prune)\n",
    "text(tree_model_prune, pretty = 0)"
   ]
  },
  {
   "cell_type": "markdown",
   "metadata": {},
   "source": [
    "We can also see that it has a similar out-of-sample accuracy to the original model, so we are not losing performance from regularization"
   ]
  },
  {
   "cell_type": "code",
   "execution_count": null,
   "metadata": {
    "vscode": {
     "languageId": "r"
    }
   },
   "outputs": [
    {
     "data": {
      "text/html": [
       "0.933333333333333"
      ],
      "text/latex": [
       "0.933333333333333"
      ],
      "text/markdown": [
       "0.933333333333333"
      ],
      "text/plain": [
       "[1] 0.9333333"
      ]
     },
     "metadata": {},
     "output_type": "display_data"
    }
   ],
   "source": [
    "predictions_prune <- as.numeric(predict(tree_model_prune,\n",
    "                                        test_data,\n",
    "                                        type = \"class\"))\n",
    "mean(as.numeric(test_data$Species) == predictions_prune)"
   ]
  },
  {
   "cell_type": "markdown",
   "metadata": {},
   "source": [
    "However, we have arbitrarily chosen the value for $\\alpha$. We can also choose this value through cross-validation. The `tree` library gives us a very useful abstraction for cross-validation, fittingly called `cv.tree`"
   ]
  },
  {
   "cell_type": "code",
   "execution_count": 69,
   "metadata": {
    "vscode": {
     "languageId": "r"
    }
   },
   "outputs": [],
   "source": [
    "cv_tree <- cv.tree(tree_model, FUN = prune.misclass, K = 3)"
   ]
  },
  {
   "cell_type": "code",
   "execution_count": 71,
   "metadata": {
    "vscode": {
     "languageId": "r"
    }
   },
   "outputs": [
    {
     "data": {
      "text/plain": [
       "$size\n",
       "[1] 8 4 3 2 1\n",
       "\n",
       "$dev\n",
       "[1]  7  7  7 95 95\n",
       "\n",
       "$k\n",
       "[1] -Inf  0.5  2.0 40.0 45.0\n",
       "\n",
       "$method\n",
       "[1] \"misclass\"\n",
       "\n",
       "attr(,\"class\")\n",
       "[1] \"prune\"         \"tree.sequence\""
      ]
     },
     "metadata": {},
     "output_type": "display_data"
    }
   ],
   "source": [
    "cv_tree"
   ]
  },
  {
   "cell_type": "markdown",
   "metadata": {},
   "source": [
    "Let's plot the cross-validation error for each alpha. In this case, the metric used by the `cv.tree` function is the total number of missclassifications."
   ]
  },
  {
   "cell_type": "code",
   "execution_count": null,
   "metadata": {
    "vscode": {
     "languageId": "r"
    }
   },
   "outputs": [
    {
     "data": {
      "image/png": "[encoded data removed]",
      "text/plain": [
       "plot without title"
      ]
     },
     "metadata": {
      "image/png": {
       "height": 420,
       "width": 420
      }
     },
     "output_type": "display_data"
    }
   ],
   "source": [
    "plot(cv_tree$k, cv_tree$dev, type = \"b\")"
   ]
  },
  {
   "cell_type": "markdown",
   "metadata": {},
   "source": [
    "We must take into account that the $K$-folds procedure gives us an *estimate* of the expected testing error; that is, the error when predicting with never-before-seen data. This estimate will depend on the size of our available sample and how it is split. With a relatively small sample like the one we are working with right now, this estimation may be noisy.\n",
    "\n",
    "In this case, we will choose the optimal $\\alpha$ as the one that minimizes the classification error (conversely, the one that maximizes the accuracy)"
   ]
  },
  {
   "cell_type": "code",
   "execution_count": 84,
   "metadata": {
    "vscode": {
     "languageId": "r"
    }
   },
   "outputs": [],
   "source": [
    "tree_model_prune <- prune.misclass(tree_model, best = 8)"
   ]
  },
  {
   "cell_type": "markdown",
   "metadata": {},
   "source": [
    "Now we can take a look at the performance of this model when we use this value for $\\alpha$"
   ]
  },
  {
   "cell_type": "code",
   "execution_count": 86,
   "metadata": {
    "vscode": {
     "languageId": "r"
    }
   },
   "outputs": [
    {
     "data": {
      "image/png": "[encoded data removed]",
      "text/plain": [
       "plot without title"
      ]
     },
     "metadata": {
      "image/png": {
       "height": 420,
       "width": 420
      }
     },
     "output_type": "display_data"
    }
   ],
   "source": [
    "plot(tree_model_prune)\n",
    "text(tree_model_prune, pretty = 0)"
   ]
  },
  {
   "cell_type": "code",
   "execution_count": 89,
   "metadata": {
    "vscode": {
     "languageId": "r"
    }
   },
   "outputs": [
    {
     "data": {
      "text/html": [
       "0.933333333333333"
      ],
      "text/latex": [
       "0.933333333333333"
      ],
      "text/markdown": [
       "0.933333333333333"
      ],
      "text/plain": [
       "[1] 0.9333333"
      ]
     },
     "metadata": {},
     "output_type": "display_data"
    }
   ],
   "source": [
    "mean(as.numeric(test_data$Species) == predictions_prune)"
   ]
  },
  {
   "cell_type": "markdown",
   "metadata": {},
   "source": [
    "## Regression\n",
    "\n",
    "Now we will see an example more similar to what we have seen in class, because we will be using regression. We will be using the `Hitters` dataset provided by the `ISLR` package (this is the package for the book Introduction to Statistical Learning in R by James, Witten, Hastie, Tibshirani, and Taylor, 2023).\n",
    "\n",
    "### Baseball Data\n",
    "\n",
    "Major League Baseball Data from the 1986 and 1987 seasons.\n",
    "\n",
    "- `AtBat`: Number of times at bat in 1986\n",
    "\n",
    "- `Hits`: Number of hits in 1986\n",
    "\n",
    "- `HmRun`: Number of home runs in 1986\n",
    "\n",
    "- `Runs`: Number of runs in 1986\n",
    "\n",
    "- `RBI`: Number of runs batted in in 1986\n",
    "\n",
    "- `Walks`: Number of walks in 1986\n",
    "\n",
    "- `Years`: Number of years in the major leagues\n",
    "\n",
    "- `CAtBat`: Number of times at bat during his career\n",
    "\n",
    "- `CHits`: Number of hits during his career\n",
    "\n",
    "- `CHmRun`: Number of home runs during his career\n",
    "\n",
    "- `CRuns`: Number of runs during his career\n",
    "\n",
    "- `CRBI`: Number of runs batted in during his career\n",
    "\n",
    "- `CWalks`: Number of walks during his career\n",
    "\n",
    "- `League`: A factor with levels A and N indicating player’s league at the end of 1986\n",
    "\n",
    "- `Division`: A factor with levels E and W indicating player’s division at the end of 1986\n",
    "\n",
    "- `PutOuts`: Number of put outs in 1986\n",
    "\n",
    "- `Assists`: Number of assists in 1986\n",
    "\n",
    "- `Errors`: Number of errors in 1986\n",
    "\n",
    "- `Salary`: 1987 annual salary on opening day in thousands of dollars\n",
    "\n",
    "- `NewLeague`: A factor with levels A and N indicating player’s league at the beginning of 1987\n",
    "\n",
    "#### Notes\n",
    "\n",
    "This dataset was taken from the StatLib library which is maintained at\n",
    "Carnegie Mellon University. This is part of the data that was\n",
    "used in the 1988 ASA Graphics Section Poster Session. The salary\n",
    "data were originally from Sports Illustrated, April 20, 1987. The\n",
    "1986 and career statistics were obtained from The 1987 Baseball\n",
    "Encyclopedia Update published by Collier Books, Macmillan\n",
    "Publishing Company, New York."
   ]
  },
  {
   "cell_type": "code",
   "execution_count": 95,
   "metadata": {
    "vscode": {
     "languageId": "r"
    }
   },
   "outputs": [
    {
     "data": {
      "text/html": [
       "<table class=\"dataframe\">\n",
       "<caption>A data.frame: 6 × 20</caption>\n",
       "<thead>\n",
       "\t<tr><th></th><th scope=col>AtBat</th><th scope=col>Hits</th><th scope=col>HmRun</th><th scope=col>Runs</th><th scope=col>RBI</th><th scope=col>Walks</th><th scope=col>Years</th><th scope=col>CAtBat</th><th scope=col>CHits</th><th scope=col>CHmRun</th><th scope=col>CRuns</th><th scope=col>CRBI</th><th scope=col>CWalks</th><th scope=col>League</th><th scope=col>Division</th><th scope=col>PutOuts</th><th scope=col>Assists</th><th scope=col>Errors</th><th scope=col>Salary</th><th scope=col>NewLeague</th></tr>\n",
       "\t<tr><th></th><th scope=col>&lt;int&gt;</th><th scope=col>&lt;int&gt;</th><th scope=col>&lt;int&gt;</th><th scope=col>&lt;int&gt;</th><th scope=col>&lt;int&gt;</th><th scope=col>&lt;int&gt;</th><th scope=col>&lt;int&gt;</th><th scope=col>&lt;int&gt;</th><th scope=col>&lt;int&gt;</th><th scope=col>&lt;int&gt;</th><th scope=col>&lt;int&gt;</th><th scope=col>&lt;int&gt;</th><th scope=col>&lt;int&gt;</th><th scope=col>&lt;fct&gt;</th><th scope=col>&lt;fct&gt;</th><th scope=col>&lt;int&gt;</th><th scope=col>&lt;int&gt;</th><th scope=col>&lt;int&gt;</th><th scope=col>&lt;dbl&gt;</th><th scope=col>&lt;fct&gt;</th></tr>\n",
       "</thead>\n",
       "<tbody>\n",
       "\t<tr><th scope=row>-Andy Allanson</th><td>293</td><td> 66</td><td> 1</td><td>30</td><td>29</td><td>14</td><td> 1</td><td> 293</td><td>  66</td><td>  1</td><td> 30</td><td> 29</td><td> 14</td><td>A</td><td>E</td><td>446</td><td> 33</td><td>20</td><td>   NA</td><td>A</td></tr>\n",
       "\t<tr><th scope=row>-Alan Ashby</th><td>315</td><td> 81</td><td> 7</td><td>24</td><td>38</td><td>39</td><td>14</td><td>3449</td><td> 835</td><td> 69</td><td>321</td><td>414</td><td>375</td><td>N</td><td>W</td><td>632</td><td> 43</td><td>10</td><td>475.0</td><td>N</td></tr>\n",
       "\t<tr><th scope=row>-Alvin Davis</th><td>479</td><td>130</td><td>18</td><td>66</td><td>72</td><td>76</td><td> 3</td><td>1624</td><td> 457</td><td> 63</td><td>224</td><td>266</td><td>263</td><td>A</td><td>W</td><td>880</td><td> 82</td><td>14</td><td>480.0</td><td>A</td></tr>\n",
       "\t<tr><th scope=row>-Andre Dawson</th><td>496</td><td>141</td><td>20</td><td>65</td><td>78</td><td>37</td><td>11</td><td>5628</td><td>1575</td><td>225</td><td>828</td><td>838</td><td>354</td><td>N</td><td>E</td><td>200</td><td> 11</td><td> 3</td><td>500.0</td><td>N</td></tr>\n",
       "\t<tr><th scope=row>-Andres Galarraga</th><td>321</td><td> 87</td><td>10</td><td>39</td><td>42</td><td>30</td><td> 2</td><td> 396</td><td> 101</td><td> 12</td><td> 48</td><td> 46</td><td> 33</td><td>N</td><td>E</td><td>805</td><td> 40</td><td> 4</td><td> 91.5</td><td>N</td></tr>\n",
       "\t<tr><th scope=row>-Alfredo Griffin</th><td>594</td><td>169</td><td> 4</td><td>74</td><td>51</td><td>35</td><td>11</td><td>4408</td><td>1133</td><td> 19</td><td>501</td><td>336</td><td>194</td><td>A</td><td>W</td><td>282</td><td>421</td><td>25</td><td>750.0</td><td>A</td></tr>\n",
       "</tbody>\n",
       "</table>\n"
      ],
      "text/latex": [
       "A data.frame: 6 × 20\n",
       "\\begin{tabular}{r|llllllllllllllllllll}\n",
       "  & AtBat & Hits & HmRun & Runs & RBI & Walks & Years & CAtBat & CHits & CHmRun & CRuns & CRBI & CWalks & League & Division & PutOuts & Assists & Errors & Salary & NewLeague\\\\\n",
       "  & <int> & <int> & <int> & <int> & <int> & <int> & <int> & <int> & <int> & <int> & <int> & <int> & <int> & <fct> & <fct> & <int> & <int> & <int> & <dbl> & <fct>\\\\\n",
       "\\hline\n",
       "\t-Andy Allanson & 293 &  66 &  1 & 30 & 29 & 14 &  1 &  293 &   66 &   1 &  30 &  29 &  14 & A & E & 446 &  33 & 20 &    NA & A\\\\\n",
       "\t-Alan Ashby & 315 &  81 &  7 & 24 & 38 & 39 & 14 & 3449 &  835 &  69 & 321 & 414 & 375 & N & W & 632 &  43 & 10 & 475.0 & N\\\\\n",
       "\t-Alvin Davis & 479 & 130 & 18 & 66 & 72 & 76 &  3 & 1624 &  457 &  63 & 224 & 266 & 263 & A & W & 880 &  82 & 14 & 480.0 & A\\\\\n",
       "\t-Andre Dawson & 496 & 141 & 20 & 65 & 78 & 37 & 11 & 5628 & 1575 & 225 & 828 & 838 & 354 & N & E & 200 &  11 &  3 & 500.0 & N\\\\\n",
       "\t-Andres Galarraga & 321 &  87 & 10 & 39 & 42 & 30 &  2 &  396 &  101 &  12 &  48 &  46 &  33 & N & E & 805 &  40 &  4 &  91.5 & N\\\\\n",
       "\t-Alfredo Griffin & 594 & 169 &  4 & 74 & 51 & 35 & 11 & 4408 & 1133 &  19 & 501 & 336 & 194 & A & W & 282 & 421 & 25 & 750.0 & A\\\\\n",
       "\\end{tabular}\n"
      ],
      "text/markdown": [
       "\n",
       "A data.frame: 6 × 20\n",
       "\n",
       "| <!--/--> | AtBat &lt;int&gt; | Hits &lt;int&gt; | HmRun &lt;int&gt; | Runs &lt;int&gt; | RBI &lt;int&gt; | Walks &lt;int&gt; | Years &lt;int&gt; | CAtBat &lt;int&gt; | CHits &lt;int&gt; | CHmRun &lt;int&gt; | CRuns &lt;int&gt; | CRBI &lt;int&gt; | CWalks &lt;int&gt; | League &lt;fct&gt; | Division &lt;fct&gt; | PutOuts &lt;int&gt; | Assists &lt;int&gt; | Errors &lt;int&gt; | Salary &lt;dbl&gt; | NewLeague &lt;fct&gt; |\n",
       "|---|---|---|---|---|---|---|---|---|---|---|---|---|---|---|---|---|---|---|---|---|\n",
       "| -Andy Allanson | 293 |  66 |  1 | 30 | 29 | 14 |  1 |  293 |   66 |   1 |  30 |  29 |  14 | A | E | 446 |  33 | 20 |    NA | A |\n",
       "| -Alan Ashby | 315 |  81 |  7 | 24 | 38 | 39 | 14 | 3449 |  835 |  69 | 321 | 414 | 375 | N | W | 632 |  43 | 10 | 475.0 | N |\n",
       "| -Alvin Davis | 479 | 130 | 18 | 66 | 72 | 76 |  3 | 1624 |  457 |  63 | 224 | 266 | 263 | A | W | 880 |  82 | 14 | 480.0 | A |\n",
       "| -Andre Dawson | 496 | 141 | 20 | 65 | 78 | 37 | 11 | 5628 | 1575 | 225 | 828 | 838 | 354 | N | E | 200 |  11 |  3 | 500.0 | N |\n",
       "| -Andres Galarraga | 321 |  87 | 10 | 39 | 42 | 30 |  2 |  396 |  101 |  12 |  48 |  46 |  33 | N | E | 805 |  40 |  4 |  91.5 | N |\n",
       "| -Alfredo Griffin | 594 | 169 |  4 | 74 | 51 | 35 | 11 | 4408 | 1133 |  19 | 501 | 336 | 194 | A | W | 282 | 421 | 25 | 750.0 | A |\n",
       "\n"
      ],
      "text/plain": [
       "                  AtBat Hits HmRun Runs RBI Walks Years CAtBat CHits CHmRun\n",
       "-Andy Allanson    293    66   1    30   29  14     1     293     66    1   \n",
       "-Alan Ashby       315    81   7    24   38  39    14    3449    835   69   \n",
       "-Alvin Davis      479   130  18    66   72  76     3    1624    457   63   \n",
       "-Andre Dawson     496   141  20    65   78  37    11    5628   1575  225   \n",
       "-Andres Galarraga 321    87  10    39   42  30     2     396    101   12   \n",
       "-Alfredo Griffin  594   169   4    74   51  35    11    4408   1133   19   \n",
       "                  CRuns CRBI CWalks League Division PutOuts Assists Errors\n",
       "-Andy Allanson     30    29   14    A      E        446      33     20    \n",
       "-Alan Ashby       321   414  375    N      W        632      43     10    \n",
       "-Alvin Davis      224   266  263    A      W        880      82     14    \n",
       "-Andre Dawson     828   838  354    N      E        200      11      3    \n",
       "-Andres Galarraga  48    46   33    N      E        805      40      4    \n",
       "-Alfredo Griffin  501   336  194    A      W        282     421     25    \n",
       "                  Salary NewLeague\n",
       "-Andy Allanson       NA  A        \n",
       "-Alan Ashby       475.0  N        \n",
       "-Alvin Davis      480.0  A        \n",
       "-Andre Dawson     500.0  N        \n",
       "-Andres Galarraga  91.5  N        \n",
       "-Alfredo Griffin  750.0  A        "
      ]
     },
     "metadata": {},
     "output_type": "display_data"
    }
   ],
   "source": [
    "data(\"Hitters\")\n",
    "head(Hitters)"
   ]
  },
  {
   "cell_type": "markdown",
   "metadata": {},
   "source": [
    "The data has some missing values, specifically in the `Salary` column. In this instance, we will just drop the missing data, but are several other ways to process missing values."
   ]
  },
  {
   "cell_type": "code",
   "execution_count": 96,
   "metadata": {
    "vscode": {
     "languageId": "r"
    }
   },
   "outputs": [
    {
     "data": {
      "text/html": [
       "59"
      ],
      "text/latex": [
       "59"
      ],
      "text/markdown": [
       "59"
      ],
      "text/plain": [
       "[1] 59"
      ]
     },
     "metadata": {},
     "output_type": "display_data"
    }
   ],
   "source": [
    "na_count <- sum(is.na(Hitters$Salary))\n",
    "na_count"
   ]
  },
  {
   "cell_type": "code",
   "execution_count": 97,
   "metadata": {
    "vscode": {
     "languageId": "r"
    }
   },
   "outputs": [],
   "source": [
    "Hitters <- na.omit(Hitters)"
   ]
  },
  {
   "cell_type": "markdown",
   "metadata": {},
   "source": [
    "Unlike in the other languages, we do not have to do much to pre-process our data. We will only have to split it into training and testing sets"
   ]
  },
  {
   "cell_type": "code",
   "execution_count": 99,
   "metadata": {
    "vscode": {
     "languageId": "r"
    }
   },
   "outputs": [],
   "source": [
    "train_index <- sample(seq_len(nrow(Hitters)), size = 0.9 * nrow(Hitters))\n",
    "train_data <- Hitters[train_index, ]\n",
    "test_data <- Hitters[-train_index, ]"
   ]
  },
  {
   "cell_type": "markdown",
   "metadata": {},
   "source": [
    "And train a tree without limiting parameters, such that we may overfit the training data"
   ]
  },
  {
   "cell_type": "code",
   "execution_count": 101,
   "metadata": {
    "vscode": {
     "languageId": "r"
    }
   },
   "outputs": [],
   "source": [
    "tree_model <- tree(Salary ~ .,\n",
    "                   data = train_data,\n",
    "                   mincut = 0,\n",
    "                   minsize = 0,\n",
    "                   mindev = 0)"
   ]
  },
  {
   "cell_type": "markdown",
   "metadata": {},
   "source": [
    "Now let's plot this tree"
   ]
  },
  {
   "cell_type": "code",
   "execution_count": 102,
   "metadata": {
    "vscode": {
     "languageId": "r"
    }
   },
   "outputs": [
    {
     "data": {
      "image/png": "[encoded data removed]",
      "text/plain": [
       "plot without title"
      ]
     },
     "metadata": {
      "image/png": {
       "height": 420,
       "width": 420
      }
     },
     "output_type": "display_data"
    }
   ],
   "source": [
    "plot(tree_model)\n",
    "text(tree_model, pretty = 0)"
   ]
  },
  {
   "cell_type": "markdown",
   "metadata": {},
   "source": [
    "This tree is quite large and has a very large, meaning that it defines a large amount of regions/partitions. We can calculate the Root Mean Square Error of this tree in order to later compare it to a more conservative training procedure."
   ]
  },
  {
   "cell_type": "code",
   "execution_count": 126,
   "metadata": {
    "vscode": {
     "languageId": "r"
    }
   },
   "outputs": [
    {
     "data": {
      "text/html": [
       "366.739380574121"
      ],
      "text/latex": [
       "366.739380574121"
      ],
      "text/markdown": [
       "366.739380574121"
      ],
      "text/plain": [
       "[1] 366.7394"
      ]
     },
     "metadata": {},
     "output_type": "display_data"
    }
   ],
   "source": [
    "predictions <- predict(tree_model, test_data)\n",
    "sqrt(mean((as.numeric(predictions) - test_data$Salary) ^ 2))"
   ]
  },
  {
   "cell_type": "markdown",
   "metadata": {},
   "source": [
    "Like before, we can specify the `k` option for the `prune.tree` function"
   ]
  },
  {
   "cell_type": "code",
   "execution_count": 117,
   "metadata": {
    "vscode": {
     "languageId": "r"
    }
   },
   "outputs": [],
   "source": [
    "tree_model_prune <- prune.tree(tree_model, k = 500000)"
   ]
  },
  {
   "cell_type": "markdown",
   "metadata": {},
   "source": [
    "Now we can get a much smaller tree"
   ]
  },
  {
   "cell_type": "code",
   "execution_count": 118,
   "metadata": {
    "vscode": {
     "languageId": "r"
    }
   },
   "outputs": [
    {
     "data": {
      "image/png": "[encoded data removed]",
      "text/plain": [
       "plot without title"
      ]
     },
     "metadata": {
      "image/png": {
       "height": 420,
       "width": 420
      }
     },
     "output_type": "display_data"
    }
   ],
   "source": [
    "plot(tree_model_prune)\n",
    "text(tree_model_prune, pretty = 0)"
   ]
  },
  {
   "cell_type": "markdown",
   "metadata": {},
   "source": [
    "Does it have better performance?"
   ]
  },
  {
   "cell_type": "code",
   "execution_count": 127,
   "metadata": {
    "vscode": {
     "languageId": "r"
    }
   },
   "outputs": [
    {
     "data": {
      "text/html": [
       "282.005018297767"
      ],
      "text/latex": [
       "282.005018297767"
      ],
      "text/markdown": [
       "282.005018297767"
      ],
      "text/plain": [
       "[1] 282.005"
      ]
     },
     "metadata": {},
     "output_type": "display_data"
    }
   ],
   "source": [
    "predictions_prune <- predict(tree_model_prune, test_data)\n",
    "sqrt(mean((as.numeric(predictions_prune) - test_data$Salary) ^ 2))"
   ]
  },
  {
   "cell_type": "markdown",
   "metadata": {},
   "source": [
    "It does perform better out of sample, meaning that we likely had a problem with overfitting the training data. Now we will follow the same procedure for $K$-folds cross-validation as before. The only difference is that we will use the mean square error as our metric. Notice that we do not feed `cv.tree` the grid of values for $\\alpha$ to be tested; it creates a grid on its own."
   ]
  },
  {
   "cell_type": "code",
   "execution_count": 128,
   "metadata": {
    "vscode": {
     "languageId": "r"
    }
   },
   "outputs": [
    {
     "data": {
      "text/plain": [
       "$size\n",
       "  [1] 183 182 178 177 176 175 171 169 168 164 163 162 161 160 159 156 155 154\n",
       " [19] 153 152 151 150 149 144 143 142 141 140 139 138 137 136 134 133 132 131\n",
       " [37] 130 129 128 127 126 125 124 123 121 120 119 118 117 116 115 114 113 112\n",
       " [55] 111 110 109 108 107 106 105 104 103 102 101 100  99  98  97  96  95  94\n",
       " [73]  93  92  91  89  88  87  86  85  84  83  82  81  79  78  77  76  75  74\n",
       " [91]  73  72  71  70  69  68  67  66  65  64  63  62  61  60  59  58  57  56\n",
       "[109]  55  54  53  52  51  50  49  48  47  46  45  44  43  42  41  40  38  37\n",
       "[127]  36  35  34  33  32  30  29  28  27  26  25  24  23  22  20  19  18  17\n",
       "[145]  16  15  14  13  12  11  10   9   8   6   5   4   3   2   1\n",
       "\n",
       "$dev\n",
       "  [1] 34616088 34616088 34616088 34616088 34616088 34616088 34616088 34616088\n",
       "  [9] 34616088 34616088 34616088 34616088 34616088 34616088 34616088 34616088\n",
       " [17] 34616088 34616088 34616088 34616088 34616088 34616088 34616088 34616088\n",
       " [25] 34616088 34616088 34616088 34616088 34616088 34616088 34616088 34616088\n",
       " [33] 34616088 34616088 34616088 34616088 34616088 34616088 34616088 34616088\n",
       " [41] 34616088 34616088 34616088 34616088 34616088 34616088 34616088 34616088\n",
       " [49] 34616088 34616088 34616088 34616088 34616088 34616088 34616088 34616088\n",
       " [57] 34616088 34616088 34616088 34616088 34616088 34616088 34616088 34616088\n",
       " [65] 34616088 34616088 34616088 34616088 34616088 34616088 34616088 34616088\n",
       " [73] 34616088 34616088 34616088 34616088 34616088 34616088 34616088 34616088\n",
       " [81] 34616088 34616088 34616088 34616088 34616088 34616088 34616088 34616088\n",
       " [89] 34616088 34616088 34616088 34616088 34616088 34616088 34616088 34616088\n",
       " [97] 34616088 34616088 34616088 34616088 34616088 34616088 34616088 34616088\n",
       "[105] 34616088 34616088 34616088 34616088 34616088 34616088 34616088 34616088\n",
       "[113] 34616088 34616088 34616088 34616088 34616088 34616088 34616088 34616088\n",
       "[121] 34616088 34616088 34616088 34616088 34616088 34616088 34616088 34616088\n",
       "[129] 34616088 34616088 34616088 34616088 34616088 34616088 34616088 34616088\n",
       "[137] 34616088 34616088 34616088 34616088 34616088 34616088 34360802 35622557\n",
       "[145] 35622557 35622557 35791727 35791727 35655676 36726849 34555693 32853618\n",
       "[153] 32436833 34954575 35539798 35539798 35539798 33913551 49757529\n",
       "\n",
       "$k\n",
       "  [1]         -Inf 3.750000e+01 5.000000e+01 5.104167e+01 6.302083e+01\n",
       "  [6] 6.526875e+01 6.666667e+01 7.812500e+01 1.008333e+02 1.125000e+02\n",
       " [11] 1.388944e+02 1.445000e+02 1.500000e+02 1.572250e+02 1.880208e+02\n",
       " [16] 2.000000e+02 2.050313e+02 2.250000e+02 2.406667e+02 2.893426e+02\n",
       " [21] 3.000000e+02 3.003125e+02 3.003571e+02 3.125000e+02 3.269380e+02\n",
       " [26] 3.333333e+02 3.555644e+02 3.760417e+02 4.166667e+02 4.377604e+02\n",
       " [31] 4.500000e+02 5.253125e+02 5.555444e+02 5.586012e+02 5.780000e+02\n",
       " [36] 6.125000e+02 7.031250e+02 7.041667e+02 7.569000e+02 7.782331e+02\n",
       " [41] 8.000000e+02 8.008333e+02 8.166667e+02 1.022676e+03 1.110841e+03\n",
       " [46] 1.128125e+03 1.157398e+03 1.250000e+03 1.276042e+03 1.302063e+03\n",
       " [51] 1.412268e+03 1.633333e+03 1.666667e+03 1.806250e+03 2.025000e+03\n",
       " [56] 2.041021e+03 2.343214e+03 2.349077e+03 2.604167e+03 2.626562e+03\n",
       " [61] 2.828929e+03 2.951870e+03 3.037500e+03 3.601500e+03 3.828125e+03\n",
       " [66] 3.906250e+03 4.266667e+03 4.409752e+03 4.629648e+03 4.805000e+03\n",
       " [71] 4.856415e+03 5.000000e+03 5.422557e+03 5.512575e+03 5.704167e+03\n",
       " [76] 5.771553e+03 5.807428e+03 6.453333e+03 6.666667e+03 6.778263e+03\n",
       " [81] 7.268520e+03 8.480379e+03 8.648009e+03 9.453125e+03 9.728085e+03\n",
       " [86] 9.778571e+03 1.001281e+04 1.041667e+04 1.051250e+04 1.072105e+04\n",
       " [91] 1.125000e+04 1.192604e+04 1.309016e+04 1.333333e+04 1.350052e+04\n",
       " [96] 1.503789e+04 1.560556e+04 1.736602e+04 1.755625e+04 1.867773e+04\n",
       "[101] 1.870417e+04 1.953125e+04 2.257067e+04 2.275290e+04 2.557213e+04\n",
       "[106] 2.561811e+04 2.592601e+04 2.670080e+04 3.125000e+04 3.610000e+04\n",
       "[111] 4.144076e+04 4.500000e+04 4.621688e+04 4.635570e+04 4.745599e+04\n",
       "[116] 4.769392e+04 4.785156e+04 4.888777e+04 5.592651e+04 7.281283e+04\n",
       "[121] 7.569000e+04 7.763438e+04 8.196035e+04 8.875539e+04 1.059957e+05\n",
       "[126] 1.091027e+05 1.134676e+05 1.221999e+05 1.251809e+05 1.340476e+05\n",
       "[131] 1.419612e+05 1.931422e+05 2.184533e+05 2.224538e+05 2.268526e+05\n",
       "[136] 2.324862e+05 2.373701e+05 2.471572e+05 2.508025e+05 2.713860e+05\n",
       "[141] 2.936096e+05 3.516506e+05 3.777455e+05 4.587301e+05 4.745005e+05\n",
       "[146] 4.961720e+05 5.654865e+05 5.694903e+05 6.080917e+05 7.265324e+05\n",
       "[151] 7.898009e+05 8.158592e+05 1.298649e+06 1.623102e+06 2.300870e+06\n",
       "[156] 2.959257e+06 3.609081e+06 6.281043e+06 1.717350e+07\n",
       "\n",
       "$method\n",
       "[1] \"deviance\"\n",
       "\n",
       "attr(,\"class\")\n",
       "[1] \"prune\"         \"tree.sequence\""
      ]
     },
     "metadata": {},
     "output_type": "display_data"
    }
   ],
   "source": [
    "cv_tree <- cv.tree(tree_model, K = 3)\n",
    "cv_tree"
   ]
  },
  {
   "cell_type": "markdown",
   "metadata": {},
   "source": [
    "We plot the cross-validation errors against our grid of $\\alpha$'s"
   ]
  },
  {
   "cell_type": "code",
   "execution_count": 134,
   "metadata": {
    "vscode": {
     "languageId": "r"
    }
   },
   "outputs": [
    {
     "name": "stderr",
     "output_type": "stream",
     "text": [
      "Warning message in log(cv_tree$k):\n",
      "\"NaNs produced\"\n"
     ]
    },
    {
     "data": {
      "image/png": "[encoded data removed]",
      "text/plain": [
       "plot without title"
      ]
     },
     "metadata": {
      "image/png": {
       "height": 420,
       "width": 420
      }
     },
     "output_type": "display_data"
    }
   ],
   "source": [
    "plot(log(cv_tree$k), cv_tree$dev, type = \"b\")"
   ]
  },
  {
   "cell_type": "markdown",
   "metadata": {},
   "source": [
    "What is the optimal $\\alpha$ in this scenario?"
   ]
  },
  {
   "cell_type": "code",
   "execution_count": 139,
   "metadata": {
    "vscode": {
     "languageId": "r"
    }
   },
   "outputs": [
    {
     "data": {
      "text/html": [
       "1298649.29184159"
      ],
      "text/latex": [
       "1298649.29184159"
      ],
      "text/markdown": [
       "1298649.29184159"
      ],
      "text/plain": [
       "[1] 1298649"
      ]
     },
     "metadata": {},
     "output_type": "display_data"
    }
   ],
   "source": [
    "optimal_alpha <- cv_tree$k[which(cv_tree$dev == min(cv_tree$dev))]\n",
    "optimal_alpha"
   ]
  },
  {
   "cell_type": "markdown",
   "metadata": {},
   "source": [
    "To fit this tree, we have to prune our base model by using the optimal size of the tree according the cross-validation procedure"
   ]
  },
  {
   "cell_type": "code",
   "execution_count": 140,
   "metadata": {
    "vscode": {
     "languageId": "r"
    }
   },
   "outputs": [
    {
     "data": {
      "text/html": [
       "8"
      ],
      "text/latex": [
       "8"
      ],
      "text/markdown": [
       "8"
      ],
      "text/plain": [
       "[1] 8"
      ]
     },
     "metadata": {},
     "output_type": "display_data"
    }
   ],
   "source": [
    "optimal_size <- cv_tree$size[which(cv_tree$dev == min(cv_tree$dev))]\n",
    "optimal_size"
   ]
  },
  {
   "cell_type": "markdown",
   "metadata": {},
   "source": [
    "By specifying the `best` option in the `prune.tree` function, it will find the best tree of that size"
   ]
  },
  {
   "cell_type": "code",
   "execution_count": 144,
   "metadata": {
    "vscode": {
     "languageId": "r"
    }
   },
   "outputs": [],
   "source": [
    "tree_model_prune <- prune.tree(tree_model, best = 8)"
   ]
  },
  {
   "cell_type": "code",
   "execution_count": 145,
   "metadata": {
    "vscode": {
     "languageId": "r"
    }
   },
   "outputs": [
    {
     "data": {
      "image/png": "[encoded data removed]",
      "text/plain": [
       "plot without title"
      ]
     },
     "metadata": {
      "image/png": {
       "height": 420,
       "width": 420
      }
     },
     "output_type": "display_data"
    }
   ],
   "source": [
    "plot(tree_model_prune)\n",
    "text(tree_model_prune, pretty = 0)"
   ]
  },
  {
   "cell_type": "markdown",
   "metadata": {},
   "source": [
    "Let's now see if it gives us better performance than before. The same caveats for cross-validation as before apply here"
   ]
  },
  {
   "cell_type": "code",
   "execution_count": 146,
   "metadata": {
    "vscode": {
     "languageId": "r"
    }
   },
   "outputs": [
    {
     "data": {
      "text/html": [
       "282.541714141289"
      ],
      "text/latex": [
       "282.541714141289"
      ],
      "text/markdown": [
       "282.541714141289"
      ],
      "text/plain": [
       "[1] 282.5417"
      ]
     },
     "metadata": {},
     "output_type": "display_data"
    }
   ],
   "source": [
    "predictions_prune <- predict(tree_model_prune, test_data)\n",
    "sqrt(mean((as.numeric(predictions_prune) - test_data$Salary) ^ 2))"
   ]
  }
 ],
 "metadata": {
  "kernelspec": {
   "display_name": "R",
   "language": "R",
   "name": "ir"
  },
  "language_info": {
   "codemirror_mode": "r",
   "file_extension": ".r",
   "mimetype": "text/x-r-source",
   "name": "R",
   "pygments_lexer": "r",
   "version": "4.2.3"
  }
 },
 "nbformat": 4,
 "nbformat_minor": 2
}

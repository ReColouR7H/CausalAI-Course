{
 "cells": [
  {
   "cell_type": "code",
   "execution_count": 105,
   "metadata": {},
   "outputs": [],
   "source": [
    "# cd(\"../../../temp\")"
   ]
  },
  {
   "cell_type": "code",
   "execution_count": 106,
   "metadata": {},
   "outputs": [],
   "source": [
    "# ]activate temp"
   ]
  },
  {
   "cell_type": "markdown",
   "metadata": {},
   "source": [
    "Note: The following code will be necessary to use decision trees with the MLJ package "
   ]
  },
  {
   "cell_type": "code",
   "execution_count": 107,
   "metadata": {},
   "outputs": [],
   "source": [
    "# ]add RDatasets DataFrames MLJDecisionTreeInterface DecisionTree StatsPlots"
   ]
  },
  {
   "cell_type": "markdown",
   "metadata": {},
   "source": [
    "# PD9: Classification and Regression with Decision Trees\n",
    "\n",
    "In class, we saw decision trees, which are a Machine Learning method for non-parametric prediction. They rely on partitionning the data into regions by finding thresholds in the features, and datapoints are grouped by their relationship to these thresholds. The value of the thresholds is chosen such that the target values in each region have the least variance (in the case of regression trees) or diversity (in the case of classification trees).\n",
    "\n",
    "Today we will see how to use them in practice by fitting classification and regression trees."
   ]
  },
  {
   "cell_type": "markdown",
   "metadata": {},
   "source": [
    "## Classification: The Iris Dataset\n",
    "\n",
    "Our running example for classification problems will be the __iris flower dataset__.\n",
    "\n",
    "This is a classical dataset originally published by [R. A. Fisher](https://en.wikipedia.org/wiki/Ronald_Fisher) in 1936. This is perhaps the best known database to be found in the pattern recognition literature.  Fisher's paper is a classic in the field and is referenced frequently to this day.  (See Duda & Hart, for example.)  The data set contains 3 classes of 50 instances each, where each class refers to a type of iris plant.  One class is linearly separable from the other 2; the latter are NOT linearly separable from each other.\n",
    "\n",
    "<center><img width=50% src=\"https://raw.githubusercontent.com/kuleshov/cornell-cs5785-2024-applied-ml/refs/heads/main/slides/img/iris.png\"/> <br>\n",
    "<small style='color: gray;'>Image source: <a href=\"https://www.datacamp.com/tutorial/machine-learning-in-r\">Machine Learning in R for Beginners</a></small></center>\n",
    "\n",
    "First, we load the dataset (here, it is available through the `datasets` function of the `RDatasets` package)"
   ]
  },
  {
   "cell_type": "code",
   "execution_count": 1,
   "metadata": {},
   "outputs": [
    {
     "data": {
      "text/html": [
       "<div><div style = \"float: left;\"><span>5×5 DataFrame</span></div><div style = \"clear: both;\"></div></div><div class = \"data-frame\" style = \"overflow-x: scroll;\"><table class = \"data-frame\" style = \"margin-bottom: 6px;\"><thead><tr class = \"header\"><th class = \"rowNumber\" style = \"font-weight: bold; text-align: right;\">Row</th><th style = \"text-align: left;\">SepalLength</th><th style = \"text-align: left;\">SepalWidth</th><th style = \"text-align: left;\">PetalLength</th><th style = \"text-align: left;\">PetalWidth</th><th style = \"text-align: left;\">Species</th></tr><tr class = \"subheader headerLastRow\"><th class = \"rowNumber\" style = \"font-weight: bold; text-align: right;\"></th><th title = \"Float64\" style = \"text-align: left;\">Float64</th><th title = \"Float64\" style = \"text-align: left;\">Float64</th><th title = \"Float64\" style = \"text-align: left;\">Float64</th><th title = \"Float64\" style = \"text-align: left;\">Float64</th><th title = \"CategoricalArrays.CategoricalValue{String, UInt8}\" style = \"text-align: left;\">Cat…</th></tr></thead><tbody><tr><td class = \"rowNumber\" style = \"font-weight: bold; text-align: right;\">1</td><td style = \"text-align: right;\">5.1</td><td style = \"text-align: right;\">3.5</td><td style = \"text-align: right;\">1.4</td><td style = \"text-align: right;\">0.2</td><td style = \"text-align: left;\">setosa</td></tr><tr><td class = \"rowNumber\" style = \"font-weight: bold; text-align: right;\">2</td><td style = \"text-align: right;\">4.9</td><td style = \"text-align: right;\">3.0</td><td style = \"text-align: right;\">1.4</td><td style = \"text-align: right;\">0.2</td><td style = \"text-align: left;\">setosa</td></tr><tr><td class = \"rowNumber\" style = \"font-weight: bold; text-align: right;\">3</td><td style = \"text-align: right;\">4.7</td><td style = \"text-align: right;\">3.2</td><td style = \"text-align: right;\">1.3</td><td style = \"text-align: right;\">0.2</td><td style = \"text-align: left;\">setosa</td></tr><tr><td class = \"rowNumber\" style = \"font-weight: bold; text-align: right;\">4</td><td style = \"text-align: right;\">4.6</td><td style = \"text-align: right;\">3.1</td><td style = \"text-align: right;\">1.5</td><td style = \"text-align: right;\">0.2</td><td style = \"text-align: left;\">setosa</td></tr><tr><td class = \"rowNumber\" style = \"font-weight: bold; text-align: right;\">5</td><td style = \"text-align: right;\">5.0</td><td style = \"text-align: right;\">3.6</td><td style = \"text-align: right;\">1.4</td><td style = \"text-align: right;\">0.2</td><td style = \"text-align: left;\">setosa</td></tr></tbody></table></div>"
      ],
      "text/latex": [
       "\\begin{tabular}{r|ccccc}\n",
       "\t& SepalLength & SepalWidth & PetalLength & PetalWidth & Species\\\\\n",
       "\t\\hline\n",
       "\t& Float64 & Float64 & Float64 & Float64 & Cat…\\\\\n",
       "\t\\hline\n",
       "\t1 & 5.1 & 3.5 & 1.4 & 0.2 & setosa \\\\\n",
       "\t2 & 4.9 & 3.0 & 1.4 & 0.2 & setosa \\\\\n",
       "\t3 & 4.7 & 3.2 & 1.3 & 0.2 & setosa \\\\\n",
       "\t4 & 4.6 & 3.1 & 1.5 & 0.2 & setosa \\\\\n",
       "\t5 & 5.0 & 3.6 & 1.4 & 0.2 & setosa \\\\\n",
       "\\end{tabular}\n"
      ],
      "text/plain": [
       "\u001b[1m5×5 DataFrame\u001b[0m\n",
       "\u001b[1m Row \u001b[0m│\u001b[1m SepalLength \u001b[0m\u001b[1m SepalWidth \u001b[0m\u001b[1m PetalLength \u001b[0m\u001b[1m PetalWidth \u001b[0m\u001b[1m Species \u001b[0m\n",
       "     │\u001b[90m Float64     \u001b[0m\u001b[90m Float64    \u001b[0m\u001b[90m Float64     \u001b[0m\u001b[90m Float64    \u001b[0m\u001b[90m Cat…    \u001b[0m\n",
       "─────┼───────────────────────────────────────────────────────────\n",
       "   1 │         5.1         3.5          1.4         0.2  setosa\n",
       "   2 │         4.9         3.0          1.4         0.2  setosa\n",
       "   3 │         4.7         3.2          1.3         0.2  setosa\n",
       "   4 │         4.6         3.1          1.5         0.2  setosa\n",
       "   5 │         5.0         3.6          1.4         0.2  setosa"
      ]
     },
     "execution_count": 1,
     "metadata": {},
     "output_type": "execute_result"
    }
   ],
   "source": [
    "using RDatasets, DataFrames\n",
    "iris = dataset(\"datasets\", \"iris\")\n",
    "iris[1:5,:]"
   ]
  },
  {
   "cell_type": "markdown",
   "metadata": {},
   "source": [
    "Now, let's see what we mean by the latter two classes not being \"linearly separable\""
   ]
  },
  {
   "cell_type": "code",
   "execution_count": 2,
   "metadata": {},
   "outputs": [
    {
     "ename": "LoadError",
     "evalue": "ArgumentError: Package Plots not found in current path.\n- Run `import Pkg; Pkg.add(\"Plots\")` to install the Plots package.",
     "output_type": "error",
     "traceback": [
      "ArgumentError: Package Plots not found in current path.\n- Run `import Pkg; Pkg.add(\"Plots\")` to install the Plots package.",
      "",
      "Stacktrace:",
      " [1] macro expansion",
      "   @ ./loading.jl:1772 [inlined]",
      " [2] macro expansion",
      "   @ ./lock.jl:267 [inlined]",
      " [3] __require(into::Module, mod::Symbol)",
      "   @ Base ./loading.jl:1753",
      " [4] #invoke_in_world#3",
      "   @ ./essentials.jl:926 [inlined]",
      " [5] invoke_in_world",
      "   @ ./essentials.jl:923 [inlined]",
      " [6] require(into::Module, mod::Symbol)",
      "   @ Base ./loading.jl:1746"
     ]
    }
   ],
   "source": [
    "using Plots, StatsPlots\n",
    "\n",
    "@df iris scatter(\n",
    "        :SepalLength,\n",
    "        :SepalWidth,\n",
    "        group = :Species\n",
    ")"
   ]
  },
  {
   "cell_type": "markdown",
   "metadata": {},
   "source": [
    "It should be fairly easy to classify the setosa species, but the other species may be quite challenging.\n",
    "\n",
    "Now we split the data into training and testing sets."
   ]
  },
  {
   "cell_type": "code",
   "execution_count": 110,
   "metadata": {},
   "outputs": [],
   "source": [
    "using MLJ # using the MLJ framework\n",
    "\n",
    "y, X = unpack(iris, ==(:Species), !=(:Species))\n",
    "train, test = partition(eachindex(y), 0.9, shuffle = true, rng = 123);"
   ]
  },
  {
   "cell_type": "markdown",
   "metadata": {},
   "source": [
    "We now can fit the tree with the training data. We will start with a tree that overfits the data (has a large number of partitions/regions)"
   ]
  },
  {
   "cell_type": "code",
   "execution_count": 111,
   "metadata": {},
   "outputs": [
    {
     "name": "stderr",
     "output_type": "stream",
     "text": [
      "\u001b[36m\u001b[1m[ \u001b[22m\u001b[39m\u001b[36m\u001b[1mInfo: \u001b[22m\u001b[39mTraining machine(DecisionTreeClassifier(max_depth = -1, …), …).\n"
     ]
    }
   ],
   "source": [
    "using MLJModels # loads the modesl MLJ can use e.g. linear regression, decision tree\n",
    "tree_model = (@load DecisionTreeClassifier pkg=DecisionTree verbosity=0)()\n",
    "tree_machine = machine(tree_model, X[train, :], y[train])\n",
    "fit!(tree_machine);"
   ]
  },
  {
   "cell_type": "markdown",
   "metadata": {},
   "source": [
    "We can take a look at how our model classifies data by printing it."
   ]
  },
  {
   "cell_type": "code",
   "execution_count": 112,
   "metadata": {},
   "outputs": [
    {
     "data": {
      "text/plain": [
       "PetalWidth < 0.8\n",
       "├─ setosa (45/45)\n",
       "└─ PetalWidth < 1.75\n",
       "   ├─ PetalLength < 4.95\n",
       "   │  ├─ PetalWidth < 1.65\n",
       "   │  │  ├─ versicolor (45/45)\n",
       "   │  │  └─ virginica (1/1)\n",
       "   │  └─ PetalWidth < 1.55\n",
       "   │     ├─ virginica (3/3)\n",
       "   │     └─ PetalLength < 5.45\n",
       "   │        ├─ versicolor (2/2)\n",
       "   │        └─ virginica (1/1)\n",
       "   └─ PetalLength < 4.85\n",
       "      ├─ SepalLength < 6.05\n",
       "      │  ├─ versicolor (1/1)\n",
       "      │  └─ virginica (1/1)\n",
       "      └─ virginica (36/36)\n"
      ]
     },
     "execution_count": 112,
     "metadata": {},
     "output_type": "execute_result"
    }
   ],
   "source": [
    "fitted_params(tree_machine)[1]"
   ]
  },
  {
   "cell_type": "markdown",
   "metadata": {},
   "source": [
    "We compute the accuracy of the model"
   ]
  },
  {
   "cell_type": "code",
   "execution_count": 113,
   "metadata": {},
   "outputs": [
    {
     "data": {
      "text/plain": [
       "0.9333333333333333"
      ]
     },
     "execution_count": 113,
     "metadata": {},
     "output_type": "execute_result"
    }
   ],
   "source": [
    "predictions = predict_mode(tree_machine, X[test, :])\n",
    "mean(predictions .== y[test])"
   ]
  },
  {
   "cell_type": "markdown",
   "metadata": {},
   "source": [
    "This is actually quite a large out-of-sample accuracy. Although we have quite a large tree, it does not seem to overfit the data.\n",
    "\n",
    "Regardless, we will now prune the tree through the purity threshold merging. We will use this procedure because the `MLJ` package does not provide a decision tree algorithm that uses cost-complexity pruning. This procedure goes backwards up the tree and decides whether to merge regions defined by a node if the purity (lack of diversity) of the resulting region as above a certain threshold. For the `DecisionTreeClassifier` class from the `DecisionTree` package, we can specify the purity threshold with the `merge_purity_threshold` option when constructing an instance of the class."
   ]
  },
  {
   "cell_type": "code",
   "execution_count": 114,
   "metadata": {},
   "outputs": [
    {
     "name": "stderr",
     "output_type": "stream",
     "text": [
      "\u001b[36m\u001b[1m[ \u001b[22m\u001b[39m\u001b[36m\u001b[1mInfo: \u001b[22m\u001b[39mTraining machine(DecisionTreeClassifier(max_depth = -1, …), …).\n"
     ]
    }
   ],
   "source": [
    "DecisionTreeClassifier = (@load DecisionTreeClassifier pkg=DecisionTree verbosity=0)\n",
    "tree_model_prune = DecisionTreeClassifier(post_prune = true, merge_purity_threshold = 0.6)\n",
    "tree_machine_prune = machine(tree_model_prune, X[train, :], y[train])\n",
    "fit!(tree_machine_prune);"
   ]
  },
  {
   "cell_type": "markdown",
   "metadata": {},
   "source": [
    "This value for $\\alpha$ gives us a significantly smaller tree"
   ]
  },
  {
   "cell_type": "code",
   "execution_count": 115,
   "metadata": {},
   "outputs": [
    {
     "data": {
      "text/plain": [
       "PetalWidth < 0.8\n",
       "├─ setosa (45/45)\n",
       "└─ PetalWidth < 1.75\n",
       "   ├─ versicolor (47/52)\n",
       "   └─ PetalLength < 4.85\n",
       "      ├─ SepalWidth < 3.0\n",
       "      │  ├─ virginica (1/1)\n",
       "      │  └─ versicolor (1/1)\n",
       "      └─ virginica (36/36)\n"
      ]
     },
     "execution_count": 115,
     "metadata": {},
     "output_type": "execute_result"
    }
   ],
   "source": [
    "fitted_params(tree_machine_prune)[1]"
   ]
  },
  {
   "cell_type": "markdown",
   "metadata": {},
   "source": [
    "We can also see that it has a similar out-of-sample accuracy to the original model, so we are not losing performance from regularization"
   ]
  },
  {
   "cell_type": "code",
   "execution_count": 116,
   "metadata": {},
   "outputs": [
    {
     "data": {
      "text/plain": [
       "0.9333333333333333"
      ]
     },
     "execution_count": 116,
     "metadata": {},
     "output_type": "execute_result"
    }
   ],
   "source": [
    "pruned_predictions = predict_mode(tree_machine_prune, X[test, :])\n",
    "mean(pruned_predictions .== y[test])"
   ]
  },
  {
   "cell_type": "markdown",
   "metadata": {},
   "source": [
    "However, we have arbitrarily chosen the value for $\\alpha$. We can also choose this value through cross-validation. `MLJ`'s's `evaluate!` function gives us a very useful abstraction for cross-validation."
   ]
  },
  {
   "cell_type": "code",
   "execution_count": 117,
   "metadata": {},
   "outputs": [],
   "source": [
    "thresholds = exp.(collect(-10:0.01:0))\n",
    "innaccuracies = []\n",
    "\n",
    "for threshold in thresholds\n",
    "        tree_model_prune.merge_purity_threshold = threshold\n",
    "        evaluation = evaluate!(\n",
    "                tree_machine_prune,\n",
    "                resampling = CV(nfolds = 3, shuffle = true, rng = 123),\n",
    "                measure = Accuracy()\n",
    "        )\n",
    "        innaccuracies = [innaccuracies; 1 .- evaluation.measurement]\n",
    "end"
   ]
  },
  {
   "cell_type": "markdown",
   "metadata": {},
   "source": [
    "Let's plot the cross-validation error for each alpha"
   ]
  },
  {
   "cell_type": "code",
   "execution_count": 118,
   "metadata": {},
   "outputs": [
    {
     "data": {
      "image/png": "[encoded data removed]",
      "image/svg+xml": [
       "<?xml version=\"1.0\" encoding=\"utf-8\"?>\n",
       "<svg xmlns=\"http://www.w3.org/2000/svg\" xmlns:xlink=\"http://www.w3.org/1999/xlink\" width=\"600\" height=\"400\" viewBox=\"0 0 2400 1600\">\n",
       "<defs>\n",
       "  <clipPath id=\"clip310\">\n",
       "    <rect x=\"0\" y=\"0\" width=\"2400\" height=\"1600\"/>\n",
       "  </clipPath>\n",
       "</defs>\n",
       "<path clip-path=\"url(#clip310)\" d=\"M0 1600 L2400 1600 L2400 0 L0 0  Z\" fill=\"#ffffff\" fill-rule=\"evenodd\" fill-opacity=\"1\"/>\n",
       "<defs>\n",
       "  <clipPath id=\"clip311\">\n",
       "    <rect x=\"480\" y=\"0\" width=\"1681\" height=\"1600\"/>\n",
       "  </clipPath>\n",
       "</defs>\n",
       "<path clip-path=\"url(#clip310)\" d=\"M156.598 1486.45 L2352.76 1486.45 L2352.76 47.2441 L156.598 47.2441  Z\" fill=\"#ffffff\" fill-rule=\"evenodd\" fill-opacity=\"1\"/>\n",
       "<defs>\n",
       "  <clipPath id=\"clip312\">\n",
       "    <rect x=\"156\" y=\"47\" width=\"2197\" height=\"1440\"/>\n",
       "  </clipPath>\n",
       "</defs>\n",
       "<polyline clip-path=\"url(#clip312)\" style=\"stroke:#000000; stroke-linecap:round; stroke-linejoin:round; stroke-width:2; stroke-opacity:0.1; fill:none\" points=\"218.754,1486.45 218.754,47.2441 \"/>\n",
       "<polyline clip-path=\"url(#clip312)\" style=\"stroke:#000000; stroke-linecap:round; stroke-linejoin:round; stroke-width:2; stroke-opacity:0.1; fill:none\" points=\"736.715,1486.45 736.715,47.2441 \"/>\n",
       "<polyline clip-path=\"url(#clip312)\" style=\"stroke:#000000; stroke-linecap:round; stroke-linejoin:round; stroke-width:2; stroke-opacity:0.1; fill:none\" points=\"1254.68,1486.45 1254.68,47.2441 \"/>\n",
       "<polyline clip-path=\"url(#clip312)\" style=\"stroke:#000000; stroke-linecap:round; stroke-linejoin:round; stroke-width:2; stroke-opacity:0.1; fill:none\" points=\"1772.64,1486.45 1772.64,47.2441 \"/>\n",
       "<polyline clip-path=\"url(#clip312)\" style=\"stroke:#000000; stroke-linecap:round; stroke-linejoin:round; stroke-width:2; stroke-opacity:0.1; fill:none\" points=\"2290.6,1486.45 2290.6,47.2441 \"/>\n",
       "<polyline clip-path=\"url(#clip312)\" style=\"stroke:#000000; stroke-linecap:round; stroke-linejoin:round; stroke-width:2; stroke-opacity:0.1; fill:none\" points=\"156.598,1331.3 2352.76,1331.3 \"/>\n",
       "<polyline clip-path=\"url(#clip312)\" style=\"stroke:#000000; stroke-linecap:round; stroke-linejoin:round; stroke-width:2; stroke-opacity:0.1; fill:none\" points=\"156.598,1125.35 2352.76,1125.35 \"/>\n",
       "<polyline clip-path=\"url(#clip312)\" style=\"stroke:#000000; stroke-linecap:round; stroke-linejoin:round; stroke-width:2; stroke-opacity:0.1; fill:none\" points=\"156.598,919.401 2352.76,919.401 \"/>\n",
       "<polyline clip-path=\"url(#clip312)\" style=\"stroke:#000000; stroke-linecap:round; stroke-linejoin:round; stroke-width:2; stroke-opacity:0.1; fill:none\" points=\"156.598,713.452 2352.76,713.452 \"/>\n",
       "<polyline clip-path=\"url(#clip312)\" style=\"stroke:#000000; stroke-linecap:round; stroke-linejoin:round; stroke-width:2; stroke-opacity:0.1; fill:none\" points=\"156.598,507.503 2352.76,507.503 \"/>\n",
       "<polyline clip-path=\"url(#clip312)\" style=\"stroke:#000000; stroke-linecap:round; stroke-linejoin:round; stroke-width:2; stroke-opacity:0.1; fill:none\" points=\"156.598,301.553 2352.76,301.553 \"/>\n",
       "<polyline clip-path=\"url(#clip312)\" style=\"stroke:#000000; stroke-linecap:round; stroke-linejoin:round; stroke-width:2; stroke-opacity:0.1; fill:none\" points=\"156.598,95.604 2352.76,95.604 \"/>\n",
       "<polyline clip-path=\"url(#clip310)\" style=\"stroke:#000000; stroke-linecap:round; stroke-linejoin:round; stroke-width:4; stroke-opacity:1; fill:none\" points=\"156.598,1486.45 2352.76,1486.45 \"/>\n",
       "<polyline clip-path=\"url(#clip310)\" style=\"stroke:#000000; stroke-linecap:round; stroke-linejoin:round; stroke-width:4; stroke-opacity:1; fill:none\" points=\"218.754,1486.45 218.754,1467.55 \"/>\n",
       "<polyline clip-path=\"url(#clip310)\" style=\"stroke:#000000; stroke-linecap:round; stroke-linejoin:round; stroke-width:4; stroke-opacity:1; fill:none\" points=\"736.715,1486.45 736.715,1467.55 \"/>\n",
       "<polyline clip-path=\"url(#clip310)\" style=\"stroke:#000000; stroke-linecap:round; stroke-linejoin:round; stroke-width:4; stroke-opacity:1; fill:none\" points=\"1254.68,1486.45 1254.68,1467.55 \"/>\n",
       "<polyline clip-path=\"url(#clip310)\" style=\"stroke:#000000; stroke-linecap:round; stroke-linejoin:round; stroke-width:4; stroke-opacity:1; fill:none\" points=\"1772.64,1486.45 1772.64,1467.55 \"/>\n",
       "<polyline clip-path=\"url(#clip310)\" style=\"stroke:#000000; stroke-linecap:round; stroke-linejoin:round; stroke-width:4; stroke-opacity:1; fill:none\" points=\"2290.6,1486.45 2290.6,1467.55 \"/>\n",
       "<path clip-path=\"url(#clip310)\" d=\"M150.201 1532.02 L179.877 1532.02 L179.877 1535.95 L150.201 1535.95 L150.201 1532.02 Z\" fill=\"#000000\" fill-rule=\"nonzero\" fill-opacity=\"1\" /><path clip-path=\"url(#clip310)\" d=\"M190.779 1544.91 L198.418 1544.91 L198.418 1518.55 L190.108 1520.21 L190.108 1515.95 L198.372 1514.29 L203.048 1514.29 L203.048 1544.91 L210.687 1544.91 L210.687 1548.85 L190.779 1548.85 L190.779 1544.91 Z\" fill=\"#000000\" fill-rule=\"nonzero\" fill-opacity=\"1\" /><path clip-path=\"url(#clip310)\" d=\"M230.131 1517.37 Q226.52 1517.37 224.691 1520.93 Q222.886 1524.47 222.886 1531.6 Q222.886 1538.71 224.691 1542.27 Q226.52 1545.82 230.131 1545.82 Q233.765 1545.82 235.571 1542.27 Q237.399 1538.71 237.399 1531.6 Q237.399 1524.47 235.571 1520.93 Q233.765 1517.37 230.131 1517.37 M230.131 1513.66 Q235.941 1513.66 238.997 1518.27 Q242.075 1522.85 242.075 1531.6 Q242.075 1540.33 238.997 1544.94 Q235.941 1549.52 230.131 1549.52 Q224.321 1549.52 221.242 1544.94 Q218.187 1540.33 218.187 1531.6 Q218.187 1522.85 221.242 1518.27 Q224.321 1513.66 230.131 1513.66 Z\" fill=\"#000000\" fill-rule=\"nonzero\" fill-opacity=\"1\" /><path clip-path=\"url(#clip310)\" d=\"M250.293 1542.97 L255.177 1542.97 L255.177 1548.85 L250.293 1548.85 L250.293 1542.97 Z\" fill=\"#000000\" fill-rule=\"nonzero\" fill-opacity=\"1\" /><path clip-path=\"url(#clip310)\" d=\"M275.362 1517.37 Q271.751 1517.37 269.922 1520.93 Q268.117 1524.47 268.117 1531.6 Q268.117 1538.71 269.922 1542.27 Q271.751 1545.82 275.362 1545.82 Q278.996 1545.82 280.802 1542.27 Q282.631 1538.71 282.631 1531.6 Q282.631 1524.47 280.802 1520.93 Q278.996 1517.37 275.362 1517.37 M275.362 1513.66 Q281.172 1513.66 284.228 1518.27 Q287.307 1522.85 287.307 1531.6 Q287.307 1540.33 284.228 1544.94 Q281.172 1549.52 275.362 1549.52 Q269.552 1549.52 266.473 1544.94 Q263.418 1540.33 263.418 1531.6 Q263.418 1522.85 266.473 1518.27 Q269.552 1513.66 275.362 1513.66 Z\" fill=\"#000000\" fill-rule=\"nonzero\" fill-opacity=\"1\" /><path clip-path=\"url(#clip310)\" d=\"M683.741 1532.02 L713.417 1532.02 L713.417 1535.95 L683.741 1535.95 L683.741 1532.02 Z\" fill=\"#000000\" fill-rule=\"nonzero\" fill-opacity=\"1\" /><path clip-path=\"url(#clip310)\" d=\"M722.329 1514.29 L744.551 1514.29 L744.551 1516.28 L732.005 1548.85 L727.12 1548.85 L738.926 1518.22 L722.329 1518.22 L722.329 1514.29 Z\" fill=\"#000000\" fill-rule=\"nonzero\" fill-opacity=\"1\" /><path clip-path=\"url(#clip310)\" d=\"M753.671 1542.97 L758.556 1542.97 L758.556 1548.85 L753.671 1548.85 L753.671 1542.97 Z\" fill=\"#000000\" fill-rule=\"nonzero\" fill-opacity=\"1\" /><path clip-path=\"url(#clip310)\" d=\"M768.787 1514.29 L787.143 1514.29 L787.143 1518.22 L773.069 1518.22 L773.069 1526.7 Q774.088 1526.35 775.106 1526.19 Q776.125 1526 777.143 1526 Q782.93 1526 786.31 1529.17 Q789.69 1532.34 789.69 1537.76 Q789.69 1543.34 786.217 1546.44 Q782.745 1549.52 776.426 1549.52 Q774.25 1549.52 771.981 1549.15 Q769.736 1548.78 767.329 1548.04 L767.329 1543.34 Q769.412 1544.47 771.634 1545.03 Q773.856 1545.58 776.333 1545.58 Q780.338 1545.58 782.676 1543.48 Q785.014 1541.37 785.014 1537.76 Q785.014 1534.15 782.676 1532.04 Q780.338 1529.94 776.333 1529.94 Q774.458 1529.94 772.583 1530.35 Q770.731 1530.77 768.787 1531.65 L768.787 1514.29 Z\" fill=\"#000000\" fill-rule=\"nonzero\" fill-opacity=\"1\" /><path clip-path=\"url(#clip310)\" d=\"M1201.21 1532.02 L1230.88 1532.02 L1230.88 1535.95 L1201.21 1535.95 L1201.21 1532.02 Z\" fill=\"#000000\" fill-rule=\"nonzero\" fill-opacity=\"1\" /><path clip-path=\"url(#clip310)\" d=\"M1241.02 1514.29 L1259.38 1514.29 L1259.38 1518.22 L1245.3 1518.22 L1245.3 1526.7 Q1246.32 1526.35 1247.34 1526.19 Q1248.36 1526 1249.38 1526 Q1255.16 1526 1258.54 1529.17 Q1261.92 1532.34 1261.92 1537.76 Q1261.92 1543.34 1258.45 1546.44 Q1254.98 1549.52 1248.66 1549.52 Q1246.48 1549.52 1244.21 1549.15 Q1241.97 1548.78 1239.56 1548.04 L1239.56 1543.34 Q1241.64 1544.47 1243.87 1545.03 Q1246.09 1545.58 1248.57 1545.58 Q1252.57 1545.58 1254.91 1543.48 Q1257.25 1541.37 1257.25 1537.76 Q1257.25 1534.15 1254.91 1532.04 Q1252.57 1529.94 1248.57 1529.94 Q1246.69 1529.94 1244.82 1530.35 Q1242.96 1530.77 1241.02 1531.65 L1241.02 1514.29 Z\" fill=\"#000000\" fill-rule=\"nonzero\" fill-opacity=\"1\" /><path clip-path=\"url(#clip310)\" d=\"M1271.14 1542.97 L1276.02 1542.97 L1276.02 1548.85 L1271.14 1548.85 L1271.14 1542.97 Z\" fill=\"#000000\" fill-rule=\"nonzero\" fill-opacity=\"1\" /><path clip-path=\"url(#clip310)\" d=\"M1296.2 1517.37 Q1292.59 1517.37 1290.76 1520.93 Q1288.96 1524.47 1288.96 1531.6 Q1288.96 1538.71 1290.76 1542.27 Q1292.59 1545.82 1296.2 1545.82 Q1299.84 1545.82 1301.64 1542.27 Q1303.47 1538.71 1303.47 1531.6 Q1303.47 1524.47 1301.64 1520.93 Q1299.84 1517.37 1296.2 1517.37 M1296.2 1513.66 Q1302.01 1513.66 1305.07 1518.27 Q1308.15 1522.85 1308.15 1531.6 Q1308.15 1540.33 1305.07 1544.94 Q1302.01 1549.52 1296.2 1549.52 Q1290.39 1549.52 1287.32 1544.94 Q1284.26 1540.33 1284.26 1531.6 Q1284.26 1522.85 1287.32 1518.27 Q1290.39 1513.66 1296.2 1513.66 Z\" fill=\"#000000\" fill-rule=\"nonzero\" fill-opacity=\"1\" /><path clip-path=\"url(#clip310)\" d=\"M1719.66 1532.02 L1749.34 1532.02 L1749.34 1535.95 L1719.66 1535.95 L1719.66 1532.02 Z\" fill=\"#000000\" fill-rule=\"nonzero\" fill-opacity=\"1\" /><path clip-path=\"url(#clip310)\" d=\"M1763.46 1544.91 L1779.78 1544.91 L1779.78 1548.85 L1757.84 1548.85 L1757.84 1544.91 Q1760.5 1542.16 1765.08 1537.53 Q1769.69 1532.88 1770.87 1531.53 Q1773.11 1529.01 1773.99 1527.27 Q1774.9 1525.51 1774.9 1523.82 Q1774.9 1521.07 1772.95 1519.33 Q1771.03 1517.6 1767.93 1517.6 Q1765.73 1517.6 1763.28 1518.36 Q1760.84 1519.13 1758.07 1520.68 L1758.07 1515.95 Q1760.89 1514.82 1763.34 1514.24 Q1765.8 1513.66 1767.84 1513.66 Q1773.21 1513.66 1776.4 1516.35 Q1779.59 1519.03 1779.59 1523.52 Q1779.59 1525.65 1778.78 1527.57 Q1778 1529.47 1775.89 1532.07 Q1775.31 1532.74 1772.21 1535.95 Q1769.11 1539.15 1763.46 1544.91 Z\" fill=\"#000000\" fill-rule=\"nonzero\" fill-opacity=\"1\" /><path clip-path=\"url(#clip310)\" d=\"M1789.59 1542.97 L1794.48 1542.97 L1794.48 1548.85 L1789.59 1548.85 L1789.59 1542.97 Z\" fill=\"#000000\" fill-rule=\"nonzero\" fill-opacity=\"1\" /><path clip-path=\"url(#clip310)\" d=\"M1804.71 1514.29 L1823.07 1514.29 L1823.07 1518.22 L1808.99 1518.22 L1808.99 1526.7 Q1810.01 1526.35 1811.03 1526.19 Q1812.05 1526 1813.07 1526 Q1818.85 1526 1822.23 1529.17 Q1825.61 1532.34 1825.61 1537.76 Q1825.61 1543.34 1822.14 1546.44 Q1818.67 1549.52 1812.35 1549.52 Q1810.17 1549.52 1807.9 1549.15 Q1805.66 1548.78 1803.25 1548.04 L1803.25 1543.34 Q1805.34 1544.47 1807.56 1545.03 Q1809.78 1545.58 1812.26 1545.58 Q1816.26 1545.58 1818.6 1543.48 Q1820.94 1541.37 1820.94 1537.76 Q1820.94 1534.15 1818.6 1532.04 Q1816.26 1529.94 1812.26 1529.94 Q1810.38 1529.94 1808.51 1530.35 Q1806.65 1530.77 1804.71 1531.65 L1804.71 1514.29 Z\" fill=\"#000000\" fill-rule=\"nonzero\" fill-opacity=\"1\" /><path clip-path=\"url(#clip310)\" d=\"M2267.98 1517.37 Q2264.37 1517.37 2262.55 1520.93 Q2260.74 1524.47 2260.74 1531.6 Q2260.74 1538.71 2262.55 1542.27 Q2264.37 1545.82 2267.98 1545.82 Q2271.62 1545.82 2273.42 1542.27 Q2275.25 1538.71 2275.25 1531.6 Q2275.25 1524.47 2273.42 1520.93 Q2271.62 1517.37 2267.98 1517.37 M2267.98 1513.66 Q2273.8 1513.66 2276.85 1518.27 Q2279.93 1522.85 2279.93 1531.6 Q2279.93 1540.33 2276.85 1544.94 Q2273.8 1549.52 2267.98 1549.52 Q2262.17 1549.52 2259.1 1544.94 Q2256.04 1540.33 2256.04 1531.6 Q2256.04 1522.85 2259.1 1518.27 Q2262.17 1513.66 2267.98 1513.66 Z\" fill=\"#000000\" fill-rule=\"nonzero\" fill-opacity=\"1\" /><path clip-path=\"url(#clip310)\" d=\"M2288.15 1542.97 L2293.03 1542.97 L2293.03 1548.85 L2288.15 1548.85 L2288.15 1542.97 Z\" fill=\"#000000\" fill-rule=\"nonzero\" fill-opacity=\"1\" /><path clip-path=\"url(#clip310)\" d=\"M2313.22 1517.37 Q2309.61 1517.37 2307.78 1520.93 Q2305.97 1524.47 2305.97 1531.6 Q2305.97 1538.71 2307.78 1542.27 Q2309.61 1545.82 2313.22 1545.82 Q2316.85 1545.82 2318.66 1542.27 Q2320.48 1538.71 2320.48 1531.6 Q2320.48 1524.47 2318.66 1520.93 Q2316.85 1517.37 2313.22 1517.37 M2313.22 1513.66 Q2319.03 1513.66 2322.08 1518.27 Q2325.16 1522.85 2325.16 1531.6 Q2325.16 1540.33 2322.08 1544.94 Q2319.03 1549.52 2313.22 1549.52 Q2307.41 1549.52 2304.33 1544.94 Q2301.27 1540.33 2301.27 1531.6 Q2301.27 1522.85 2304.33 1518.27 Q2307.41 1513.66 2313.22 1513.66 Z\" fill=\"#000000\" fill-rule=\"nonzero\" fill-opacity=\"1\" /><polyline clip-path=\"url(#clip310)\" style=\"stroke:#000000; stroke-linecap:round; stroke-linejoin:round; stroke-width:4; stroke-opacity:1; fill:none\" points=\"156.598,1486.45 156.598,47.2441 \"/>\n",
       "<polyline clip-path=\"url(#clip310)\" style=\"stroke:#000000; stroke-linecap:round; stroke-linejoin:round; stroke-width:4; stroke-opacity:1; fill:none\" points=\"156.598,1331.3 175.496,1331.3 \"/>\n",
       "<polyline clip-path=\"url(#clip310)\" style=\"stroke:#000000; stroke-linecap:round; stroke-linejoin:round; stroke-width:4; stroke-opacity:1; fill:none\" points=\"156.598,1125.35 175.496,1125.35 \"/>\n",
       "<polyline clip-path=\"url(#clip310)\" style=\"stroke:#000000; stroke-linecap:round; stroke-linejoin:round; stroke-width:4; stroke-opacity:1; fill:none\" points=\"156.598,919.401 175.496,919.401 \"/>\n",
       "<polyline clip-path=\"url(#clip310)\" style=\"stroke:#000000; stroke-linecap:round; stroke-linejoin:round; stroke-width:4; stroke-opacity:1; fill:none\" points=\"156.598,713.452 175.496,713.452 \"/>\n",
       "<polyline clip-path=\"url(#clip310)\" style=\"stroke:#000000; stroke-linecap:round; stroke-linejoin:round; stroke-width:4; stroke-opacity:1; fill:none\" points=\"156.598,507.503 175.496,507.503 \"/>\n",
       "<polyline clip-path=\"url(#clip310)\" style=\"stroke:#000000; stroke-linecap:round; stroke-linejoin:round; stroke-width:4; stroke-opacity:1; fill:none\" points=\"156.598,301.553 175.496,301.553 \"/>\n",
       "<polyline clip-path=\"url(#clip310)\" style=\"stroke:#000000; stroke-linecap:round; stroke-linejoin:round; stroke-width:4; stroke-opacity:1; fill:none\" points=\"156.598,95.604 175.496,95.604 \"/>\n",
       "<path clip-path=\"url(#clip310)\" d=\"M64.6495 1317.1 Q61.0384 1317.1 59.2097 1320.66 Q57.4041 1324.2 57.4041 1331.33 Q57.4041 1338.44 59.2097 1342.01 Q61.0384 1345.55 64.6495 1345.55 Q68.2837 1345.55 70.0892 1342.01 Q71.9179 1338.44 71.9179 1331.33 Q71.9179 1324.2 70.0892 1320.66 Q68.2837 1317.1 64.6495 1317.1 M64.6495 1313.39 Q70.4596 1313.39 73.5152 1318 Q76.5938 1322.58 76.5938 1331.33 Q76.5938 1340.06 73.5152 1344.67 Q70.4596 1349.25 64.6495 1349.25 Q58.8393 1349.25 55.7606 1344.67 Q52.7051 1340.06 52.7051 1331.33 Q52.7051 1322.58 55.7606 1318 Q58.8393 1313.39 64.6495 1313.39 Z\" fill=\"#000000\" fill-rule=\"nonzero\" fill-opacity=\"1\" /><path clip-path=\"url(#clip310)\" d=\"M84.8114 1342.7 L89.6956 1342.7 L89.6956 1348.58 L84.8114 1348.58 L84.8114 1342.7 Z\" fill=\"#000000\" fill-rule=\"nonzero\" fill-opacity=\"1\" /><path clip-path=\"url(#clip310)\" d=\"M100.691 1344.64 L108.33 1344.64 L108.33 1318.28 L100.02 1319.95 L100.02 1315.69 L108.283 1314.02 L112.959 1314.02 L112.959 1344.64 L120.598 1344.64 L120.598 1348.58 L100.691 1348.58 L100.691 1344.64 Z\" fill=\"#000000\" fill-rule=\"nonzero\" fill-opacity=\"1\" /><path clip-path=\"url(#clip310)\" d=\"M65.0198 1111.15 Q61.4087 1111.15 59.58 1114.71 Q57.7745 1118.26 57.7745 1125.38 Q57.7745 1132.49 59.58 1136.06 Q61.4087 1139.6 65.0198 1139.6 Q68.6541 1139.6 70.4596 1136.06 Q72.2883 1132.49 72.2883 1125.38 Q72.2883 1118.26 70.4596 1114.71 Q68.6541 1111.15 65.0198 1111.15 M65.0198 1107.45 Q70.83 1107.45 73.8855 1112.05 Q76.9642 1116.63 76.9642 1125.38 Q76.9642 1134.11 73.8855 1138.72 Q70.83 1143.3 65.0198 1143.3 Q59.2097 1143.3 56.131 1138.72 Q53.0754 1134.11 53.0754 1125.38 Q53.0754 1116.63 56.131 1112.05 Q59.2097 1107.45 65.0198 1107.45 Z\" fill=\"#000000\" fill-rule=\"nonzero\" fill-opacity=\"1\" /><path clip-path=\"url(#clip310)\" d=\"M85.1818 1136.75 L90.066 1136.75 L90.066 1142.63 L85.1818 1142.63 L85.1818 1136.75 Z\" fill=\"#000000\" fill-rule=\"nonzero\" fill-opacity=\"1\" /><path clip-path=\"url(#clip310)\" d=\"M104.279 1138.7 L120.598 1138.7 L120.598 1142.63 L98.6539 1142.63 L98.6539 1138.7 Q101.316 1135.94 105.899 1131.31 Q110.506 1126.66 111.686 1125.32 Q113.932 1122.79 114.811 1121.06 Q115.714 1119.3 115.714 1117.61 Q115.714 1114.85 113.77 1113.12 Q111.848 1111.38 108.746 1111.38 Q106.547 1111.38 104.094 1112.14 Q101.663 1112.91 98.8854 1114.46 L98.8854 1109.74 Q101.709 1108.6 104.163 1108.02 Q106.617 1107.45 108.654 1107.45 Q114.024 1107.45 117.219 1110.13 Q120.413 1112.82 120.413 1117.31 Q120.413 1119.44 119.603 1121.36 Q118.816 1123.26 116.709 1125.85 Q116.131 1126.52 113.029 1129.74 Q109.927 1132.93 104.279 1138.7 Z\" fill=\"#000000\" fill-rule=\"nonzero\" fill-opacity=\"1\" /><path clip-path=\"url(#clip310)\" d=\"M64.0708 905.2 Q60.4597 905.2 58.631 908.764 Q56.8254 912.306 56.8254 919.436 Q56.8254 926.542 58.631 930.107 Q60.4597 933.649 64.0708 933.649 Q67.705 933.649 69.5105 930.107 Q71.3392 926.542 71.3392 919.436 Q71.3392 912.306 69.5105 908.764 Q67.705 905.2 64.0708 905.2 M64.0708 901.496 Q69.8809 901.496 72.9365 906.102 Q76.0151 910.686 76.0151 919.436 Q76.0151 928.163 72.9365 932.769 Q69.8809 937.352 64.0708 937.352 Q58.2606 937.352 55.1819 932.769 Q52.1264 928.163 52.1264 919.436 Q52.1264 910.686 55.1819 906.102 Q58.2606 901.496 64.0708 901.496 Z\" fill=\"#000000\" fill-rule=\"nonzero\" fill-opacity=\"1\" /><path clip-path=\"url(#clip310)\" d=\"M84.2327 930.801 L89.1169 930.801 L89.1169 936.681 L84.2327 936.681 L84.2327 930.801 Z\" fill=\"#000000\" fill-rule=\"nonzero\" fill-opacity=\"1\" /><path clip-path=\"url(#clip310)\" d=\"M113.469 918.047 Q116.825 918.764 118.7 921.033 Q120.598 923.301 120.598 926.635 Q120.598 931.75 117.08 934.551 Q113.561 937.352 107.08 937.352 Q104.904 937.352 102.589 936.912 Q100.297 936.496 97.8437 935.639 L97.8437 931.125 Q99.7882 932.26 102.103 932.838 Q104.418 933.417 106.941 933.417 Q111.339 933.417 113.631 931.681 Q115.945 929.945 115.945 926.635 Q115.945 923.579 113.793 921.866 Q111.663 920.13 107.844 920.13 L103.816 920.13 L103.816 916.288 L108.029 916.288 Q111.478 916.288 113.307 914.922 Q115.135 913.533 115.135 910.94 Q115.135 908.278 113.237 906.866 Q111.362 905.431 107.844 905.431 Q105.922 905.431 103.723 905.848 Q101.524 906.264 98.8854 907.144 L98.8854 902.977 Q101.547 902.237 103.862 901.866 Q106.2 901.496 108.26 901.496 Q113.584 901.496 116.686 903.927 Q119.788 906.334 119.788 910.454 Q119.788 913.325 118.145 915.315 Q116.501 917.283 113.469 918.047 Z\" fill=\"#000000\" fill-rule=\"nonzero\" fill-opacity=\"1\" /><path clip-path=\"url(#clip310)\" d=\"M62.9365 699.25 Q59.3254 699.25 57.4967 702.815 Q55.6912 706.357 55.6912 713.486 Q55.6912 720.593 57.4967 724.158 Q59.3254 727.699 62.9365 727.699 Q66.5707 727.699 68.3763 724.158 Q70.205 720.593 70.205 713.486 Q70.205 706.357 68.3763 702.815 Q66.5707 699.25 62.9365 699.25 M62.9365 695.547 Q68.7467 695.547 71.8022 700.153 Q74.8809 704.737 74.8809 713.486 Q74.8809 722.213 71.8022 726.82 Q68.7467 731.403 62.9365 731.403 Q57.1264 731.403 54.0477 726.82 Q50.9921 722.213 50.9921 713.486 Q50.9921 704.737 54.0477 700.153 Q57.1264 695.547 62.9365 695.547 Z\" fill=\"#000000\" fill-rule=\"nonzero\" fill-opacity=\"1\" /><path clip-path=\"url(#clip310)\" d=\"M83.0984 724.852 L87.9827 724.852 L87.9827 730.732 L83.0984 730.732 L83.0984 724.852 Z\" fill=\"#000000\" fill-rule=\"nonzero\" fill-opacity=\"1\" /><path clip-path=\"url(#clip310)\" d=\"M111.015 700.246 L99.2095 718.695 L111.015 718.695 L111.015 700.246 M109.788 696.172 L115.668 696.172 L115.668 718.695 L120.598 718.695 L120.598 722.584 L115.668 722.584 L115.668 730.732 L111.015 730.732 L111.015 722.584 L95.4132 722.584 L95.4132 718.07 L109.788 696.172 Z\" fill=\"#000000\" fill-rule=\"nonzero\" fill-opacity=\"1\" /><path clip-path=\"url(#clip310)\" d=\"M64.418 493.301 Q60.8069 493.301 58.9782 496.866 Q57.1726 500.408 57.1726 507.537 Q57.1726 514.644 58.9782 518.208 Q60.8069 521.75 64.418 521.75 Q68.0522 521.75 69.8578 518.208 Q71.6865 514.644 71.6865 507.537 Q71.6865 500.408 69.8578 496.866 Q68.0522 493.301 64.418 493.301 M64.418 489.598 Q70.2281 489.598 73.2837 494.204 Q76.3624 498.787 76.3624 507.537 Q76.3624 516.264 73.2837 520.87 Q70.2281 525.454 64.418 525.454 Q58.6078 525.454 55.5291 520.87 Q52.4736 516.264 52.4736 507.537 Q52.4736 498.787 55.5291 494.204 Q58.6078 489.598 64.418 489.598 Z\" fill=\"#000000\" fill-rule=\"nonzero\" fill-opacity=\"1\" /><path clip-path=\"url(#clip310)\" d=\"M84.5799 518.903 L89.4641 518.903 L89.4641 524.783 L84.5799 524.783 L84.5799 518.903 Z\" fill=\"#000000\" fill-rule=\"nonzero\" fill-opacity=\"1\" /><path clip-path=\"url(#clip310)\" d=\"M99.6956 490.223 L118.052 490.223 L118.052 494.158 L103.978 494.158 L103.978 502.63 Q104.996 502.283 106.015 502.121 Q107.033 501.935 108.052 501.935 Q113.839 501.935 117.219 505.107 Q120.598 508.278 120.598 513.695 Q120.598 519.273 117.126 522.375 Q113.654 525.454 107.334 525.454 Q105.159 525.454 102.89 525.083 Q100.645 524.713 98.2372 523.972 L98.2372 519.273 Q100.321 520.408 102.543 520.963 Q104.765 521.519 107.242 521.519 Q111.246 521.519 113.584 519.412 Q115.922 517.306 115.922 513.695 Q115.922 510.084 113.584 507.977 Q111.246 505.871 107.242 505.871 Q105.367 505.871 103.492 506.287 Q101.64 506.704 99.6956 507.584 L99.6956 490.223 Z\" fill=\"#000000\" fill-rule=\"nonzero\" fill-opacity=\"1\" /><path clip-path=\"url(#clip310)\" d=\"M63.2606 287.352 Q59.6495 287.352 57.8208 290.917 Q56.0152 294.458 56.0152 301.588 Q56.0152 308.694 57.8208 312.259 Q59.6495 315.801 63.2606 315.801 Q66.8948 315.801 68.7004 312.259 Q70.5291 308.694 70.5291 301.588 Q70.5291 294.458 68.7004 290.917 Q66.8948 287.352 63.2606 287.352 M63.2606 283.648 Q69.0707 283.648 72.1263 288.255 Q75.205 292.838 75.205 301.588 Q75.205 310.315 72.1263 314.921 Q69.0707 319.505 63.2606 319.505 Q57.4504 319.505 54.3717 314.921 Q51.3162 310.315 51.3162 301.588 Q51.3162 292.838 54.3717 288.255 Q57.4504 283.648 63.2606 283.648 Z\" fill=\"#000000\" fill-rule=\"nonzero\" fill-opacity=\"1\" /><path clip-path=\"url(#clip310)\" d=\"M83.4225 312.954 L88.3067 312.954 L88.3067 318.833 L83.4225 318.833 L83.4225 312.954 Z\" fill=\"#000000\" fill-rule=\"nonzero\" fill-opacity=\"1\" /><path clip-path=\"url(#clip310)\" d=\"M109.071 299.69 Q105.922 299.69 104.071 301.843 Q102.242 303.995 102.242 307.745 Q102.242 311.472 104.071 313.648 Q105.922 315.801 109.071 315.801 Q112.219 315.801 114.047 313.648 Q115.899 311.472 115.899 307.745 Q115.899 303.995 114.047 301.843 Q112.219 299.69 109.071 299.69 M118.353 285.037 L118.353 289.296 Q116.594 288.463 114.788 288.023 Q113.006 287.583 111.246 287.583 Q106.617 287.583 104.163 290.708 Q101.733 293.833 101.385 300.153 Q102.751 298.139 104.811 297.074 Q106.871 295.986 109.348 295.986 Q114.557 295.986 117.566 299.157 Q120.598 302.306 120.598 307.745 Q120.598 313.069 117.45 316.287 Q114.302 319.505 109.071 319.505 Q103.075 319.505 99.9039 314.921 Q96.7326 310.315 96.7326 301.588 Q96.7326 293.394 100.621 288.532 Q104.51 283.648 111.061 283.648 Q112.82 283.648 114.603 283.995 Q116.408 284.343 118.353 285.037 Z\" fill=\"#000000\" fill-rule=\"nonzero\" fill-opacity=\"1\" /><path clip-path=\"url(#clip310)\" d=\"M64.3254 81.4027 Q60.7143 81.4027 58.8856 84.9675 Q57.0801 88.5092 57.0801 95.6387 Q57.0801 102.745 58.8856 106.31 Q60.7143 109.852 64.3254 109.852 Q67.9596 109.852 69.7652 106.31 Q71.5939 102.745 71.5939 95.6387 Q71.5939 88.5092 69.7652 84.9675 Q67.9596 81.4027 64.3254 81.4027 M64.3254 77.699 Q70.1355 77.699 73.1911 82.3055 Q76.2698 86.8888 76.2698 95.6387 Q76.2698 104.366 73.1911 108.972 Q70.1355 113.555 64.3254 113.555 Q58.5152 113.555 55.4365 108.972 Q52.381 104.366 52.381 95.6387 Q52.381 86.8888 55.4365 82.3055 Q58.5152 77.699 64.3254 77.699 Z\" fill=\"#000000\" fill-rule=\"nonzero\" fill-opacity=\"1\" /><path clip-path=\"url(#clip310)\" d=\"M84.4873 107.004 L89.3715 107.004 L89.3715 112.884 L84.4873 112.884 L84.4873 107.004 Z\" fill=\"#000000\" fill-rule=\"nonzero\" fill-opacity=\"1\" /><path clip-path=\"url(#clip310)\" d=\"M98.3761 78.324 L120.598 78.324 L120.598 80.3148 L108.052 112.884 L103.168 112.884 L114.973 82.2592 L98.3761 82.2592 L98.3761 78.324 Z\" fill=\"#000000\" fill-rule=\"nonzero\" fill-opacity=\"1\" /><polyline clip-path=\"url(#clip312)\" style=\"stroke:#009af9; stroke-linecap:round; stroke-linejoin:round; stroke-width:4; stroke-opacity:1; fill:none\" points=\"218.754,87.9763 220.825,87.9763 222.897,87.9763 224.969,87.9763 227.041,87.9763 229.113,87.9763 231.185,87.9763 233.257,87.9763 235.328,87.9763 237.4,87.9763 239.472,87.9763 241.544,87.9763 243.616,87.9763 245.688,87.9763 247.759,87.9763 249.831,87.9763 251.903,87.9763 253.975,87.9763 256.047,87.9763 258.119,87.9763 260.191,87.9763 262.262,87.9763 264.334,87.9763 266.406,87.9763 268.478,87.9763 270.55,87.9763 272.622,87.9763 274.694,87.9763 276.765,87.9763 278.837,87.9763 280.909,87.9763 282.981,87.9763 285.053,87.9763 287.125,87.9763 289.196,87.9763 291.268,87.9763 293.34,87.9763 295.412,87.9763 297.484,87.9763 299.556,87.9763 301.628,87.9763 303.699,87.9763 305.771,87.9763 307.843,87.9763 309.915,87.9763 311.987,87.9763 314.059,87.9763 316.13,87.9763 318.202,87.9763 320.274,87.9763 322.346,87.9763 324.418,87.9763 326.49,87.9763 328.562,87.9763 330.633,87.9763 332.705,87.9763 334.777,87.9763 336.849,87.9763 338.921,87.9763 340.993,87.9763 343.064,87.9763 345.136,87.9763 347.208,87.9763 349.28,87.9763 351.352,87.9763 353.424,87.9763 355.496,87.9763 357.567,87.9763 359.639,87.9763 361.711,87.9763 363.783,87.9763 365.855,87.9763 367.927,87.9763 369.998,87.9763 372.07,87.9763 374.142,87.9763 376.214,87.9763 378.286,87.9763 380.358,87.9763 382.43,87.9763 384.501,87.9763 386.573,87.9763 388.645,87.9763 390.717,87.9763 392.789,87.9763 394.861,87.9763 396.932,87.9763 399.004,87.9763 401.076,87.9763 403.148,87.9763 405.22,87.9763 407.292,87.9763 409.364,87.9763 411.435,87.9763 413.507,87.9763 415.579,87.9763 417.651,87.9763 419.723,87.9763 421.795,87.9763 423.866,87.9763 425.938,87.9763 428.01,87.9763 430.082,87.9763 432.154,87.9763 434.226,87.9763 436.298,87.9763 438.369,87.9763 440.441,87.9763 442.513,87.9763 444.585,87.9763 446.657,87.9763 448.729,87.9763 450.8,87.9763 452.872,87.9763 454.944,87.9763 457.016,87.9763 459.088,87.9763 461.16,87.9763 463.232,87.9763 465.303,87.9763 467.375,87.9763 469.447,87.9763 471.519,87.9763 473.591,87.9763 475.663,87.9763 477.734,87.9763 479.806,87.9763 481.878,87.9763 483.95,87.9763 486.022,87.9763 488.094,87.9763 490.166,87.9763 492.237,87.9763 494.309,87.9763 496.381,87.9763 498.453,87.9763 500.525,87.9763 502.597,87.9763 504.669,87.9763 506.74,87.9763 508.812,87.9763 510.884,87.9763 512.956,87.9763 515.028,87.9763 517.1,87.9763 519.171,87.9763 521.243,87.9763 523.315,87.9763 525.387,87.9763 527.459,87.9763 529.531,87.9763 531.603,87.9763 533.674,87.9763 535.746,87.9763 537.818,87.9763 539.89,87.9763 541.962,87.9763 544.034,87.9763 546.105,87.9763 548.177,87.9763 550.249,87.9763 552.321,87.9763 554.393,87.9763 556.465,87.9763 558.537,87.9763 560.608,87.9763 562.68,87.9763 564.752,87.9763 566.824,87.9763 568.896,87.9763 570.968,87.9763 573.039,87.9763 575.111,87.9763 577.183,87.9763 579.255,87.9763 581.327,87.9763 583.399,87.9763 585.471,87.9763 587.542,87.9763 589.614,87.9763 591.686,87.9763 593.758,87.9763 595.83,87.9763 597.902,87.9763 599.973,87.9763 602.045,87.9763 604.117,87.9763 606.189,87.9763 608.261,87.9763 610.333,87.9763 612.405,87.9763 614.476,87.9763 616.548,87.9763 618.62,87.9763 620.692,87.9763 622.764,87.9763 624.836,87.9763 626.907,87.9763 628.979,87.9763 631.051,87.9763 633.123,87.9763 635.195,87.9763 637.267,87.9763 639.339,87.9763 641.41,87.9763 643.482,87.9763 645.554,87.9763 647.626,87.9763 649.698,87.9763 651.77,87.9763 653.841,87.9763 655.913,87.9763 657.985,87.9763 660.057,87.9763 662.129,87.9763 664.201,87.9763 666.273,87.9763 668.344,87.9763 670.416,87.9763 672.488,87.9763 674.56,87.9763 676.632,87.9763 678.704,87.9763 680.775,87.9763 682.847,87.9763 684.919,87.9763 686.991,87.9763 689.063,87.9763 691.135,87.9763 693.207,87.9763 695.278,87.9763 697.35,87.9763 699.422,87.9763 701.494,87.9763 703.566,87.9763 705.638,87.9763 707.709,87.9763 709.781,87.9763 711.853,87.9763 713.925,87.9763 715.997,87.9763 718.069,87.9763 720.141,87.9763 722.212,87.9763 724.284,87.9763 726.356,87.9763 728.428,87.9763 730.5,87.9763 732.572,87.9763 734.644,87.9763 736.715,87.9763 738.787,87.9763 740.859,87.9763 742.931,87.9763 745.003,87.9763 747.075,87.9763 749.146,87.9763 751.218,87.9763 753.29,87.9763 755.362,87.9763 757.434,87.9763 759.506,87.9763 761.578,87.9763 763.649,87.9763 765.721,87.9763 767.793,87.9763 769.865,87.9763 771.937,87.9763 774.009,87.9763 776.08,87.9763 778.152,87.9763 780.224,87.9763 782.296,87.9763 784.368,87.9763 786.44,87.9763 788.512,87.9763 790.583,87.9763 792.655,87.9763 794.727,87.9763 796.799,87.9763 798.871,87.9763 800.943,87.9763 803.014,87.9763 805.086,87.9763 807.158,87.9763 809.23,87.9763 811.302,87.9763 813.374,87.9763 815.446,87.9763 817.517,87.9763 819.589,87.9763 821.661,87.9763 823.733,87.9763 825.805,87.9763 827.877,87.9763 829.948,87.9763 832.02,87.9763 834.092,87.9763 836.164,87.9763 838.236,87.9763 840.308,87.9763 842.38,87.9763 844.451,87.9763 846.523,87.9763 848.595,87.9763 850.667,87.9763 852.739,87.9763 854.811,87.9763 856.882,87.9763 858.954,87.9763 861.026,87.9763 863.098,87.9763 865.17,87.9763 867.242,87.9763 869.314,87.9763 871.385,87.9763 873.457,87.9763 875.529,87.9763 877.601,87.9763 879.673,87.9763 881.745,87.9763 883.816,87.9763 885.888,87.9763 887.96,87.9763 890.032,87.9763 892.104,87.9763 894.176,87.9763 896.248,87.9763 898.319,87.9763 900.391,87.9763 902.463,87.9763 904.535,87.9763 906.607,87.9763 908.679,87.9763 910.75,87.9763 912.822,87.9763 914.894,87.9763 916.966,87.9763 919.038,87.9763 921.11,87.9763 923.182,87.9763 925.253,87.9763 927.325,87.9763 929.397,87.9763 931.469,87.9763 933.541,87.9763 935.613,87.9763 937.685,87.9763 939.756,87.9763 941.828,87.9763 943.9,87.9763 945.972,87.9763 948.044,87.9763 950.116,87.9763 952.187,87.9763 954.259,87.9763 956.331,87.9763 958.403,87.9763 960.475,87.9763 962.547,87.9763 964.619,87.9763 966.69,87.9763 968.762,87.9763 970.834,87.9763 972.906,87.9763 974.978,87.9763 977.05,87.9763 979.121,87.9763 981.193,87.9763 983.265,87.9763 985.337,87.9763 987.409,87.9763 989.481,87.9763 991.553,87.9763 993.624,87.9763 995.696,87.9763 997.768,87.9763 999.84,87.9763 1001.91,87.9763 1003.98,87.9763 1006.06,87.9763 1008.13,87.9763 1010.2,87.9763 1012.27,87.9763 1014.34,87.9763 1016.41,87.9763 1018.49,87.9763 1020.56,87.9763 1022.63,87.9763 1024.7,87.9763 1026.77,87.9763 1028.85,87.9763 1030.92,87.9763 1032.99,87.9763 1035.06,87.9763 1037.13,87.9763 1039.2,87.9763 1041.28,87.9763 1043.35,87.9763 1045.42,87.9763 1047.49,87.9763 1049.56,87.9763 1051.64,87.9763 1053.71,87.9763 1055.78,87.9763 1057.85,87.9763 1059.92,87.9763 1062,87.9763 1064.07,87.9763 1066.14,87.9763 1068.21,87.9763 1070.28,87.9763 1072.35,87.9763 1074.43,87.9763 1076.5,87.9763 1078.57,87.9763 1080.64,87.9763 1082.71,87.9763 1084.79,87.9763 1086.86,87.9763 1088.93,87.9763 1091,87.9763 1093.07,87.9763 1095.14,87.9763 1097.22,87.9763 1099.29,87.9763 1101.36,87.9763 1103.43,87.9763 1105.5,87.9763 1107.58,87.9763 1109.65,87.9763 1111.72,87.9763 1113.79,87.9763 1115.86,87.9763 1117.94,87.9763 1120.01,87.9763 1122.08,87.9763 1124.15,87.9763 1126.22,87.9763 1128.29,87.9763 1130.37,87.9763 1132.44,87.9763 1134.51,87.9763 1136.58,87.9763 1138.65,87.9763 1140.73,87.9763 1142.8,87.9763 1144.87,87.9763 1146.94,87.9763 1149.01,87.9763 1151.08,87.9763 1153.16,87.9763 1155.23,87.9763 1157.3,87.9763 1159.37,87.9763 1161.44,87.9763 1163.52,87.9763 1165.59,87.9763 1167.66,87.9763 1169.73,87.9763 1171.8,87.9763 1173.88,87.9763 1175.95,87.9763 1178.02,87.9763 1180.09,87.9763 1182.16,87.9763 1184.23,87.9763 1186.31,87.9763 1188.38,87.9763 1190.45,87.9763 1192.52,87.9763 1194.59,87.9763 1196.67,87.9763 1198.74,87.9763 1200.81,87.9763 1202.88,87.9763 1204.95,87.9763 1207.02,87.9763 1209.1,87.9763 1211.17,87.9763 1213.24,87.9763 1215.31,87.9763 1217.38,87.9763 1219.46,87.9763 1221.53,87.9763 1223.6,87.9763 1225.67,87.9763 1227.74,87.9763 1229.81,87.9763 1231.89,87.9763 1233.96,87.9763 1236.03,87.9763 1238.1,87.9763 1240.17,87.9763 1242.25,87.9763 1244.32,87.9763 1246.39,87.9763 1248.46,87.9763 1250.53,87.9763 1252.61,87.9763 1254.68,87.9763 1256.75,87.9763 1258.82,87.9763 1260.89,87.9763 1262.96,87.9763 1265.04,87.9763 1267.11,87.9763 1269.18,87.9763 1271.25,87.9763 1273.32,87.9763 1275.4,87.9763 1277.47,87.9763 1279.54,87.9763 1281.61,87.9763 1283.68,87.9763 1285.75,87.9763 1287.83,87.9763 1289.9,87.9763 1291.97,87.9763 1294.04,87.9763 1296.11,87.9763 1298.19,87.9763 1300.26,87.9763 1302.33,87.9763 1304.4,87.9763 1306.47,87.9763 1308.55,87.9763 1310.62,87.9763 1312.69,87.9763 1314.76,87.9763 1316.83,87.9763 1318.9,87.9763 1320.98,87.9763 1323.05,87.9763 1325.12,87.9763 1327.19,87.9763 1329.26,87.9763 1331.34,87.9763 1333.41,87.9763 1335.48,87.9763 1337.55,87.9763 1339.62,87.9763 1341.69,87.9763 1343.77,87.9763 1345.84,87.9763 1347.91,87.9763 1349.98,87.9763 1352.05,87.9763 1354.13,87.9763 1356.2,87.9763 1358.27,87.9763 1360.34,87.9763 1362.41,87.9763 1364.48,87.9763 1366.56,87.9763 1368.63,87.9763 1370.7,87.9763 1372.77,87.9763 1374.84,87.9763 1376.92,87.9763 1378.99,87.9763 1381.06,87.9763 1383.13,87.9763 1385.2,87.9763 1387.28,87.9763 1389.35,87.9763 1391.42,87.9763 1393.49,87.9763 1395.56,87.9763 1397.63,87.9763 1399.71,87.9763 1401.78,87.9763 1403.85,87.9763 1405.92,87.9763 1407.99,87.9763 1410.07,87.9763 1412.14,87.9763 1414.21,87.9763 1416.28,87.9763 1418.35,87.9763 1420.42,87.9763 1422.5,87.9763 1424.57,87.9763 1426.64,87.9763 1428.71,87.9763 1430.78,87.9763 1432.86,87.9763 1434.93,87.9763 1437,87.9763 1439.07,87.9763 1441.14,87.9763 1443.22,87.9763 1445.29,87.9763 1447.36,87.9763 1449.43,87.9763 1451.5,87.9763 1453.57,87.9763 1455.65,87.9763 1457.72,87.9763 1459.79,87.9763 1461.86,87.9763 1463.93,87.9763 1466.01,87.9763 1468.08,87.9763 1470.15,87.9763 1472.22,87.9763 1474.29,87.9763 1476.36,87.9763 1478.44,87.9763 1480.51,87.9763 1482.58,87.9763 1484.65,87.9763 1486.72,87.9763 1488.8,87.9763 1490.87,87.9763 1492.94,87.9763 1495.01,87.9763 1497.08,87.9763 1499.15,87.9763 1501.23,87.9763 1503.3,87.9763 1505.37,87.9763 1507.44,87.9763 1509.51,87.9763 1511.59,87.9763 1513.66,87.9763 1515.73,87.9763 1517.8,87.9763 1519.87,87.9763 1521.95,87.9763 1524.02,87.9763 1526.09,87.9763 1528.16,87.9763 1530.23,87.9763 1532.3,87.9763 1534.38,87.9763 1536.45,87.9763 1538.52,87.9763 1540.59,87.9763 1542.66,87.9763 1544.74,87.9763 1546.81,87.9763 1548.88,87.9763 1550.95,87.9763 1553.02,87.9763 1555.09,87.9763 1557.17,87.9763 1559.24,87.9763 1561.31,87.9763 1563.38,87.9763 1565.45,87.9763 1567.53,87.9763 1569.6,87.9763 1571.67,87.9763 1573.74,87.9763 1575.81,87.9763 1577.89,87.9763 1579.96,87.9763 1582.03,87.9763 1584.1,87.9763 1586.17,87.9763 1588.24,87.9763 1590.32,87.9763 1592.39,87.9763 1594.46,87.9763 1596.53,87.9763 1598.6,87.9763 1600.68,87.9763 1602.75,87.9763 1604.82,87.9763 1606.89,87.9763 1608.96,87.9763 1611.03,87.9763 1613.11,87.9763 1615.18,87.9763 1617.25,87.9763 1619.32,87.9763 1621.39,87.9763 1623.47,87.9763 1625.54,87.9763 1627.61,87.9763 1629.68,87.9763 1631.75,87.9763 1633.83,87.9763 1635.9,87.9763 1637.97,87.9763 1640.04,87.9763 1642.11,87.9763 1644.18,87.9763 1646.26,87.9763 1648.33,87.9763 1650.4,87.9763 1652.47,87.9763 1654.54,87.9763 1656.62,87.9763 1658.69,87.9763 1660.76,87.9763 1662.83,87.9763 1664.9,87.9763 1666.97,87.9763 1669.05,87.9763 1671.12,87.9763 1673.19,87.9763 1675.26,87.9763 1677.33,87.9763 1679.41,87.9763 1681.48,87.9763 1683.55,87.9763 1685.62,87.9763 1687.69,87.9763 1689.76,87.9763 1691.84,87.9763 1693.91,87.9763 1695.98,87.9763 1698.05,87.9763 1700.12,87.9763 1702.2,87.9763 1704.27,87.9763 1706.34,87.9763 1708.41,87.9763 1710.48,87.9763 1712.56,87.9763 1714.63,87.9763 1716.7,87.9763 1718.77,87.9763 1720.84,87.9763 1722.91,87.9763 1724.99,87.9763 1727.06,87.9763 1729.13,87.9763 1731.2,87.9763 1733.27,87.9763 1735.35,87.9763 1737.42,87.9763 1739.49,87.9763 1741.56,87.9763 1743.63,87.9763 1745.7,87.9763 1747.78,87.9763 1749.85,87.9763 1751.92,87.9763 1753.99,87.9763 1756.06,87.9763 1758.14,87.9763 1760.21,87.9763 1762.28,87.9763 1764.35,87.9763 1766.42,87.9763 1768.5,87.9763 1770.57,87.9763 1772.64,87.9763 1774.71,87.9763 1776.78,87.9763 1778.85,87.9763 1780.93,87.9763 1783,87.9763 1785.07,87.9763 1787.14,87.9763 1789.21,87.9763 1791.29,87.9763 1793.36,87.9763 1795.43,87.9763 1797.5,87.9763 1799.57,87.9763 1801.64,87.9763 1803.72,87.9763 1805.79,87.9763 1807.86,87.9763 1809.93,87.9763 1812,87.9763 1814.08,87.9763 1816.15,87.9763 1818.22,87.9763 1820.29,87.9763 1822.36,87.9763 1824.43,87.9763 1826.51,87.9763 1828.58,87.9763 1830.65,87.9763 1832.72,87.9763 1834.79,87.9763 1836.87,87.9763 1838.94,87.9763 1841.01,87.9763 1843.08,87.9763 1845.15,87.9763 1847.23,87.9763 1849.3,87.9763 1851.37,87.9763 1853.44,87.9763 1855.51,87.9763 1857.58,87.9763 1859.66,87.9763 1861.73,87.9763 1863.8,87.9763 1865.87,87.9763 1867.94,87.9763 1870.02,87.9763 1872.09,87.9763 1874.16,87.9763 1876.23,87.9763 1878.3,87.9763 1880.37,87.9763 1882.45,87.9763 1884.52,87.9763 1886.59,87.9763 1888.66,87.9763 1890.73,87.9763 1892.81,87.9763 1894.88,87.9763 1896.95,87.9763 1899.02,87.9763 1901.09,87.9763 1903.17,87.9763 1905.24,87.9763 1907.31,87.9763 1909.38,87.9763 1911.45,87.9763 1913.52,87.9763 1915.6,87.9763 1917.67,87.9763 1919.74,87.9763 1921.81,87.9763 1923.88,87.9763 1925.96,87.9763 1928.03,87.9763 1930.1,87.9763 1932.17,87.9763 1934.24,87.9763 1936.31,87.9763 1938.39,87.9763 1940.46,87.9763 1942.53,87.9763 1944.6,87.9763 1946.67,87.9763 1948.75,87.9763 1950.82,87.9763 1952.89,87.9763 1954.96,87.9763 1957.03,87.9763 1959.11,87.9763 1961.18,87.9763 1963.25,87.9763 1965.32,87.9763 1967.39,87.9763 1969.46,87.9763 1971.54,87.9763 1973.61,87.9763 1975.68,87.9763 1977.75,87.9763 1979.82,87.9763 1981.9,87.9763 1983.97,87.9763 1986.04,87.9763 1988.11,87.9763 1990.18,87.9763 1992.25,87.9763 1994.33,87.9763 1996.4,87.9763 1998.47,87.9763 2000.54,87.9763 2002.61,87.9763 2004.69,87.9763 2006.76,87.9763 2008.83,87.9763 2010.9,87.9763 2012.97,87.9763 2015.04,87.9763 2017.12,87.9763 2019.19,87.9763 2021.26,87.9763 2023.33,87.9763 2025.4,87.9763 2027.48,87.9763 2029.55,87.9763 2031.62,87.9763 2033.69,87.9763 2035.76,87.9763 2037.84,87.9763 2039.91,87.9763 2041.98,87.9763 2044.05,87.9763 2046.12,87.9763 2048.19,87.9763 2050.27,87.9763 2052.34,87.9763 2054.41,87.9763 2056.48,87.9763 2058.55,87.9763 2060.63,87.9763 2062.7,87.9763 2064.77,87.9763 2066.84,87.9763 2068.91,87.9763 2070.98,332.064 2073.06,332.064 2075.13,332.064 2077.2,332.064 2079.27,332.064 2081.34,332.064 2083.42,332.064 2085.49,332.064 2087.56,332.064 2089.63,621.919 2091.7,621.919 2093.78,621.919 2095.85,621.919 2097.92,621.919 2099.99,621.919 2102.06,896.518 2104.13,896.518 2106.21,896.518 2108.28,896.518 2110.35,896.518 2112.42,896.518 2114.49,896.518 2116.57,896.518 2118.64,896.518 2120.71,896.518 2122.78,896.518 2124.85,896.518 2126.92,896.518 2129,896.518 2131.07,896.518 2133.14,896.518 2135.21,896.518 2137.28,896.518 2139.36,896.518 2141.43,896.518 2143.5,896.518 2145.57,896.518 2147.64,1247.39 2149.71,1262.65 2151.79,1247.39 2153.86,1262.65 2155.93,1415.2 2158,1384.69 2160.07,1384.69 2162.15,1399.95 2164.22,1415.2 2166.29,1384.69 2168.36,1415.2 2170.43,1415.2 2172.51,1384.69 2174.58,1384.69 2176.65,1384.69 2178.72,1384.69 2180.79,1384.69 2182.86,1415.2 2184.94,1384.69 2187.01,1384.69 2189.08,1384.69 2191.15,1399.95 2193.22,1384.69 2195.3,1415.2 2197.37,1384.69 2199.44,1399.95 2201.51,1399.95 2203.58,1384.69 2205.65,1384.69 2207.73,1369.44 2209.8,1399.95 2211.87,1430.46 2213.94,1430.46 2216.01,1384.69 2218.09,1445.72 2220.16,1399.95 2222.23,1399.95 2224.3,1415.2 2226.37,1384.69 2228.45,1384.69 2230.52,1430.46 2232.59,1399.95 2234.66,1415.2 2236.73,1430.46 2238.8,1415.2 2240.88,1415.2 2242.95,1430.46 2245.02,1430.46 2247.09,1415.2 2249.16,1399.95 2251.24,1430.46 2253.31,1415.2 2255.38,1415.2 2257.45,1369.44 2259.52,1415.2 2261.59,1399.95 2263.67,1415.2 2265.74,1430.46 2267.81,1415.2 2269.88,1430.46 2271.95,1415.2 2274.03,1369.44 2276.1,1415.2 2278.17,1415.2 2280.24,1445.72 2282.31,1415.2 2284.38,1399.95 2286.46,1384.69 2288.53,1399.95 2290.6,1415.2 \"/>\n",
       "<path clip-path=\"url(#clip310)\" d=\"M229.803 1438.47 L501.85 1438.47 L501.85 1334.79 L229.803 1334.79  Z\" fill=\"#ffffff\" fill-rule=\"evenodd\" fill-opacity=\"1\"/>\n",
       "<polyline clip-path=\"url(#clip310)\" style=\"stroke:#000000; stroke-linecap:round; stroke-linejoin:round; stroke-width:4; stroke-opacity:1; fill:none\" points=\"229.803,1438.47 501.85,1438.47 501.85,1334.79 229.803,1334.79 229.803,1438.47 \"/>\n",
       "<polyline clip-path=\"url(#clip310)\" style=\"stroke:#009af9; stroke-linecap:round; stroke-linejoin:round; stroke-width:4; stroke-opacity:1; fill:none\" points=\"254.205,1386.63 400.616,1386.63 \"/>\n",
       "<path clip-path=\"url(#clip310)\" d=\"M438.86 1406.32 Q437.054 1410.95 435.342 1412.36 Q433.629 1413.78 430.758 1413.78 L427.355 1413.78 L427.355 1410.21 L429.855 1410.21 Q431.615 1410.21 432.587 1409.38 Q433.559 1408.54 434.74 1405.44 L435.504 1403.5 L425.018 1377.99 L429.531 1377.99 L437.633 1398.27 L445.735 1377.99 L450.249 1377.99 L438.86 1406.32 Z\" fill=\"#000000\" fill-rule=\"nonzero\" fill-opacity=\"1\" /><path clip-path=\"url(#clip310)\" d=\"M457.54 1399.98 L465.179 1399.98 L465.179 1373.61 L456.869 1375.28 L456.869 1371.02 L465.133 1369.35 L469.809 1369.35 L469.809 1399.98 L477.448 1399.98 L477.448 1403.91 L457.54 1403.91 L457.54 1399.98 Z\" fill=\"#000000\" fill-rule=\"nonzero\" fill-opacity=\"1\" /></svg>\n"
      ],
      "text/html": [
       "<?xml version=\"1.0\" encoding=\"utf-8\"?>\n",
       "<svg xmlns=\"http://www.w3.org/2000/svg\" xmlns:xlink=\"http://www.w3.org/1999/xlink\" width=\"600\" height=\"400\" viewBox=\"0 0 2400 1600\">\n",
       "<defs>\n",
       "  <clipPath id=\"clip360\">\n",
       "    <rect x=\"0\" y=\"0\" width=\"2400\" height=\"1600\"/>\n",
       "  </clipPath>\n",
       "</defs>\n",
       "<path clip-path=\"url(#clip360)\" d=\"M0 1600 L2400 1600 L2400 0 L0 0  Z\" fill=\"#ffffff\" fill-rule=\"evenodd\" fill-opacity=\"1\"/>\n",
       "<defs>\n",
       "  <clipPath id=\"clip361\">\n",
       "    <rect x=\"480\" y=\"0\" width=\"1681\" height=\"1600\"/>\n",
       "  </clipPath>\n",
       "</defs>\n",
       "<path clip-path=\"url(#clip360)\" d=\"M156.598 1486.45 L2352.76 1486.45 L2352.76 47.2441 L156.598 47.2441  Z\" fill=\"#ffffff\" fill-rule=\"evenodd\" fill-opacity=\"1\"/>\n",
       "<defs>\n",
       "  <clipPath id=\"clip362\">\n",
       "    <rect x=\"156\" y=\"47\" width=\"2197\" height=\"1440\"/>\n",
       "  </clipPath>\n",
       "</defs>\n",
       "<polyline clip-path=\"url(#clip362)\" style=\"stroke:#000000; stroke-linecap:round; stroke-linejoin:round; stroke-width:2; stroke-opacity:0.1; fill:none\" points=\"218.754,1486.45 218.754,47.2441 \"/>\n",
       "<polyline clip-path=\"url(#clip362)\" style=\"stroke:#000000; stroke-linecap:round; stroke-linejoin:round; stroke-width:2; stroke-opacity:0.1; fill:none\" points=\"736.715,1486.45 736.715,47.2441 \"/>\n",
       "<polyline clip-path=\"url(#clip362)\" style=\"stroke:#000000; stroke-linecap:round; stroke-linejoin:round; stroke-width:2; stroke-opacity:0.1; fill:none\" points=\"1254.68,1486.45 1254.68,47.2441 \"/>\n",
       "<polyline clip-path=\"url(#clip362)\" style=\"stroke:#000000; stroke-linecap:round; stroke-linejoin:round; stroke-width:2; stroke-opacity:0.1; fill:none\" points=\"1772.64,1486.45 1772.64,47.2441 \"/>\n",
       "<polyline clip-path=\"url(#clip362)\" style=\"stroke:#000000; stroke-linecap:round; stroke-linejoin:round; stroke-width:2; stroke-opacity:0.1; fill:none\" points=\"2290.6,1486.45 2290.6,47.2441 \"/>\n",
       "<polyline clip-path=\"url(#clip362)\" style=\"stroke:#000000; stroke-linecap:round; stroke-linejoin:round; stroke-width:2; stroke-opacity:0.1; fill:none\" points=\"156.598,1331.3 2352.76,1331.3 \"/>\n",
       "<polyline clip-path=\"url(#clip362)\" style=\"stroke:#000000; stroke-linecap:round; stroke-linejoin:round; stroke-width:2; stroke-opacity:0.1; fill:none\" points=\"156.598,1125.35 2352.76,1125.35 \"/>\n",
       "<polyline clip-path=\"url(#clip362)\" style=\"stroke:#000000; stroke-linecap:round; stroke-linejoin:round; stroke-width:2; stroke-opacity:0.1; fill:none\" points=\"156.598,919.401 2352.76,919.401 \"/>\n",
       "<polyline clip-path=\"url(#clip362)\" style=\"stroke:#000000; stroke-linecap:round; stroke-linejoin:round; stroke-width:2; stroke-opacity:0.1; fill:none\" points=\"156.598,713.452 2352.76,713.452 \"/>\n",
       "<polyline clip-path=\"url(#clip362)\" style=\"stroke:#000000; stroke-linecap:round; stroke-linejoin:round; stroke-width:2; stroke-opacity:0.1; fill:none\" points=\"156.598,507.503 2352.76,507.503 \"/>\n",
       "<polyline clip-path=\"url(#clip362)\" style=\"stroke:#000000; stroke-linecap:round; stroke-linejoin:round; stroke-width:2; stroke-opacity:0.1; fill:none\" points=\"156.598,301.553 2352.76,301.553 \"/>\n",
       "<polyline clip-path=\"url(#clip362)\" style=\"stroke:#000000; stroke-linecap:round; stroke-linejoin:round; stroke-width:2; stroke-opacity:0.1; fill:none\" points=\"156.598,95.604 2352.76,95.604 \"/>\n",
       "<polyline clip-path=\"url(#clip360)\" style=\"stroke:#000000; stroke-linecap:round; stroke-linejoin:round; stroke-width:4; stroke-opacity:1; fill:none\" points=\"156.598,1486.45 2352.76,1486.45 \"/>\n",
       "<polyline clip-path=\"url(#clip360)\" style=\"stroke:#000000; stroke-linecap:round; stroke-linejoin:round; stroke-width:4; stroke-opacity:1; fill:none\" points=\"218.754,1486.45 218.754,1467.55 \"/>\n",
       "<polyline clip-path=\"url(#clip360)\" style=\"stroke:#000000; stroke-linecap:round; stroke-linejoin:round; stroke-width:4; stroke-opacity:1; fill:none\" points=\"736.715,1486.45 736.715,1467.55 \"/>\n",
       "<polyline clip-path=\"url(#clip360)\" style=\"stroke:#000000; stroke-linecap:round; stroke-linejoin:round; stroke-width:4; stroke-opacity:1; fill:none\" points=\"1254.68,1486.45 1254.68,1467.55 \"/>\n",
       "<polyline clip-path=\"url(#clip360)\" style=\"stroke:#000000; stroke-linecap:round; stroke-linejoin:round; stroke-width:4; stroke-opacity:1; fill:none\" points=\"1772.64,1486.45 1772.64,1467.55 \"/>\n",
       "<polyline clip-path=\"url(#clip360)\" style=\"stroke:#000000; stroke-linecap:round; stroke-linejoin:round; stroke-width:4; stroke-opacity:1; fill:none\" points=\"2290.6,1486.45 2290.6,1467.55 \"/>\n",
       "<path clip-path=\"url(#clip360)\" d=\"M150.201 1532.02 L179.877 1532.02 L179.877 1535.95 L150.201 1535.95 L150.201 1532.02 Z\" fill=\"#000000\" fill-rule=\"nonzero\" fill-opacity=\"1\" /><path clip-path=\"url(#clip360)\" d=\"M190.779 1544.91 L198.418 1544.91 L198.418 1518.55 L190.108 1520.21 L190.108 1515.95 L198.372 1514.29 L203.048 1514.29 L203.048 1544.91 L210.687 1544.91 L210.687 1548.85 L190.779 1548.85 L190.779 1544.91 Z\" fill=\"#000000\" fill-rule=\"nonzero\" fill-opacity=\"1\" /><path clip-path=\"url(#clip360)\" d=\"M230.131 1517.37 Q226.52 1517.37 224.691 1520.93 Q222.886 1524.47 222.886 1531.6 Q222.886 1538.71 224.691 1542.27 Q226.52 1545.82 230.131 1545.82 Q233.765 1545.82 235.571 1542.27 Q237.399 1538.71 237.399 1531.6 Q237.399 1524.47 235.571 1520.93 Q233.765 1517.37 230.131 1517.37 M230.131 1513.66 Q235.941 1513.66 238.997 1518.27 Q242.075 1522.85 242.075 1531.6 Q242.075 1540.33 238.997 1544.94 Q235.941 1549.52 230.131 1549.52 Q224.321 1549.52 221.242 1544.94 Q218.187 1540.33 218.187 1531.6 Q218.187 1522.85 221.242 1518.27 Q224.321 1513.66 230.131 1513.66 Z\" fill=\"#000000\" fill-rule=\"nonzero\" fill-opacity=\"1\" /><path clip-path=\"url(#clip360)\" d=\"M250.293 1542.97 L255.177 1542.97 L255.177 1548.85 L250.293 1548.85 L250.293 1542.97 Z\" fill=\"#000000\" fill-rule=\"nonzero\" fill-opacity=\"1\" /><path clip-path=\"url(#clip360)\" d=\"M275.362 1517.37 Q271.751 1517.37 269.922 1520.93 Q268.117 1524.47 268.117 1531.6 Q268.117 1538.71 269.922 1542.27 Q271.751 1545.82 275.362 1545.82 Q278.996 1545.82 280.802 1542.27 Q282.631 1538.71 282.631 1531.6 Q282.631 1524.47 280.802 1520.93 Q278.996 1517.37 275.362 1517.37 M275.362 1513.66 Q281.172 1513.66 284.228 1518.27 Q287.307 1522.85 287.307 1531.6 Q287.307 1540.33 284.228 1544.94 Q281.172 1549.52 275.362 1549.52 Q269.552 1549.52 266.473 1544.94 Q263.418 1540.33 263.418 1531.6 Q263.418 1522.85 266.473 1518.27 Q269.552 1513.66 275.362 1513.66 Z\" fill=\"#000000\" fill-rule=\"nonzero\" fill-opacity=\"1\" /><path clip-path=\"url(#clip360)\" d=\"M683.741 1532.02 L713.417 1532.02 L713.417 1535.95 L683.741 1535.95 L683.741 1532.02 Z\" fill=\"#000000\" fill-rule=\"nonzero\" fill-opacity=\"1\" /><path clip-path=\"url(#clip360)\" d=\"M722.329 1514.29 L744.551 1514.29 L744.551 1516.28 L732.005 1548.85 L727.12 1548.85 L738.926 1518.22 L722.329 1518.22 L722.329 1514.29 Z\" fill=\"#000000\" fill-rule=\"nonzero\" fill-opacity=\"1\" /><path clip-path=\"url(#clip360)\" d=\"M753.671 1542.97 L758.556 1542.97 L758.556 1548.85 L753.671 1548.85 L753.671 1542.97 Z\" fill=\"#000000\" fill-rule=\"nonzero\" fill-opacity=\"1\" /><path clip-path=\"url(#clip360)\" d=\"M768.787 1514.29 L787.143 1514.29 L787.143 1518.22 L773.069 1518.22 L773.069 1526.7 Q774.088 1526.35 775.106 1526.19 Q776.125 1526 777.143 1526 Q782.93 1526 786.31 1529.17 Q789.69 1532.34 789.69 1537.76 Q789.69 1543.34 786.217 1546.44 Q782.745 1549.52 776.426 1549.52 Q774.25 1549.52 771.981 1549.15 Q769.736 1548.78 767.329 1548.04 L767.329 1543.34 Q769.412 1544.47 771.634 1545.03 Q773.856 1545.58 776.333 1545.58 Q780.338 1545.58 782.676 1543.48 Q785.014 1541.37 785.014 1537.76 Q785.014 1534.15 782.676 1532.04 Q780.338 1529.94 776.333 1529.94 Q774.458 1529.94 772.583 1530.35 Q770.731 1530.77 768.787 1531.65 L768.787 1514.29 Z\" fill=\"#000000\" fill-rule=\"nonzero\" fill-opacity=\"1\" /><path clip-path=\"url(#clip360)\" d=\"M1201.21 1532.02 L1230.88 1532.02 L1230.88 1535.95 L1201.21 1535.95 L1201.21 1532.02 Z\" fill=\"#000000\" fill-rule=\"nonzero\" fill-opacity=\"1\" /><path clip-path=\"url(#clip360)\" d=\"M1241.02 1514.29 L1259.38 1514.29 L1259.38 1518.22 L1245.3 1518.22 L1245.3 1526.7 Q1246.32 1526.35 1247.34 1526.19 Q1248.36 1526 1249.38 1526 Q1255.16 1526 1258.54 1529.17 Q1261.92 1532.34 1261.92 1537.76 Q1261.92 1543.34 1258.45 1546.44 Q1254.98 1549.52 1248.66 1549.52 Q1246.48 1549.52 1244.21 1549.15 Q1241.97 1548.78 1239.56 1548.04 L1239.56 1543.34 Q1241.64 1544.47 1243.87 1545.03 Q1246.09 1545.58 1248.57 1545.58 Q1252.57 1545.58 1254.91 1543.48 Q1257.25 1541.37 1257.25 1537.76 Q1257.25 1534.15 1254.91 1532.04 Q1252.57 1529.94 1248.57 1529.94 Q1246.69 1529.94 1244.82 1530.35 Q1242.96 1530.77 1241.02 1531.65 L1241.02 1514.29 Z\" fill=\"#000000\" fill-rule=\"nonzero\" fill-opacity=\"1\" /><path clip-path=\"url(#clip360)\" d=\"M1271.14 1542.97 L1276.02 1542.97 L1276.02 1548.85 L1271.14 1548.85 L1271.14 1542.97 Z\" fill=\"#000000\" fill-rule=\"nonzero\" fill-opacity=\"1\" /><path clip-path=\"url(#clip360)\" d=\"M1296.2 1517.37 Q1292.59 1517.37 1290.76 1520.93 Q1288.96 1524.47 1288.96 1531.6 Q1288.96 1538.71 1290.76 1542.27 Q1292.59 1545.82 1296.2 1545.82 Q1299.84 1545.82 1301.64 1542.27 Q1303.47 1538.71 1303.47 1531.6 Q1303.47 1524.47 1301.64 1520.93 Q1299.84 1517.37 1296.2 1517.37 M1296.2 1513.66 Q1302.01 1513.66 1305.07 1518.27 Q1308.15 1522.85 1308.15 1531.6 Q1308.15 1540.33 1305.07 1544.94 Q1302.01 1549.52 1296.2 1549.52 Q1290.39 1549.52 1287.32 1544.94 Q1284.26 1540.33 1284.26 1531.6 Q1284.26 1522.85 1287.32 1518.27 Q1290.39 1513.66 1296.2 1513.66 Z\" fill=\"#000000\" fill-rule=\"nonzero\" fill-opacity=\"1\" /><path clip-path=\"url(#clip360)\" d=\"M1719.66 1532.02 L1749.34 1532.02 L1749.34 1535.95 L1719.66 1535.95 L1719.66 1532.02 Z\" fill=\"#000000\" fill-rule=\"nonzero\" fill-opacity=\"1\" /><path clip-path=\"url(#clip360)\" d=\"M1763.46 1544.91 L1779.78 1544.91 L1779.78 1548.85 L1757.84 1548.85 L1757.84 1544.91 Q1760.5 1542.16 1765.08 1537.53 Q1769.69 1532.88 1770.87 1531.53 Q1773.11 1529.01 1773.99 1527.27 Q1774.9 1525.51 1774.9 1523.82 Q1774.9 1521.07 1772.95 1519.33 Q1771.03 1517.6 1767.93 1517.6 Q1765.73 1517.6 1763.28 1518.36 Q1760.84 1519.13 1758.07 1520.68 L1758.07 1515.95 Q1760.89 1514.82 1763.34 1514.24 Q1765.8 1513.66 1767.84 1513.66 Q1773.21 1513.66 1776.4 1516.35 Q1779.59 1519.03 1779.59 1523.52 Q1779.59 1525.65 1778.78 1527.57 Q1778 1529.47 1775.89 1532.07 Q1775.31 1532.74 1772.21 1535.95 Q1769.11 1539.15 1763.46 1544.91 Z\" fill=\"#000000\" fill-rule=\"nonzero\" fill-opacity=\"1\" /><path clip-path=\"url(#clip360)\" d=\"M1789.59 1542.97 L1794.48 1542.97 L1794.48 1548.85 L1789.59 1548.85 L1789.59 1542.97 Z\" fill=\"#000000\" fill-rule=\"nonzero\" fill-opacity=\"1\" /><path clip-path=\"url(#clip360)\" d=\"M1804.71 1514.29 L1823.07 1514.29 L1823.07 1518.22 L1808.99 1518.22 L1808.99 1526.7 Q1810.01 1526.35 1811.03 1526.19 Q1812.05 1526 1813.07 1526 Q1818.85 1526 1822.23 1529.17 Q1825.61 1532.34 1825.61 1537.76 Q1825.61 1543.34 1822.14 1546.44 Q1818.67 1549.52 1812.35 1549.52 Q1810.17 1549.52 1807.9 1549.15 Q1805.66 1548.78 1803.25 1548.04 L1803.25 1543.34 Q1805.34 1544.47 1807.56 1545.03 Q1809.78 1545.58 1812.26 1545.58 Q1816.26 1545.58 1818.6 1543.48 Q1820.94 1541.37 1820.94 1537.76 Q1820.94 1534.15 1818.6 1532.04 Q1816.26 1529.94 1812.26 1529.94 Q1810.38 1529.94 1808.51 1530.35 Q1806.65 1530.77 1804.71 1531.65 L1804.71 1514.29 Z\" fill=\"#000000\" fill-rule=\"nonzero\" fill-opacity=\"1\" /><path clip-path=\"url(#clip360)\" d=\"M2267.98 1517.37 Q2264.37 1517.37 2262.55 1520.93 Q2260.74 1524.47 2260.74 1531.6 Q2260.74 1538.71 2262.55 1542.27 Q2264.37 1545.82 2267.98 1545.82 Q2271.62 1545.82 2273.42 1542.27 Q2275.25 1538.71 2275.25 1531.6 Q2275.25 1524.47 2273.42 1520.93 Q2271.62 1517.37 2267.98 1517.37 M2267.98 1513.66 Q2273.8 1513.66 2276.85 1518.27 Q2279.93 1522.85 2279.93 1531.6 Q2279.93 1540.33 2276.85 1544.94 Q2273.8 1549.52 2267.98 1549.52 Q2262.17 1549.52 2259.1 1544.94 Q2256.04 1540.33 2256.04 1531.6 Q2256.04 1522.85 2259.1 1518.27 Q2262.17 1513.66 2267.98 1513.66 Z\" fill=\"#000000\" fill-rule=\"nonzero\" fill-opacity=\"1\" /><path clip-path=\"url(#clip360)\" d=\"M2288.15 1542.97 L2293.03 1542.97 L2293.03 1548.85 L2288.15 1548.85 L2288.15 1542.97 Z\" fill=\"#000000\" fill-rule=\"nonzero\" fill-opacity=\"1\" /><path clip-path=\"url(#clip360)\" d=\"M2313.22 1517.37 Q2309.61 1517.37 2307.78 1520.93 Q2305.97 1524.47 2305.97 1531.6 Q2305.97 1538.71 2307.78 1542.27 Q2309.61 1545.82 2313.22 1545.82 Q2316.85 1545.82 2318.66 1542.27 Q2320.48 1538.71 2320.48 1531.6 Q2320.48 1524.47 2318.66 1520.93 Q2316.85 1517.37 2313.22 1517.37 M2313.22 1513.66 Q2319.03 1513.66 2322.08 1518.27 Q2325.16 1522.85 2325.16 1531.6 Q2325.16 1540.33 2322.08 1544.94 Q2319.03 1549.52 2313.22 1549.52 Q2307.41 1549.52 2304.33 1544.94 Q2301.27 1540.33 2301.27 1531.6 Q2301.27 1522.85 2304.33 1518.27 Q2307.41 1513.66 2313.22 1513.66 Z\" fill=\"#000000\" fill-rule=\"nonzero\" fill-opacity=\"1\" /><polyline clip-path=\"url(#clip360)\" style=\"stroke:#000000; stroke-linecap:round; stroke-linejoin:round; stroke-width:4; stroke-opacity:1; fill:none\" points=\"156.598,1486.45 156.598,47.2441 \"/>\n",
       "<polyline clip-path=\"url(#clip360)\" style=\"stroke:#000000; stroke-linecap:round; stroke-linejoin:round; stroke-width:4; stroke-opacity:1; fill:none\" points=\"156.598,1331.3 175.496,1331.3 \"/>\n",
       "<polyline clip-path=\"url(#clip360)\" style=\"stroke:#000000; stroke-linecap:round; stroke-linejoin:round; stroke-width:4; stroke-opacity:1; fill:none\" points=\"156.598,1125.35 175.496,1125.35 \"/>\n",
       "<polyline clip-path=\"url(#clip360)\" style=\"stroke:#000000; stroke-linecap:round; stroke-linejoin:round; stroke-width:4; stroke-opacity:1; fill:none\" points=\"156.598,919.401 175.496,919.401 \"/>\n",
       "<polyline clip-path=\"url(#clip360)\" style=\"stroke:#000000; stroke-linecap:round; stroke-linejoin:round; stroke-width:4; stroke-opacity:1; fill:none\" points=\"156.598,713.452 175.496,713.452 \"/>\n",
       "<polyline clip-path=\"url(#clip360)\" style=\"stroke:#000000; stroke-linecap:round; stroke-linejoin:round; stroke-width:4; stroke-opacity:1; fill:none\" points=\"156.598,507.503 175.496,507.503 \"/>\n",
       "<polyline clip-path=\"url(#clip360)\" style=\"stroke:#000000; stroke-linecap:round; stroke-linejoin:round; stroke-width:4; stroke-opacity:1; fill:none\" points=\"156.598,301.553 175.496,301.553 \"/>\n",
       "<polyline clip-path=\"url(#clip360)\" style=\"stroke:#000000; stroke-linecap:round; stroke-linejoin:round; stroke-width:4; stroke-opacity:1; fill:none\" points=\"156.598,95.604 175.496,95.604 \"/>\n",
       "<path clip-path=\"url(#clip360)\" d=\"M64.6495 1317.1 Q61.0384 1317.1 59.2097 1320.66 Q57.4041 1324.2 57.4041 1331.33 Q57.4041 1338.44 59.2097 1342.01 Q61.0384 1345.55 64.6495 1345.55 Q68.2837 1345.55 70.0892 1342.01 Q71.9179 1338.44 71.9179 1331.33 Q71.9179 1324.2 70.0892 1320.66 Q68.2837 1317.1 64.6495 1317.1 M64.6495 1313.39 Q70.4596 1313.39 73.5152 1318 Q76.5938 1322.58 76.5938 1331.33 Q76.5938 1340.06 73.5152 1344.67 Q70.4596 1349.25 64.6495 1349.25 Q58.8393 1349.25 55.7606 1344.67 Q52.7051 1340.06 52.7051 1331.33 Q52.7051 1322.58 55.7606 1318 Q58.8393 1313.39 64.6495 1313.39 Z\" fill=\"#000000\" fill-rule=\"nonzero\" fill-opacity=\"1\" /><path clip-path=\"url(#clip360)\" d=\"M84.8114 1342.7 L89.6956 1342.7 L89.6956 1348.58 L84.8114 1348.58 L84.8114 1342.7 Z\" fill=\"#000000\" fill-rule=\"nonzero\" fill-opacity=\"1\" /><path clip-path=\"url(#clip360)\" d=\"M100.691 1344.64 L108.33 1344.64 L108.33 1318.28 L100.02 1319.95 L100.02 1315.69 L108.283 1314.02 L112.959 1314.02 L112.959 1344.64 L120.598 1344.64 L120.598 1348.58 L100.691 1348.58 L100.691 1344.64 Z\" fill=\"#000000\" fill-rule=\"nonzero\" fill-opacity=\"1\" /><path clip-path=\"url(#clip360)\" d=\"M65.0198 1111.15 Q61.4087 1111.15 59.58 1114.71 Q57.7745 1118.26 57.7745 1125.38 Q57.7745 1132.49 59.58 1136.06 Q61.4087 1139.6 65.0198 1139.6 Q68.6541 1139.6 70.4596 1136.06 Q72.2883 1132.49 72.2883 1125.38 Q72.2883 1118.26 70.4596 1114.71 Q68.6541 1111.15 65.0198 1111.15 M65.0198 1107.45 Q70.83 1107.45 73.8855 1112.05 Q76.9642 1116.63 76.9642 1125.38 Q76.9642 1134.11 73.8855 1138.72 Q70.83 1143.3 65.0198 1143.3 Q59.2097 1143.3 56.131 1138.72 Q53.0754 1134.11 53.0754 1125.38 Q53.0754 1116.63 56.131 1112.05 Q59.2097 1107.45 65.0198 1107.45 Z\" fill=\"#000000\" fill-rule=\"nonzero\" fill-opacity=\"1\" /><path clip-path=\"url(#clip360)\" d=\"M85.1818 1136.75 L90.066 1136.75 L90.066 1142.63 L85.1818 1142.63 L85.1818 1136.75 Z\" fill=\"#000000\" fill-rule=\"nonzero\" fill-opacity=\"1\" /><path clip-path=\"url(#clip360)\" d=\"M104.279 1138.7 L120.598 1138.7 L120.598 1142.63 L98.6539 1142.63 L98.6539 1138.7 Q101.316 1135.94 105.899 1131.31 Q110.506 1126.66 111.686 1125.32 Q113.932 1122.79 114.811 1121.06 Q115.714 1119.3 115.714 1117.61 Q115.714 1114.85 113.77 1113.12 Q111.848 1111.38 108.746 1111.38 Q106.547 1111.38 104.094 1112.14 Q101.663 1112.91 98.8854 1114.46 L98.8854 1109.74 Q101.709 1108.6 104.163 1108.02 Q106.617 1107.45 108.654 1107.45 Q114.024 1107.45 117.219 1110.13 Q120.413 1112.82 120.413 1117.31 Q120.413 1119.44 119.603 1121.36 Q118.816 1123.26 116.709 1125.85 Q116.131 1126.52 113.029 1129.74 Q109.927 1132.93 104.279 1138.7 Z\" fill=\"#000000\" fill-rule=\"nonzero\" fill-opacity=\"1\" /><path clip-path=\"url(#clip360)\" d=\"M64.0708 905.2 Q60.4597 905.2 58.631 908.764 Q56.8254 912.306 56.8254 919.436 Q56.8254 926.542 58.631 930.107 Q60.4597 933.649 64.0708 933.649 Q67.705 933.649 69.5105 930.107 Q71.3392 926.542 71.3392 919.436 Q71.3392 912.306 69.5105 908.764 Q67.705 905.2 64.0708 905.2 M64.0708 901.496 Q69.8809 901.496 72.9365 906.102 Q76.0151 910.686 76.0151 919.436 Q76.0151 928.163 72.9365 932.769 Q69.8809 937.352 64.0708 937.352 Q58.2606 937.352 55.1819 932.769 Q52.1264 928.163 52.1264 919.436 Q52.1264 910.686 55.1819 906.102 Q58.2606 901.496 64.0708 901.496 Z\" fill=\"#000000\" fill-rule=\"nonzero\" fill-opacity=\"1\" /><path clip-path=\"url(#clip360)\" d=\"M84.2327 930.801 L89.1169 930.801 L89.1169 936.681 L84.2327 936.681 L84.2327 930.801 Z\" fill=\"#000000\" fill-rule=\"nonzero\" fill-opacity=\"1\" /><path clip-path=\"url(#clip360)\" d=\"M113.469 918.047 Q116.825 918.764 118.7 921.033 Q120.598 923.301 120.598 926.635 Q120.598 931.75 117.08 934.551 Q113.561 937.352 107.08 937.352 Q104.904 937.352 102.589 936.912 Q100.297 936.496 97.8437 935.639 L97.8437 931.125 Q99.7882 932.26 102.103 932.838 Q104.418 933.417 106.941 933.417 Q111.339 933.417 113.631 931.681 Q115.945 929.945 115.945 926.635 Q115.945 923.579 113.793 921.866 Q111.663 920.13 107.844 920.13 L103.816 920.13 L103.816 916.288 L108.029 916.288 Q111.478 916.288 113.307 914.922 Q115.135 913.533 115.135 910.94 Q115.135 908.278 113.237 906.866 Q111.362 905.431 107.844 905.431 Q105.922 905.431 103.723 905.848 Q101.524 906.264 98.8854 907.144 L98.8854 902.977 Q101.547 902.237 103.862 901.866 Q106.2 901.496 108.26 901.496 Q113.584 901.496 116.686 903.927 Q119.788 906.334 119.788 910.454 Q119.788 913.325 118.145 915.315 Q116.501 917.283 113.469 918.047 Z\" fill=\"#000000\" fill-rule=\"nonzero\" fill-opacity=\"1\" /><path clip-path=\"url(#clip360)\" d=\"M62.9365 699.25 Q59.3254 699.25 57.4967 702.815 Q55.6912 706.357 55.6912 713.486 Q55.6912 720.593 57.4967 724.158 Q59.3254 727.699 62.9365 727.699 Q66.5707 727.699 68.3763 724.158 Q70.205 720.593 70.205 713.486 Q70.205 706.357 68.3763 702.815 Q66.5707 699.25 62.9365 699.25 M62.9365 695.547 Q68.7467 695.547 71.8022 700.153 Q74.8809 704.737 74.8809 713.486 Q74.8809 722.213 71.8022 726.82 Q68.7467 731.403 62.9365 731.403 Q57.1264 731.403 54.0477 726.82 Q50.9921 722.213 50.9921 713.486 Q50.9921 704.737 54.0477 700.153 Q57.1264 695.547 62.9365 695.547 Z\" fill=\"#000000\" fill-rule=\"nonzero\" fill-opacity=\"1\" /><path clip-path=\"url(#clip360)\" d=\"M83.0984 724.852 L87.9827 724.852 L87.9827 730.732 L83.0984 730.732 L83.0984 724.852 Z\" fill=\"#000000\" fill-rule=\"nonzero\" fill-opacity=\"1\" /><path clip-path=\"url(#clip360)\" d=\"M111.015 700.246 L99.2095 718.695 L111.015 718.695 L111.015 700.246 M109.788 696.172 L115.668 696.172 L115.668 718.695 L120.598 718.695 L120.598 722.584 L115.668 722.584 L115.668 730.732 L111.015 730.732 L111.015 722.584 L95.4132 722.584 L95.4132 718.07 L109.788 696.172 Z\" fill=\"#000000\" fill-rule=\"nonzero\" fill-opacity=\"1\" /><path clip-path=\"url(#clip360)\" d=\"M64.418 493.301 Q60.8069 493.301 58.9782 496.866 Q57.1726 500.408 57.1726 507.537 Q57.1726 514.644 58.9782 518.208 Q60.8069 521.75 64.418 521.75 Q68.0522 521.75 69.8578 518.208 Q71.6865 514.644 71.6865 507.537 Q71.6865 500.408 69.8578 496.866 Q68.0522 493.301 64.418 493.301 M64.418 489.598 Q70.2281 489.598 73.2837 494.204 Q76.3624 498.787 76.3624 507.537 Q76.3624 516.264 73.2837 520.87 Q70.2281 525.454 64.418 525.454 Q58.6078 525.454 55.5291 520.87 Q52.4736 516.264 52.4736 507.537 Q52.4736 498.787 55.5291 494.204 Q58.6078 489.598 64.418 489.598 Z\" fill=\"#000000\" fill-rule=\"nonzero\" fill-opacity=\"1\" /><path clip-path=\"url(#clip360)\" d=\"M84.5799 518.903 L89.4641 518.903 L89.4641 524.783 L84.5799 524.783 L84.5799 518.903 Z\" fill=\"#000000\" fill-rule=\"nonzero\" fill-opacity=\"1\" /><path clip-path=\"url(#clip360)\" d=\"M99.6956 490.223 L118.052 490.223 L118.052 494.158 L103.978 494.158 L103.978 502.63 Q104.996 502.283 106.015 502.121 Q107.033 501.935 108.052 501.935 Q113.839 501.935 117.219 505.107 Q120.598 508.278 120.598 513.695 Q120.598 519.273 117.126 522.375 Q113.654 525.454 107.334 525.454 Q105.159 525.454 102.89 525.083 Q100.645 524.713 98.2372 523.972 L98.2372 519.273 Q100.321 520.408 102.543 520.963 Q104.765 521.519 107.242 521.519 Q111.246 521.519 113.584 519.412 Q115.922 517.306 115.922 513.695 Q115.922 510.084 113.584 507.977 Q111.246 505.871 107.242 505.871 Q105.367 505.871 103.492 506.287 Q101.64 506.704 99.6956 507.584 L99.6956 490.223 Z\" fill=\"#000000\" fill-rule=\"nonzero\" fill-opacity=\"1\" /><path clip-path=\"url(#clip360)\" d=\"M63.2606 287.352 Q59.6495 287.352 57.8208 290.917 Q56.0152 294.458 56.0152 301.588 Q56.0152 308.694 57.8208 312.259 Q59.6495 315.801 63.2606 315.801 Q66.8948 315.801 68.7004 312.259 Q70.5291 308.694 70.5291 301.588 Q70.5291 294.458 68.7004 290.917 Q66.8948 287.352 63.2606 287.352 M63.2606 283.648 Q69.0707 283.648 72.1263 288.255 Q75.205 292.838 75.205 301.588 Q75.205 310.315 72.1263 314.921 Q69.0707 319.505 63.2606 319.505 Q57.4504 319.505 54.3717 314.921 Q51.3162 310.315 51.3162 301.588 Q51.3162 292.838 54.3717 288.255 Q57.4504 283.648 63.2606 283.648 Z\" fill=\"#000000\" fill-rule=\"nonzero\" fill-opacity=\"1\" /><path clip-path=\"url(#clip360)\" d=\"M83.4225 312.954 L88.3067 312.954 L88.3067 318.833 L83.4225 318.833 L83.4225 312.954 Z\" fill=\"#000000\" fill-rule=\"nonzero\" fill-opacity=\"1\" /><path clip-path=\"url(#clip360)\" d=\"M109.071 299.69 Q105.922 299.69 104.071 301.843 Q102.242 303.995 102.242 307.745 Q102.242 311.472 104.071 313.648 Q105.922 315.801 109.071 315.801 Q112.219 315.801 114.047 313.648 Q115.899 311.472 115.899 307.745 Q115.899 303.995 114.047 301.843 Q112.219 299.69 109.071 299.69 M118.353 285.037 L118.353 289.296 Q116.594 288.463 114.788 288.023 Q113.006 287.583 111.246 287.583 Q106.617 287.583 104.163 290.708 Q101.733 293.833 101.385 300.153 Q102.751 298.139 104.811 297.074 Q106.871 295.986 109.348 295.986 Q114.557 295.986 117.566 299.157 Q120.598 302.306 120.598 307.745 Q120.598 313.069 117.45 316.287 Q114.302 319.505 109.071 319.505 Q103.075 319.505 99.9039 314.921 Q96.7326 310.315 96.7326 301.588 Q96.7326 293.394 100.621 288.532 Q104.51 283.648 111.061 283.648 Q112.82 283.648 114.603 283.995 Q116.408 284.343 118.353 285.037 Z\" fill=\"#000000\" fill-rule=\"nonzero\" fill-opacity=\"1\" /><path clip-path=\"url(#clip360)\" d=\"M64.3254 81.4027 Q60.7143 81.4027 58.8856 84.9675 Q57.0801 88.5092 57.0801 95.6387 Q57.0801 102.745 58.8856 106.31 Q60.7143 109.852 64.3254 109.852 Q67.9596 109.852 69.7652 106.31 Q71.5939 102.745 71.5939 95.6387 Q71.5939 88.5092 69.7652 84.9675 Q67.9596 81.4027 64.3254 81.4027 M64.3254 77.699 Q70.1355 77.699 73.1911 82.3055 Q76.2698 86.8888 76.2698 95.6387 Q76.2698 104.366 73.1911 108.972 Q70.1355 113.555 64.3254 113.555 Q58.5152 113.555 55.4365 108.972 Q52.381 104.366 52.381 95.6387 Q52.381 86.8888 55.4365 82.3055 Q58.5152 77.699 64.3254 77.699 Z\" fill=\"#000000\" fill-rule=\"nonzero\" fill-opacity=\"1\" /><path clip-path=\"url(#clip360)\" d=\"M84.4873 107.004 L89.3715 107.004 L89.3715 112.884 L84.4873 112.884 L84.4873 107.004 Z\" fill=\"#000000\" fill-rule=\"nonzero\" fill-opacity=\"1\" /><path clip-path=\"url(#clip360)\" d=\"M98.3761 78.324 L120.598 78.324 L120.598 80.3148 L108.052 112.884 L103.168 112.884 L114.973 82.2592 L98.3761 82.2592 L98.3761 78.324 Z\" fill=\"#000000\" fill-rule=\"nonzero\" fill-opacity=\"1\" /><polyline clip-path=\"url(#clip362)\" style=\"stroke:#009af9; stroke-linecap:round; stroke-linejoin:round; stroke-width:4; stroke-opacity:1; fill:none\" points=\"218.754,87.9763 220.825,87.9763 222.897,87.9763 224.969,87.9763 227.041,87.9763 229.113,87.9763 231.185,87.9763 233.257,87.9763 235.328,87.9763 237.4,87.9763 239.472,87.9763 241.544,87.9763 243.616,87.9763 245.688,87.9763 247.759,87.9763 249.831,87.9763 251.903,87.9763 253.975,87.9763 256.047,87.9763 258.119,87.9763 260.191,87.9763 262.262,87.9763 264.334,87.9763 266.406,87.9763 268.478,87.9763 270.55,87.9763 272.622,87.9763 274.694,87.9763 276.765,87.9763 278.837,87.9763 280.909,87.9763 282.981,87.9763 285.053,87.9763 287.125,87.9763 289.196,87.9763 291.268,87.9763 293.34,87.9763 295.412,87.9763 297.484,87.9763 299.556,87.9763 301.628,87.9763 303.699,87.9763 305.771,87.9763 307.843,87.9763 309.915,87.9763 311.987,87.9763 314.059,87.9763 316.13,87.9763 318.202,87.9763 320.274,87.9763 322.346,87.9763 324.418,87.9763 326.49,87.9763 328.562,87.9763 330.633,87.9763 332.705,87.9763 334.777,87.9763 336.849,87.9763 338.921,87.9763 340.993,87.9763 343.064,87.9763 345.136,87.9763 347.208,87.9763 349.28,87.9763 351.352,87.9763 353.424,87.9763 355.496,87.9763 357.567,87.9763 359.639,87.9763 361.711,87.9763 363.783,87.9763 365.855,87.9763 367.927,87.9763 369.998,87.9763 372.07,87.9763 374.142,87.9763 376.214,87.9763 378.286,87.9763 380.358,87.9763 382.43,87.9763 384.501,87.9763 386.573,87.9763 388.645,87.9763 390.717,87.9763 392.789,87.9763 394.861,87.9763 396.932,87.9763 399.004,87.9763 401.076,87.9763 403.148,87.9763 405.22,87.9763 407.292,87.9763 409.364,87.9763 411.435,87.9763 413.507,87.9763 415.579,87.9763 417.651,87.9763 419.723,87.9763 421.795,87.9763 423.866,87.9763 425.938,87.9763 428.01,87.9763 430.082,87.9763 432.154,87.9763 434.226,87.9763 436.298,87.9763 438.369,87.9763 440.441,87.9763 442.513,87.9763 444.585,87.9763 446.657,87.9763 448.729,87.9763 450.8,87.9763 452.872,87.9763 454.944,87.9763 457.016,87.9763 459.088,87.9763 461.16,87.9763 463.232,87.9763 465.303,87.9763 467.375,87.9763 469.447,87.9763 471.519,87.9763 473.591,87.9763 475.663,87.9763 477.734,87.9763 479.806,87.9763 481.878,87.9763 483.95,87.9763 486.022,87.9763 488.094,87.9763 490.166,87.9763 492.237,87.9763 494.309,87.9763 496.381,87.9763 498.453,87.9763 500.525,87.9763 502.597,87.9763 504.669,87.9763 506.74,87.9763 508.812,87.9763 510.884,87.9763 512.956,87.9763 515.028,87.9763 517.1,87.9763 519.171,87.9763 521.243,87.9763 523.315,87.9763 525.387,87.9763 527.459,87.9763 529.531,87.9763 531.603,87.9763 533.674,87.9763 535.746,87.9763 537.818,87.9763 539.89,87.9763 541.962,87.9763 544.034,87.9763 546.105,87.9763 548.177,87.9763 550.249,87.9763 552.321,87.9763 554.393,87.9763 556.465,87.9763 558.537,87.9763 560.608,87.9763 562.68,87.9763 564.752,87.9763 566.824,87.9763 568.896,87.9763 570.968,87.9763 573.039,87.9763 575.111,87.9763 577.183,87.9763 579.255,87.9763 581.327,87.9763 583.399,87.9763 585.471,87.9763 587.542,87.9763 589.614,87.9763 591.686,87.9763 593.758,87.9763 595.83,87.9763 597.902,87.9763 599.973,87.9763 602.045,87.9763 604.117,87.9763 606.189,87.9763 608.261,87.9763 610.333,87.9763 612.405,87.9763 614.476,87.9763 616.548,87.9763 618.62,87.9763 620.692,87.9763 622.764,87.9763 624.836,87.9763 626.907,87.9763 628.979,87.9763 631.051,87.9763 633.123,87.9763 635.195,87.9763 637.267,87.9763 639.339,87.9763 641.41,87.9763 643.482,87.9763 645.554,87.9763 647.626,87.9763 649.698,87.9763 651.77,87.9763 653.841,87.9763 655.913,87.9763 657.985,87.9763 660.057,87.9763 662.129,87.9763 664.201,87.9763 666.273,87.9763 668.344,87.9763 670.416,87.9763 672.488,87.9763 674.56,87.9763 676.632,87.9763 678.704,87.9763 680.775,87.9763 682.847,87.9763 684.919,87.9763 686.991,87.9763 689.063,87.9763 691.135,87.9763 693.207,87.9763 695.278,87.9763 697.35,87.9763 699.422,87.9763 701.494,87.9763 703.566,87.9763 705.638,87.9763 707.709,87.9763 709.781,87.9763 711.853,87.9763 713.925,87.9763 715.997,87.9763 718.069,87.9763 720.141,87.9763 722.212,87.9763 724.284,87.9763 726.356,87.9763 728.428,87.9763 730.5,87.9763 732.572,87.9763 734.644,87.9763 736.715,87.9763 738.787,87.9763 740.859,87.9763 742.931,87.9763 745.003,87.9763 747.075,87.9763 749.146,87.9763 751.218,87.9763 753.29,87.9763 755.362,87.9763 757.434,87.9763 759.506,87.9763 761.578,87.9763 763.649,87.9763 765.721,87.9763 767.793,87.9763 769.865,87.9763 771.937,87.9763 774.009,87.9763 776.08,87.9763 778.152,87.9763 780.224,87.9763 782.296,87.9763 784.368,87.9763 786.44,87.9763 788.512,87.9763 790.583,87.9763 792.655,87.9763 794.727,87.9763 796.799,87.9763 798.871,87.9763 800.943,87.9763 803.014,87.9763 805.086,87.9763 807.158,87.9763 809.23,87.9763 811.302,87.9763 813.374,87.9763 815.446,87.9763 817.517,87.9763 819.589,87.9763 821.661,87.9763 823.733,87.9763 825.805,87.9763 827.877,87.9763 829.948,87.9763 832.02,87.9763 834.092,87.9763 836.164,87.9763 838.236,87.9763 840.308,87.9763 842.38,87.9763 844.451,87.9763 846.523,87.9763 848.595,87.9763 850.667,87.9763 852.739,87.9763 854.811,87.9763 856.882,87.9763 858.954,87.9763 861.026,87.9763 863.098,87.9763 865.17,87.9763 867.242,87.9763 869.314,87.9763 871.385,87.9763 873.457,87.9763 875.529,87.9763 877.601,87.9763 879.673,87.9763 881.745,87.9763 883.816,87.9763 885.888,87.9763 887.96,87.9763 890.032,87.9763 892.104,87.9763 894.176,87.9763 896.248,87.9763 898.319,87.9763 900.391,87.9763 902.463,87.9763 904.535,87.9763 906.607,87.9763 908.679,87.9763 910.75,87.9763 912.822,87.9763 914.894,87.9763 916.966,87.9763 919.038,87.9763 921.11,87.9763 923.182,87.9763 925.253,87.9763 927.325,87.9763 929.397,87.9763 931.469,87.9763 933.541,87.9763 935.613,87.9763 937.685,87.9763 939.756,87.9763 941.828,87.9763 943.9,87.9763 945.972,87.9763 948.044,87.9763 950.116,87.9763 952.187,87.9763 954.259,87.9763 956.331,87.9763 958.403,87.9763 960.475,87.9763 962.547,87.9763 964.619,87.9763 966.69,87.9763 968.762,87.9763 970.834,87.9763 972.906,87.9763 974.978,87.9763 977.05,87.9763 979.121,87.9763 981.193,87.9763 983.265,87.9763 985.337,87.9763 987.409,87.9763 989.481,87.9763 991.553,87.9763 993.624,87.9763 995.696,87.9763 997.768,87.9763 999.84,87.9763 1001.91,87.9763 1003.98,87.9763 1006.06,87.9763 1008.13,87.9763 1010.2,87.9763 1012.27,87.9763 1014.34,87.9763 1016.41,87.9763 1018.49,87.9763 1020.56,87.9763 1022.63,87.9763 1024.7,87.9763 1026.77,87.9763 1028.85,87.9763 1030.92,87.9763 1032.99,87.9763 1035.06,87.9763 1037.13,87.9763 1039.2,87.9763 1041.28,87.9763 1043.35,87.9763 1045.42,87.9763 1047.49,87.9763 1049.56,87.9763 1051.64,87.9763 1053.71,87.9763 1055.78,87.9763 1057.85,87.9763 1059.92,87.9763 1062,87.9763 1064.07,87.9763 1066.14,87.9763 1068.21,87.9763 1070.28,87.9763 1072.35,87.9763 1074.43,87.9763 1076.5,87.9763 1078.57,87.9763 1080.64,87.9763 1082.71,87.9763 1084.79,87.9763 1086.86,87.9763 1088.93,87.9763 1091,87.9763 1093.07,87.9763 1095.14,87.9763 1097.22,87.9763 1099.29,87.9763 1101.36,87.9763 1103.43,87.9763 1105.5,87.9763 1107.58,87.9763 1109.65,87.9763 1111.72,87.9763 1113.79,87.9763 1115.86,87.9763 1117.94,87.9763 1120.01,87.9763 1122.08,87.9763 1124.15,87.9763 1126.22,87.9763 1128.29,87.9763 1130.37,87.9763 1132.44,87.9763 1134.51,87.9763 1136.58,87.9763 1138.65,87.9763 1140.73,87.9763 1142.8,87.9763 1144.87,87.9763 1146.94,87.9763 1149.01,87.9763 1151.08,87.9763 1153.16,87.9763 1155.23,87.9763 1157.3,87.9763 1159.37,87.9763 1161.44,87.9763 1163.52,87.9763 1165.59,87.9763 1167.66,87.9763 1169.73,87.9763 1171.8,87.9763 1173.88,87.9763 1175.95,87.9763 1178.02,87.9763 1180.09,87.9763 1182.16,87.9763 1184.23,87.9763 1186.31,87.9763 1188.38,87.9763 1190.45,87.9763 1192.52,87.9763 1194.59,87.9763 1196.67,87.9763 1198.74,87.9763 1200.81,87.9763 1202.88,87.9763 1204.95,87.9763 1207.02,87.9763 1209.1,87.9763 1211.17,87.9763 1213.24,87.9763 1215.31,87.9763 1217.38,87.9763 1219.46,87.9763 1221.53,87.9763 1223.6,87.9763 1225.67,87.9763 1227.74,87.9763 1229.81,87.9763 1231.89,87.9763 1233.96,87.9763 1236.03,87.9763 1238.1,87.9763 1240.17,87.9763 1242.25,87.9763 1244.32,87.9763 1246.39,87.9763 1248.46,87.9763 1250.53,87.9763 1252.61,87.9763 1254.68,87.9763 1256.75,87.9763 1258.82,87.9763 1260.89,87.9763 1262.96,87.9763 1265.04,87.9763 1267.11,87.9763 1269.18,87.9763 1271.25,87.9763 1273.32,87.9763 1275.4,87.9763 1277.47,87.9763 1279.54,87.9763 1281.61,87.9763 1283.68,87.9763 1285.75,87.9763 1287.83,87.9763 1289.9,87.9763 1291.97,87.9763 1294.04,87.9763 1296.11,87.9763 1298.19,87.9763 1300.26,87.9763 1302.33,87.9763 1304.4,87.9763 1306.47,87.9763 1308.55,87.9763 1310.62,87.9763 1312.69,87.9763 1314.76,87.9763 1316.83,87.9763 1318.9,87.9763 1320.98,87.9763 1323.05,87.9763 1325.12,87.9763 1327.19,87.9763 1329.26,87.9763 1331.34,87.9763 1333.41,87.9763 1335.48,87.9763 1337.55,87.9763 1339.62,87.9763 1341.69,87.9763 1343.77,87.9763 1345.84,87.9763 1347.91,87.9763 1349.98,87.9763 1352.05,87.9763 1354.13,87.9763 1356.2,87.9763 1358.27,87.9763 1360.34,87.9763 1362.41,87.9763 1364.48,87.9763 1366.56,87.9763 1368.63,87.9763 1370.7,87.9763 1372.77,87.9763 1374.84,87.9763 1376.92,87.9763 1378.99,87.9763 1381.06,87.9763 1383.13,87.9763 1385.2,87.9763 1387.28,87.9763 1389.35,87.9763 1391.42,87.9763 1393.49,87.9763 1395.56,87.9763 1397.63,87.9763 1399.71,87.9763 1401.78,87.9763 1403.85,87.9763 1405.92,87.9763 1407.99,87.9763 1410.07,87.9763 1412.14,87.9763 1414.21,87.9763 1416.28,87.9763 1418.35,87.9763 1420.42,87.9763 1422.5,87.9763 1424.57,87.9763 1426.64,87.9763 1428.71,87.9763 1430.78,87.9763 1432.86,87.9763 1434.93,87.9763 1437,87.9763 1439.07,87.9763 1441.14,87.9763 1443.22,87.9763 1445.29,87.9763 1447.36,87.9763 1449.43,87.9763 1451.5,87.9763 1453.57,87.9763 1455.65,87.9763 1457.72,87.9763 1459.79,87.9763 1461.86,87.9763 1463.93,87.9763 1466.01,87.9763 1468.08,87.9763 1470.15,87.9763 1472.22,87.9763 1474.29,87.9763 1476.36,87.9763 1478.44,87.9763 1480.51,87.9763 1482.58,87.9763 1484.65,87.9763 1486.72,87.9763 1488.8,87.9763 1490.87,87.9763 1492.94,87.9763 1495.01,87.9763 1497.08,87.9763 1499.15,87.9763 1501.23,87.9763 1503.3,87.9763 1505.37,87.9763 1507.44,87.9763 1509.51,87.9763 1511.59,87.9763 1513.66,87.9763 1515.73,87.9763 1517.8,87.9763 1519.87,87.9763 1521.95,87.9763 1524.02,87.9763 1526.09,87.9763 1528.16,87.9763 1530.23,87.9763 1532.3,87.9763 1534.38,87.9763 1536.45,87.9763 1538.52,87.9763 1540.59,87.9763 1542.66,87.9763 1544.74,87.9763 1546.81,87.9763 1548.88,87.9763 1550.95,87.9763 1553.02,87.9763 1555.09,87.9763 1557.17,87.9763 1559.24,87.9763 1561.31,87.9763 1563.38,87.9763 1565.45,87.9763 1567.53,87.9763 1569.6,87.9763 1571.67,87.9763 1573.74,87.9763 1575.81,87.9763 1577.89,87.9763 1579.96,87.9763 1582.03,87.9763 1584.1,87.9763 1586.17,87.9763 1588.24,87.9763 1590.32,87.9763 1592.39,87.9763 1594.46,87.9763 1596.53,87.9763 1598.6,87.9763 1600.68,87.9763 1602.75,87.9763 1604.82,87.9763 1606.89,87.9763 1608.96,87.9763 1611.03,87.9763 1613.11,87.9763 1615.18,87.9763 1617.25,87.9763 1619.32,87.9763 1621.39,87.9763 1623.47,87.9763 1625.54,87.9763 1627.61,87.9763 1629.68,87.9763 1631.75,87.9763 1633.83,87.9763 1635.9,87.9763 1637.97,87.9763 1640.04,87.9763 1642.11,87.9763 1644.18,87.9763 1646.26,87.9763 1648.33,87.9763 1650.4,87.9763 1652.47,87.9763 1654.54,87.9763 1656.62,87.9763 1658.69,87.9763 1660.76,87.9763 1662.83,87.9763 1664.9,87.9763 1666.97,87.9763 1669.05,87.9763 1671.12,87.9763 1673.19,87.9763 1675.26,87.9763 1677.33,87.9763 1679.41,87.9763 1681.48,87.9763 1683.55,87.9763 1685.62,87.9763 1687.69,87.9763 1689.76,87.9763 1691.84,87.9763 1693.91,87.9763 1695.98,87.9763 1698.05,87.9763 1700.12,87.9763 1702.2,87.9763 1704.27,87.9763 1706.34,87.9763 1708.41,87.9763 1710.48,87.9763 1712.56,87.9763 1714.63,87.9763 1716.7,87.9763 1718.77,87.9763 1720.84,87.9763 1722.91,87.9763 1724.99,87.9763 1727.06,87.9763 1729.13,87.9763 1731.2,87.9763 1733.27,87.9763 1735.35,87.9763 1737.42,87.9763 1739.49,87.9763 1741.56,87.9763 1743.63,87.9763 1745.7,87.9763 1747.78,87.9763 1749.85,87.9763 1751.92,87.9763 1753.99,87.9763 1756.06,87.9763 1758.14,87.9763 1760.21,87.9763 1762.28,87.9763 1764.35,87.9763 1766.42,87.9763 1768.5,87.9763 1770.57,87.9763 1772.64,87.9763 1774.71,87.9763 1776.78,87.9763 1778.85,87.9763 1780.93,87.9763 1783,87.9763 1785.07,87.9763 1787.14,87.9763 1789.21,87.9763 1791.29,87.9763 1793.36,87.9763 1795.43,87.9763 1797.5,87.9763 1799.57,87.9763 1801.64,87.9763 1803.72,87.9763 1805.79,87.9763 1807.86,87.9763 1809.93,87.9763 1812,87.9763 1814.08,87.9763 1816.15,87.9763 1818.22,87.9763 1820.29,87.9763 1822.36,87.9763 1824.43,87.9763 1826.51,87.9763 1828.58,87.9763 1830.65,87.9763 1832.72,87.9763 1834.79,87.9763 1836.87,87.9763 1838.94,87.9763 1841.01,87.9763 1843.08,87.9763 1845.15,87.9763 1847.23,87.9763 1849.3,87.9763 1851.37,87.9763 1853.44,87.9763 1855.51,87.9763 1857.58,87.9763 1859.66,87.9763 1861.73,87.9763 1863.8,87.9763 1865.87,87.9763 1867.94,87.9763 1870.02,87.9763 1872.09,87.9763 1874.16,87.9763 1876.23,87.9763 1878.3,87.9763 1880.37,87.9763 1882.45,87.9763 1884.52,87.9763 1886.59,87.9763 1888.66,87.9763 1890.73,87.9763 1892.81,87.9763 1894.88,87.9763 1896.95,87.9763 1899.02,87.9763 1901.09,87.9763 1903.17,87.9763 1905.24,87.9763 1907.31,87.9763 1909.38,87.9763 1911.45,87.9763 1913.52,87.9763 1915.6,87.9763 1917.67,87.9763 1919.74,87.9763 1921.81,87.9763 1923.88,87.9763 1925.96,87.9763 1928.03,87.9763 1930.1,87.9763 1932.17,87.9763 1934.24,87.9763 1936.31,87.9763 1938.39,87.9763 1940.46,87.9763 1942.53,87.9763 1944.6,87.9763 1946.67,87.9763 1948.75,87.9763 1950.82,87.9763 1952.89,87.9763 1954.96,87.9763 1957.03,87.9763 1959.11,87.9763 1961.18,87.9763 1963.25,87.9763 1965.32,87.9763 1967.39,87.9763 1969.46,87.9763 1971.54,87.9763 1973.61,87.9763 1975.68,87.9763 1977.75,87.9763 1979.82,87.9763 1981.9,87.9763 1983.97,87.9763 1986.04,87.9763 1988.11,87.9763 1990.18,87.9763 1992.25,87.9763 1994.33,87.9763 1996.4,87.9763 1998.47,87.9763 2000.54,87.9763 2002.61,87.9763 2004.69,87.9763 2006.76,87.9763 2008.83,87.9763 2010.9,87.9763 2012.97,87.9763 2015.04,87.9763 2017.12,87.9763 2019.19,87.9763 2021.26,87.9763 2023.33,87.9763 2025.4,87.9763 2027.48,87.9763 2029.55,87.9763 2031.62,87.9763 2033.69,87.9763 2035.76,87.9763 2037.84,87.9763 2039.91,87.9763 2041.98,87.9763 2044.05,87.9763 2046.12,87.9763 2048.19,87.9763 2050.27,87.9763 2052.34,87.9763 2054.41,87.9763 2056.48,87.9763 2058.55,87.9763 2060.63,87.9763 2062.7,87.9763 2064.77,87.9763 2066.84,87.9763 2068.91,87.9763 2070.98,332.064 2073.06,332.064 2075.13,332.064 2077.2,332.064 2079.27,332.064 2081.34,332.064 2083.42,332.064 2085.49,332.064 2087.56,332.064 2089.63,621.919 2091.7,621.919 2093.78,621.919 2095.85,621.919 2097.92,621.919 2099.99,621.919 2102.06,896.518 2104.13,896.518 2106.21,896.518 2108.28,896.518 2110.35,896.518 2112.42,896.518 2114.49,896.518 2116.57,896.518 2118.64,896.518 2120.71,896.518 2122.78,896.518 2124.85,896.518 2126.92,896.518 2129,896.518 2131.07,896.518 2133.14,896.518 2135.21,896.518 2137.28,896.518 2139.36,896.518 2141.43,896.518 2143.5,896.518 2145.57,896.518 2147.64,1247.39 2149.71,1262.65 2151.79,1247.39 2153.86,1262.65 2155.93,1415.2 2158,1384.69 2160.07,1384.69 2162.15,1399.95 2164.22,1415.2 2166.29,1384.69 2168.36,1415.2 2170.43,1415.2 2172.51,1384.69 2174.58,1384.69 2176.65,1384.69 2178.72,1384.69 2180.79,1384.69 2182.86,1415.2 2184.94,1384.69 2187.01,1384.69 2189.08,1384.69 2191.15,1399.95 2193.22,1384.69 2195.3,1415.2 2197.37,1384.69 2199.44,1399.95 2201.51,1399.95 2203.58,1384.69 2205.65,1384.69 2207.73,1369.44 2209.8,1399.95 2211.87,1430.46 2213.94,1430.46 2216.01,1384.69 2218.09,1445.72 2220.16,1399.95 2222.23,1399.95 2224.3,1415.2 2226.37,1384.69 2228.45,1384.69 2230.52,1430.46 2232.59,1399.95 2234.66,1415.2 2236.73,1430.46 2238.8,1415.2 2240.88,1415.2 2242.95,1430.46 2245.02,1430.46 2247.09,1415.2 2249.16,1399.95 2251.24,1430.46 2253.31,1415.2 2255.38,1415.2 2257.45,1369.44 2259.52,1415.2 2261.59,1399.95 2263.67,1415.2 2265.74,1430.46 2267.81,1415.2 2269.88,1430.46 2271.95,1415.2 2274.03,1369.44 2276.1,1415.2 2278.17,1415.2 2280.24,1445.72 2282.31,1415.2 2284.38,1399.95 2286.46,1384.69 2288.53,1399.95 2290.6,1415.2 \"/>\n",
       "<path clip-path=\"url(#clip360)\" d=\"M229.803 1438.47 L501.85 1438.47 L501.85 1334.79 L229.803 1334.79  Z\" fill=\"#ffffff\" fill-rule=\"evenodd\" fill-opacity=\"1\"/>\n",
       "<polyline clip-path=\"url(#clip360)\" style=\"stroke:#000000; stroke-linecap:round; stroke-linejoin:round; stroke-width:4; stroke-opacity:1; fill:none\" points=\"229.803,1438.47 501.85,1438.47 501.85,1334.79 229.803,1334.79 229.803,1438.47 \"/>\n",
       "<polyline clip-path=\"url(#clip360)\" style=\"stroke:#009af9; stroke-linecap:round; stroke-linejoin:round; stroke-width:4; stroke-opacity:1; fill:none\" points=\"254.205,1386.63 400.616,1386.63 \"/>\n",
       "<path clip-path=\"url(#clip360)\" d=\"M438.86 1406.32 Q437.054 1410.95 435.342 1412.36 Q433.629 1413.78 430.758 1413.78 L427.355 1413.78 L427.355 1410.21 L429.855 1410.21 Q431.615 1410.21 432.587 1409.38 Q433.559 1408.54 434.74 1405.44 L435.504 1403.5 L425.018 1377.99 L429.531 1377.99 L437.633 1398.27 L445.735 1377.99 L450.249 1377.99 L438.86 1406.32 Z\" fill=\"#000000\" fill-rule=\"nonzero\" fill-opacity=\"1\" /><path clip-path=\"url(#clip360)\" d=\"M457.54 1399.98 L465.179 1399.98 L465.179 1373.61 L456.869 1375.28 L456.869 1371.02 L465.133 1369.35 L469.809 1369.35 L469.809 1399.98 L477.448 1399.98 L477.448 1403.91 L457.54 1403.91 L457.54 1399.98 Z\" fill=\"#000000\" fill-rule=\"nonzero\" fill-opacity=\"1\" /></svg>\n"
      ]
     },
     "execution_count": 118,
     "metadata": {},
     "output_type": "execute_result"
    }
   ],
   "source": [
    "plot(log.(thresholds), innaccuracies)"
   ]
  },
  {
   "cell_type": "markdown",
   "metadata": {},
   "source": [
    "We must take into account that the $K$-folds procedure gives us an *estimate* of the expected testing error; that is, the error when predicting with never-before-seen data. This estimate will depend on the size of our available sample and how it is split. With a relatively small sample like the one we are working with right now, this estimation may be noisy.\n",
    "\n",
    "In this case, we will choose the optimal $\\alpha$ as the one that minimizes the classification error (conversely, the one that maximizes the accuracy)"
   ]
  },
  {
   "cell_type": "code",
   "execution_count": 119,
   "metadata": {},
   "outputs": [
    {
     "data": {
      "text/plain": [
       "0.7046880897187134"
      ]
     },
     "execution_count": 119,
     "metadata": {},
     "output_type": "execute_result"
    }
   ],
   "source": [
    "thresholds[argmin(innaccuracies)]"
   ]
  },
  {
   "cell_type": "markdown",
   "metadata": {},
   "source": [
    "Now we can take a look at the performance of this model when we use this value for $\\alpha$"
   ]
  },
  {
   "cell_type": "code",
   "execution_count": 120,
   "metadata": {},
   "outputs": [
    {
     "name": "stderr",
     "output_type": "stream",
     "text": [
      "\u001b[36m\u001b[1m[ \u001b[22m\u001b[39m\u001b[36m\u001b[1mInfo: \u001b[22m\u001b[39mTraining machine(DecisionTreeClassifier(max_depth = -1, …), …).\n"
     ]
    }
   ],
   "source": [
    "tree = DecisionTreeClassifier(post_prune = true, merge_purity_threshold = thresholds[argmin(innaccuracies)])\n",
    "tree_machine_prune = machine(tree, X[train, :], y[train])\n",
    "fit!(tree_machine_prune);"
   ]
  },
  {
   "cell_type": "code",
   "execution_count": 121,
   "metadata": {},
   "outputs": [
    {
     "data": {
      "text/plain": [
       "0.9333333333333333"
      ]
     },
     "execution_count": 121,
     "metadata": {},
     "output_type": "execute_result"
    }
   ],
   "source": [
    "pruned_predictions = predict_mode(tree_machine_prune, X[test, :])\n",
    "mean(pruned_predictions .== y[test])"
   ]
  },
  {
   "cell_type": "code",
   "execution_count": 122,
   "metadata": {},
   "outputs": [
    {
     "data": {
      "text/plain": [
       "PetalLength < 2.45\n",
       "├─ setosa (45/45)\n",
       "└─ PetalWidth < 1.75\n",
       "   ├─ PetalLength < 4.95\n",
       "   │  ├─ versicolor (45/46)\n",
       "   │  └─ PetalWidth < 1.55\n",
       "   │     ├─ virginica (3/3)\n",
       "   │     └─ SepalLength < 6.95\n",
       "   │        ├─ versicolor (2/2)\n",
       "   │        └─ virginica (1/1)\n",
       "   └─ PetalLength < 4.85\n",
       "      ├─ SepalWidth < 3.0\n",
       "      │  ├─ virginica (1/1)\n",
       "      │  └─ versicolor (1/1)\n",
       "      └─ virginica (36/36)\n"
      ]
     },
     "execution_count": 122,
     "metadata": {},
     "output_type": "execute_result"
    }
   ],
   "source": [
    "fitted_params(tree_machine_prune)[1]"
   ]
  },
  {
   "cell_type": "markdown",
   "metadata": {},
   "source": [
    "## Regression\n",
    "\n",
    "Now we will see an example more similar to what we have seen in class, because we will be using regression. We will be using the `Hitters` dataset provided by the `RDatasets` package through the `datasets` function.\n",
    "\n",
    "### Baseball Data\n",
    "\n",
    "Major League Baseball Data from the 1986 and 1987 seasons.\n",
    "\n",
    "- `AtBat`: Number of times at bat in 1986\n",
    "\n",
    "- `Hits`: Number of hits in 1986\n",
    "\n",
    "- `HmRun`: Number of home runs in 1986\n",
    "\n",
    "- `Runs`: Number of runs in 1986\n",
    "\n",
    "- `RBI`: Number of runs batted in in 1986\n",
    "\n",
    "- `Walks`: Number of walks in 1986\n",
    "\n",
    "- `Years`: Number of years in the major leagues\n",
    "\n",
    "- `CAtBat`: Number of times at bat during his career\n",
    "\n",
    "- `CHits`: Number of hits during his career\n",
    "\n",
    "- `CHmRun`: Number of home runs during his career\n",
    "\n",
    "- `CRuns`: Number of runs during his career\n",
    "\n",
    "- `CRBI`: Number of runs batted in during his career\n",
    "\n",
    "- `CWalks`: Number of walks during his career\n",
    "\n",
    "- `League`: A factor with levels A and N indicating player’s league at the end of 1986\n",
    "\n",
    "- `Division`: A factor with levels E and W indicating player’s division at the end of 1986\n",
    "\n",
    "- `PutOuts`: Number of put outs in 1986\n",
    "\n",
    "- `Assists`: Number of assists in 1986\n",
    "\n",
    "- `Errors`: Number of errors in 1986\n",
    "\n",
    "- `Salary`: 1987 annual salary on opening day in thousands of dollars\n",
    "\n",
    "- `NewLeague`: A factor with levels A and N indicating player’s league at the beginning of 1987\n",
    "\n",
    "#### Notes\n",
    "\n",
    "This dataset was taken from the StatLib library which is maintained at Carnegie Mellon University. This is part of the data that was used in the 1988 ASA Graphics Section Poster Session. The salary data were originally from Sports Illustrated, April 20, 1987. The 1986 and career statistics were obtained from The 1987 Baseball Encyclopedia Update published by Collier Books, Macmillan Publishing Company, New York."
   ]
  },
  {
   "cell_type": "code",
   "execution_count": 123,
   "metadata": {},
   "outputs": [
    {
     "data": {
      "text/html": [
       "<div><div style = \"float: left;\"><span>5×20 DataFrame</span></div><div style = \"clear: both;\"></div></div><div class = \"data-frame\" style = \"overflow-x: scroll;\"><table class = \"data-frame\" style = \"margin-bottom: 6px;\"><thead><tr class = \"header\"><th class = \"rowNumber\" style = \"font-weight: bold; text-align: right;\">Row</th><th style = \"text-align: left;\">AtBat</th><th style = \"text-align: left;\">Hits</th><th style = \"text-align: left;\">HmRun</th><th style = \"text-align: left;\">Runs</th><th style = \"text-align: left;\">RBI</th><th style = \"text-align: left;\">Walks</th><th style = \"text-align: left;\">Years</th><th style = \"text-align: left;\">CAtBat</th><th style = \"text-align: left;\">CHits</th><th style = \"text-align: left;\">CHmRun</th><th style = \"text-align: left;\">CRuns</th><th style = \"text-align: left;\">CRBI</th><th style = \"text-align: left;\">CWalks</th><th style = \"text-align: left;\">League</th><th style = \"text-align: left;\">Division</th><th style = \"text-align: left;\">PutOuts</th><th style = \"text-align: left;\">Assists</th><th style = \"text-align: left;\">Errors</th><th style = \"text-align: left;\">Salary</th><th style = \"text-align: left;\">NewLeague</th></tr><tr class = \"subheader headerLastRow\"><th class = \"rowNumber\" style = \"font-weight: bold; text-align: right;\"></th><th title = \"Int32\" style = \"text-align: left;\">Int32</th><th title = \"Int32\" style = \"text-align: left;\">Int32</th><th title = \"Int32\" style = \"text-align: left;\">Int32</th><th title = \"Int32\" style = \"text-align: left;\">Int32</th><th title = \"Int32\" style = \"text-align: left;\">Int32</th><th title = \"Int32\" style = \"text-align: left;\">Int32</th><th title = \"Int32\" style = \"text-align: left;\">Int32</th><th title = \"Int32\" style = \"text-align: left;\">Int32</th><th title = \"Int32\" style = \"text-align: left;\">Int32</th><th title = \"Int32\" style = \"text-align: left;\">Int32</th><th title = \"Int32\" style = \"text-align: left;\">Int32</th><th title = \"Int32\" style = \"text-align: left;\">Int32</th><th title = \"Int32\" style = \"text-align: left;\">Int32</th><th title = \"CategoricalArrays.CategoricalValue{String, UInt8}\" style = \"text-align: left;\">Cat…</th><th title = \"CategoricalArrays.CategoricalValue{String, UInt8}\" style = \"text-align: left;\">Cat…</th><th title = \"Int32\" style = \"text-align: left;\">Int32</th><th title = \"Int32\" style = \"text-align: left;\">Int32</th><th title = \"Int32\" style = \"text-align: left;\">Int32</th><th title = \"Union{Missing, Float64}\" style = \"text-align: left;\">Float64?</th><th title = \"CategoricalArrays.CategoricalValue{String, UInt8}\" style = \"text-align: left;\">Cat…</th></tr></thead><tbody><tr><td class = \"rowNumber\" style = \"font-weight: bold; text-align: right;\">1</td><td style = \"text-align: right;\">293</td><td style = \"text-align: right;\">66</td><td style = \"text-align: right;\">1</td><td style = \"text-align: right;\">30</td><td style = \"text-align: right;\">29</td><td style = \"text-align: right;\">14</td><td style = \"text-align: right;\">1</td><td style = \"text-align: right;\">293</td><td style = \"text-align: right;\">66</td><td style = \"text-align: right;\">1</td><td style = \"text-align: right;\">30</td><td style = \"text-align: right;\">29</td><td style = \"text-align: right;\">14</td><td style = \"text-align: left;\">A</td><td style = \"text-align: left;\">E</td><td style = \"text-align: right;\">446</td><td style = \"text-align: right;\">33</td><td style = \"text-align: right;\">20</td><td style = \"font-style: italic; text-align: right;\">missing</td><td style = \"text-align: left;\">A</td></tr><tr><td class = \"rowNumber\" style = \"font-weight: bold; text-align: right;\">2</td><td style = \"text-align: right;\">315</td><td style = \"text-align: right;\">81</td><td style = \"text-align: right;\">7</td><td style = \"text-align: right;\">24</td><td style = \"text-align: right;\">38</td><td style = \"text-align: right;\">39</td><td style = \"text-align: right;\">14</td><td style = \"text-align: right;\">3449</td><td style = \"text-align: right;\">835</td><td style = \"text-align: right;\">69</td><td style = \"text-align: right;\">321</td><td style = \"text-align: right;\">414</td><td style = \"text-align: right;\">375</td><td style = \"text-align: left;\">N</td><td style = \"text-align: left;\">W</td><td style = \"text-align: right;\">632</td><td style = \"text-align: right;\">43</td><td style = \"text-align: right;\">10</td><td style = \"text-align: right;\">475.0</td><td style = \"text-align: left;\">N</td></tr><tr><td class = \"rowNumber\" style = \"font-weight: bold; text-align: right;\">3</td><td style = \"text-align: right;\">479</td><td style = \"text-align: right;\">130</td><td style = \"text-align: right;\">18</td><td style = \"text-align: right;\">66</td><td style = \"text-align: right;\">72</td><td style = \"text-align: right;\">76</td><td style = \"text-align: right;\">3</td><td style = \"text-align: right;\">1624</td><td style = \"text-align: right;\">457</td><td style = \"text-align: right;\">63</td><td style = \"text-align: right;\">224</td><td style = \"text-align: right;\">266</td><td style = \"text-align: right;\">263</td><td style = \"text-align: left;\">A</td><td style = \"text-align: left;\">W</td><td style = \"text-align: right;\">880</td><td style = \"text-align: right;\">82</td><td style = \"text-align: right;\">14</td><td style = \"text-align: right;\">480.0</td><td style = \"text-align: left;\">A</td></tr><tr><td class = \"rowNumber\" style = \"font-weight: bold; text-align: right;\">4</td><td style = \"text-align: right;\">496</td><td style = \"text-align: right;\">141</td><td style = \"text-align: right;\">20</td><td style = \"text-align: right;\">65</td><td style = \"text-align: right;\">78</td><td style = \"text-align: right;\">37</td><td style = \"text-align: right;\">11</td><td style = \"text-align: right;\">5628</td><td style = \"text-align: right;\">1575</td><td style = \"text-align: right;\">225</td><td style = \"text-align: right;\">828</td><td style = \"text-align: right;\">838</td><td style = \"text-align: right;\">354</td><td style = \"text-align: left;\">N</td><td style = \"text-align: left;\">E</td><td style = \"text-align: right;\">200</td><td style = \"text-align: right;\">11</td><td style = \"text-align: right;\">3</td><td style = \"text-align: right;\">500.0</td><td style = \"text-align: left;\">N</td></tr><tr><td class = \"rowNumber\" style = \"font-weight: bold; text-align: right;\">5</td><td style = \"text-align: right;\">321</td><td style = \"text-align: right;\">87</td><td style = \"text-align: right;\">10</td><td style = \"text-align: right;\">39</td><td style = \"text-align: right;\">42</td><td style = \"text-align: right;\">30</td><td style = \"text-align: right;\">2</td><td style = \"text-align: right;\">396</td><td style = \"text-align: right;\">101</td><td style = \"text-align: right;\">12</td><td style = \"text-align: right;\">48</td><td style = \"text-align: right;\">46</td><td style = \"text-align: right;\">33</td><td style = \"text-align: left;\">N</td><td style = \"text-align: left;\">E</td><td style = \"text-align: right;\">805</td><td style = \"text-align: right;\">40</td><td style = \"text-align: right;\">4</td><td style = \"text-align: right;\">91.5</td><td style = \"text-align: left;\">N</td></tr></tbody></table></div>"
      ],
      "text/latex": [
       "\\begin{tabular}{r|ccccccccccccc}\n",
       "\t& AtBat & Hits & HmRun & Runs & RBI & Walks & Years & CAtBat & CHits & CHmRun & CRuns & CRBI & \\\\\n",
       "\t\\hline\n",
       "\t& Int32 & Int32 & Int32 & Int32 & Int32 & Int32 & Int32 & Int32 & Int32 & Int32 & Int32 & Int32 & \\\\\n",
       "\t\\hline\n",
       "\t1 & 293 & 66 & 1 & 30 & 29 & 14 & 1 & 293 & 66 & 1 & 30 & 29 & $\\dots$ \\\\\n",
       "\t2 & 315 & 81 & 7 & 24 & 38 & 39 & 14 & 3449 & 835 & 69 & 321 & 414 & $\\dots$ \\\\\n",
       "\t3 & 479 & 130 & 18 & 66 & 72 & 76 & 3 & 1624 & 457 & 63 & 224 & 266 & $\\dots$ \\\\\n",
       "\t4 & 496 & 141 & 20 & 65 & 78 & 37 & 11 & 5628 & 1575 & 225 & 828 & 838 & $\\dots$ \\\\\n",
       "\t5 & 321 & 87 & 10 & 39 & 42 & 30 & 2 & 396 & 101 & 12 & 48 & 46 & $\\dots$ \\\\\n",
       "\\end{tabular}\n"
      ],
      "text/plain": [
       "\u001b[1m5×20 DataFrame\u001b[0m\n",
       "\u001b[1m Row \u001b[0m│\u001b[1m AtBat \u001b[0m\u001b[1m Hits  \u001b[0m\u001b[1m HmRun \u001b[0m\u001b[1m Runs  \u001b[0m\u001b[1m RBI   \u001b[0m\u001b[1m Walks \u001b[0m\u001b[1m Years \u001b[0m\u001b[1m CAtBat \u001b[0m\u001b[1m CHits \u001b[0m\u001b[1m CHmRun \u001b[0m\u001b[1m\u001b[0m ⋯\n",
       "     │\u001b[90m Int32 \u001b[0m\u001b[90m Int32 \u001b[0m\u001b[90m Int32 \u001b[0m\u001b[90m Int32 \u001b[0m\u001b[90m Int32 \u001b[0m\u001b[90m Int32 \u001b[0m\u001b[90m Int32 \u001b[0m\u001b[90m Int32  \u001b[0m\u001b[90m Int32 \u001b[0m\u001b[90m Int32  \u001b[0m\u001b[90m\u001b[0m ⋯\n",
       "─────┼──────────────────────────────────────────────────────────────────────────\n",
       "   1 │   293     66      1     30     29     14      1     293     66       1  ⋯\n",
       "   2 │   315     81      7     24     38     39     14    3449    835      69\n",
       "   3 │   479    130     18     66     72     76      3    1624    457      63\n",
       "   4 │   496    141     20     65     78     37     11    5628   1575     225\n",
       "   5 │   321     87     10     39     42     30      2     396    101      12  ⋯\n",
       "\u001b[36m                                                              10 columns omitted\u001b[0m"
      ]
     },
     "execution_count": 123,
     "metadata": {},
     "output_type": "execute_result"
    }
   ],
   "source": [
    "hitters = dataset(\"ISLR\", \"Hitters\")\n",
    "hitters[1:5, :]"
   ]
  },
  {
   "cell_type": "markdown",
   "metadata": {},
   "source": [
    "The data has some missing values, specifically in the `Salary` column. In this instance, we will just drop the missing data, but are several other ways to process missing values."
   ]
  },
  {
   "cell_type": "code",
   "execution_count": 124,
   "metadata": {},
   "outputs": [
    {
     "data": {
      "text/html": [
       "<div><div style = \"float: left;\"><span>20×2 DataFrame</span></div><div style = \"clear: both;\"></div></div><div class = \"data-frame\" style = \"overflow-x: scroll;\"><table class = \"data-frame\" style = \"margin-bottom: 6px;\"><thead><tr class = \"header\"><th class = \"rowNumber\" style = \"font-weight: bold; text-align: right;\">Row</th><th style = \"text-align: left;\">variable</th><th style = \"text-align: left;\">nmissing</th></tr><tr class = \"subheader headerLastRow\"><th class = \"rowNumber\" style = \"font-weight: bold; text-align: right;\"></th><th title = \"Symbol\" style = \"text-align: left;\">Symbol</th><th title = \"Int64\" style = \"text-align: left;\">Int64</th></tr></thead><tbody><tr><td class = \"rowNumber\" style = \"font-weight: bold; text-align: right;\">1</td><td style = \"text-align: left;\">AtBat</td><td style = \"text-align: right;\">0</td></tr><tr><td class = \"rowNumber\" style = \"font-weight: bold; text-align: right;\">2</td><td style = \"text-align: left;\">Hits</td><td style = \"text-align: right;\">0</td></tr><tr><td class = \"rowNumber\" style = \"font-weight: bold; text-align: right;\">3</td><td style = \"text-align: left;\">HmRun</td><td style = \"text-align: right;\">0</td></tr><tr><td class = \"rowNumber\" style = \"font-weight: bold; text-align: right;\">4</td><td style = \"text-align: left;\">Runs</td><td style = \"text-align: right;\">0</td></tr><tr><td class = \"rowNumber\" style = \"font-weight: bold; text-align: right;\">5</td><td style = \"text-align: left;\">RBI</td><td style = \"text-align: right;\">0</td></tr><tr><td class = \"rowNumber\" style = \"font-weight: bold; text-align: right;\">6</td><td style = \"text-align: left;\">Walks</td><td style = \"text-align: right;\">0</td></tr><tr><td class = \"rowNumber\" style = \"font-weight: bold; text-align: right;\">7</td><td style = \"text-align: left;\">Years</td><td style = \"text-align: right;\">0</td></tr><tr><td class = \"rowNumber\" style = \"font-weight: bold; text-align: right;\">8</td><td style = \"text-align: left;\">CAtBat</td><td style = \"text-align: right;\">0</td></tr><tr><td class = \"rowNumber\" style = \"font-weight: bold; text-align: right;\">9</td><td style = \"text-align: left;\">CHits</td><td style = \"text-align: right;\">0</td></tr><tr><td class = \"rowNumber\" style = \"font-weight: bold; text-align: right;\">10</td><td style = \"text-align: left;\">CHmRun</td><td style = \"text-align: right;\">0</td></tr><tr><td class = \"rowNumber\" style = \"font-weight: bold; text-align: right;\">11</td><td style = \"text-align: left;\">CRuns</td><td style = \"text-align: right;\">0</td></tr><tr><td class = \"rowNumber\" style = \"font-weight: bold; text-align: right;\">12</td><td style = \"text-align: left;\">CRBI</td><td style = \"text-align: right;\">0</td></tr><tr><td class = \"rowNumber\" style = \"font-weight: bold; text-align: right;\">13</td><td style = \"text-align: left;\">CWalks</td><td style = \"text-align: right;\">0</td></tr><tr><td class = \"rowNumber\" style = \"font-weight: bold; text-align: right;\">14</td><td style = \"text-align: left;\">League</td><td style = \"text-align: right;\">0</td></tr><tr><td class = \"rowNumber\" style = \"font-weight: bold; text-align: right;\">15</td><td style = \"text-align: left;\">Division</td><td style = \"text-align: right;\">0</td></tr><tr><td class = \"rowNumber\" style = \"font-weight: bold; text-align: right;\">16</td><td style = \"text-align: left;\">PutOuts</td><td style = \"text-align: right;\">0</td></tr><tr><td class = \"rowNumber\" style = \"font-weight: bold; text-align: right;\">17</td><td style = \"text-align: left;\">Assists</td><td style = \"text-align: right;\">0</td></tr><tr><td class = \"rowNumber\" style = \"font-weight: bold; text-align: right;\">18</td><td style = \"text-align: left;\">Errors</td><td style = \"text-align: right;\">0</td></tr><tr><td class = \"rowNumber\" style = \"font-weight: bold; text-align: right;\">19</td><td style = \"text-align: left;\">Salary</td><td style = \"text-align: right;\">59</td></tr><tr><td class = \"rowNumber\" style = \"font-weight: bold; text-align: right;\">20</td><td style = \"text-align: left;\">NewLeague</td><td style = \"text-align: right;\">0</td></tr></tbody></table></div>"
      ],
      "text/latex": [
       "\\begin{tabular}{r|cc}\n",
       "\t& variable & nmissing\\\\\n",
       "\t\\hline\n",
       "\t& Symbol & Int64\\\\\n",
       "\t\\hline\n",
       "\t1 & AtBat & 0 \\\\\n",
       "\t2 & Hits & 0 \\\\\n",
       "\t3 & HmRun & 0 \\\\\n",
       "\t4 & Runs & 0 \\\\\n",
       "\t5 & RBI & 0 \\\\\n",
       "\t6 & Walks & 0 \\\\\n",
       "\t7 & Years & 0 \\\\\n",
       "\t8 & CAtBat & 0 \\\\\n",
       "\t9 & CHits & 0 \\\\\n",
       "\t10 & CHmRun & 0 \\\\\n",
       "\t11 & CRuns & 0 \\\\\n",
       "\t12 & CRBI & 0 \\\\\n",
       "\t13 & CWalks & 0 \\\\\n",
       "\t14 & League & 0 \\\\\n",
       "\t15 & Division & 0 \\\\\n",
       "\t16 & PutOuts & 0 \\\\\n",
       "\t17 & Assists & 0 \\\\\n",
       "\t18 & Errors & 0 \\\\\n",
       "\t19 & Salary & 59 \\\\\n",
       "\t20 & NewLeague & 0 \\\\\n",
       "\\end{tabular}\n"
      ],
      "text/plain": [
       "\u001b[1m20×2 DataFrame\u001b[0m\n",
       "\u001b[1m Row \u001b[0m│\u001b[1m variable  \u001b[0m\u001b[1m nmissing \u001b[0m\n",
       "     │\u001b[90m Symbol    \u001b[0m\u001b[90m Int64    \u001b[0m\n",
       "─────┼─────────────────────\n",
       "   1 │ AtBat             0\n",
       "   2 │ Hits              0\n",
       "   3 │ HmRun             0\n",
       "   4 │ Runs              0\n",
       "   5 │ RBI               0\n",
       "   6 │ Walks             0\n",
       "   7 │ Years             0\n",
       "   8 │ CAtBat            0\n",
       "   9 │ CHits             0\n",
       "  10 │ CHmRun            0\n",
       "  11 │ CRuns             0\n",
       "  12 │ CRBI              0\n",
       "  13 │ CWalks            0\n",
       "  14 │ League            0\n",
       "  15 │ Division          0\n",
       "  16 │ PutOuts           0\n",
       "  17 │ Assists           0\n",
       "  18 │ Errors            0\n",
       "  19 │ Salary           59\n",
       "  20 │ NewLeague         0"
      ]
     },
     "execution_count": 124,
     "metadata": {},
     "output_type": "execute_result"
    }
   ],
   "source": [
    "describe(hitters, :nmissing)"
   ]
  },
  {
   "cell_type": "code",
   "execution_count": 125,
   "metadata": {},
   "outputs": [],
   "source": [
    "hitters = dropmissing(hitters, :Salary);"
   ]
  },
  {
   "cell_type": "markdown",
   "metadata": {},
   "source": [
    "We will use the `unpack` function from the `MLJ` package to acquire our target vector and our feature matrix."
   ]
  },
  {
   "cell_type": "code",
   "execution_count": 126,
   "metadata": {},
   "outputs": [],
   "source": [
    "y, X = unpack(hitters, ==(:Salary), !=(:Salary));\n"
   ]
  },
  {
   "cell_type": "markdown",
   "metadata": {},
   "source": [
    "To use a model in the `MLJ` package, the underlying `scitypes` of the variables must be compatible with the model. The `DecisionTreeRegressor` model type from the `DecisionTree` package is compatible with `Continuous` and `Multiclass` scitypes. However, because our data contains variables of type `Int32` these are interpreted as being of the scitype `Count`."
   ]
  },
  {
   "cell_type": "code",
   "execution_count": 127,
   "metadata": {},
   "outputs": [
    {
     "data": {
      "text/plain": [
       "┌───────────┬───────────────┬─────────────────────────────────┐\n",
       "│\u001b[22m names     \u001b[0m│\u001b[22m scitypes      \u001b[0m│\u001b[22m types                           \u001b[0m│\n",
       "├───────────┼───────────────┼─────────────────────────────────┤\n",
       "│ AtBat     │ Count         │ Int32                           │\n",
       "│ Hits      │ Count         │ Int32                           │\n",
       "│ HmRun     │ Count         │ Int32                           │\n",
       "│ Runs      │ Count         │ Int32                           │\n",
       "│ RBI       │ Count         │ Int32                           │\n",
       "│ Walks     │ Count         │ Int32                           │\n",
       "│ Years     │ Count         │ Int32                           │\n",
       "│ CAtBat    │ Count         │ Int32                           │\n",
       "│ CHits     │ Count         │ Int32                           │\n",
       "│ CHmRun    │ Count         │ Int32                           │\n",
       "│ CRuns     │ Count         │ Int32                           │\n",
       "│ CRBI      │ Count         │ Int32                           │\n",
       "│ CWalks    │ Count         │ Int32                           │\n",
       "│ League    │ Multiclass{2} │ CategoricalValue{String, UInt8} │\n",
       "│ Division  │ Multiclass{2} │ CategoricalValue{String, UInt8} │\n",
       "│ PutOuts   │ Count         │ Int32                           │\n",
       "│ Assists   │ Count         │ Int32                           │\n",
       "│ Errors    │ Count         │ Int32                           │\n",
       "│ NewLeague │ Multiclass{2} │ CategoricalValue{String, UInt8} │\n",
       "└───────────┴───────────────┴─────────────────────────────────┘\n"
      ]
     },
     "execution_count": 127,
     "metadata": {},
     "output_type": "execute_result"
    }
   ],
   "source": [
    "schema(X)"
   ]
  },
  {
   "cell_type": "markdown",
   "metadata": {},
   "source": [
    " To make our model compatible with the data, first we perform a one-hot-encoding through the `OneHotEncoder` model of the `MLJModels` package"
   ]
  },
  {
   "cell_type": "code",
   "execution_count": 128,
   "metadata": {},
   "outputs": [
    {
     "name": "stderr",
     "output_type": "stream",
     "text": [
      "\u001b[36m\u001b[1m[ \u001b[22m\u001b[39m\u001b[36m\u001b[1mInfo: \u001b[22m\u001b[39mTraining machine(OneHotEncoder(features = [:League, :Division, :NewLeague], …), …).\n",
      "\u001b[36m\u001b[1m[ \u001b[22m\u001b[39m\u001b[36m\u001b[1mInfo: \u001b[22m\u001b[39mSpawning 2 sub-features to one-hot encode feature :League.\n",
      "\u001b[36m\u001b[1m[ \u001b[22m\u001b[39m\u001b[36m\u001b[1mInfo: \u001b[22m\u001b[39mSpawning 2 sub-features to one-hot encode feature :Division.\n",
      "\u001b[36m\u001b[1m[ \u001b[22m\u001b[39m\u001b[36m\u001b[1mInfo: \u001b[22m\u001b[39mSpawning 2 sub-features to one-hot encode feature :NewLeague.\n"
     ]
    }
   ],
   "source": [
    "onehotencoder = @load OneHotEncoder pkg=MLJModels verbosity=0\n",
    "\n",
    "ohe = onehotencoder(features = [:League, :Division, :NewLeague])\n",
    "ohe_machine = machine(ohe, X)\n",
    "fit!(ohe_machine);\n",
    "X = MLJ.transform(ohe_machine, X);"
   ]
  },
  {
   "cell_type": "markdown",
   "metadata": {},
   "source": [
    "We check our data and see that the multiclass features are now considered continuous."
   ]
  },
  {
   "cell_type": "code",
   "execution_count": 129,
   "metadata": {},
   "outputs": [
    {
     "data": {
      "text/plain": [
       "┌──────────────┬────────────┬─────────┐\n",
       "│\u001b[22m names        \u001b[0m│\u001b[22m scitypes   \u001b[0m│\u001b[22m types   \u001b[0m│\n",
       "├──────────────┼────────────┼─────────┤\n",
       "│ AtBat        │ Count      │ Int32   │\n",
       "│ Hits         │ Count      │ Int32   │\n",
       "│ HmRun        │ Count      │ Int32   │\n",
       "│ Runs         │ Count      │ Int32   │\n",
       "│ RBI          │ Count      │ Int32   │\n",
       "│ Walks        │ Count      │ Int32   │\n",
       "│ Years        │ Count      │ Int32   │\n",
       "│ CAtBat       │ Count      │ Int32   │\n",
       "│ CHits        │ Count      │ Int32   │\n",
       "│ CHmRun       │ Count      │ Int32   │\n",
       "│ CRuns        │ Count      │ Int32   │\n",
       "│ CRBI         │ Count      │ Int32   │\n",
       "│ CWalks       │ Count      │ Int32   │\n",
       "│ League__A    │ Continuous │ Float64 │\n",
       "│ League__N    │ Continuous │ Float64 │\n",
       "│ Division__E  │ Continuous │ Float64 │\n",
       "│ Division__W  │ Continuous │ Float64 │\n",
       "│ PutOuts      │ Count      │ Int32   │\n",
       "│ Assists      │ Count      │ Int32   │\n",
       "│ Errors       │ Count      │ Int32   │\n",
       "│ NewLeague__A │ Continuous │ Float64 │\n",
       "│ NewLeague__N │ Continuous │ Float64 │\n",
       "└──────────────┴────────────┴─────────┘\n"
      ]
     },
     "execution_count": 129,
     "metadata": {},
     "output_type": "execute_result"
    }
   ],
   "source": [
    "schema(X)"
   ]
  },
  {
   "cell_type": "markdown",
   "metadata": {},
   "source": [
    "However, we will have to convert the `Count` features int `Continuous` features. We can do his with the `coerce!` function of the `MLJ` package, which does it inplace"
   ]
  },
  {
   "cell_type": "code",
   "execution_count": 130,
   "metadata": {},
   "outputs": [],
   "source": [
    "coerce!(X, Count => Continuous);"
   ]
  },
  {
   "cell_type": "markdown",
   "metadata": {},
   "source": [
    "Now we can partition our data with the `partition` function of the `MLJ` package"
   ]
  },
  {
   "cell_type": "code",
   "execution_count": 131,
   "metadata": {},
   "outputs": [],
   "source": [
    "train, test = partition(eachindex(y), 0.9, rng = 1);"
   ]
  },
  {
   "cell_type": "markdown",
   "metadata": {},
   "source": [
    "And train a tree without limiting parameters, such that we may overfit the training data"
   ]
  },
  {
   "cell_type": "code",
   "execution_count": null,
   "metadata": {},
   "outputs": [
    {
     "name": "stderr",
     "output_type": "stream",
     "text": [
      "\u001b[36m\u001b[1m[ \u001b[22m\u001b[39m\u001b[36m\u001b[1mInfo: \u001b[22m\u001b[39mTraining machine(DecisionTreeRegressor(max_depth = -1, …), …).\n"
     ]
    }
   ],
   "source": [
    "DecisionTreeRegressor = (@load DecisionTreeRegressor pkg=DecisionTree verbosity=0)\n",
    "tree_model = DecisionTreeRegressor()\n",
    "tree_machine = machine(tree_model, X[train, :], y[train])\n",
    "fit!(tree_machine);"
   ]
  },
  {
   "cell_type": "markdown",
   "metadata": {},
   "source": [
    "Now let's print this tree"
   ]
  },
  {
   "cell_type": "code",
   "execution_count": 133,
   "metadata": {},
   "outputs": [
    {
     "data": {
      "text/plain": [
       "CHits < 450.0\n",
       "├─ AtBat < 147.0\n",
       "│  ├─ 709.4666 (0/5)\n",
       "│  └─ CRBI < 114.5\n",
       "│     ├─ CRuns < 81.0\n",
       "│     │  ├─ CRuns < 64.0\n",
       "│     │  │  ├─ Hits < 69.5\n",
       "│     │  │  │  ⋮\n",
       "│     │  │  │  \n",
       "│     │  │  └─ Runs < 45.0\n",
       "│     │  │     ⋮\n",
       "│     │  │     \n",
       "│     │  └─ CAtBat < 842.5\n",
       "│     │     ├─ CRuns < 100.5\n",
       "│     │     │  ⋮\n",
       "│     │     │  \n",
       "│     │     └─ PutOuts < 151.5\n",
       "│     │        ⋮\n",
       "│     │        \n",
       "│     └─ CWalks < 120.0\n",
       "│        ├─ Walks < 29.5\n",
       "│        │  ├─ 318.9375 (0/8)\n",
       "│        │  └─ 215.0 (2/7)\n",
       "│        └─ Walks < 45.0\n",
       "│           ├─ 338.5 (0/5)\n",
       "│           └─ 447.22222222222223 (0/9)\n",
       "└─ Walks < 61.0\n",
       "   ├─ AtBat < 365.0\n",
       "   │  ├─ NewLeague__N < 0.5\n",
       "   │  │  ├─ Hits < 76.5\n",
       "   │  │  │  ├─ Errors < 5.5\n",
       "   │  │  │  │  ⋮\n",
       "   │  │  │  │  \n",
       "   │  │  │  └─ 500.4166666666667 (0/6)\n",
       "   │  │  └─ Years < 12.5\n",
       "   │  │     ├─ CWalks < 264.5\n",
       "   │  │     │  ⋮\n",
       "   │  │     │  \n",
       "   │  │     └─ PutOuts < 118.0\n",
       "   │  │        ⋮\n",
       "   │  │        \n",
       "   │  └─ PutOuts < 771.0\n",
       "   │     ├─ CRBI < 279.0\n",
       "   │     │  ├─ CWalks < 177.0\n",
       "   │     │  │  ⋮\n",
       "   │     │  │  \n",
       "   │     │  └─ AtBat < 585.0\n",
       "   │     │     ⋮\n",
       "   │     │     \n",
       "   │     └─ 1156.6666666666667 (0/6)\n",
       "   └─ RBI < 73.5\n",
       "      ├─ PutOuts < 239.5\n",
       "      │  ├─ 1156.0714285714287 (0/7)\n",
       "      │  └─ PutOuts < 308.0\n",
       "      │     ├─ 620.0 (0/6)\n",
       "      │     └─ 842.2916250000001 (0/8)\n",
       "      └─ Years < 13.5\n",
       "         ├─ CWalks < 457.5\n",
       "         │  ├─ 1118.5714285714287 (0/7)\n",
       "         │  └─ 2028.0118333333332 (0/6)\n",
       "         └─ 992.4654999999999 (0/6)\n"
      ]
     },
     "execution_count": 133,
     "metadata": {},
     "output_type": "execute_result"
    }
   ],
   "source": [
    "fitted_params(tree_machine)[1]"
   ]
  },
  {
   "cell_type": "markdown",
   "metadata": {},
   "source": [
    "This tree is quite large and has a very large, meaning that it defines a large amount of regions/partitions. We can calculate the Root Mean Square Error of this tree in order to later compare it to a more conservative training procedure."
   ]
  },
  {
   "cell_type": "code",
   "execution_count": 134,
   "metadata": {},
   "outputs": [
    {
     "data": {
      "text/plain": [
       "212.79287325701367"
      ]
     },
     "execution_count": 134,
     "metadata": {},
     "output_type": "execute_result"
    }
   ],
   "source": [
    "predictions = predict(tree_machine, X[test, :])\n",
    "sqrt(mean((predictions - y[test]) .^ 2))"
   ]
  },
  {
   "cell_type": "markdown",
   "metadata": {},
   "source": [
    "Like before, we can specify the `merge_purity_threshold` merge_purity_threshold `DecisionTreeRegressor` struct"
   ]
  },
  {
   "cell_type": "code",
   "execution_count": 135,
   "metadata": {},
   "outputs": [
    {
     "name": "stderr",
     "output_type": "stream",
     "text": [
      "\u001b[36m\u001b[1m[ \u001b[22m\u001b[39m\u001b[36m\u001b[1mInfo: \u001b[22m\u001b[39mTraining machine(DecisionTreeRegressor(max_depth = -1, …), …).\n"
     ]
    }
   ],
   "source": [
    "tree_model_prune = DecisionTreeRegressor(post_prune = true, merge_purity_threshold = 0.09)\n",
    "tree_machine_prune = machine(tree_model_prune, X[train, :], y[train])\n",
    "fit!(tree_machine_prune);"
   ]
  },
  {
   "cell_type": "markdown",
   "metadata": {},
   "source": [
    "Now we can get a much smaller tree"
   ]
  },
  {
   "cell_type": "code",
   "execution_count": 136,
   "metadata": {},
   "outputs": [
    {
     "data": {
      "text/plain": [
       "CHits < 450.0\n",
       "├─ AtBat < 147.0\n",
       "│  ├─ 709.4666 (0/5)\n",
       "│  └─ CRBI < 114.5\n",
       "│     ├─ CRuns < 81.0\n",
       "│     │  ├─ 75.0 (5/40)\n",
       "│     │  └─ CAtBat < 842.5\n",
       "│     │     ├─ 155.0 (2/14)\n",
       "│     │     └─ 250.0 (2/15)\n",
       "│     └─ 350.0 (3/29)\n",
       "└─ Walks < 61.0\n",
       "   ├─ AtBat < 365.0\n",
       "   │  ├─ 450.0 (4/39)\n",
       "   │  └─ PutOuts < 771.0\n",
       "   │     ├─ CRBI < 279.0\n",
       "   │     │  ├─ 630.0 (1/11)\n",
       "   │     │  └─ 850.0 (4/38)\n",
       "   │     └─ 1156.6666666666665 (0/6)\n",
       "   └─ RBI < 73.5\n",
       "      ├─ 875.0 (2/21)\n",
       "      └─ Years < 13.5\n",
       "         ├─ CWalks < 457.5\n",
       "         │  ├─ 1118.5714285714287 (0/7)\n",
       "         │  └─ 2028.0118333333332 (0/6)\n",
       "         └─ 992.4654999999999 (0/6)\n"
      ]
     },
     "execution_count": 136,
     "metadata": {},
     "output_type": "execute_result"
    }
   ],
   "source": [
    "fitted_params(tree_machine_prune)[1]"
   ]
  },
  {
   "cell_type": "markdown",
   "metadata": {},
   "source": [
    "Does it have better performance?"
   ]
  },
  {
   "cell_type": "code",
   "execution_count": 137,
   "metadata": {},
   "outputs": [
    {
     "data": {
      "text/plain": [
       "189.97871696786015"
      ]
     },
     "execution_count": 137,
     "metadata": {},
     "output_type": "execute_result"
    }
   ],
   "source": [
    "predictions_prune = predict(tree_machine_prune, X[test, :])\n",
    "sqrt(mean((predictions_prune - y[test]) .^ 2))"
   ]
  },
  {
   "cell_type": "markdown",
   "metadata": {},
   "source": [
    "It does perform better out of sample, meaning that we likely had a problem with overfittin the training data. Now we will follow the same procedure for $K$-folds cross-validation as before. The only difference is that we will use the Root Mean Square Error as our metric."
   ]
  },
  {
   "cell_type": "code",
   "execution_count": 138,
   "metadata": {},
   "outputs": [],
   "source": [
    "thresholds = exp.(collect(-10:0.01:0))\n",
    "rmses = []\n",
    "\n",
    "for threshold in thresholds\n",
    "        tree_model_prune.merge_purity_threshold = threshold\n",
    "        evaluation = evaluate!(\n",
    "                tree_machine_prune,\n",
    "                resampling = CV(nfolds = 3, shuffle = true, rng = 123),\n",
    "                measure = rmse\n",
    "        )\n",
    "        rmses = [rmses; evaluation.measurement]\n",
    "end"
   ]
  },
  {
   "cell_type": "markdown",
   "metadata": {},
   "source": [
    "We plot the cross-validation errors against our grid of purity thresholds's"
   ]
  },
  {
   "cell_type": "code",
   "execution_count": 139,
   "metadata": {},
   "outputs": [
    {
     "data": {
      "image/png": "[encoded data removed]",
      "image/svg+xml": [
       "<?xml version=\"1.0\" encoding=\"utf-8\"?>\n",
       "<svg xmlns=\"http://www.w3.org/2000/svg\" xmlns:xlink=\"http://www.w3.org/1999/xlink\" width=\"600\" height=\"400\" viewBox=\"0 0 2400 1600\">\n",
       "<defs>\n",
       "  <clipPath id=\"clip400\">\n",
       "    <rect x=\"0\" y=\"0\" width=\"2400\" height=\"1600\"/>\n",
       "  </clipPath>\n",
       "</defs>\n",
       "<path clip-path=\"url(#clip400)\" d=\"M0 1600 L2400 1600 L2400 0 L0 0  Z\" fill=\"#ffffff\" fill-rule=\"evenodd\" fill-opacity=\"1\"/>\n",
       "<defs>\n",
       "  <clipPath id=\"clip401\">\n",
       "    <rect x=\"480\" y=\"0\" width=\"1681\" height=\"1600\"/>\n",
       "  </clipPath>\n",
       "</defs>\n",
       "<path clip-path=\"url(#clip400)\" d=\"M172.015 1486.45 L2352.76 1486.45 L2352.76 47.2441 L172.015 47.2441  Z\" fill=\"#ffffff\" fill-rule=\"evenodd\" fill-opacity=\"1\"/>\n",
       "<defs>\n",
       "  <clipPath id=\"clip402\">\n",
       "    <rect x=\"172\" y=\"47\" width=\"2182\" height=\"1440\"/>\n",
       "  </clipPath>\n",
       "</defs>\n",
       "<polyline clip-path=\"url(#clip402)\" style=\"stroke:#000000; stroke-linecap:round; stroke-linejoin:round; stroke-width:2; stroke-opacity:0.1; fill:none\" points=\"233.734,1486.45 233.734,47.2441 \"/>\n",
       "<polyline clip-path=\"url(#clip402)\" style=\"stroke:#000000; stroke-linecap:round; stroke-linejoin:round; stroke-width:2; stroke-opacity:0.1; fill:none\" points=\"748.06,1486.45 748.06,47.2441 \"/>\n",
       "<polyline clip-path=\"url(#clip402)\" style=\"stroke:#000000; stroke-linecap:round; stroke-linejoin:round; stroke-width:2; stroke-opacity:0.1; fill:none\" points=\"1262.39,1486.45 1262.39,47.2441 \"/>\n",
       "<polyline clip-path=\"url(#clip402)\" style=\"stroke:#000000; stroke-linecap:round; stroke-linejoin:round; stroke-width:2; stroke-opacity:0.1; fill:none\" points=\"1776.71,1486.45 1776.71,47.2441 \"/>\n",
       "<polyline clip-path=\"url(#clip402)\" style=\"stroke:#000000; stroke-linecap:round; stroke-linejoin:round; stroke-width:2; stroke-opacity:0.1; fill:none\" points=\"2291.04,1486.45 2291.04,47.2441 \"/>\n",
       "<polyline clip-path=\"url(#clip402)\" style=\"stroke:#000000; stroke-linecap:round; stroke-linejoin:round; stroke-width:2; stroke-opacity:0.1; fill:none\" points=\"172.015,1332.56 2352.76,1332.56 \"/>\n",
       "<polyline clip-path=\"url(#clip402)\" style=\"stroke:#000000; stroke-linecap:round; stroke-linejoin:round; stroke-width:2; stroke-opacity:0.1; fill:none\" points=\"172.015,1067.77 2352.76,1067.77 \"/>\n",
       "<polyline clip-path=\"url(#clip402)\" style=\"stroke:#000000; stroke-linecap:round; stroke-linejoin:round; stroke-width:2; stroke-opacity:0.1; fill:none\" points=\"172.015,802.986 2352.76,802.986 \"/>\n",
       "<polyline clip-path=\"url(#clip402)\" style=\"stroke:#000000; stroke-linecap:round; stroke-linejoin:round; stroke-width:2; stroke-opacity:0.1; fill:none\" points=\"172.015,538.197 2352.76,538.197 \"/>\n",
       "<polyline clip-path=\"url(#clip402)\" style=\"stroke:#000000; stroke-linecap:round; stroke-linejoin:round; stroke-width:2; stroke-opacity:0.1; fill:none\" points=\"172.015,273.408 2352.76,273.408 \"/>\n",
       "<polyline clip-path=\"url(#clip400)\" style=\"stroke:#000000; stroke-linecap:round; stroke-linejoin:round; stroke-width:4; stroke-opacity:1; fill:none\" points=\"172.015,1486.45 2352.76,1486.45 \"/>\n",
       "<polyline clip-path=\"url(#clip400)\" style=\"stroke:#000000; stroke-linecap:round; stroke-linejoin:round; stroke-width:4; stroke-opacity:1; fill:none\" points=\"233.734,1486.45 233.734,1467.55 \"/>\n",
       "<polyline clip-path=\"url(#clip400)\" style=\"stroke:#000000; stroke-linecap:round; stroke-linejoin:round; stroke-width:4; stroke-opacity:1; fill:none\" points=\"748.06,1486.45 748.06,1467.55 \"/>\n",
       "<polyline clip-path=\"url(#clip400)\" style=\"stroke:#000000; stroke-linecap:round; stroke-linejoin:round; stroke-width:4; stroke-opacity:1; fill:none\" points=\"1262.39,1486.45 1262.39,1467.55 \"/>\n",
       "<polyline clip-path=\"url(#clip400)\" style=\"stroke:#000000; stroke-linecap:round; stroke-linejoin:round; stroke-width:4; stroke-opacity:1; fill:none\" points=\"1776.71,1486.45 1776.71,1467.55 \"/>\n",
       "<polyline clip-path=\"url(#clip400)\" style=\"stroke:#000000; stroke-linecap:round; stroke-linejoin:round; stroke-width:4; stroke-opacity:1; fill:none\" points=\"2291.04,1486.45 2291.04,1467.55 \"/>\n",
       "<path clip-path=\"url(#clip400)\" d=\"M165.181 1532.02 L194.857 1532.02 L194.857 1535.95 L165.181 1535.95 L165.181 1532.02 Z\" fill=\"#000000\" fill-rule=\"nonzero\" fill-opacity=\"1\" /><path clip-path=\"url(#clip400)\" d=\"M205.76 1544.91 L213.398 1544.91 L213.398 1518.55 L205.088 1520.21 L205.088 1515.95 L213.352 1514.29 L218.028 1514.29 L218.028 1544.91 L225.667 1544.91 L225.667 1548.85 L205.76 1548.85 L205.76 1544.91 Z\" fill=\"#000000\" fill-rule=\"nonzero\" fill-opacity=\"1\" /><path clip-path=\"url(#clip400)\" d=\"M245.111 1517.37 Q241.5 1517.37 239.671 1520.93 Q237.866 1524.47 237.866 1531.6 Q237.866 1538.71 239.671 1542.27 Q241.5 1545.82 245.111 1545.82 Q248.745 1545.82 250.551 1542.27 Q252.38 1538.71 252.38 1531.6 Q252.38 1524.47 250.551 1520.93 Q248.745 1517.37 245.111 1517.37 M245.111 1513.66 Q250.921 1513.66 253.977 1518.27 Q257.056 1522.85 257.056 1531.6 Q257.056 1540.33 253.977 1544.94 Q250.921 1549.52 245.111 1549.52 Q239.301 1549.52 236.222 1544.94 Q233.167 1540.33 233.167 1531.6 Q233.167 1522.85 236.222 1518.27 Q239.301 1513.66 245.111 1513.66 Z\" fill=\"#000000\" fill-rule=\"nonzero\" fill-opacity=\"1\" /><path clip-path=\"url(#clip400)\" d=\"M265.273 1542.97 L270.157 1542.97 L270.157 1548.85 L265.273 1548.85 L265.273 1542.97 Z\" fill=\"#000000\" fill-rule=\"nonzero\" fill-opacity=\"1\" /><path clip-path=\"url(#clip400)\" d=\"M290.342 1517.37 Q286.731 1517.37 284.903 1520.93 Q283.097 1524.47 283.097 1531.6 Q283.097 1538.71 284.903 1542.27 Q286.731 1545.82 290.342 1545.82 Q293.977 1545.82 295.782 1542.27 Q297.611 1538.71 297.611 1531.6 Q297.611 1524.47 295.782 1520.93 Q293.977 1517.37 290.342 1517.37 M290.342 1513.66 Q296.153 1513.66 299.208 1518.27 Q302.287 1522.85 302.287 1531.6 Q302.287 1540.33 299.208 1544.94 Q296.153 1549.52 290.342 1549.52 Q284.532 1549.52 281.454 1544.94 Q278.398 1540.33 278.398 1531.6 Q278.398 1522.85 281.454 1518.27 Q284.532 1513.66 290.342 1513.66 Z\" fill=\"#000000\" fill-rule=\"nonzero\" fill-opacity=\"1\" /><path clip-path=\"url(#clip400)\" d=\"M695.085 1532.02 L724.761 1532.02 L724.761 1535.95 L695.085 1535.95 L695.085 1532.02 Z\" fill=\"#000000\" fill-rule=\"nonzero\" fill-opacity=\"1\" /><path clip-path=\"url(#clip400)\" d=\"M733.673 1514.29 L755.895 1514.29 L755.895 1516.28 L743.349 1548.85 L738.465 1548.85 L750.27 1518.22 L733.673 1518.22 L733.673 1514.29 Z\" fill=\"#000000\" fill-rule=\"nonzero\" fill-opacity=\"1\" /><path clip-path=\"url(#clip400)\" d=\"M765.016 1542.97 L769.9 1542.97 L769.9 1548.85 L765.016 1548.85 L765.016 1542.97 Z\" fill=\"#000000\" fill-rule=\"nonzero\" fill-opacity=\"1\" /><path clip-path=\"url(#clip400)\" d=\"M780.131 1514.29 L798.488 1514.29 L798.488 1518.22 L784.414 1518.22 L784.414 1526.7 Q785.432 1526.35 786.451 1526.19 Q787.469 1526 788.488 1526 Q794.275 1526 797.654 1529.17 Q801.034 1532.34 801.034 1537.76 Q801.034 1543.34 797.562 1546.44 Q794.089 1549.52 787.77 1549.52 Q785.594 1549.52 783.326 1549.15 Q781.08 1548.78 778.673 1548.04 L778.673 1543.34 Q780.756 1544.47 782.978 1545.03 Q785.201 1545.58 787.677 1545.58 Q791.682 1545.58 794.02 1543.48 Q796.358 1541.37 796.358 1537.76 Q796.358 1534.15 794.02 1532.04 Q791.682 1529.94 787.677 1529.94 Q785.802 1529.94 783.927 1530.35 Q782.076 1530.77 780.131 1531.65 L780.131 1514.29 Z\" fill=\"#000000\" fill-rule=\"nonzero\" fill-opacity=\"1\" /><path clip-path=\"url(#clip400)\" d=\"M1208.91 1532.02 L1238.59 1532.02 L1238.59 1535.95 L1208.91 1535.95 L1208.91 1532.02 Z\" fill=\"#000000\" fill-rule=\"nonzero\" fill-opacity=\"1\" /><path clip-path=\"url(#clip400)\" d=\"M1248.73 1514.29 L1267.08 1514.29 L1267.08 1518.22 L1253.01 1518.22 L1253.01 1526.7 Q1254.03 1526.35 1255.05 1526.19 Q1256.07 1526 1257.08 1526 Q1262.87 1526 1266.25 1529.17 Q1269.63 1532.34 1269.63 1537.76 Q1269.63 1543.34 1266.16 1546.44 Q1262.69 1549.52 1256.37 1549.52 Q1254.19 1549.52 1251.92 1549.15 Q1249.68 1548.78 1247.27 1548.04 L1247.27 1543.34 Q1249.35 1544.47 1251.58 1545.03 Q1253.8 1545.58 1256.27 1545.58 Q1260.28 1545.58 1262.62 1543.48 Q1264.95 1541.37 1264.95 1537.76 Q1264.95 1534.15 1262.62 1532.04 Q1260.28 1529.94 1256.27 1529.94 Q1254.4 1529.94 1252.52 1530.35 Q1250.67 1530.77 1248.73 1531.65 L1248.73 1514.29 Z\" fill=\"#000000\" fill-rule=\"nonzero\" fill-opacity=\"1\" /><path clip-path=\"url(#clip400)\" d=\"M1278.84 1542.97 L1283.73 1542.97 L1283.73 1548.85 L1278.84 1548.85 L1278.84 1542.97 Z\" fill=\"#000000\" fill-rule=\"nonzero\" fill-opacity=\"1\" /><path clip-path=\"url(#clip400)\" d=\"M1303.91 1517.37 Q1300.3 1517.37 1298.47 1520.93 Q1296.67 1524.47 1296.67 1531.6 Q1296.67 1538.71 1298.47 1542.27 Q1300.3 1545.82 1303.91 1545.82 Q1307.55 1545.82 1309.35 1542.27 Q1311.18 1538.71 1311.18 1531.6 Q1311.18 1524.47 1309.35 1520.93 Q1307.55 1517.37 1303.91 1517.37 M1303.91 1513.66 Q1309.72 1513.66 1312.78 1518.27 Q1315.86 1522.85 1315.86 1531.6 Q1315.86 1540.33 1312.78 1544.94 Q1309.72 1549.52 1303.91 1549.52 Q1298.1 1549.52 1295.02 1544.94 Q1291.97 1540.33 1291.97 1531.6 Q1291.97 1522.85 1295.02 1518.27 Q1298.1 1513.66 1303.91 1513.66 Z\" fill=\"#000000\" fill-rule=\"nonzero\" fill-opacity=\"1\" /><path clip-path=\"url(#clip400)\" d=\"M1723.74 1532.02 L1753.41 1532.02 L1753.41 1535.95 L1723.74 1535.95 L1723.74 1532.02 Z\" fill=\"#000000\" fill-rule=\"nonzero\" fill-opacity=\"1\" /><path clip-path=\"url(#clip400)\" d=\"M1767.53 1544.91 L1783.85 1544.91 L1783.85 1548.85 L1761.91 1548.85 L1761.91 1544.91 Q1764.57 1542.16 1769.15 1537.53 Q1773.76 1532.88 1774.94 1531.53 Q1777.19 1529.01 1778.07 1527.27 Q1778.97 1525.51 1778.97 1523.82 Q1778.97 1521.07 1777.02 1519.33 Q1775.1 1517.6 1772 1517.6 Q1769.8 1517.6 1767.35 1518.36 Q1764.92 1519.13 1762.14 1520.68 L1762.14 1515.95 Q1764.96 1514.82 1767.42 1514.24 Q1769.87 1513.66 1771.91 1513.66 Q1777.28 1513.66 1780.47 1516.35 Q1783.67 1519.03 1783.67 1523.52 Q1783.67 1525.65 1782.86 1527.57 Q1782.07 1529.47 1779.96 1532.07 Q1779.38 1532.74 1776.28 1535.95 Q1773.18 1539.15 1767.53 1544.91 Z\" fill=\"#000000\" fill-rule=\"nonzero\" fill-opacity=\"1\" /><path clip-path=\"url(#clip400)\" d=\"M1793.67 1542.97 L1798.55 1542.97 L1798.55 1548.85 L1793.67 1548.85 L1793.67 1542.97 Z\" fill=\"#000000\" fill-rule=\"nonzero\" fill-opacity=\"1\" /><path clip-path=\"url(#clip400)\" d=\"M1808.78 1514.29 L1827.14 1514.29 L1827.14 1518.22 L1813.07 1518.22 L1813.07 1526.7 Q1814.08 1526.35 1815.1 1526.19 Q1816.12 1526 1817.14 1526 Q1822.93 1526 1826.31 1529.17 Q1829.69 1532.34 1829.69 1537.76 Q1829.69 1543.34 1826.21 1546.44 Q1822.74 1549.52 1816.42 1549.52 Q1814.25 1549.52 1811.98 1549.15 Q1809.73 1548.78 1807.32 1548.04 L1807.32 1543.34 Q1809.41 1544.47 1811.63 1545.03 Q1813.85 1545.58 1816.33 1545.58 Q1820.33 1545.58 1822.67 1543.48 Q1825.01 1541.37 1825.01 1537.76 Q1825.01 1534.15 1822.67 1532.04 Q1820.33 1529.94 1816.33 1529.94 Q1814.45 1529.94 1812.58 1530.35 Q1810.73 1530.77 1808.78 1531.65 L1808.78 1514.29 Z\" fill=\"#000000\" fill-rule=\"nonzero\" fill-opacity=\"1\" /><path clip-path=\"url(#clip400)\" d=\"M2268.42 1517.37 Q2264.81 1517.37 2262.98 1520.93 Q2261.18 1524.47 2261.18 1531.6 Q2261.18 1538.71 2262.98 1542.27 Q2264.81 1545.82 2268.42 1545.82 Q2272.06 1545.82 2273.86 1542.27 Q2275.69 1538.71 2275.69 1531.6 Q2275.69 1524.47 2273.86 1520.93 Q2272.06 1517.37 2268.42 1517.37 M2268.42 1513.66 Q2274.23 1513.66 2277.29 1518.27 Q2280.37 1522.85 2280.37 1531.6 Q2280.37 1540.33 2277.29 1544.94 Q2274.23 1549.52 2268.42 1549.52 Q2262.61 1549.52 2259.53 1544.94 Q2256.48 1540.33 2256.48 1531.6 Q2256.48 1522.85 2259.53 1518.27 Q2262.61 1513.66 2268.42 1513.66 Z\" fill=\"#000000\" fill-rule=\"nonzero\" fill-opacity=\"1\" /><path clip-path=\"url(#clip400)\" d=\"M2288.58 1542.97 L2293.47 1542.97 L2293.47 1548.85 L2288.58 1548.85 L2288.58 1542.97 Z\" fill=\"#000000\" fill-rule=\"nonzero\" fill-opacity=\"1\" /><path clip-path=\"url(#clip400)\" d=\"M2313.65 1517.37 Q2310.04 1517.37 2308.21 1520.93 Q2306.41 1524.47 2306.41 1531.6 Q2306.41 1538.71 2308.21 1542.27 Q2310.04 1545.82 2313.65 1545.82 Q2317.29 1545.82 2319.09 1542.27 Q2320.92 1538.71 2320.92 1531.6 Q2320.92 1524.47 2319.09 1520.93 Q2317.29 1517.37 2313.65 1517.37 M2313.65 1513.66 Q2319.46 1513.66 2322.52 1518.27 Q2325.6 1522.85 2325.6 1531.6 Q2325.6 1540.33 2322.52 1544.94 Q2319.46 1549.52 2313.65 1549.52 Q2307.84 1549.52 2304.76 1544.94 Q2301.71 1540.33 2301.71 1531.6 Q2301.71 1522.85 2304.76 1518.27 Q2307.84 1513.66 2313.65 1513.66 Z\" fill=\"#000000\" fill-rule=\"nonzero\" fill-opacity=\"1\" /><polyline clip-path=\"url(#clip400)\" style=\"stroke:#000000; stroke-linecap:round; stroke-linejoin:round; stroke-width:4; stroke-opacity:1; fill:none\" points=\"172.015,1486.45 172.015,47.2441 \"/>\n",
       "<polyline clip-path=\"url(#clip400)\" style=\"stroke:#000000; stroke-linecap:round; stroke-linejoin:round; stroke-width:4; stroke-opacity:1; fill:none\" points=\"172.015,1332.56 190.912,1332.56 \"/>\n",
       "<polyline clip-path=\"url(#clip400)\" style=\"stroke:#000000; stroke-linecap:round; stroke-linejoin:round; stroke-width:4; stroke-opacity:1; fill:none\" points=\"172.015,1067.77 190.912,1067.77 \"/>\n",
       "<polyline clip-path=\"url(#clip400)\" style=\"stroke:#000000; stroke-linecap:round; stroke-linejoin:round; stroke-width:4; stroke-opacity:1; fill:none\" points=\"172.015,802.986 190.912,802.986 \"/>\n",
       "<polyline clip-path=\"url(#clip400)\" style=\"stroke:#000000; stroke-linecap:round; stroke-linejoin:round; stroke-width:4; stroke-opacity:1; fill:none\" points=\"172.015,538.197 190.912,538.197 \"/>\n",
       "<polyline clip-path=\"url(#clip400)\" style=\"stroke:#000000; stroke-linecap:round; stroke-linejoin:round; stroke-width:4; stroke-opacity:1; fill:none\" points=\"172.015,273.408 190.912,273.408 \"/>\n",
       "<path clip-path=\"url(#clip400)\" d=\"M67.9133 1331.21 Q71.2698 1331.93 73.1448 1334.2 Q75.0429 1336.46 75.0429 1339.8 Q75.0429 1344.91 71.5244 1347.71 Q68.0059 1350.51 61.5245 1350.51 Q59.3486 1350.51 57.0338 1350.07 Q54.7421 1349.66 52.2884 1348.8 L52.2884 1344.29 Q54.2328 1345.42 56.5477 1346 Q58.8625 1346.58 61.3856 1346.58 Q65.7837 1346.58 68.0754 1344.84 Q70.3902 1343.11 70.3902 1339.8 Q70.3902 1336.74 68.2374 1335.03 Q66.1078 1333.29 62.2884 1333.29 L58.2606 1333.29 L58.2606 1329.45 L62.4735 1329.45 Q65.9226 1329.45 67.7513 1328.08 Q69.58 1326.7 69.58 1324.1 Q69.58 1321.44 67.6819 1320.03 Q65.8069 1318.59 62.2884 1318.59 Q60.3671 1318.59 58.168 1319.01 Q55.969 1319.43 53.3301 1320.31 L53.3301 1316.14 Q55.9921 1315.4 58.3069 1315.03 Q60.6449 1314.66 62.705 1314.66 Q68.0291 1314.66 71.1309 1317.09 Q74.2327 1319.5 74.2327 1323.62 Q74.2327 1326.49 72.5892 1328.48 Q70.9457 1330.45 67.9133 1331.21 Z\" fill=\"#000000\" fill-rule=\"nonzero\" fill-opacity=\"1\" /><path clip-path=\"url(#clip400)\" d=\"M83.9549 1315.28 L102.311 1315.28 L102.311 1319.22 L88.2373 1319.22 L88.2373 1327.69 Q89.2558 1327.34 90.2743 1327.18 Q91.2928 1327 92.3113 1327 Q98.0984 1327 101.478 1330.17 Q104.858 1333.34 104.858 1338.76 Q104.858 1344.33 101.385 1347.44 Q97.9132 1350.51 91.5938 1350.51 Q89.4178 1350.51 87.1493 1350.14 Q84.904 1349.77 82.4966 1349.03 L82.4966 1344.33 Q84.5799 1345.47 86.8021 1346.02 Q89.0243 1346.58 91.5012 1346.58 Q95.5058 1346.58 97.8437 1344.47 Q100.182 1342.37 100.182 1338.76 Q100.182 1335.14 97.8437 1333.04 Q95.5058 1330.93 91.5012 1330.93 Q89.6262 1330.93 87.7512 1331.35 Q85.8993 1331.76 83.9549 1332.64 L83.9549 1315.28 Z\" fill=\"#000000\" fill-rule=\"nonzero\" fill-opacity=\"1\" /><path clip-path=\"url(#clip400)\" d=\"M124.07 1318.36 Q120.459 1318.36 118.631 1321.93 Q116.825 1325.47 116.825 1332.6 Q116.825 1339.7 118.631 1343.27 Q120.459 1346.81 124.07 1346.81 Q127.705 1346.81 129.51 1343.27 Q131.339 1339.7 131.339 1332.6 Q131.339 1325.47 129.51 1321.93 Q127.705 1318.36 124.07 1318.36 M124.07 1314.66 Q129.881 1314.66 132.936 1319.26 Q136.015 1323.85 136.015 1332.6 Q136.015 1341.32 132.936 1345.93 Q129.881 1350.51 124.07 1350.51 Q118.26 1350.51 115.182 1345.93 Q112.126 1341.32 112.126 1332.6 Q112.126 1323.85 115.182 1319.26 Q118.26 1314.66 124.07 1314.66 Z\" fill=\"#000000\" fill-rule=\"nonzero\" fill-opacity=\"1\" /><path clip-path=\"url(#clip400)\" d=\"M66.5939 1054.57 L54.7884 1073.02 L66.5939 1073.02 L66.5939 1054.57 M65.367 1050.49 L71.2466 1050.49 L71.2466 1073.02 L76.1772 1073.02 L76.1772 1076.91 L71.2466 1076.91 L71.2466 1085.05 L66.5939 1085.05 L66.5939 1076.91 L50.9921 1076.91 L50.9921 1072.39 L65.367 1050.49 Z\" fill=\"#000000\" fill-rule=\"nonzero\" fill-opacity=\"1\" /><path clip-path=\"url(#clip400)\" d=\"M93.9086 1053.57 Q90.2975 1053.57 88.4688 1057.14 Q86.6632 1060.68 86.6632 1067.81 Q86.6632 1074.92 88.4688 1078.48 Q90.2975 1082.02 93.9086 1082.02 Q97.5428 1082.02 99.3483 1078.48 Q101.177 1074.92 101.177 1067.81 Q101.177 1060.68 99.3483 1057.14 Q97.5428 1053.57 93.9086 1053.57 M93.9086 1049.87 Q99.7187 1049.87 102.774 1054.48 Q105.853 1059.06 105.853 1067.81 Q105.853 1076.54 102.774 1081.14 Q99.7187 1085.73 93.9086 1085.73 Q88.0984 1085.73 85.0197 1081.14 Q81.9642 1076.54 81.9642 1067.81 Q81.9642 1059.06 85.0197 1054.48 Q88.0984 1049.87 93.9086 1049.87 Z\" fill=\"#000000\" fill-rule=\"nonzero\" fill-opacity=\"1\" /><path clip-path=\"url(#clip400)\" d=\"M124.07 1053.57 Q120.459 1053.57 118.631 1057.14 Q116.825 1060.68 116.825 1067.81 Q116.825 1074.92 118.631 1078.48 Q120.459 1082.02 124.07 1082.02 Q127.705 1082.02 129.51 1078.48 Q131.339 1074.92 131.339 1067.81 Q131.339 1060.68 129.51 1057.14 Q127.705 1053.57 124.07 1053.57 M124.07 1049.87 Q129.881 1049.87 132.936 1054.48 Q136.015 1059.06 136.015 1067.81 Q136.015 1076.54 132.936 1081.14 Q129.881 1085.73 124.07 1085.73 Q118.26 1085.73 115.182 1081.14 Q112.126 1076.54 112.126 1067.81 Q112.126 1059.06 115.182 1054.48 Q118.26 1049.87 124.07 1049.87 Z\" fill=\"#000000\" fill-rule=\"nonzero\" fill-opacity=\"1\" /><path clip-path=\"url(#clip400)\" d=\"M66.5939 789.78 L54.7884 808.229 L66.5939 808.229 L66.5939 789.78 M65.367 785.706 L71.2466 785.706 L71.2466 808.229 L76.1772 808.229 L76.1772 812.118 L71.2466 812.118 L71.2466 820.266 L66.5939 820.266 L66.5939 812.118 L50.9921 812.118 L50.9921 807.604 L65.367 785.706 Z\" fill=\"#000000\" fill-rule=\"nonzero\" fill-opacity=\"1\" /><path clip-path=\"url(#clip400)\" d=\"M83.9549 785.706 L102.311 785.706 L102.311 789.641 L88.2373 789.641 L88.2373 798.113 Q89.2558 797.766 90.2743 797.604 Q91.2928 797.419 92.3113 797.419 Q98.0984 797.419 101.478 800.59 Q104.858 803.761 104.858 809.178 Q104.858 814.757 101.385 817.858 Q97.9132 820.937 91.5938 820.937 Q89.4178 820.937 87.1493 820.567 Q84.904 820.196 82.4966 819.456 L82.4966 814.757 Q84.5799 815.891 86.8021 816.446 Q89.0243 817.002 91.5012 817.002 Q95.5058 817.002 97.8437 814.895 Q100.182 812.789 100.182 809.178 Q100.182 805.567 97.8437 803.46 Q95.5058 801.354 91.5012 801.354 Q89.6262 801.354 87.7512 801.771 Q85.8993 802.187 83.9549 803.067 L83.9549 785.706 Z\" fill=\"#000000\" fill-rule=\"nonzero\" fill-opacity=\"1\" /><path clip-path=\"url(#clip400)\" d=\"M124.07 788.784 Q120.459 788.784 118.631 792.349 Q116.825 795.891 116.825 803.021 Q116.825 810.127 118.631 813.692 Q120.459 817.233 124.07 817.233 Q127.705 817.233 129.51 813.692 Q131.339 810.127 131.339 803.021 Q131.339 795.891 129.51 792.349 Q127.705 788.784 124.07 788.784 M124.07 785.081 Q129.881 785.081 132.936 789.687 Q136.015 794.271 136.015 803.021 Q136.015 811.747 132.936 816.354 Q129.881 820.937 124.07 820.937 Q118.26 820.937 115.182 816.354 Q112.126 811.747 112.126 803.021 Q112.126 794.271 115.182 789.687 Q118.26 785.081 124.07 785.081 Z\" fill=\"#000000\" fill-rule=\"nonzero\" fill-opacity=\"1\" /><path clip-path=\"url(#clip400)\" d=\"M53.793 520.917 L72.1494 520.917 L72.1494 524.852 L58.0754 524.852 L58.0754 533.324 Q59.0939 532.977 60.1124 532.815 Q61.131 532.63 62.1495 532.63 Q67.9365 532.63 71.3161 535.801 Q74.6957 538.972 74.6957 544.389 Q74.6957 549.968 71.2235 553.07 Q67.7513 556.148 61.4319 556.148 Q59.256 556.148 56.9875 555.778 Q54.7421 555.408 52.3347 554.667 L52.3347 549.968 Q54.418 551.102 56.6402 551.658 Q58.8625 552.213 61.3393 552.213 Q65.3439 552.213 67.6819 550.107 Q70.0198 548 70.0198 544.389 Q70.0198 540.778 67.6819 538.671 Q65.3439 536.565 61.3393 536.565 Q59.4643 536.565 57.5893 536.982 Q55.7375 537.398 53.793 538.278 L53.793 520.917 Z\" fill=\"#000000\" fill-rule=\"nonzero\" fill-opacity=\"1\" /><path clip-path=\"url(#clip400)\" d=\"M93.9086 523.996 Q90.2975 523.996 88.4688 527.56 Q86.6632 531.102 86.6632 538.232 Q86.6632 545.338 88.4688 548.903 Q90.2975 552.445 93.9086 552.445 Q97.5428 552.445 99.3483 548.903 Q101.177 545.338 101.177 538.232 Q101.177 531.102 99.3483 527.56 Q97.5428 523.996 93.9086 523.996 M93.9086 520.292 Q99.7187 520.292 102.774 524.898 Q105.853 529.482 105.853 538.232 Q105.853 546.958 102.774 551.565 Q99.7187 556.148 93.9086 556.148 Q88.0984 556.148 85.0197 551.565 Q81.9642 546.958 81.9642 538.232 Q81.9642 529.482 85.0197 524.898 Q88.0984 520.292 93.9086 520.292 Z\" fill=\"#000000\" fill-rule=\"nonzero\" fill-opacity=\"1\" /><path clip-path=\"url(#clip400)\" d=\"M124.07 523.996 Q120.459 523.996 118.631 527.56 Q116.825 531.102 116.825 538.232 Q116.825 545.338 118.631 548.903 Q120.459 552.445 124.07 552.445 Q127.705 552.445 129.51 548.903 Q131.339 545.338 131.339 538.232 Q131.339 531.102 129.51 527.56 Q127.705 523.996 124.07 523.996 M124.07 520.292 Q129.881 520.292 132.936 524.898 Q136.015 529.482 136.015 538.232 Q136.015 546.958 132.936 551.565 Q129.881 556.148 124.07 556.148 Q118.26 556.148 115.182 551.565 Q112.126 546.958 112.126 538.232 Q112.126 529.482 115.182 524.898 Q118.26 520.292 124.07 520.292 Z\" fill=\"#000000\" fill-rule=\"nonzero\" fill-opacity=\"1\" /><path clip-path=\"url(#clip400)\" d=\"M53.793 256.128 L72.1494 256.128 L72.1494 260.063 L58.0754 260.063 L58.0754 268.535 Q59.0939 268.188 60.1124 268.026 Q61.131 267.841 62.1495 267.841 Q67.9365 267.841 71.3161 271.012 Q74.6957 274.184 74.6957 279.6 Q74.6957 285.179 71.2235 288.281 Q67.7513 291.359 61.4319 291.359 Q59.256 291.359 56.9875 290.989 Q54.7421 290.619 52.3347 289.878 L52.3347 285.179 Q54.418 286.313 56.6402 286.869 Q58.8625 287.424 61.3393 287.424 Q65.3439 287.424 67.6819 285.318 Q70.0198 283.211 70.0198 279.6 Q70.0198 275.989 67.6819 273.883 Q65.3439 271.776 61.3393 271.776 Q59.4643 271.776 57.5893 272.193 Q55.7375 272.61 53.793 273.489 L53.793 256.128 Z\" fill=\"#000000\" fill-rule=\"nonzero\" fill-opacity=\"1\" /><path clip-path=\"url(#clip400)\" d=\"M83.9549 256.128 L102.311 256.128 L102.311 260.063 L88.2373 260.063 L88.2373 268.535 Q89.2558 268.188 90.2743 268.026 Q91.2928 267.841 92.3113 267.841 Q98.0984 267.841 101.478 271.012 Q104.858 274.184 104.858 279.6 Q104.858 285.179 101.385 288.281 Q97.9132 291.359 91.5938 291.359 Q89.4178 291.359 87.1493 290.989 Q84.904 290.619 82.4966 289.878 L82.4966 285.179 Q84.5799 286.313 86.8021 286.869 Q89.0243 287.424 91.5012 287.424 Q95.5058 287.424 97.8437 285.318 Q100.182 283.211 100.182 279.6 Q100.182 275.989 97.8437 273.883 Q95.5058 271.776 91.5012 271.776 Q89.6262 271.776 87.7512 272.193 Q85.8993 272.61 83.9549 273.489 L83.9549 256.128 Z\" fill=\"#000000\" fill-rule=\"nonzero\" fill-opacity=\"1\" /><path clip-path=\"url(#clip400)\" d=\"M124.07 259.207 Q120.459 259.207 118.631 262.772 Q116.825 266.313 116.825 273.443 Q116.825 280.549 118.631 284.114 Q120.459 287.656 124.07 287.656 Q127.705 287.656 129.51 284.114 Q131.339 280.549 131.339 273.443 Q131.339 266.313 129.51 262.772 Q127.705 259.207 124.07 259.207 M124.07 255.503 Q129.881 255.503 132.936 260.11 Q136.015 264.693 136.015 273.443 Q136.015 282.17 132.936 286.776 Q129.881 291.359 124.07 291.359 Q118.26 291.359 115.182 286.776 Q112.126 282.17 112.126 273.443 Q112.126 264.693 115.182 260.11 Q118.26 255.503 124.07 255.503 Z\" fill=\"#000000\" fill-rule=\"nonzero\" fill-opacity=\"1\" /><polyline clip-path=\"url(#clip402)\" style=\"stroke:#009af9; stroke-linecap:round; stroke-linejoin:round; stroke-width:4; stroke-opacity:1; fill:none\" points=\"233.734,87.9763 235.791,87.9763 237.849,87.9763 239.906,87.9763 241.963,87.9763 244.02,87.9763 246.078,87.9763 248.135,87.9763 250.192,87.9763 252.25,87.9763 254.307,87.9763 256.364,87.9763 258.422,87.9763 260.479,87.9763 262.536,87.9763 264.593,87.9763 266.651,87.9763 268.708,87.9763 270.765,87.9763 272.823,87.9763 274.88,87.9763 276.937,87.9763 278.995,87.9763 281.052,87.9763 283.109,87.9763 285.166,87.9763 287.224,87.9763 289.281,87.9763 291.338,87.9763 293.396,87.9763 295.453,87.9763 297.51,87.9763 299.568,87.9763 301.625,87.9763 303.682,87.9763 305.74,87.9763 307.797,87.9763 309.854,87.9763 311.911,87.9763 313.969,87.9763 316.026,87.9763 318.083,87.9763 320.141,87.9763 322.198,87.9763 324.255,87.9763 326.313,87.9763 328.37,87.9763 330.427,87.9763 332.484,87.9763 334.542,87.9763 336.599,87.9763 338.656,87.9763 340.714,87.9763 342.771,87.9763 344.828,87.9763 346.886,87.9763 348.943,87.9763 351,87.9763 353.057,87.9763 355.115,87.9763 357.172,87.9763 359.229,87.9763 361.287,87.9763 363.344,87.9763 365.401,87.9763 367.459,87.9763 369.516,87.9763 371.573,87.9763 373.631,87.9763 375.688,87.9763 377.745,87.9763 379.802,87.9763 381.86,87.9763 383.917,87.9763 385.974,87.9763 388.032,87.9763 390.089,87.9763 392.146,87.9763 394.204,87.9763 396.261,87.9763 398.318,87.9763 400.375,87.9763 402.433,87.9763 404.49,87.9763 406.547,87.9763 408.605,87.9763 410.662,87.9763 412.719,87.9763 414.777,87.9763 416.834,87.9763 418.891,87.9763 420.948,87.9763 423.006,87.9763 425.063,87.9763 427.12,87.9763 429.178,87.9763 431.235,87.9763 433.292,87.9763 435.35,87.9763 437.407,87.9763 439.464,87.9763 441.522,87.9763 443.579,87.9763 445.636,87.9763 447.693,87.9763 449.751,87.9763 451.808,87.9763 453.865,87.9763 455.923,87.9763 457.98,87.9763 460.037,87.9763 462.095,87.9763 464.152,87.9763 466.209,87.9763 468.266,87.9763 470.324,87.9763 472.381,87.9763 474.438,87.9763 476.496,87.9763 478.553,87.9763 480.61,87.9763 482.668,87.9763 484.725,87.9763 486.782,87.9763 488.839,87.9763 490.897,87.9763 492.954,87.9763 495.011,87.9763 497.069,87.9763 499.126,87.9763 501.183,87.9763 503.241,87.9763 505.298,87.9763 507.355,87.9763 509.412,87.9763 511.47,87.9763 513.527,87.9763 515.584,87.9763 517.642,87.9763 519.699,87.9763 521.756,87.9763 523.814,87.9763 525.871,87.9763 527.928,87.9763 529.986,87.9763 532.043,87.9763 534.1,87.9763 536.157,87.9763 538.215,87.9763 540.272,87.9763 542.329,87.9763 544.387,87.9763 546.444,87.9763 548.501,87.9763 550.559,87.9763 552.616,87.9763 554.673,87.9763 556.73,87.9763 558.788,87.9763 560.845,87.9763 562.902,87.9763 564.96,87.9763 567.017,87.9763 569.074,87.9763 571.132,87.9763 573.189,87.9763 575.246,87.9763 577.303,87.9763 579.361,87.9763 581.418,87.9763 583.475,87.9763 585.533,87.9763 587.59,87.9763 589.647,87.9763 591.705,87.9763 593.762,87.9763 595.819,87.9763 597.877,87.9763 599.934,87.9763 601.991,87.9763 604.048,87.9763 606.106,87.9763 608.163,87.9763 610.22,87.9763 612.278,87.9763 614.335,87.9763 616.392,87.9763 618.45,87.9763 620.507,87.9763 622.564,87.9763 624.621,87.9763 626.679,87.9763 628.736,87.9763 630.793,87.9763 632.851,87.9763 634.908,87.9763 636.965,87.9763 639.023,87.9763 641.08,87.9763 643.137,87.9763 645.194,87.9763 647.252,87.9763 649.309,87.9763 651.366,87.9763 653.424,87.9763 655.481,87.9763 657.538,87.9763 659.596,87.9763 661.653,87.9763 663.71,87.9763 665.768,87.9763 667.825,87.9763 669.882,87.9763 671.939,87.9763 673.997,87.9763 676.054,87.9763 678.111,87.9763 680.169,87.9763 682.226,87.9763 684.283,87.9763 686.341,87.9763 688.398,87.9763 690.455,87.9763 692.512,87.9763 694.57,87.9763 696.627,87.9763 698.684,87.9763 700.742,87.9763 702.799,87.9763 704.856,87.9763 706.914,87.9763 708.971,87.9763 711.028,87.9763 713.085,87.9763 715.143,87.9763 717.2,87.9763 719.257,87.9763 721.315,87.9763 723.372,87.9763 725.429,87.9763 727.487,87.9763 729.544,87.9763 731.601,87.9763 733.659,87.9763 735.716,87.9763 737.773,87.9763 739.83,87.9763 741.888,87.9763 743.945,87.9763 746.002,87.9763 748.06,87.9763 750.117,87.9763 752.174,87.9763 754.232,87.9763 756.289,87.9763 758.346,87.9763 760.403,87.9763 762.461,87.9763 764.518,87.9763 766.575,87.9763 768.633,87.9763 770.69,87.9763 772.747,87.9763 774.805,87.9763 776.862,87.9763 778.919,87.9763 780.976,87.9763 783.034,87.9763 785.091,87.9763 787.148,87.9763 789.206,87.9763 791.263,87.9763 793.32,87.9763 795.378,87.9763 797.435,87.9763 799.492,87.9763 801.55,87.9763 803.607,87.9763 805.664,87.9763 807.721,87.9763 809.779,87.9763 811.836,87.9763 813.893,87.9763 815.951,87.9763 818.008,87.9763 820.065,87.9763 822.123,87.9763 824.18,87.9763 826.237,87.9763 828.294,87.9763 830.352,87.9763 832.409,87.9763 834.466,87.9763 836.524,87.9763 838.581,87.9763 840.638,87.9763 842.696,87.9763 844.753,87.9763 846.81,87.9763 848.867,87.9763 850.925,87.9763 852.982,87.9763 855.039,87.9763 857.097,87.9763 859.154,87.9763 861.211,87.9763 863.269,87.9763 865.326,87.9763 867.383,87.9763 869.441,87.9763 871.498,87.9763 873.555,87.9763 875.612,87.9763 877.67,87.9763 879.727,87.9763 881.784,87.9763 883.842,87.9763 885.899,87.9763 887.956,87.9763 890.014,87.9763 892.071,87.9763 894.128,87.9763 896.185,87.9763 898.243,87.9763 900.3,87.9763 902.357,87.9763 904.415,87.9763 906.472,87.9763 908.529,87.9763 910.587,87.9763 912.644,87.9763 914.701,87.9763 916.758,87.9763 918.816,87.9763 920.873,87.9763 922.93,87.9763 924.988,87.9763 927.045,87.9763 929.102,87.9763 931.16,87.9763 933.217,87.9763 935.274,87.9763 937.332,87.9763 939.389,87.9763 941.446,87.9763 943.503,87.9763 945.561,87.9763 947.618,87.9763 949.675,87.9763 951.733,87.9763 953.79,87.9763 955.847,87.9763 957.905,87.9763 959.962,87.9763 962.019,87.9763 964.076,87.9763 966.134,87.9763 968.191,87.9763 970.248,87.9763 972.306,87.9763 974.363,87.9763 976.42,87.9763 978.478,87.9763 980.535,87.9763 982.592,87.9763 984.649,87.9763 986.707,87.9763 988.764,87.9763 990.821,87.9763 992.879,87.9763 994.936,87.9763 996.993,87.9763 999.051,87.9763 1001.11,87.9763 1003.17,87.9763 1005.22,87.9763 1007.28,87.9763 1009.34,87.9763 1011.39,87.9763 1013.45,87.9763 1015.51,87.9763 1017.57,87.9763 1019.62,87.9763 1021.68,87.9763 1023.74,87.9763 1025.8,87.9763 1027.85,87.9763 1029.91,87.9763 1031.97,87.9763 1034.02,87.9763 1036.08,87.9763 1038.14,87.9763 1040.2,87.9763 1042.25,87.9763 1044.31,87.9763 1046.37,87.9763 1048.43,87.9763 1050.48,87.9763 1052.54,87.9763 1054.6,87.9763 1056.66,87.9763 1058.71,87.9763 1060.77,87.9763 1062.83,87.9763 1064.88,87.9763 1066.94,87.9763 1069,87.9763 1071.06,87.9763 1073.11,87.9763 1075.17,87.9763 1077.23,87.9763 1079.29,87.9763 1081.34,87.9763 1083.4,87.9763 1085.46,87.9763 1087.51,87.9763 1089.57,87.9763 1091.63,87.9763 1093.69,87.9763 1095.74,87.9763 1097.8,87.9763 1099.86,87.9763 1101.92,87.9763 1103.97,87.9763 1106.03,87.9763 1108.09,87.9763 1110.14,87.9763 1112.2,87.9763 1114.26,87.9763 1116.32,87.9763 1118.37,87.9763 1120.43,87.9763 1122.49,87.9763 1124.55,87.9763 1126.6,87.9763 1128.66,87.9763 1130.72,87.9763 1132.78,87.9763 1134.83,87.9763 1136.89,87.9763 1138.95,87.9763 1141,87.9763 1143.06,87.9763 1145.12,87.9763 1147.18,87.9763 1149.23,87.9763 1151.29,87.9763 1153.35,87.9763 1155.41,87.9763 1157.46,87.9763 1159.52,87.9763 1161.58,87.9763 1163.63,87.9763 1165.69,87.9763 1167.75,87.9763 1169.81,87.9763 1171.86,87.9763 1173.92,87.9763 1175.98,87.9763 1178.04,87.9763 1180.09,87.9763 1182.15,87.9763 1184.21,87.9763 1186.27,87.9763 1188.32,87.9763 1190.38,87.9763 1192.44,87.9763 1194.49,87.9763 1196.55,87.9763 1198.61,87.9763 1200.67,87.9763 1202.72,87.9763 1204.78,87.9763 1206.84,87.9763 1208.9,87.9763 1210.95,87.9763 1213.01,87.9763 1215.07,87.9763 1217.12,87.9763 1219.18,87.9763 1221.24,87.9763 1223.3,87.9763 1225.35,87.9763 1227.41,87.9763 1229.47,87.9763 1231.53,87.9763 1233.58,87.9763 1235.64,87.9763 1237.7,87.9763 1239.76,87.9763 1241.81,87.9763 1243.87,87.9763 1245.93,87.9763 1247.98,87.9763 1250.04,87.9763 1252.1,87.9763 1254.16,87.9763 1256.21,87.9763 1258.27,87.9763 1260.33,87.9763 1262.39,87.9763 1264.44,87.9763 1266.5,87.9763 1268.56,87.9763 1270.61,87.9763 1272.67,87.9763 1274.73,87.9763 1276.79,87.9763 1278.84,87.9763 1280.9,87.9763 1282.96,87.9763 1285.02,87.9763 1287.07,87.9763 1289.13,87.9763 1291.19,87.9763 1293.24,87.9763 1295.3,87.9763 1297.36,87.9763 1299.42,87.9763 1301.47,87.9763 1303.53,87.9763 1305.59,87.9763 1307.65,87.9763 1309.7,87.9763 1311.76,87.9763 1313.82,87.9763 1315.88,87.9763 1317.93,87.9763 1319.99,87.9763 1322.05,87.9763 1324.1,87.9763 1326.16,87.9763 1328.22,87.9763 1330.28,87.9763 1332.33,87.9763 1334.39,87.9763 1336.45,87.9763 1338.51,87.9763 1340.56,87.9763 1342.62,87.9763 1344.68,87.9763 1346.73,87.9763 1348.79,87.9763 1350.85,87.9763 1352.91,87.9763 1354.96,87.9763 1357.02,87.9763 1359.08,87.9763 1361.14,87.9763 1363.19,87.9763 1365.25,87.9763 1367.31,87.9763 1369.37,87.9763 1371.42,87.9763 1373.48,87.9763 1375.54,87.9763 1377.59,87.9763 1379.65,87.9763 1381.71,87.9763 1383.77,87.9763 1385.82,87.9763 1387.88,87.9763 1389.94,87.9763 1392,87.9763 1394.05,87.9763 1396.11,87.9763 1398.17,87.9763 1400.22,87.9763 1402.28,87.9763 1404.34,87.9763 1406.4,87.9763 1408.45,87.9763 1410.51,87.9763 1412.57,87.9763 1414.63,87.9763 1416.68,87.9763 1418.74,87.9763 1420.8,87.9763 1422.85,87.9763 1424.91,87.9763 1426.97,87.9763 1429.03,87.9763 1431.08,87.9763 1433.14,87.9763 1435.2,87.9763 1437.26,87.9763 1439.31,87.9763 1441.37,87.9763 1443.43,87.9763 1445.49,87.9763 1447.54,87.9763 1449.6,87.9763 1451.66,87.9763 1453.71,87.9763 1455.77,87.9763 1457.83,87.9763 1459.89,87.9763 1461.94,87.9763 1464,87.9763 1466.06,87.9763 1468.12,87.9763 1470.17,87.9763 1472.23,87.9763 1474.29,87.9763 1476.34,87.9763 1478.4,87.9763 1480.46,87.9763 1482.52,87.9763 1484.57,87.9763 1486.63,87.9763 1488.69,87.9763 1490.75,87.9763 1492.8,87.9763 1494.86,87.9763 1496.92,87.9763 1498.98,87.9763 1501.03,87.9763 1503.09,87.9763 1505.15,87.9763 1507.2,87.9763 1509.26,87.9763 1511.32,87.9763 1513.38,87.9763 1515.43,87.9763 1517.49,87.9763 1519.55,87.9763 1521.61,87.9763 1523.66,87.9763 1525.72,87.9763 1527.78,87.9763 1529.83,87.9763 1531.89,87.9763 1533.95,87.9763 1536.01,503.962 1538.06,503.962 1540.12,503.962 1542.18,503.962 1544.24,503.962 1546.29,503.962 1548.35,503.962 1550.41,503.962 1552.47,503.962 1554.52,503.962 1556.58,503.962 1558.64,503.962 1560.69,503.962 1562.75,503.962 1564.81,503.962 1566.87,503.962 1568.92,503.962 1570.98,503.962 1573.04,503.962 1575.1,503.962 1577.15,503.962 1579.21,503.962 1581.27,869.993 1583.32,869.993 1585.38,869.993 1587.44,869.993 1589.5,869.993 1591.55,869.993 1593.61,869.993 1595.67,869.993 1597.73,869.993 1599.78,869.993 1601.84,869.993 1603.9,869.993 1605.95,869.993 1608.01,869.993 1610.07,869.993 1612.13,869.993 1614.18,869.993 1616.24,869.993 1618.3,1069.83 1620.36,1069.83 1622.41,1069.83 1624.47,1069.83 1626.53,1069.83 1628.59,1069.83 1630.64,1069.83 1632.7,1069.83 1634.76,1069.83 1636.81,1069.83 1638.87,999.906 1640.93,999.906 1642.99,999.906 1645.04,999.906 1647.1,999.906 1649.16,1053.92 1651.22,1053.92 1653.27,1053.92 1655.33,1053.92 1657.39,1053.92 1659.44,1053.92 1661.5,1052.56 1663.56,1052.56 1665.62,1052.56 1667.67,1052.56 1669.73,1052.56 1671.79,1052.56 1673.85,1052.56 1675.9,1052.56 1677.96,1052.56 1680.02,1062.08 1682.08,1063.32 1684.13,1062.08 1686.19,1062.08 1688.25,1062.08 1690.3,1062.08 1692.36,1062.08 1694.42,1063.32 1696.48,1063.32 1698.53,1062.08 1700.59,1062.08 1702.65,1063.32 1704.71,1063.32 1706.76,1114.25 1708.82,1112.98 1710.88,1112.98 1712.93,847.302 1714.99,846.18 1717.05,847.302 1719.11,1106.47 1721.16,1127.21 1723.22,1127.21 1725.28,1125.94 1727.34,1127.21 1729.39,1125.94 1731.45,1127.21 1733.51,1127.21 1735.57,1205.44 1737.62,1195.51 1739.68,1195.51 1741.74,1195.51 1743.79,1195.51 1745.85,1221.19 1747.91,1123.59 1749.97,1122.99 1752.02,1122.99 1754.08,1124.26 1756.14,1222.71 1758.2,1222.71 1760.25,1125.04 1762.31,1125.04 1764.37,1224.59 1766.42,1126.83 1768.48,1240.77 1770.54,1231.86 1772.6,1168.38 1774.65,1168.38 1776.71,1268.26 1778.77,1168.38 1780.83,1272.78 1782.88,1272.78 1784.94,1271.04 1787,1173.74 1789.05,1271.59 1791.11,1318.66 1793.17,1213.24 1795.23,1213.24 1797.28,1317.87 1799.34,1274.39 1801.4,1377.67 1803.46,1272.08 1805.51,1380.12 1807.57,1274.39 1809.63,1377.67 1811.69,1310.73 1813.74,1421.12 1815.8,1310.73 1817.86,1401.99 1819.91,1401.99 1821.97,1401.08 1824.03,1401.99 1826.09,1401.99 1828.14,1397.41 1830.2,1397.41 1832.26,1397.41 1834.32,1397.41 1836.37,1397.41 1838.43,1398.8 1840.49,1432 1842.54,1432 1844.6,1430.58 1846.66,1432 1848.72,1432 1850.77,1429.64 1852.83,1428.23 1854.89,1430.38 1856.95,1428.96 1859,1428.96 1861.06,1430.38 1863.12,1430.38 1865.18,1438.64 1867.23,1438.64 1869.29,1437.21 1871.35,1441.14 1873.4,1439.71 1875.46,1439.71 1877.52,1441.14 1879.58,1441.14 1881.63,1441.14 1883.69,1439.71 1885.75,1441.14 1887.81,1441.14 1889.86,1441.14 1891.92,1441.14 1893.98,1441.14 1896.03,1441.14 1898.09,1439.71 1900.15,1441.14 1902.21,1441.14 1904.26,1441.14 1906.32,1440.73 1908.38,1439.31 1910.44,1440.73 1912.49,1439.31 1914.55,1440.73 1916.61,1440.73 1918.66,1439.31 1920.72,1440.73 1922.78,1438.89 1924.84,1437.47 1926.89,1437.47 1928.95,1438.89 1931.01,1437.47 1933.07,1437.47 1935.12,1438.89 1937.18,1437.47 1939.24,1438.89 1941.3,1444.29 1943.35,1445.72 1945.41,1439.14 1947.47,1437.6 1949.52,1442.74 1951.58,1438.22 1953.64,1439.14 1955.7,1439.77 1957.75,1439.02 1959.81,1445.71 1961.87,1433.57 1963.93,1434.85 1965.98,1432.25 1968.04,1432.62 1970.1,1434.23 1972.15,1434.49 1974.21,1437.75 1976.27,1433.57 1978.33,1431.97 1980.38,1436.21 1982.44,1435.07 1984.5,1432.25 1986.56,1438.66 1988.61,1433.25 1990.67,1434.41 1992.73,1435.07 1994.79,1431.71 1996.84,1440.21 1998.9,1436.47 2000.96,1439.36 2003.01,1439.36 2005.07,1432.87 2007.13,1435.77 2009.19,1432.49 2011.24,1431.86 2013.3,1431.16 2015.36,1434.94 2017.42,1435.15 2019.47,1429.42 2021.53,1434.02 2023.59,1430.04 2025.64,1435.15 2027.7,1429.37 2029.76,1435.8 2031.82,1436.94 2033.87,1430.96 2035.93,1434.03 2037.99,1438.53 2040.05,1439.4 2042.1,1438.54 2044.16,1430.83 2046.22,1429.09 2048.28,1430.09 2050.33,1427.58 2052.39,1430.09 2054.45,1427.71 2056.5,1430.1 2058.56,1428.61 2060.62,1429.48 2062.68,1429.03 2064.73,1435.28 2066.79,1426.86 2068.85,1429.03 2070.91,1433.72 2072.96,1433.52 2075.02,1430.15 2077.08,1428.18 2079.13,1431.47 2081.19,1429.88 2083.25,1432.46 2085.31,1424.23 2087.36,1429.92 2089.42,1428.19 2091.48,1435.75 2093.54,1434.21 2095.59,1430.51 2097.65,1426.61 2099.71,1426.6 2101.76,1429.46 2103.82,1428.19 2105.88,1427.5 2107.94,1428.81 2109.99,1431.77 2112.05,1424.84 2114.11,1430.51 2116.17,1435.05 2118.22,1433.53 2120.28,1429.92 2122.34,1430.56 2124.4,1428.88 2126.45,1428.81 2128.51,1427.34 2130.57,1433.3 2132.62,1431.77 2134.68,1428.81 2136.74,1427.35 2138.8,1433.29 2140.85,1428.14 2142.91,1425.75 2144.97,1429.33 2147.03,1425.96 2149.08,1425.96 2151.14,1432.6 2153.2,1429.92 2155.25,1428.88 2157.31,1428.96 2159.37,1427.27 2161.43,1433.53 2163.48,1431.77 2165.54,1427.34 2167.6,1430.86 2169.66,1431.77 2171.71,1428.07 2173.77,1424.18 2175.83,1428.06 2177.89,1429.68 2179.94,1430.64 2182,1428.2 2184.06,1432.41 2186.11,1428.34 2188.17,1428.18 2190.23,1433.52 2192.29,1425.75 2194.34,1424.18 2196.4,1429.72 2198.46,1428.82 2200.52,1426.67 2202.57,1428.84 2204.63,1429.92 2206.69,1435 2208.74,1429.93 2210.8,1426.61 2212.86,1431.21 2214.92,1425.69 2216.97,1430.86 2219.03,1430.5 2221.09,1427.27 2223.15,1429.94 2225.2,1425.74 2227.26,1429.93 2229.32,1430.64 2231.38,1429.34 2233.43,1431.26 2235.49,1435.05 2237.55,1433.31 2239.6,1428.19 2241.66,1428.4 2243.72,1426.66 2245.78,1425.96 2247.83,1426.6 2249.89,1430.56 2251.95,1426.59 2254.01,1428.4 2256.06,1429.92 2258.12,1430.63 2260.18,1429.88 2262.23,1428.12 2264.29,1433.48 2266.35,1424.22 2268.41,1433.99 2270.46,1426.6 2272.52,1433.31 2274.58,1428.34 2276.64,1428.96 2278.69,1432.43 2280.75,1426.6 2282.81,1425.96 2284.86,1428.35 2286.92,1428.35 2288.98,1433.24 2291.04,1433.51 \"/>\n",
       "<path clip-path=\"url(#clip400)\" d=\"M2009.56 198.898 L2280.06 198.898 L2280.06 95.2176 L2009.56 95.2176  Z\" fill=\"#ffffff\" fill-rule=\"evenodd\" fill-opacity=\"1\"/>\n",
       "<polyline clip-path=\"url(#clip400)\" style=\"stroke:#000000; stroke-linecap:round; stroke-linejoin:round; stroke-width:4; stroke-opacity:1; fill:none\" points=\"2009.56,198.898 2280.06,198.898 2280.06,95.2176 2009.56,95.2176 2009.56,198.898 \"/>\n",
       "<polyline clip-path=\"url(#clip400)\" style=\"stroke:#009af9; stroke-linecap:round; stroke-linejoin:round; stroke-width:4; stroke-opacity:1; fill:none\" points=\"2033.79,147.058 2179.17,147.058 \"/>\n",
       "<path clip-path=\"url(#clip400)\" d=\"M2217.25 166.745 Q2215.44 171.375 2213.73 172.787 Q2212.01 174.199 2209.14 174.199 L2205.74 174.199 L2205.74 170.634 L2208.24 170.634 Q2210 170.634 2210.97 169.8 Q2211.95 168.967 2213.13 165.865 L2213.89 163.921 L2203.4 138.412 L2207.92 138.412 L2216.02 158.689 L2224.12 138.412 L2228.64 138.412 L2217.25 166.745 Z\" fill=\"#000000\" fill-rule=\"nonzero\" fill-opacity=\"1\" /><path clip-path=\"url(#clip400)\" d=\"M2235.93 160.402 L2243.57 160.402 L2243.57 134.037 L2235.26 135.703 L2235.26 131.444 L2243.52 129.778 L2248.2 129.778 L2248.2 160.402 L2255.83 160.402 L2255.83 164.338 L2235.93 164.338 L2235.93 160.402 Z\" fill=\"#000000\" fill-rule=\"nonzero\" fill-opacity=\"1\" /></svg>\n"
      ],
      "text/html": [
       "<?xml version=\"1.0\" encoding=\"utf-8\"?>\n",
       "<svg xmlns=\"http://www.w3.org/2000/svg\" xmlns:xlink=\"http://www.w3.org/1999/xlink\" width=\"600\" height=\"400\" viewBox=\"0 0 2400 1600\">\n",
       "<defs>\n",
       "  <clipPath id=\"clip450\">\n",
       "    <rect x=\"0\" y=\"0\" width=\"2400\" height=\"1600\"/>\n",
       "  </clipPath>\n",
       "</defs>\n",
       "<path clip-path=\"url(#clip450)\" d=\"M0 1600 L2400 1600 L2400 0 L0 0  Z\" fill=\"#ffffff\" fill-rule=\"evenodd\" fill-opacity=\"1\"/>\n",
       "<defs>\n",
       "  <clipPath id=\"clip451\">\n",
       "    <rect x=\"480\" y=\"0\" width=\"1681\" height=\"1600\"/>\n",
       "  </clipPath>\n",
       "</defs>\n",
       "<path clip-path=\"url(#clip450)\" d=\"M172.015 1486.45 L2352.76 1486.45 L2352.76 47.2441 L172.015 47.2441  Z\" fill=\"#ffffff\" fill-rule=\"evenodd\" fill-opacity=\"1\"/>\n",
       "<defs>\n",
       "  <clipPath id=\"clip452\">\n",
       "    <rect x=\"172\" y=\"47\" width=\"2182\" height=\"1440\"/>\n",
       "  </clipPath>\n",
       "</defs>\n",
       "<polyline clip-path=\"url(#clip452)\" style=\"stroke:#000000; stroke-linecap:round; stroke-linejoin:round; stroke-width:2; stroke-opacity:0.1; fill:none\" points=\"233.734,1486.45 233.734,47.2441 \"/>\n",
       "<polyline clip-path=\"url(#clip452)\" style=\"stroke:#000000; stroke-linecap:round; stroke-linejoin:round; stroke-width:2; stroke-opacity:0.1; fill:none\" points=\"748.06,1486.45 748.06,47.2441 \"/>\n",
       "<polyline clip-path=\"url(#clip452)\" style=\"stroke:#000000; stroke-linecap:round; stroke-linejoin:round; stroke-width:2; stroke-opacity:0.1; fill:none\" points=\"1262.39,1486.45 1262.39,47.2441 \"/>\n",
       "<polyline clip-path=\"url(#clip452)\" style=\"stroke:#000000; stroke-linecap:round; stroke-linejoin:round; stroke-width:2; stroke-opacity:0.1; fill:none\" points=\"1776.71,1486.45 1776.71,47.2441 \"/>\n",
       "<polyline clip-path=\"url(#clip452)\" style=\"stroke:#000000; stroke-linecap:round; stroke-linejoin:round; stroke-width:2; stroke-opacity:0.1; fill:none\" points=\"2291.04,1486.45 2291.04,47.2441 \"/>\n",
       "<polyline clip-path=\"url(#clip452)\" style=\"stroke:#000000; stroke-linecap:round; stroke-linejoin:round; stroke-width:2; stroke-opacity:0.1; fill:none\" points=\"172.015,1332.56 2352.76,1332.56 \"/>\n",
       "<polyline clip-path=\"url(#clip452)\" style=\"stroke:#000000; stroke-linecap:round; stroke-linejoin:round; stroke-width:2; stroke-opacity:0.1; fill:none\" points=\"172.015,1067.77 2352.76,1067.77 \"/>\n",
       "<polyline clip-path=\"url(#clip452)\" style=\"stroke:#000000; stroke-linecap:round; stroke-linejoin:round; stroke-width:2; stroke-opacity:0.1; fill:none\" points=\"172.015,802.986 2352.76,802.986 \"/>\n",
       "<polyline clip-path=\"url(#clip452)\" style=\"stroke:#000000; stroke-linecap:round; stroke-linejoin:round; stroke-width:2; stroke-opacity:0.1; fill:none\" points=\"172.015,538.197 2352.76,538.197 \"/>\n",
       "<polyline clip-path=\"url(#clip452)\" style=\"stroke:#000000; stroke-linecap:round; stroke-linejoin:round; stroke-width:2; stroke-opacity:0.1; fill:none\" points=\"172.015,273.408 2352.76,273.408 \"/>\n",
       "<polyline clip-path=\"url(#clip450)\" style=\"stroke:#000000; stroke-linecap:round; stroke-linejoin:round; stroke-width:4; stroke-opacity:1; fill:none\" points=\"172.015,1486.45 2352.76,1486.45 \"/>\n",
       "<polyline clip-path=\"url(#clip450)\" style=\"stroke:#000000; stroke-linecap:round; stroke-linejoin:round; stroke-width:4; stroke-opacity:1; fill:none\" points=\"233.734,1486.45 233.734,1467.55 \"/>\n",
       "<polyline clip-path=\"url(#clip450)\" style=\"stroke:#000000; stroke-linecap:round; stroke-linejoin:round; stroke-width:4; stroke-opacity:1; fill:none\" points=\"748.06,1486.45 748.06,1467.55 \"/>\n",
       "<polyline clip-path=\"url(#clip450)\" style=\"stroke:#000000; stroke-linecap:round; stroke-linejoin:round; stroke-width:4; stroke-opacity:1; fill:none\" points=\"1262.39,1486.45 1262.39,1467.55 \"/>\n",
       "<polyline clip-path=\"url(#clip450)\" style=\"stroke:#000000; stroke-linecap:round; stroke-linejoin:round; stroke-width:4; stroke-opacity:1; fill:none\" points=\"1776.71,1486.45 1776.71,1467.55 \"/>\n",
       "<polyline clip-path=\"url(#clip450)\" style=\"stroke:#000000; stroke-linecap:round; stroke-linejoin:round; stroke-width:4; stroke-opacity:1; fill:none\" points=\"2291.04,1486.45 2291.04,1467.55 \"/>\n",
       "<path clip-path=\"url(#clip450)\" d=\"M165.181 1532.02 L194.857 1532.02 L194.857 1535.95 L165.181 1535.95 L165.181 1532.02 Z\" fill=\"#000000\" fill-rule=\"nonzero\" fill-opacity=\"1\" /><path clip-path=\"url(#clip450)\" d=\"M205.76 1544.91 L213.398 1544.91 L213.398 1518.55 L205.088 1520.21 L205.088 1515.95 L213.352 1514.29 L218.028 1514.29 L218.028 1544.91 L225.667 1544.91 L225.667 1548.85 L205.76 1548.85 L205.76 1544.91 Z\" fill=\"#000000\" fill-rule=\"nonzero\" fill-opacity=\"1\" /><path clip-path=\"url(#clip450)\" d=\"M245.111 1517.37 Q241.5 1517.37 239.671 1520.93 Q237.866 1524.47 237.866 1531.6 Q237.866 1538.71 239.671 1542.27 Q241.5 1545.82 245.111 1545.82 Q248.745 1545.82 250.551 1542.27 Q252.38 1538.71 252.38 1531.6 Q252.38 1524.47 250.551 1520.93 Q248.745 1517.37 245.111 1517.37 M245.111 1513.66 Q250.921 1513.66 253.977 1518.27 Q257.056 1522.85 257.056 1531.6 Q257.056 1540.33 253.977 1544.94 Q250.921 1549.52 245.111 1549.52 Q239.301 1549.52 236.222 1544.94 Q233.167 1540.33 233.167 1531.6 Q233.167 1522.85 236.222 1518.27 Q239.301 1513.66 245.111 1513.66 Z\" fill=\"#000000\" fill-rule=\"nonzero\" fill-opacity=\"1\" /><path clip-path=\"url(#clip450)\" d=\"M265.273 1542.97 L270.157 1542.97 L270.157 1548.85 L265.273 1548.85 L265.273 1542.97 Z\" fill=\"#000000\" fill-rule=\"nonzero\" fill-opacity=\"1\" /><path clip-path=\"url(#clip450)\" d=\"M290.342 1517.37 Q286.731 1517.37 284.903 1520.93 Q283.097 1524.47 283.097 1531.6 Q283.097 1538.71 284.903 1542.27 Q286.731 1545.82 290.342 1545.82 Q293.977 1545.82 295.782 1542.27 Q297.611 1538.71 297.611 1531.6 Q297.611 1524.47 295.782 1520.93 Q293.977 1517.37 290.342 1517.37 M290.342 1513.66 Q296.153 1513.66 299.208 1518.27 Q302.287 1522.85 302.287 1531.6 Q302.287 1540.33 299.208 1544.94 Q296.153 1549.52 290.342 1549.52 Q284.532 1549.52 281.454 1544.94 Q278.398 1540.33 278.398 1531.6 Q278.398 1522.85 281.454 1518.27 Q284.532 1513.66 290.342 1513.66 Z\" fill=\"#000000\" fill-rule=\"nonzero\" fill-opacity=\"1\" /><path clip-path=\"url(#clip450)\" d=\"M695.085 1532.02 L724.761 1532.02 L724.761 1535.95 L695.085 1535.95 L695.085 1532.02 Z\" fill=\"#000000\" fill-rule=\"nonzero\" fill-opacity=\"1\" /><path clip-path=\"url(#clip450)\" d=\"M733.673 1514.29 L755.895 1514.29 L755.895 1516.28 L743.349 1548.85 L738.465 1548.85 L750.27 1518.22 L733.673 1518.22 L733.673 1514.29 Z\" fill=\"#000000\" fill-rule=\"nonzero\" fill-opacity=\"1\" /><path clip-path=\"url(#clip450)\" d=\"M765.016 1542.97 L769.9 1542.97 L769.9 1548.85 L765.016 1548.85 L765.016 1542.97 Z\" fill=\"#000000\" fill-rule=\"nonzero\" fill-opacity=\"1\" /><path clip-path=\"url(#clip450)\" d=\"M780.131 1514.29 L798.488 1514.29 L798.488 1518.22 L784.414 1518.22 L784.414 1526.7 Q785.432 1526.35 786.451 1526.19 Q787.469 1526 788.488 1526 Q794.275 1526 797.654 1529.17 Q801.034 1532.34 801.034 1537.76 Q801.034 1543.34 797.562 1546.44 Q794.089 1549.52 787.77 1549.52 Q785.594 1549.52 783.326 1549.15 Q781.08 1548.78 778.673 1548.04 L778.673 1543.34 Q780.756 1544.47 782.978 1545.03 Q785.201 1545.58 787.677 1545.58 Q791.682 1545.58 794.02 1543.48 Q796.358 1541.37 796.358 1537.76 Q796.358 1534.15 794.02 1532.04 Q791.682 1529.94 787.677 1529.94 Q785.802 1529.94 783.927 1530.35 Q782.076 1530.77 780.131 1531.65 L780.131 1514.29 Z\" fill=\"#000000\" fill-rule=\"nonzero\" fill-opacity=\"1\" /><path clip-path=\"url(#clip450)\" d=\"M1208.91 1532.02 L1238.59 1532.02 L1238.59 1535.95 L1208.91 1535.95 L1208.91 1532.02 Z\" fill=\"#000000\" fill-rule=\"nonzero\" fill-opacity=\"1\" /><path clip-path=\"url(#clip450)\" d=\"M1248.73 1514.29 L1267.08 1514.29 L1267.08 1518.22 L1253.01 1518.22 L1253.01 1526.7 Q1254.03 1526.35 1255.05 1526.19 Q1256.07 1526 1257.08 1526 Q1262.87 1526 1266.25 1529.17 Q1269.63 1532.34 1269.63 1537.76 Q1269.63 1543.34 1266.16 1546.44 Q1262.69 1549.52 1256.37 1549.52 Q1254.19 1549.52 1251.92 1549.15 Q1249.68 1548.78 1247.27 1548.04 L1247.27 1543.34 Q1249.35 1544.47 1251.58 1545.03 Q1253.8 1545.58 1256.27 1545.58 Q1260.28 1545.58 1262.62 1543.48 Q1264.95 1541.37 1264.95 1537.76 Q1264.95 1534.15 1262.62 1532.04 Q1260.28 1529.94 1256.27 1529.94 Q1254.4 1529.94 1252.52 1530.35 Q1250.67 1530.77 1248.73 1531.65 L1248.73 1514.29 Z\" fill=\"#000000\" fill-rule=\"nonzero\" fill-opacity=\"1\" /><path clip-path=\"url(#clip450)\" d=\"M1278.84 1542.97 L1283.73 1542.97 L1283.73 1548.85 L1278.84 1548.85 L1278.84 1542.97 Z\" fill=\"#000000\" fill-rule=\"nonzero\" fill-opacity=\"1\" /><path clip-path=\"url(#clip450)\" d=\"M1303.91 1517.37 Q1300.3 1517.37 1298.47 1520.93 Q1296.67 1524.47 1296.67 1531.6 Q1296.67 1538.71 1298.47 1542.27 Q1300.3 1545.82 1303.91 1545.82 Q1307.55 1545.82 1309.35 1542.27 Q1311.18 1538.71 1311.18 1531.6 Q1311.18 1524.47 1309.35 1520.93 Q1307.55 1517.37 1303.91 1517.37 M1303.91 1513.66 Q1309.72 1513.66 1312.78 1518.27 Q1315.86 1522.85 1315.86 1531.6 Q1315.86 1540.33 1312.78 1544.94 Q1309.72 1549.52 1303.91 1549.52 Q1298.1 1549.52 1295.02 1544.94 Q1291.97 1540.33 1291.97 1531.6 Q1291.97 1522.85 1295.02 1518.27 Q1298.1 1513.66 1303.91 1513.66 Z\" fill=\"#000000\" fill-rule=\"nonzero\" fill-opacity=\"1\" /><path clip-path=\"url(#clip450)\" d=\"M1723.74 1532.02 L1753.41 1532.02 L1753.41 1535.95 L1723.74 1535.95 L1723.74 1532.02 Z\" fill=\"#000000\" fill-rule=\"nonzero\" fill-opacity=\"1\" /><path clip-path=\"url(#clip450)\" d=\"M1767.53 1544.91 L1783.85 1544.91 L1783.85 1548.85 L1761.91 1548.85 L1761.91 1544.91 Q1764.57 1542.16 1769.15 1537.53 Q1773.76 1532.88 1774.94 1531.53 Q1777.19 1529.01 1778.07 1527.27 Q1778.97 1525.51 1778.97 1523.82 Q1778.97 1521.07 1777.02 1519.33 Q1775.1 1517.6 1772 1517.6 Q1769.8 1517.6 1767.35 1518.36 Q1764.92 1519.13 1762.14 1520.68 L1762.14 1515.95 Q1764.96 1514.82 1767.42 1514.24 Q1769.87 1513.66 1771.91 1513.66 Q1777.28 1513.66 1780.47 1516.35 Q1783.67 1519.03 1783.67 1523.52 Q1783.67 1525.65 1782.86 1527.57 Q1782.07 1529.47 1779.96 1532.07 Q1779.38 1532.74 1776.28 1535.95 Q1773.18 1539.15 1767.53 1544.91 Z\" fill=\"#000000\" fill-rule=\"nonzero\" fill-opacity=\"1\" /><path clip-path=\"url(#clip450)\" d=\"M1793.67 1542.97 L1798.55 1542.97 L1798.55 1548.85 L1793.67 1548.85 L1793.67 1542.97 Z\" fill=\"#000000\" fill-rule=\"nonzero\" fill-opacity=\"1\" /><path clip-path=\"url(#clip450)\" d=\"M1808.78 1514.29 L1827.14 1514.29 L1827.14 1518.22 L1813.07 1518.22 L1813.07 1526.7 Q1814.08 1526.35 1815.1 1526.19 Q1816.12 1526 1817.14 1526 Q1822.93 1526 1826.31 1529.17 Q1829.69 1532.34 1829.69 1537.76 Q1829.69 1543.34 1826.21 1546.44 Q1822.74 1549.52 1816.42 1549.52 Q1814.25 1549.52 1811.98 1549.15 Q1809.73 1548.78 1807.32 1548.04 L1807.32 1543.34 Q1809.41 1544.47 1811.63 1545.03 Q1813.85 1545.58 1816.33 1545.58 Q1820.33 1545.58 1822.67 1543.48 Q1825.01 1541.37 1825.01 1537.76 Q1825.01 1534.15 1822.67 1532.04 Q1820.33 1529.94 1816.33 1529.94 Q1814.45 1529.94 1812.58 1530.35 Q1810.73 1530.77 1808.78 1531.65 L1808.78 1514.29 Z\" fill=\"#000000\" fill-rule=\"nonzero\" fill-opacity=\"1\" /><path clip-path=\"url(#clip450)\" d=\"M2268.42 1517.37 Q2264.81 1517.37 2262.98 1520.93 Q2261.18 1524.47 2261.18 1531.6 Q2261.18 1538.71 2262.98 1542.27 Q2264.81 1545.82 2268.42 1545.82 Q2272.06 1545.82 2273.86 1542.27 Q2275.69 1538.71 2275.69 1531.6 Q2275.69 1524.47 2273.86 1520.93 Q2272.06 1517.37 2268.42 1517.37 M2268.42 1513.66 Q2274.23 1513.66 2277.29 1518.27 Q2280.37 1522.85 2280.37 1531.6 Q2280.37 1540.33 2277.29 1544.94 Q2274.23 1549.52 2268.42 1549.52 Q2262.61 1549.52 2259.53 1544.94 Q2256.48 1540.33 2256.48 1531.6 Q2256.48 1522.85 2259.53 1518.27 Q2262.61 1513.66 2268.42 1513.66 Z\" fill=\"#000000\" fill-rule=\"nonzero\" fill-opacity=\"1\" /><path clip-path=\"url(#clip450)\" d=\"M2288.58 1542.97 L2293.47 1542.97 L2293.47 1548.85 L2288.58 1548.85 L2288.58 1542.97 Z\" fill=\"#000000\" fill-rule=\"nonzero\" fill-opacity=\"1\" /><path clip-path=\"url(#clip450)\" d=\"M2313.65 1517.37 Q2310.04 1517.37 2308.21 1520.93 Q2306.41 1524.47 2306.41 1531.6 Q2306.41 1538.71 2308.21 1542.27 Q2310.04 1545.82 2313.65 1545.82 Q2317.29 1545.82 2319.09 1542.27 Q2320.92 1538.71 2320.92 1531.6 Q2320.92 1524.47 2319.09 1520.93 Q2317.29 1517.37 2313.65 1517.37 M2313.65 1513.66 Q2319.46 1513.66 2322.52 1518.27 Q2325.6 1522.85 2325.6 1531.6 Q2325.6 1540.33 2322.52 1544.94 Q2319.46 1549.52 2313.65 1549.52 Q2307.84 1549.52 2304.76 1544.94 Q2301.71 1540.33 2301.71 1531.6 Q2301.71 1522.85 2304.76 1518.27 Q2307.84 1513.66 2313.65 1513.66 Z\" fill=\"#000000\" fill-rule=\"nonzero\" fill-opacity=\"1\" /><polyline clip-path=\"url(#clip450)\" style=\"stroke:#000000; stroke-linecap:round; stroke-linejoin:round; stroke-width:4; stroke-opacity:1; fill:none\" points=\"172.015,1486.45 172.015,47.2441 \"/>\n",
       "<polyline clip-path=\"url(#clip450)\" style=\"stroke:#000000; stroke-linecap:round; stroke-linejoin:round; stroke-width:4; stroke-opacity:1; fill:none\" points=\"172.015,1332.56 190.912,1332.56 \"/>\n",
       "<polyline clip-path=\"url(#clip450)\" style=\"stroke:#000000; stroke-linecap:round; stroke-linejoin:round; stroke-width:4; stroke-opacity:1; fill:none\" points=\"172.015,1067.77 190.912,1067.77 \"/>\n",
       "<polyline clip-path=\"url(#clip450)\" style=\"stroke:#000000; stroke-linecap:round; stroke-linejoin:round; stroke-width:4; stroke-opacity:1; fill:none\" points=\"172.015,802.986 190.912,802.986 \"/>\n",
       "<polyline clip-path=\"url(#clip450)\" style=\"stroke:#000000; stroke-linecap:round; stroke-linejoin:round; stroke-width:4; stroke-opacity:1; fill:none\" points=\"172.015,538.197 190.912,538.197 \"/>\n",
       "<polyline clip-path=\"url(#clip450)\" style=\"stroke:#000000; stroke-linecap:round; stroke-linejoin:round; stroke-width:4; stroke-opacity:1; fill:none\" points=\"172.015,273.408 190.912,273.408 \"/>\n",
       "<path clip-path=\"url(#clip450)\" d=\"M67.9133 1331.21 Q71.2698 1331.93 73.1448 1334.2 Q75.0429 1336.46 75.0429 1339.8 Q75.0429 1344.91 71.5244 1347.71 Q68.0059 1350.51 61.5245 1350.51 Q59.3486 1350.51 57.0338 1350.07 Q54.7421 1349.66 52.2884 1348.8 L52.2884 1344.29 Q54.2328 1345.42 56.5477 1346 Q58.8625 1346.58 61.3856 1346.58 Q65.7837 1346.58 68.0754 1344.84 Q70.3902 1343.11 70.3902 1339.8 Q70.3902 1336.74 68.2374 1335.03 Q66.1078 1333.29 62.2884 1333.29 L58.2606 1333.29 L58.2606 1329.45 L62.4735 1329.45 Q65.9226 1329.45 67.7513 1328.08 Q69.58 1326.7 69.58 1324.1 Q69.58 1321.44 67.6819 1320.03 Q65.8069 1318.59 62.2884 1318.59 Q60.3671 1318.59 58.168 1319.01 Q55.969 1319.43 53.3301 1320.31 L53.3301 1316.14 Q55.9921 1315.4 58.3069 1315.03 Q60.6449 1314.66 62.705 1314.66 Q68.0291 1314.66 71.1309 1317.09 Q74.2327 1319.5 74.2327 1323.62 Q74.2327 1326.49 72.5892 1328.48 Q70.9457 1330.45 67.9133 1331.21 Z\" fill=\"#000000\" fill-rule=\"nonzero\" fill-opacity=\"1\" /><path clip-path=\"url(#clip450)\" d=\"M83.9549 1315.28 L102.311 1315.28 L102.311 1319.22 L88.2373 1319.22 L88.2373 1327.69 Q89.2558 1327.34 90.2743 1327.18 Q91.2928 1327 92.3113 1327 Q98.0984 1327 101.478 1330.17 Q104.858 1333.34 104.858 1338.76 Q104.858 1344.33 101.385 1347.44 Q97.9132 1350.51 91.5938 1350.51 Q89.4178 1350.51 87.1493 1350.14 Q84.904 1349.77 82.4966 1349.03 L82.4966 1344.33 Q84.5799 1345.47 86.8021 1346.02 Q89.0243 1346.58 91.5012 1346.58 Q95.5058 1346.58 97.8437 1344.47 Q100.182 1342.37 100.182 1338.76 Q100.182 1335.14 97.8437 1333.04 Q95.5058 1330.93 91.5012 1330.93 Q89.6262 1330.93 87.7512 1331.35 Q85.8993 1331.76 83.9549 1332.64 L83.9549 1315.28 Z\" fill=\"#000000\" fill-rule=\"nonzero\" fill-opacity=\"1\" /><path clip-path=\"url(#clip450)\" d=\"M124.07 1318.36 Q120.459 1318.36 118.631 1321.93 Q116.825 1325.47 116.825 1332.6 Q116.825 1339.7 118.631 1343.27 Q120.459 1346.81 124.07 1346.81 Q127.705 1346.81 129.51 1343.27 Q131.339 1339.7 131.339 1332.6 Q131.339 1325.47 129.51 1321.93 Q127.705 1318.36 124.07 1318.36 M124.07 1314.66 Q129.881 1314.66 132.936 1319.26 Q136.015 1323.85 136.015 1332.6 Q136.015 1341.32 132.936 1345.93 Q129.881 1350.51 124.07 1350.51 Q118.26 1350.51 115.182 1345.93 Q112.126 1341.32 112.126 1332.6 Q112.126 1323.85 115.182 1319.26 Q118.26 1314.66 124.07 1314.66 Z\" fill=\"#000000\" fill-rule=\"nonzero\" fill-opacity=\"1\" /><path clip-path=\"url(#clip450)\" d=\"M66.5939 1054.57 L54.7884 1073.02 L66.5939 1073.02 L66.5939 1054.57 M65.367 1050.49 L71.2466 1050.49 L71.2466 1073.02 L76.1772 1073.02 L76.1772 1076.91 L71.2466 1076.91 L71.2466 1085.05 L66.5939 1085.05 L66.5939 1076.91 L50.9921 1076.91 L50.9921 1072.39 L65.367 1050.49 Z\" fill=\"#000000\" fill-rule=\"nonzero\" fill-opacity=\"1\" /><path clip-path=\"url(#clip450)\" d=\"M93.9086 1053.57 Q90.2975 1053.57 88.4688 1057.14 Q86.6632 1060.68 86.6632 1067.81 Q86.6632 1074.92 88.4688 1078.48 Q90.2975 1082.02 93.9086 1082.02 Q97.5428 1082.02 99.3483 1078.48 Q101.177 1074.92 101.177 1067.81 Q101.177 1060.68 99.3483 1057.14 Q97.5428 1053.57 93.9086 1053.57 M93.9086 1049.87 Q99.7187 1049.87 102.774 1054.48 Q105.853 1059.06 105.853 1067.81 Q105.853 1076.54 102.774 1081.14 Q99.7187 1085.73 93.9086 1085.73 Q88.0984 1085.73 85.0197 1081.14 Q81.9642 1076.54 81.9642 1067.81 Q81.9642 1059.06 85.0197 1054.48 Q88.0984 1049.87 93.9086 1049.87 Z\" fill=\"#000000\" fill-rule=\"nonzero\" fill-opacity=\"1\" /><path clip-path=\"url(#clip450)\" d=\"M124.07 1053.57 Q120.459 1053.57 118.631 1057.14 Q116.825 1060.68 116.825 1067.81 Q116.825 1074.92 118.631 1078.48 Q120.459 1082.02 124.07 1082.02 Q127.705 1082.02 129.51 1078.48 Q131.339 1074.92 131.339 1067.81 Q131.339 1060.68 129.51 1057.14 Q127.705 1053.57 124.07 1053.57 M124.07 1049.87 Q129.881 1049.87 132.936 1054.48 Q136.015 1059.06 136.015 1067.81 Q136.015 1076.54 132.936 1081.14 Q129.881 1085.73 124.07 1085.73 Q118.26 1085.73 115.182 1081.14 Q112.126 1076.54 112.126 1067.81 Q112.126 1059.06 115.182 1054.48 Q118.26 1049.87 124.07 1049.87 Z\" fill=\"#000000\" fill-rule=\"nonzero\" fill-opacity=\"1\" /><path clip-path=\"url(#clip450)\" d=\"M66.5939 789.78 L54.7884 808.229 L66.5939 808.229 L66.5939 789.78 M65.367 785.706 L71.2466 785.706 L71.2466 808.229 L76.1772 808.229 L76.1772 812.118 L71.2466 812.118 L71.2466 820.266 L66.5939 820.266 L66.5939 812.118 L50.9921 812.118 L50.9921 807.604 L65.367 785.706 Z\" fill=\"#000000\" fill-rule=\"nonzero\" fill-opacity=\"1\" /><path clip-path=\"url(#clip450)\" d=\"M83.9549 785.706 L102.311 785.706 L102.311 789.641 L88.2373 789.641 L88.2373 798.113 Q89.2558 797.766 90.2743 797.604 Q91.2928 797.419 92.3113 797.419 Q98.0984 797.419 101.478 800.59 Q104.858 803.761 104.858 809.178 Q104.858 814.757 101.385 817.858 Q97.9132 820.937 91.5938 820.937 Q89.4178 820.937 87.1493 820.567 Q84.904 820.196 82.4966 819.456 L82.4966 814.757 Q84.5799 815.891 86.8021 816.446 Q89.0243 817.002 91.5012 817.002 Q95.5058 817.002 97.8437 814.895 Q100.182 812.789 100.182 809.178 Q100.182 805.567 97.8437 803.46 Q95.5058 801.354 91.5012 801.354 Q89.6262 801.354 87.7512 801.771 Q85.8993 802.187 83.9549 803.067 L83.9549 785.706 Z\" fill=\"#000000\" fill-rule=\"nonzero\" fill-opacity=\"1\" /><path clip-path=\"url(#clip450)\" d=\"M124.07 788.784 Q120.459 788.784 118.631 792.349 Q116.825 795.891 116.825 803.021 Q116.825 810.127 118.631 813.692 Q120.459 817.233 124.07 817.233 Q127.705 817.233 129.51 813.692 Q131.339 810.127 131.339 803.021 Q131.339 795.891 129.51 792.349 Q127.705 788.784 124.07 788.784 M124.07 785.081 Q129.881 785.081 132.936 789.687 Q136.015 794.271 136.015 803.021 Q136.015 811.747 132.936 816.354 Q129.881 820.937 124.07 820.937 Q118.26 820.937 115.182 816.354 Q112.126 811.747 112.126 803.021 Q112.126 794.271 115.182 789.687 Q118.26 785.081 124.07 785.081 Z\" fill=\"#000000\" fill-rule=\"nonzero\" fill-opacity=\"1\" /><path clip-path=\"url(#clip450)\" d=\"M53.793 520.917 L72.1494 520.917 L72.1494 524.852 L58.0754 524.852 L58.0754 533.324 Q59.0939 532.977 60.1124 532.815 Q61.131 532.63 62.1495 532.63 Q67.9365 532.63 71.3161 535.801 Q74.6957 538.972 74.6957 544.389 Q74.6957 549.968 71.2235 553.07 Q67.7513 556.148 61.4319 556.148 Q59.256 556.148 56.9875 555.778 Q54.7421 555.408 52.3347 554.667 L52.3347 549.968 Q54.418 551.102 56.6402 551.658 Q58.8625 552.213 61.3393 552.213 Q65.3439 552.213 67.6819 550.107 Q70.0198 548 70.0198 544.389 Q70.0198 540.778 67.6819 538.671 Q65.3439 536.565 61.3393 536.565 Q59.4643 536.565 57.5893 536.982 Q55.7375 537.398 53.793 538.278 L53.793 520.917 Z\" fill=\"#000000\" fill-rule=\"nonzero\" fill-opacity=\"1\" /><path clip-path=\"url(#clip450)\" d=\"M93.9086 523.996 Q90.2975 523.996 88.4688 527.56 Q86.6632 531.102 86.6632 538.232 Q86.6632 545.338 88.4688 548.903 Q90.2975 552.445 93.9086 552.445 Q97.5428 552.445 99.3483 548.903 Q101.177 545.338 101.177 538.232 Q101.177 531.102 99.3483 527.56 Q97.5428 523.996 93.9086 523.996 M93.9086 520.292 Q99.7187 520.292 102.774 524.898 Q105.853 529.482 105.853 538.232 Q105.853 546.958 102.774 551.565 Q99.7187 556.148 93.9086 556.148 Q88.0984 556.148 85.0197 551.565 Q81.9642 546.958 81.9642 538.232 Q81.9642 529.482 85.0197 524.898 Q88.0984 520.292 93.9086 520.292 Z\" fill=\"#000000\" fill-rule=\"nonzero\" fill-opacity=\"1\" /><path clip-path=\"url(#clip450)\" d=\"M124.07 523.996 Q120.459 523.996 118.631 527.56 Q116.825 531.102 116.825 538.232 Q116.825 545.338 118.631 548.903 Q120.459 552.445 124.07 552.445 Q127.705 552.445 129.51 548.903 Q131.339 545.338 131.339 538.232 Q131.339 531.102 129.51 527.56 Q127.705 523.996 124.07 523.996 M124.07 520.292 Q129.881 520.292 132.936 524.898 Q136.015 529.482 136.015 538.232 Q136.015 546.958 132.936 551.565 Q129.881 556.148 124.07 556.148 Q118.26 556.148 115.182 551.565 Q112.126 546.958 112.126 538.232 Q112.126 529.482 115.182 524.898 Q118.26 520.292 124.07 520.292 Z\" fill=\"#000000\" fill-rule=\"nonzero\" fill-opacity=\"1\" /><path clip-path=\"url(#clip450)\" d=\"M53.793 256.128 L72.1494 256.128 L72.1494 260.063 L58.0754 260.063 L58.0754 268.535 Q59.0939 268.188 60.1124 268.026 Q61.131 267.841 62.1495 267.841 Q67.9365 267.841 71.3161 271.012 Q74.6957 274.184 74.6957 279.6 Q74.6957 285.179 71.2235 288.281 Q67.7513 291.359 61.4319 291.359 Q59.256 291.359 56.9875 290.989 Q54.7421 290.619 52.3347 289.878 L52.3347 285.179 Q54.418 286.313 56.6402 286.869 Q58.8625 287.424 61.3393 287.424 Q65.3439 287.424 67.6819 285.318 Q70.0198 283.211 70.0198 279.6 Q70.0198 275.989 67.6819 273.883 Q65.3439 271.776 61.3393 271.776 Q59.4643 271.776 57.5893 272.193 Q55.7375 272.61 53.793 273.489 L53.793 256.128 Z\" fill=\"#000000\" fill-rule=\"nonzero\" fill-opacity=\"1\" /><path clip-path=\"url(#clip450)\" d=\"M83.9549 256.128 L102.311 256.128 L102.311 260.063 L88.2373 260.063 L88.2373 268.535 Q89.2558 268.188 90.2743 268.026 Q91.2928 267.841 92.3113 267.841 Q98.0984 267.841 101.478 271.012 Q104.858 274.184 104.858 279.6 Q104.858 285.179 101.385 288.281 Q97.9132 291.359 91.5938 291.359 Q89.4178 291.359 87.1493 290.989 Q84.904 290.619 82.4966 289.878 L82.4966 285.179 Q84.5799 286.313 86.8021 286.869 Q89.0243 287.424 91.5012 287.424 Q95.5058 287.424 97.8437 285.318 Q100.182 283.211 100.182 279.6 Q100.182 275.989 97.8437 273.883 Q95.5058 271.776 91.5012 271.776 Q89.6262 271.776 87.7512 272.193 Q85.8993 272.61 83.9549 273.489 L83.9549 256.128 Z\" fill=\"#000000\" fill-rule=\"nonzero\" fill-opacity=\"1\" /><path clip-path=\"url(#clip450)\" d=\"M124.07 259.207 Q120.459 259.207 118.631 262.772 Q116.825 266.313 116.825 273.443 Q116.825 280.549 118.631 284.114 Q120.459 287.656 124.07 287.656 Q127.705 287.656 129.51 284.114 Q131.339 280.549 131.339 273.443 Q131.339 266.313 129.51 262.772 Q127.705 259.207 124.07 259.207 M124.07 255.503 Q129.881 255.503 132.936 260.11 Q136.015 264.693 136.015 273.443 Q136.015 282.17 132.936 286.776 Q129.881 291.359 124.07 291.359 Q118.26 291.359 115.182 286.776 Q112.126 282.17 112.126 273.443 Q112.126 264.693 115.182 260.11 Q118.26 255.503 124.07 255.503 Z\" fill=\"#000000\" fill-rule=\"nonzero\" fill-opacity=\"1\" /><polyline clip-path=\"url(#clip452)\" style=\"stroke:#009af9; stroke-linecap:round; stroke-linejoin:round; stroke-width:4; stroke-opacity:1; fill:none\" points=\"233.734,87.9763 235.791,87.9763 237.849,87.9763 239.906,87.9763 241.963,87.9763 244.02,87.9763 246.078,87.9763 248.135,87.9763 250.192,87.9763 252.25,87.9763 254.307,87.9763 256.364,87.9763 258.422,87.9763 260.479,87.9763 262.536,87.9763 264.593,87.9763 266.651,87.9763 268.708,87.9763 270.765,87.9763 272.823,87.9763 274.88,87.9763 276.937,87.9763 278.995,87.9763 281.052,87.9763 283.109,87.9763 285.166,87.9763 287.224,87.9763 289.281,87.9763 291.338,87.9763 293.396,87.9763 295.453,87.9763 297.51,87.9763 299.568,87.9763 301.625,87.9763 303.682,87.9763 305.74,87.9763 307.797,87.9763 309.854,87.9763 311.911,87.9763 313.969,87.9763 316.026,87.9763 318.083,87.9763 320.141,87.9763 322.198,87.9763 324.255,87.9763 326.313,87.9763 328.37,87.9763 330.427,87.9763 332.484,87.9763 334.542,87.9763 336.599,87.9763 338.656,87.9763 340.714,87.9763 342.771,87.9763 344.828,87.9763 346.886,87.9763 348.943,87.9763 351,87.9763 353.057,87.9763 355.115,87.9763 357.172,87.9763 359.229,87.9763 361.287,87.9763 363.344,87.9763 365.401,87.9763 367.459,87.9763 369.516,87.9763 371.573,87.9763 373.631,87.9763 375.688,87.9763 377.745,87.9763 379.802,87.9763 381.86,87.9763 383.917,87.9763 385.974,87.9763 388.032,87.9763 390.089,87.9763 392.146,87.9763 394.204,87.9763 396.261,87.9763 398.318,87.9763 400.375,87.9763 402.433,87.9763 404.49,87.9763 406.547,87.9763 408.605,87.9763 410.662,87.9763 412.719,87.9763 414.777,87.9763 416.834,87.9763 418.891,87.9763 420.948,87.9763 423.006,87.9763 425.063,87.9763 427.12,87.9763 429.178,87.9763 431.235,87.9763 433.292,87.9763 435.35,87.9763 437.407,87.9763 439.464,87.9763 441.522,87.9763 443.579,87.9763 445.636,87.9763 447.693,87.9763 449.751,87.9763 451.808,87.9763 453.865,87.9763 455.923,87.9763 457.98,87.9763 460.037,87.9763 462.095,87.9763 464.152,87.9763 466.209,87.9763 468.266,87.9763 470.324,87.9763 472.381,87.9763 474.438,87.9763 476.496,87.9763 478.553,87.9763 480.61,87.9763 482.668,87.9763 484.725,87.9763 486.782,87.9763 488.839,87.9763 490.897,87.9763 492.954,87.9763 495.011,87.9763 497.069,87.9763 499.126,87.9763 501.183,87.9763 503.241,87.9763 505.298,87.9763 507.355,87.9763 509.412,87.9763 511.47,87.9763 513.527,87.9763 515.584,87.9763 517.642,87.9763 519.699,87.9763 521.756,87.9763 523.814,87.9763 525.871,87.9763 527.928,87.9763 529.986,87.9763 532.043,87.9763 534.1,87.9763 536.157,87.9763 538.215,87.9763 540.272,87.9763 542.329,87.9763 544.387,87.9763 546.444,87.9763 548.501,87.9763 550.559,87.9763 552.616,87.9763 554.673,87.9763 556.73,87.9763 558.788,87.9763 560.845,87.9763 562.902,87.9763 564.96,87.9763 567.017,87.9763 569.074,87.9763 571.132,87.9763 573.189,87.9763 575.246,87.9763 577.303,87.9763 579.361,87.9763 581.418,87.9763 583.475,87.9763 585.533,87.9763 587.59,87.9763 589.647,87.9763 591.705,87.9763 593.762,87.9763 595.819,87.9763 597.877,87.9763 599.934,87.9763 601.991,87.9763 604.048,87.9763 606.106,87.9763 608.163,87.9763 610.22,87.9763 612.278,87.9763 614.335,87.9763 616.392,87.9763 618.45,87.9763 620.507,87.9763 622.564,87.9763 624.621,87.9763 626.679,87.9763 628.736,87.9763 630.793,87.9763 632.851,87.9763 634.908,87.9763 636.965,87.9763 639.023,87.9763 641.08,87.9763 643.137,87.9763 645.194,87.9763 647.252,87.9763 649.309,87.9763 651.366,87.9763 653.424,87.9763 655.481,87.9763 657.538,87.9763 659.596,87.9763 661.653,87.9763 663.71,87.9763 665.768,87.9763 667.825,87.9763 669.882,87.9763 671.939,87.9763 673.997,87.9763 676.054,87.9763 678.111,87.9763 680.169,87.9763 682.226,87.9763 684.283,87.9763 686.341,87.9763 688.398,87.9763 690.455,87.9763 692.512,87.9763 694.57,87.9763 696.627,87.9763 698.684,87.9763 700.742,87.9763 702.799,87.9763 704.856,87.9763 706.914,87.9763 708.971,87.9763 711.028,87.9763 713.085,87.9763 715.143,87.9763 717.2,87.9763 719.257,87.9763 721.315,87.9763 723.372,87.9763 725.429,87.9763 727.487,87.9763 729.544,87.9763 731.601,87.9763 733.659,87.9763 735.716,87.9763 737.773,87.9763 739.83,87.9763 741.888,87.9763 743.945,87.9763 746.002,87.9763 748.06,87.9763 750.117,87.9763 752.174,87.9763 754.232,87.9763 756.289,87.9763 758.346,87.9763 760.403,87.9763 762.461,87.9763 764.518,87.9763 766.575,87.9763 768.633,87.9763 770.69,87.9763 772.747,87.9763 774.805,87.9763 776.862,87.9763 778.919,87.9763 780.976,87.9763 783.034,87.9763 785.091,87.9763 787.148,87.9763 789.206,87.9763 791.263,87.9763 793.32,87.9763 795.378,87.9763 797.435,87.9763 799.492,87.9763 801.55,87.9763 803.607,87.9763 805.664,87.9763 807.721,87.9763 809.779,87.9763 811.836,87.9763 813.893,87.9763 815.951,87.9763 818.008,87.9763 820.065,87.9763 822.123,87.9763 824.18,87.9763 826.237,87.9763 828.294,87.9763 830.352,87.9763 832.409,87.9763 834.466,87.9763 836.524,87.9763 838.581,87.9763 840.638,87.9763 842.696,87.9763 844.753,87.9763 846.81,87.9763 848.867,87.9763 850.925,87.9763 852.982,87.9763 855.039,87.9763 857.097,87.9763 859.154,87.9763 861.211,87.9763 863.269,87.9763 865.326,87.9763 867.383,87.9763 869.441,87.9763 871.498,87.9763 873.555,87.9763 875.612,87.9763 877.67,87.9763 879.727,87.9763 881.784,87.9763 883.842,87.9763 885.899,87.9763 887.956,87.9763 890.014,87.9763 892.071,87.9763 894.128,87.9763 896.185,87.9763 898.243,87.9763 900.3,87.9763 902.357,87.9763 904.415,87.9763 906.472,87.9763 908.529,87.9763 910.587,87.9763 912.644,87.9763 914.701,87.9763 916.758,87.9763 918.816,87.9763 920.873,87.9763 922.93,87.9763 924.988,87.9763 927.045,87.9763 929.102,87.9763 931.16,87.9763 933.217,87.9763 935.274,87.9763 937.332,87.9763 939.389,87.9763 941.446,87.9763 943.503,87.9763 945.561,87.9763 947.618,87.9763 949.675,87.9763 951.733,87.9763 953.79,87.9763 955.847,87.9763 957.905,87.9763 959.962,87.9763 962.019,87.9763 964.076,87.9763 966.134,87.9763 968.191,87.9763 970.248,87.9763 972.306,87.9763 974.363,87.9763 976.42,87.9763 978.478,87.9763 980.535,87.9763 982.592,87.9763 984.649,87.9763 986.707,87.9763 988.764,87.9763 990.821,87.9763 992.879,87.9763 994.936,87.9763 996.993,87.9763 999.051,87.9763 1001.11,87.9763 1003.17,87.9763 1005.22,87.9763 1007.28,87.9763 1009.34,87.9763 1011.39,87.9763 1013.45,87.9763 1015.51,87.9763 1017.57,87.9763 1019.62,87.9763 1021.68,87.9763 1023.74,87.9763 1025.8,87.9763 1027.85,87.9763 1029.91,87.9763 1031.97,87.9763 1034.02,87.9763 1036.08,87.9763 1038.14,87.9763 1040.2,87.9763 1042.25,87.9763 1044.31,87.9763 1046.37,87.9763 1048.43,87.9763 1050.48,87.9763 1052.54,87.9763 1054.6,87.9763 1056.66,87.9763 1058.71,87.9763 1060.77,87.9763 1062.83,87.9763 1064.88,87.9763 1066.94,87.9763 1069,87.9763 1071.06,87.9763 1073.11,87.9763 1075.17,87.9763 1077.23,87.9763 1079.29,87.9763 1081.34,87.9763 1083.4,87.9763 1085.46,87.9763 1087.51,87.9763 1089.57,87.9763 1091.63,87.9763 1093.69,87.9763 1095.74,87.9763 1097.8,87.9763 1099.86,87.9763 1101.92,87.9763 1103.97,87.9763 1106.03,87.9763 1108.09,87.9763 1110.14,87.9763 1112.2,87.9763 1114.26,87.9763 1116.32,87.9763 1118.37,87.9763 1120.43,87.9763 1122.49,87.9763 1124.55,87.9763 1126.6,87.9763 1128.66,87.9763 1130.72,87.9763 1132.78,87.9763 1134.83,87.9763 1136.89,87.9763 1138.95,87.9763 1141,87.9763 1143.06,87.9763 1145.12,87.9763 1147.18,87.9763 1149.23,87.9763 1151.29,87.9763 1153.35,87.9763 1155.41,87.9763 1157.46,87.9763 1159.52,87.9763 1161.58,87.9763 1163.63,87.9763 1165.69,87.9763 1167.75,87.9763 1169.81,87.9763 1171.86,87.9763 1173.92,87.9763 1175.98,87.9763 1178.04,87.9763 1180.09,87.9763 1182.15,87.9763 1184.21,87.9763 1186.27,87.9763 1188.32,87.9763 1190.38,87.9763 1192.44,87.9763 1194.49,87.9763 1196.55,87.9763 1198.61,87.9763 1200.67,87.9763 1202.72,87.9763 1204.78,87.9763 1206.84,87.9763 1208.9,87.9763 1210.95,87.9763 1213.01,87.9763 1215.07,87.9763 1217.12,87.9763 1219.18,87.9763 1221.24,87.9763 1223.3,87.9763 1225.35,87.9763 1227.41,87.9763 1229.47,87.9763 1231.53,87.9763 1233.58,87.9763 1235.64,87.9763 1237.7,87.9763 1239.76,87.9763 1241.81,87.9763 1243.87,87.9763 1245.93,87.9763 1247.98,87.9763 1250.04,87.9763 1252.1,87.9763 1254.16,87.9763 1256.21,87.9763 1258.27,87.9763 1260.33,87.9763 1262.39,87.9763 1264.44,87.9763 1266.5,87.9763 1268.56,87.9763 1270.61,87.9763 1272.67,87.9763 1274.73,87.9763 1276.79,87.9763 1278.84,87.9763 1280.9,87.9763 1282.96,87.9763 1285.02,87.9763 1287.07,87.9763 1289.13,87.9763 1291.19,87.9763 1293.24,87.9763 1295.3,87.9763 1297.36,87.9763 1299.42,87.9763 1301.47,87.9763 1303.53,87.9763 1305.59,87.9763 1307.65,87.9763 1309.7,87.9763 1311.76,87.9763 1313.82,87.9763 1315.88,87.9763 1317.93,87.9763 1319.99,87.9763 1322.05,87.9763 1324.1,87.9763 1326.16,87.9763 1328.22,87.9763 1330.28,87.9763 1332.33,87.9763 1334.39,87.9763 1336.45,87.9763 1338.51,87.9763 1340.56,87.9763 1342.62,87.9763 1344.68,87.9763 1346.73,87.9763 1348.79,87.9763 1350.85,87.9763 1352.91,87.9763 1354.96,87.9763 1357.02,87.9763 1359.08,87.9763 1361.14,87.9763 1363.19,87.9763 1365.25,87.9763 1367.31,87.9763 1369.37,87.9763 1371.42,87.9763 1373.48,87.9763 1375.54,87.9763 1377.59,87.9763 1379.65,87.9763 1381.71,87.9763 1383.77,87.9763 1385.82,87.9763 1387.88,87.9763 1389.94,87.9763 1392,87.9763 1394.05,87.9763 1396.11,87.9763 1398.17,87.9763 1400.22,87.9763 1402.28,87.9763 1404.34,87.9763 1406.4,87.9763 1408.45,87.9763 1410.51,87.9763 1412.57,87.9763 1414.63,87.9763 1416.68,87.9763 1418.74,87.9763 1420.8,87.9763 1422.85,87.9763 1424.91,87.9763 1426.97,87.9763 1429.03,87.9763 1431.08,87.9763 1433.14,87.9763 1435.2,87.9763 1437.26,87.9763 1439.31,87.9763 1441.37,87.9763 1443.43,87.9763 1445.49,87.9763 1447.54,87.9763 1449.6,87.9763 1451.66,87.9763 1453.71,87.9763 1455.77,87.9763 1457.83,87.9763 1459.89,87.9763 1461.94,87.9763 1464,87.9763 1466.06,87.9763 1468.12,87.9763 1470.17,87.9763 1472.23,87.9763 1474.29,87.9763 1476.34,87.9763 1478.4,87.9763 1480.46,87.9763 1482.52,87.9763 1484.57,87.9763 1486.63,87.9763 1488.69,87.9763 1490.75,87.9763 1492.8,87.9763 1494.86,87.9763 1496.92,87.9763 1498.98,87.9763 1501.03,87.9763 1503.09,87.9763 1505.15,87.9763 1507.2,87.9763 1509.26,87.9763 1511.32,87.9763 1513.38,87.9763 1515.43,87.9763 1517.49,87.9763 1519.55,87.9763 1521.61,87.9763 1523.66,87.9763 1525.72,87.9763 1527.78,87.9763 1529.83,87.9763 1531.89,87.9763 1533.95,87.9763 1536.01,503.962 1538.06,503.962 1540.12,503.962 1542.18,503.962 1544.24,503.962 1546.29,503.962 1548.35,503.962 1550.41,503.962 1552.47,503.962 1554.52,503.962 1556.58,503.962 1558.64,503.962 1560.69,503.962 1562.75,503.962 1564.81,503.962 1566.87,503.962 1568.92,503.962 1570.98,503.962 1573.04,503.962 1575.1,503.962 1577.15,503.962 1579.21,503.962 1581.27,869.993 1583.32,869.993 1585.38,869.993 1587.44,869.993 1589.5,869.993 1591.55,869.993 1593.61,869.993 1595.67,869.993 1597.73,869.993 1599.78,869.993 1601.84,869.993 1603.9,869.993 1605.95,869.993 1608.01,869.993 1610.07,869.993 1612.13,869.993 1614.18,869.993 1616.24,869.993 1618.3,1069.83 1620.36,1069.83 1622.41,1069.83 1624.47,1069.83 1626.53,1069.83 1628.59,1069.83 1630.64,1069.83 1632.7,1069.83 1634.76,1069.83 1636.81,1069.83 1638.87,999.906 1640.93,999.906 1642.99,999.906 1645.04,999.906 1647.1,999.906 1649.16,1053.92 1651.22,1053.92 1653.27,1053.92 1655.33,1053.92 1657.39,1053.92 1659.44,1053.92 1661.5,1052.56 1663.56,1052.56 1665.62,1052.56 1667.67,1052.56 1669.73,1052.56 1671.79,1052.56 1673.85,1052.56 1675.9,1052.56 1677.96,1052.56 1680.02,1062.08 1682.08,1063.32 1684.13,1062.08 1686.19,1062.08 1688.25,1062.08 1690.3,1062.08 1692.36,1062.08 1694.42,1063.32 1696.48,1063.32 1698.53,1062.08 1700.59,1062.08 1702.65,1063.32 1704.71,1063.32 1706.76,1114.25 1708.82,1112.98 1710.88,1112.98 1712.93,847.302 1714.99,846.18 1717.05,847.302 1719.11,1106.47 1721.16,1127.21 1723.22,1127.21 1725.28,1125.94 1727.34,1127.21 1729.39,1125.94 1731.45,1127.21 1733.51,1127.21 1735.57,1205.44 1737.62,1195.51 1739.68,1195.51 1741.74,1195.51 1743.79,1195.51 1745.85,1221.19 1747.91,1123.59 1749.97,1122.99 1752.02,1122.99 1754.08,1124.26 1756.14,1222.71 1758.2,1222.71 1760.25,1125.04 1762.31,1125.04 1764.37,1224.59 1766.42,1126.83 1768.48,1240.77 1770.54,1231.86 1772.6,1168.38 1774.65,1168.38 1776.71,1268.26 1778.77,1168.38 1780.83,1272.78 1782.88,1272.78 1784.94,1271.04 1787,1173.74 1789.05,1271.59 1791.11,1318.66 1793.17,1213.24 1795.23,1213.24 1797.28,1317.87 1799.34,1274.39 1801.4,1377.67 1803.46,1272.08 1805.51,1380.12 1807.57,1274.39 1809.63,1377.67 1811.69,1310.73 1813.74,1421.12 1815.8,1310.73 1817.86,1401.99 1819.91,1401.99 1821.97,1401.08 1824.03,1401.99 1826.09,1401.99 1828.14,1397.41 1830.2,1397.41 1832.26,1397.41 1834.32,1397.41 1836.37,1397.41 1838.43,1398.8 1840.49,1432 1842.54,1432 1844.6,1430.58 1846.66,1432 1848.72,1432 1850.77,1429.64 1852.83,1428.23 1854.89,1430.38 1856.95,1428.96 1859,1428.96 1861.06,1430.38 1863.12,1430.38 1865.18,1438.64 1867.23,1438.64 1869.29,1437.21 1871.35,1441.14 1873.4,1439.71 1875.46,1439.71 1877.52,1441.14 1879.58,1441.14 1881.63,1441.14 1883.69,1439.71 1885.75,1441.14 1887.81,1441.14 1889.86,1441.14 1891.92,1441.14 1893.98,1441.14 1896.03,1441.14 1898.09,1439.71 1900.15,1441.14 1902.21,1441.14 1904.26,1441.14 1906.32,1440.73 1908.38,1439.31 1910.44,1440.73 1912.49,1439.31 1914.55,1440.73 1916.61,1440.73 1918.66,1439.31 1920.72,1440.73 1922.78,1438.89 1924.84,1437.47 1926.89,1437.47 1928.95,1438.89 1931.01,1437.47 1933.07,1437.47 1935.12,1438.89 1937.18,1437.47 1939.24,1438.89 1941.3,1444.29 1943.35,1445.72 1945.41,1439.14 1947.47,1437.6 1949.52,1442.74 1951.58,1438.22 1953.64,1439.14 1955.7,1439.77 1957.75,1439.02 1959.81,1445.71 1961.87,1433.57 1963.93,1434.85 1965.98,1432.25 1968.04,1432.62 1970.1,1434.23 1972.15,1434.49 1974.21,1437.75 1976.27,1433.57 1978.33,1431.97 1980.38,1436.21 1982.44,1435.07 1984.5,1432.25 1986.56,1438.66 1988.61,1433.25 1990.67,1434.41 1992.73,1435.07 1994.79,1431.71 1996.84,1440.21 1998.9,1436.47 2000.96,1439.36 2003.01,1439.36 2005.07,1432.87 2007.13,1435.77 2009.19,1432.49 2011.24,1431.86 2013.3,1431.16 2015.36,1434.94 2017.42,1435.15 2019.47,1429.42 2021.53,1434.02 2023.59,1430.04 2025.64,1435.15 2027.7,1429.37 2029.76,1435.8 2031.82,1436.94 2033.87,1430.96 2035.93,1434.03 2037.99,1438.53 2040.05,1439.4 2042.1,1438.54 2044.16,1430.83 2046.22,1429.09 2048.28,1430.09 2050.33,1427.58 2052.39,1430.09 2054.45,1427.71 2056.5,1430.1 2058.56,1428.61 2060.62,1429.48 2062.68,1429.03 2064.73,1435.28 2066.79,1426.86 2068.85,1429.03 2070.91,1433.72 2072.96,1433.52 2075.02,1430.15 2077.08,1428.18 2079.13,1431.47 2081.19,1429.88 2083.25,1432.46 2085.31,1424.23 2087.36,1429.92 2089.42,1428.19 2091.48,1435.75 2093.54,1434.21 2095.59,1430.51 2097.65,1426.61 2099.71,1426.6 2101.76,1429.46 2103.82,1428.19 2105.88,1427.5 2107.94,1428.81 2109.99,1431.77 2112.05,1424.84 2114.11,1430.51 2116.17,1435.05 2118.22,1433.53 2120.28,1429.92 2122.34,1430.56 2124.4,1428.88 2126.45,1428.81 2128.51,1427.34 2130.57,1433.3 2132.62,1431.77 2134.68,1428.81 2136.74,1427.35 2138.8,1433.29 2140.85,1428.14 2142.91,1425.75 2144.97,1429.33 2147.03,1425.96 2149.08,1425.96 2151.14,1432.6 2153.2,1429.92 2155.25,1428.88 2157.31,1428.96 2159.37,1427.27 2161.43,1433.53 2163.48,1431.77 2165.54,1427.34 2167.6,1430.86 2169.66,1431.77 2171.71,1428.07 2173.77,1424.18 2175.83,1428.06 2177.89,1429.68 2179.94,1430.64 2182,1428.2 2184.06,1432.41 2186.11,1428.34 2188.17,1428.18 2190.23,1433.52 2192.29,1425.75 2194.34,1424.18 2196.4,1429.72 2198.46,1428.82 2200.52,1426.67 2202.57,1428.84 2204.63,1429.92 2206.69,1435 2208.74,1429.93 2210.8,1426.61 2212.86,1431.21 2214.92,1425.69 2216.97,1430.86 2219.03,1430.5 2221.09,1427.27 2223.15,1429.94 2225.2,1425.74 2227.26,1429.93 2229.32,1430.64 2231.38,1429.34 2233.43,1431.26 2235.49,1435.05 2237.55,1433.31 2239.6,1428.19 2241.66,1428.4 2243.72,1426.66 2245.78,1425.96 2247.83,1426.6 2249.89,1430.56 2251.95,1426.59 2254.01,1428.4 2256.06,1429.92 2258.12,1430.63 2260.18,1429.88 2262.23,1428.12 2264.29,1433.48 2266.35,1424.22 2268.41,1433.99 2270.46,1426.6 2272.52,1433.31 2274.58,1428.34 2276.64,1428.96 2278.69,1432.43 2280.75,1426.6 2282.81,1425.96 2284.86,1428.35 2286.92,1428.35 2288.98,1433.24 2291.04,1433.51 \"/>\n",
       "<path clip-path=\"url(#clip450)\" d=\"M2009.56 198.898 L2280.06 198.898 L2280.06 95.2176 L2009.56 95.2176  Z\" fill=\"#ffffff\" fill-rule=\"evenodd\" fill-opacity=\"1\"/>\n",
       "<polyline clip-path=\"url(#clip450)\" style=\"stroke:#000000; stroke-linecap:round; stroke-linejoin:round; stroke-width:4; stroke-opacity:1; fill:none\" points=\"2009.56,198.898 2280.06,198.898 2280.06,95.2176 2009.56,95.2176 2009.56,198.898 \"/>\n",
       "<polyline clip-path=\"url(#clip450)\" style=\"stroke:#009af9; stroke-linecap:round; stroke-linejoin:round; stroke-width:4; stroke-opacity:1; fill:none\" points=\"2033.79,147.058 2179.17,147.058 \"/>\n",
       "<path clip-path=\"url(#clip450)\" d=\"M2217.25 166.745 Q2215.44 171.375 2213.73 172.787 Q2212.01 174.199 2209.14 174.199 L2205.74 174.199 L2205.74 170.634 L2208.24 170.634 Q2210 170.634 2210.97 169.8 Q2211.95 168.967 2213.13 165.865 L2213.89 163.921 L2203.4 138.412 L2207.92 138.412 L2216.02 158.689 L2224.12 138.412 L2228.64 138.412 L2217.25 166.745 Z\" fill=\"#000000\" fill-rule=\"nonzero\" fill-opacity=\"1\" /><path clip-path=\"url(#clip450)\" d=\"M2235.93 160.402 L2243.57 160.402 L2243.57 134.037 L2235.26 135.703 L2235.26 131.444 L2243.52 129.778 L2248.2 129.778 L2248.2 160.402 L2255.83 160.402 L2255.83 164.338 L2235.93 164.338 L2235.93 160.402 Z\" fill=\"#000000\" fill-rule=\"nonzero\" fill-opacity=\"1\" /></svg>\n"
      ]
     },
     "execution_count": 139,
     "metadata": {},
     "output_type": "execute_result"
    }
   ],
   "source": [
    "plot(log.(thresholds), rmses)"
   ]
  },
  {
   "cell_type": "markdown",
   "metadata": {},
   "source": [
    "What is the optimal threshold in this scenario?"
   ]
  },
  {
   "cell_type": "code",
   "execution_count": 140,
   "metadata": {},
   "outputs": [
    {
     "data": {
      "text/plain": [
       "0.18451952399298926"
      ]
     },
     "execution_count": 140,
     "metadata": {},
     "output_type": "execute_result"
    }
   ],
   "source": [
    "thresholds[argmin(rmses)]"
   ]
  },
  {
   "cell_type": "markdown",
   "metadata": {},
   "source": [
    "Let's now see if it gives us better performance than before. The same caveats for cross-validation as before apply here"
   ]
  },
  {
   "cell_type": "code",
   "execution_count": 141,
   "metadata": {},
   "outputs": [
    {
     "name": "stderr",
     "output_type": "stream",
     "text": [
      "\u001b[36m\u001b[1m[ \u001b[22m\u001b[39m\u001b[36m\u001b[1mInfo: \u001b[22m\u001b[39mTraining machine(DecisionTreeRegressor(max_depth = -1, …), …).\n"
     ]
    },
    {
     "data": {
      "text/plain": [
       "214.8897188951691"
      ]
     },
     "execution_count": 141,
     "metadata": {},
     "output_type": "execute_result"
    }
   ],
   "source": [
    "tree_model_prune = DecisionTreeRegressor(post_prune = true, merge_purity_threshold = thresholds[argmin(rmses)])\n",
    "tree_machine_prune = machine(tree_model_prune, X[train, :], y[train])\n",
    "fit!(tree_machine_prune);\n",
    "predictions_prune = predict(tree_machine_prune, X[test, :])\n",
    "sqrt(mean((predictions_prune - y[test]) .^ 2))"
   ]
  },
  {
   "cell_type": "code",
   "execution_count": 142,
   "metadata": {},
   "outputs": [
    {
     "data": {
      "text/plain": [
       "CHits < 450.0\n",
       "├─ AtBat < 147.0\n",
       "│  ├─ 709.4666 (0/5)\n",
       "│  └─ CRBI < 114.5\n",
       "│     ├─ CRuns < 81.0\n",
       "│     │  ├─ CRuns < 64.0\n",
       "│     │  │  ├─ Hits < 69.5\n",
       "│     │  │  │  ⋮\n",
       "│     │  │  │  \n",
       "│     │  │  └─ Runs < 45.0\n",
       "│     │  │     ⋮\n",
       "│     │  │     \n",
       "│     │  └─ CAtBat < 842.5\n",
       "│     │     ├─ CRuns < 100.5\n",
       "│     │     │  ⋮\n",
       "│     │     │  \n",
       "│     │     └─ PutOuts < 151.5\n",
       "│     │        ⋮\n",
       "│     │        \n",
       "│     └─ CWalks < 120.0\n",
       "│        ├─ Walks < 29.5\n",
       "│        │  ├─ 318.9375 (0/8)\n",
       "│        │  └─ 215.0 (2/7)\n",
       "│        └─ PutOuts < 154.5\n",
       "│           ├─ 338.5 (0/5)\n",
       "│           └─ 447.22222222222223 (0/9)\n",
       "└─ Walks < 61.0\n",
       "   ├─ AtBat < 365.0\n",
       "   │  ├─ NewLeague__A < 0.5\n",
       "   │  │  ├─ Years < 12.5\n",
       "   │  │  │  ├─ CRuns < 414.0\n",
       "   │  │  │  │  ⋮\n",
       "   │  │  │  │  \n",
       "   │  │  │  └─ 450.0 (2/10)\n",
       "   │  │  └─ Hits < 76.5\n",
       "   │  │     ├─ Errors < 5.5\n",
       "   │  │     │  ⋮\n",
       "   │  │     │  \n",
       "   │  │     └─ 500.4166666666667 (0/6)\n",
       "   │  └─ PutOuts < 771.0\n",
       "   │     ├─ CRBI < 279.0\n",
       "   │     │  ├─ CWalks < 177.0\n",
       "   │     │  │  ⋮\n",
       "   │     │  │  \n",
       "   │     │  └─ AtBat < 585.0\n",
       "   │     │     ⋮\n",
       "   │     │     \n",
       "   │     └─ 1156.6666666666667 (0/6)\n",
       "   └─ RBI < 73.5\n",
       "      ├─ PutOuts < 239.5\n",
       "      │  ├─ 1156.0714285714287 (0/7)\n",
       "      │  └─ PutOuts < 308.0\n",
       "      │     ├─ 620.0 (0/6)\n",
       "      │     └─ 842.2916250000001 (0/8)\n",
       "      └─ Years < 13.5\n",
       "         ├─ CRuns < 671.0\n",
       "         │  ├─ 1118.5714285714287 (0/7)\n",
       "         │  └─ 2028.0118333333332 (0/6)\n",
       "         └─ 992.4654999999999 (0/6)\n"
      ]
     },
     "execution_count": 142,
     "metadata": {},
     "output_type": "execute_result"
    }
   ],
   "source": [
    "fitted_params(tree_machine_prune)[1]"
   ]
  },
  {
   "cell_type": "code",
   "execution_count": null,
   "metadata": {},
   "outputs": [],
   "source": []
  }
 ],
 "metadata": {
  "kernelspec": {
   "display_name": "Julia 1.10.4",
   "language": "julia",
   "name": "julia-1.10"
  },
  "language_info": {
   "file_extension": ".jl",
   "mimetype": "application/julia",
   "name": "julia",
   "version": "1.10.4"
  }
 },
 "nbformat": 4,
 "nbformat_minor": 2
}

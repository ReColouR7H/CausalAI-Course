{
 "cells": [
  {
   "cell_type": "markdown",
   "metadata": {},
   "source": [
    "# Lab 3: Asymptotic Properties of Best Linear Predictor and Partialling Out\n",
    "\n",
    "To see how partialling out functions both at the population and at the sample level, we will first review the asymptotic properties of the BLP that we defined in previous classes.\n",
    "\n",
    "First we load the libraries."
   ]
  },
  {
   "cell_type": "code",
   "execution_count": 1,
   "metadata": {},
   "outputs": [],
   "source": [
    "import numpy as np\n",
    "import statsmodels.api as sms"
   ]
  },
  {
   "cell_type": "markdown",
   "metadata": {},
   "source": [
    "Recall the usual linear model. We have a collection of random variables $(Y, X) \\in \\mathbb{R}\\times\\mathbb{R}^p$, with some joint distribution $\\mathcal{D}$, and . We can build a linear approximation of $Y$ given $X$ at the population level by finding a $\\beta$ such that\n",
    "\n",
    "\\begin{gather*}\n",
    "\\beta \\in \\arg\\min_{b\\in\\mathbb{R}^p}E\\left[\\left(Y-Xb\\right)^2\\right]\n",
    "\\end{gather*}\n",
    "\n",
    "However, when working with samples, we estimate $\\beta$ by building $\\hat{\\beta}$ such that\n",
    "\n",
    "\\begin{gather*}\n",
    "\\hat{\\beta} = \\arg\\min_{b\\in\\mathbb{R}^p}\\mathbb{E}_n\\left[\\left(Y-Xb\\right)^2\\right]\n",
    "\\end{gather*}\n",
    "\n",
    "Like in the previous lab, we will approximate $Y$ drawn from the following data generating process\n",
    "\n",
    "\\begin{align*}\n",
    "Y &= e^{4X} + \\epsilon_Y\\\\\n",
    "X &= \\epsilon_X\\\\\n",
    "\\epsilon_Y &\\sim\\mathcal{N}(0, 1)\\\\\n",
    "\\epsilon_X&\\sim\\mathcal{U}(0, 1)\n",
    "\\end{align*}"
   ]
  },
  {
   "cell_type": "code",
   "execution_count": 2,
   "metadata": {},
   "outputs": [],
   "source": [
    "N = 10_000_000\n",
    "X = np.random.uniform(0, 1, (N, 1))\n",
    "epsilon_y = np.random.normal(0, 1, (N, 1))\n",
    "y = np.exp(4 * X) + epsilon_y"
   ]
  },
  {
   "cell_type": "markdown",
   "metadata": {},
   "source": [
    "Remember that our initial goal is to approximate $Y$ through some linear function, which in this case means we want to approximate $g(X) = e^{4X}$. To do this, we will use a third degree polynomial like in last lab, meaning we will define $Z = (X, X^2, X^3)$ and use the least squares method to find $m(Z)\\approx g(X)$. With this approximation we have that\n",
    "\n",
    "\\begin{gather*}\n",
    "Y = m(Z) + \\varepsilon\\\\\n",
    "m(Z) = Z\\gamma_{YZ}\n",
    "\\end{gather*}\n",
    "\n",
    "where $\\gamma_{YZ}$ is the vector of coefficients. This time, we will take a closer look at these coefficients."
   ]
  },
  {
   "cell_type": "code",
   "execution_count": 3,
   "metadata": {},
   "outputs": [],
   "source": [
    "Z = np.hstack((X, X ** 2, X ** 3))"
   ]
  },
  {
   "cell_type": "code",
   "execution_count": 4,
   "metadata": {},
   "outputs": [
    {
     "name": "stdout",
     "output_type": "stream",
     "text": [
      "                                 OLS Regression Results                                \n",
      "=======================================================================================\n",
      "Dep. Variable:                      y   R-squared (uncentered):                   0.997\n",
      "Model:                            OLS   Adj. R-squared (uncentered):              0.997\n",
      "Method:                 Least Squares   F-statistic:                          1.025e+09\n",
      "Date:                Tue, 03 Sep 2024   Prob (F-statistic):                        0.00\n",
      "Time:                        21:30:29   Log-Likelihood:                     -1.5142e+07\n",
      "No. Observations:            10000000   AIC:                                  3.028e+07\n",
      "Df Residuals:                 9999997   BIC:                                  3.028e+07\n",
      "Df Model:                           3                                                  \n",
      "Covariance Type:            nonrobust                                                  \n",
      "==============================================================================\n",
      "                 coef    std err          t      P>|t|      [0.025      0.975]\n",
      "------------------------------------------------------------------------------\n",
      "x1            23.2509      0.006   3859.480      0.000      23.239      23.263\n",
      "x2           -67.4962      0.019  -3615.734      0.000     -67.533     -67.460\n",
      "x3            97.1164      0.014   7034.463      0.000      97.089      97.144\n",
      "==============================================================================\n",
      "Omnibus:                     2596.435   Durbin-Watson:                   2.000\n",
      "Prob(Omnibus):                  0.000   Jarque-Bera (JB):             2598.453\n",
      "Skew:                           0.039   Prob(JB):                         0.00\n",
      "Kurtosis:                       3.003   Cond. No.                         55.6\n",
      "==============================================================================\n",
      "\n",
      "Notes:\n",
      "[1] R² is computed without centering (uncentered) since the model does not contain a constant.\n",
      "[2] Standard Errors assume that the covariance matrix of the errors is correctly specified.\n"
     ]
    }
   ],
   "source": [
    "model = sms.OLS(y, Z)\n",
    "print(model.fit().summary())"
   ]
  },
  {
   "cell_type": "markdown",
   "metadata": {},
   "source": [
    "We now pick three samples: a small one (about 50 observations), a medium one (about 250 observations) and a large (close to 10 000 observations)"
   ]
  },
  {
   "cell_type": "code",
   "execution_count": 5,
   "metadata": {},
   "outputs": [
    {
     "name": "stdout",
     "output_type": "stream",
     "text": [
      "Small sample size: 50\n",
      "Medium sample size: 245\n",
      "Large sample size: 9902\n"
     ]
    }
   ],
   "source": [
    "sampling_values = np.random.uniform(0, 1, (N, 1))\n",
    "small_sample = (sampling_values < .000005).reshape(-1)\n",
    "medium_sample = (sampling_values < .000025).reshape(-1)\n",
    "large_sample = (sampling_values < .001).reshape(-1)\n",
    "\n",
    "print(\"Small sample size:\", small_sample.sum())\n",
    "print(\"Medium sample size:\", medium_sample.sum())\n",
    "print(\"Large sample size:\", large_sample.sum())"
   ]
  },
  {
   "cell_type": "markdown",
   "metadata": {},
   "source": [
    "Our $\\hat{\\beta}$ should more closely approximate $\\beta$'s distribution as $n$ grows. We can see this when we fit a model with all the population and compare it with larger and larger samples because our estimator $\\hat{\\beta}$ is distributed as\n",
    "\n",
    "\\begin{gather*}\n",
    "\\hat{\\beta}\\sim\\mathcal{N}(\\beta, \\bold{V}/n)\n",
    "\\end{gather*}\n",
    "\n",
    "Notice that the variance shrinks with the sample size. In the following example results, pay attention to what happens to the confidence intervals when as the sample size grows"
   ]
  },
  {
   "cell_type": "code",
   "execution_count": 6,
   "metadata": {},
   "outputs": [
    {
     "name": "stdout",
     "output_type": "stream",
     "text": [
      "                                 OLS Regression Results                                \n",
      "=======================================================================================\n",
      "Dep. Variable:                      y   R-squared (uncentered):                   0.996\n",
      "Model:                            OLS   Adj. R-squared (uncentered):              0.995\n",
      "Method:                 Least Squares   F-statistic:                              3628.\n",
      "Date:                Tue, 03 Sep 2024   Prob (F-statistic):                    1.35e-55\n",
      "Time:                        21:30:30   Log-Likelihood:                         -78.251\n",
      "No. Observations:                  50   AIC:                                      162.5\n",
      "Df Residuals:                      47   BIC:                                      168.2\n",
      "Df Model:                           3                                                  \n",
      "Covariance Type:            nonrobust                                                  \n",
      "==============================================================================\n",
      "                 coef    std err          t      P>|t|      [0.025      0.975]\n",
      "------------------------------------------------------------------------------\n",
      "x1            23.2815      3.014      7.724      0.000      17.218      29.345\n",
      "x2           -63.4443      9.358     -6.780      0.000     -82.270     -44.619\n",
      "x3            92.0021      6.949     13.240      0.000      78.023     105.981\n",
      "==============================================================================\n",
      "Omnibus:                        0.499   Durbin-Watson:                   2.378\n",
      "Prob(Omnibus):                  0.779   Jarque-Bera (JB):                0.158\n",
      "Skew:                           0.129   Prob(JB):                        0.924\n",
      "Kurtosis:                       3.094   Cond. No.                         54.8\n",
      "==============================================================================\n",
      "\n",
      "Notes:\n",
      "[1] R² is computed without centering (uncentered) since the model does not contain a constant.\n",
      "[2] Standard Errors assume that the covariance matrix of the errors is correctly specified.\n"
     ]
    }
   ],
   "source": [
    "print(sms.OLS(y[small_sample], Z[small_sample, :]).fit().summary())"
   ]
  },
  {
   "cell_type": "code",
   "execution_count": 7,
   "metadata": {},
   "outputs": [
    {
     "name": "stdout",
     "output_type": "stream",
     "text": [
      "                                 OLS Regression Results                                \n",
      "=======================================================================================\n",
      "Dep. Variable:                      y   R-squared (uncentered):                   0.997\n",
      "Model:                            OLS   Adj. R-squared (uncentered):              0.997\n",
      "Method:                 Least Squares   F-statistic:                          2.442e+04\n",
      "Date:                Tue, 03 Sep 2024   Prob (F-statistic):                   5.07e-300\n",
      "Time:                        21:30:30   Log-Likelihood:                         -369.16\n",
      "No. Observations:                 245   AIC:                                      744.3\n",
      "Df Residuals:                     242   BIC:                                      754.8\n",
      "Df Model:                           3                                                  \n",
      "Covariance Type:            nonrobust                                                  \n",
      "==============================================================================\n",
      "                 coef    std err          t      P>|t|      [0.025      0.975]\n",
      "------------------------------------------------------------------------------\n",
      "x1            23.4170      1.218     19.229      0.000      21.018      25.816\n",
      "x2           -66.4932      3.769    -17.640      0.000     -73.918     -59.068\n",
      "x3            95.9736      2.767     34.689      0.000      90.524     101.423\n",
      "==============================================================================\n",
      "Omnibus:                        0.250   Durbin-Watson:                   2.200\n",
      "Prob(Omnibus):                  0.883   Jarque-Bera (JB):                0.165\n",
      "Skew:                          -0.063   Prob(JB):                        0.921\n",
      "Kurtosis:                       3.019   Cond. No.                         54.1\n",
      "==============================================================================\n",
      "\n",
      "Notes:\n",
      "[1] R² is computed without centering (uncentered) since the model does not contain a constant.\n",
      "[2] Standard Errors assume that the covariance matrix of the errors is correctly specified.\n"
     ]
    }
   ],
   "source": [
    "print(sms.OLS(y[medium_sample], Z[medium_sample]).fit().summary())"
   ]
  },
  {
   "cell_type": "code",
   "execution_count": 8,
   "metadata": {},
   "outputs": [
    {
     "name": "stdout",
     "output_type": "stream",
     "text": [
      "                                 OLS Regression Results                                \n",
      "=======================================================================================\n",
      "Dep. Variable:                      y   R-squared (uncentered):                   0.997\n",
      "Model:                            OLS   Adj. R-squared (uncentered):              0.997\n",
      "Method:                 Least Squares   F-statistic:                          1.034e+06\n",
      "Date:                Tue, 03 Sep 2024   Prob (F-statistic):                        0.00\n",
      "Time:                        21:30:30   Log-Likelihood:                         -14887.\n",
      "No. Observations:                9902   AIC:                                  2.978e+04\n",
      "Df Residuals:                    9899   BIC:                                  2.980e+04\n",
      "Df Model:                           3                                                  \n",
      "Covariance Type:            nonrobust                                                  \n",
      "==============================================================================\n",
      "                 coef    std err          t      P>|t|      [0.025      0.975]\n",
      "------------------------------------------------------------------------------\n",
      "x1            23.5208      0.190    123.527      0.000      23.148      23.894\n",
      "x2           -68.0840      0.590   -115.470      0.000     -69.240     -66.928\n",
      "x3            97.4517      0.435    223.855      0.000      96.598      98.305\n",
      "==============================================================================\n",
      "Omnibus:                        5.019   Durbin-Watson:                   1.963\n",
      "Prob(Omnibus):                  0.081   Jarque-Bera (JB):                5.012\n",
      "Skew:                           0.055   Prob(JB):                       0.0816\n",
      "Kurtosis:                       3.004   Cond. No.                         55.6\n",
      "==============================================================================\n",
      "\n",
      "Notes:\n",
      "[1] R² is computed without centering (uncentered) since the model does not contain a constant.\n",
      "[2] Standard Errors assume that the covariance matrix of the errors is correctly specified.\n"
     ]
    }
   ],
   "source": [
    "print(sms.OLS(y[large_sample], Z[large_sample]).fit().summary())"
   ]
  },
  {
   "cell_type": "markdown",
   "metadata": {},
   "source": [
    "Now that we have reviewed this, we can add another variable to the mix. This variable will be jointly distributed with X and with Y. We will define the data generating process as:\n",
    "\n",
    "\\begin{align*}\n",
    "Y &= \\theta D + e^{4X} + \\epsilon_Y\\\\\n",
    "D &= e^X - \\log{(X)} + \\epsilon_D\\\\\n",
    "X &= \\epsilon_X\\\\\n",
    "\\epsilon_Y, \\epsilon_D&\\sim\\text{i.i.d.}\\mathcal{N}(0, 1)\\\\\n",
    "\\epsilon_X&\\sim\\mathcal{U}(0, 1)\n",
    "\\end{align*}"
   ]
  },
  {
   "cell_type": "code",
   "execution_count": 9,
   "metadata": {},
   "outputs": [],
   "source": [
    "epsilon_d = np.random.normal(0, 1, (N, 1))\n",
    "D = np.exp(X) - np.log(X) + epsilon_d\n",
    "y = 3 * D + np.exp(4 * X) + epsilon_y"
   ]
  },
  {
   "cell_type": "markdown",
   "metadata": {},
   "source": [
    "We will focus on understanding partialling out with this example. We will go step by step to help illustrate each step of the partialling out process and how we get the results. First, let's take a look at the coefficients for our regressors when they are jointly estimated, meaning that we find the BLP of the form\n",
    "\n",
    "\\begin{gather*}\n",
    "Y = \\theta D + Z\\gamma + \\varepsilon \\quad\\quad(1)\n",
    "\\end{gather*}"
   ]
  },
  {
   "cell_type": "code",
   "execution_count": 10,
   "metadata": {},
   "outputs": [
    {
     "name": "stdout",
     "output_type": "stream",
     "text": [
      "                                 OLS Regression Results                                \n",
      "=======================================================================================\n",
      "Dep. Variable:                      y   R-squared (uncentered):                   0.998\n",
      "Model:                            OLS   Adj. R-squared (uncentered):              0.998\n",
      "Method:                 Least Squares   F-statistic:                          1.354e+09\n",
      "Date:                Tue, 03 Sep 2024   Prob (F-statistic):                        0.00\n",
      "Time:                        21:30:33   Log-Likelihood:                     -1.5141e+07\n",
      "No. Observations:            10000000   AIC:                                  3.028e+07\n",
      "Df Residuals:                 9999996   BIC:                                  3.028e+07\n",
      "Df Model:                           4                                                  \n",
      "Covariance Type:            nonrobust                                                  \n",
      "==============================================================================\n",
      "                 coef    std err          t      P>|t|      [0.025      0.975]\n",
      "------------------------------------------------------------------------------\n",
      "x1             3.0111      0.000   1.39e+04      0.000       3.011       3.011\n",
      "x2            22.9980      0.008   2946.180      0.000      22.983      23.013\n",
      "x3           -66.9347      0.022  -3087.812      0.000     -66.977     -66.892\n",
      "x4            96.7670      0.015   6277.587      0.000      96.737      96.797\n",
      "==============================================================================\n",
      "Omnibus:                     2572.515   Durbin-Watson:                   1.999\n",
      "Prob(Omnibus):                  0.000   Jarque-Bera (JB):             2574.502\n",
      "Skew:                           0.039   Prob(JB):                         0.00\n",
      "Kurtosis:                       3.003   Cond. No.                         239.\n",
      "==============================================================================\n",
      "\n",
      "Notes:\n",
      "[1] R² is computed without centering (uncentered) since the model does not contain a constant.\n",
      "[2] Standard Errors assume that the covariance matrix of the errors is correctly specified.\n"
     ]
    }
   ],
   "source": [
    "base_model_results = sms.OLS(y, np.hstack((D, Z))).fit()\n",
    "print(base_model_results.summary())"
   ]
  },
  {
   "cell_type": "markdown",
   "metadata": {},
   "source": [
    "Here we have a linear approximation that uses all the variables at the same time, and all coefficients are estimated jointly. As before, this means that\n",
    "\n",
    "\\begin{gather*}\n",
    "Y = \\hat{\\theta}D + Z\\hat{\\gamma} + \\varepsilon\n",
    "\\end{gather*}\n",
    "\n",
    "We will save the residuals $\\varepsilon$ of this regression for later"
   ]
  },
  {
   "cell_type": "code",
   "execution_count": 11,
   "metadata": {},
   "outputs": [],
   "source": [
    "y_residuals = base_model_results.resid.reshape((-1, 1))"
   ]
  },
  {
   "cell_type": "markdown",
   "metadata": {},
   "source": [
    "As we saw in class, partialling out consists of computing the residuals $\\~V$ for each variable $V$ in our regression with some collection of regressors $W$.\n",
    "\n",
    "\\begin{gather*}\n",
    "\\~V=V-\\hat{V}\n",
    "\\end{gather*}\n",
    "\n",
    "Where $\\hat{V}=m(W)$ is a prediction rule for $V$ with $W$. The vectors $\\~V$ are called the \"residuals of $V$ on $W$.\" In the following examples, we will focus on the best linear predictor built with $Z = (X, X^2, X^3)$. This means we estimate\n",
    "\n",
    "\\begin{align*}\n",
    "Y =& Z\\gamma_{ZY} + \\varepsilon_{ZY}\\\\\n",
    "D =& Z\\gamma_{ZD} + \\varepsilon_{ZD}\\\\\n",
    "&\\text{etc...}\n",
    "\\end{align*}\n",
    "\n",
    "After estimating these linear predictors, we build the residuals\n",
    "\n",
    "\\begin{align*}\n",
    "\\tilde{Y} =& Y - Z\\hat{\\gamma}_{ZY}\\\\\n",
    "\\tilde{D} =& D - Z\\hat{\\gamma}_{ZD}\\\\\n",
    "&\\text{etc...}\n",
    "\\end{align*}\n",
    "\n",
    "We will be building these residuals for all the variables in our regression on our collection of constructed regressors $Z$, starting with the residuals of $Y$ on $Z$, $\\~Y$"
   ]
  },
  {
   "cell_type": "code",
   "execution_count": 12,
   "metadata": {},
   "outputs": [
    {
     "name": "stdout",
     "output_type": "stream",
     "text": [
      "                                 OLS Regression Results                                \n",
      "=======================================================================================\n",
      "Dep. Variable:                      y   R-squared (uncentered):                   0.963\n",
      "Model:                            OLS   Adj. R-squared (uncentered):              0.963\n",
      "Method:                 Least Squares   F-statistic:                          8.588e+07\n",
      "Date:                Tue, 03 Sep 2024   Prob (F-statistic):                        0.00\n",
      "Time:                        21:30:37   Log-Likelihood:                     -3.0186e+07\n",
      "No. Observations:            10000000   AIC:                                  6.037e+07\n",
      "Df Residuals:                 9999997   BIC:                                  6.037e+07\n",
      "Df Model:                           3                                                  \n",
      "Covariance Type:            nonrobust                                                  \n",
      "==============================================================================\n",
      "                 coef    std err          t      P>|t|      [0.025      0.975]\n",
      "------------------------------------------------------------------------------\n",
      "x1            91.9130      0.027   3389.497      0.000      91.860      91.966\n",
      "x2          -219.9423      0.084  -2617.557      0.000    -220.107    -219.778\n",
      "x3           191.9875      0.062   3089.451      0.000     191.866     192.109\n",
      "==============================================================================\n",
      "Omnibus:                  2670780.161   Durbin-Watson:                   1.931\n",
      "Prob(Omnibus):                  0.000   Jarque-Bera (JB):          8963064.418\n",
      "Skew:                           1.344   Prob(JB):                         0.00\n",
      "Kurtosis:                       6.779   Cond. No.                         55.6\n",
      "==============================================================================\n",
      "\n",
      "Notes:\n",
      "[1] R² is computed without centering (uncentered) since the model does not contain a constant.\n",
      "[2] Standard Errors assume that the covariance matrix of the errors is correctly specified.\n"
     ]
    }
   ],
   "source": [
    "y_Z_model = sms.OLS(y, Z).fit()\n",
    "y_Z_residuals = y_Z_model.resid.reshape((-1, 1))\n",
    "print(y_Z_model.summary())"
   ]
  },
  {
   "cell_type": "markdown",
   "metadata": {},
   "source": [
    "$\\~D$:"
   ]
  },
  {
   "cell_type": "code",
   "execution_count": 13,
   "metadata": {},
   "outputs": [
    {
     "name": "stdout",
     "output_type": "stream",
     "text": [
      "                                 OLS Regression Results                                \n",
      "=======================================================================================\n",
      "Dep. Variable:                      y   R-squared (uncentered):                   0.709\n",
      "Model:                            OLS   Adj. R-squared (uncentered):              0.709\n",
      "Method:                 Least Squares   F-statistic:                          8.115e+06\n",
      "Date:                Tue, 03 Sep 2024   Prob (F-statistic):                        0.00\n",
      "Time:                        21:30:40   Log-Likelihood:                     -1.8910e+07\n",
      "No. Observations:            10000000   AIC:                                  3.782e+07\n",
      "Df Residuals:                 9999997   BIC:                                  3.782e+07\n",
      "Df Model:                           3                                                  \n",
      "Covariance Type:            nonrobust                                                  \n",
      "==============================================================================\n",
      "                 coef    std err          t      P>|t|      [0.025      0.975]\n",
      "------------------------------------------------------------------------------\n",
      "x1            22.8873      0.009   2606.514      0.000      22.870      22.905\n",
      "x2           -50.8154      0.027  -1867.620      0.000     -50.869     -50.762\n",
      "x3            31.6237      0.020   1571.546      0.000      31.584      31.663\n",
      "==============================================================================\n",
      "Omnibus:                  2487536.426   Durbin-Watson:                   1.926\n",
      "Prob(Omnibus):                  0.000   Jarque-Bera (JB):          7723870.900\n",
      "Skew:                           1.278   Prob(JB):                         0.00\n",
      "Kurtosis:                       6.464   Cond. No.                         55.6\n",
      "==============================================================================\n",
      "\n",
      "Notes:\n",
      "[1] R² is computed without centering (uncentered) since the model does not contain a constant.\n",
      "[2] Standard Errors assume that the covariance matrix of the errors is correctly specified.\n"
     ]
    }
   ],
   "source": [
    "D_Z_model = sms.OLS(D, Z).fit()\n",
    "D_Z_residuals = D_Z_model.resid.reshape((-1, 1))\n",
    "print(D_Z_model.summary())"
   ]
  },
  {
   "cell_type": "markdown",
   "metadata": {},
   "source": [
    "$\\~X$:"
   ]
  },
  {
   "cell_type": "code",
   "execution_count": 14,
   "metadata": {},
   "outputs": [
    {
     "name": "stdout",
     "output_type": "stream",
     "text": [
      "                                 OLS Regression Results                                \n",
      "=======================================================================================\n",
      "Dep. Variable:                      y   R-squared (uncentered):                   1.000\n",
      "Model:                            OLS   Adj. R-squared (uncentered):              1.000\n",
      "Method:                 Least Squares   F-statistic:                          2.277e+37\n",
      "Date:                Tue, 03 Sep 2024   Prob (F-statistic):                        0.00\n",
      "Time:                        21:30:42   Log-Likelihood:                      3.4630e+08\n",
      "No. Observations:            10000000   AIC:                                 -6.926e+08\n",
      "Df Residuals:                 9999997   BIC:                                 -6.926e+08\n",
      "Df Model:                           3                                                  \n",
      "Covariance Type:            nonrobust                                                  \n",
      "==============================================================================\n",
      "                 coef    std err          t      P>|t|      [0.025      0.975]\n",
      "------------------------------------------------------------------------------\n",
      "x1             1.0000   1.21e-18   8.27e+17      0.000       1.000       1.000\n",
      "x2         -1.271e-16   3.75e-18    -33.903      0.000   -1.34e-16    -1.2e-16\n",
      "x3          -9.51e-17   2.77e-18    -34.300      0.000   -1.01e-16   -8.97e-17\n",
      "==============================================================================\n",
      "Omnibus:                  1020429.609   Durbin-Watson:                   0.796\n",
      "Prob(Omnibus):                  0.000   Jarque-Bera (JB):          1297516.110\n",
      "Skew:                           0.865   Prob(JB):                         0.00\n",
      "Kurtosis:                       2.654   Cond. No.                         55.6\n",
      "==============================================================================\n",
      "\n",
      "Notes:\n",
      "[1] R² is computed without centering (uncentered) since the model does not contain a constant.\n",
      "[2] Standard Errors assume that the covariance matrix of the errors is correctly specified.\n"
     ]
    }
   ],
   "source": [
    "X1_Z_model = sms.OLS(Z[:, 0], Z).fit()\n",
    "X1_Z_residuals= X1_Z_model.resid.reshape((-1, 1))\n",
    "print(X1_Z_model.summary())"
   ]
  },
  {
   "cell_type": "markdown",
   "metadata": {},
   "source": [
    "$\\tilde{X^2}$:"
   ]
  },
  {
   "cell_type": "code",
   "execution_count": 15,
   "metadata": {},
   "outputs": [
    {
     "name": "stdout",
     "output_type": "stream",
     "text": [
      "                                 OLS Regression Results                                \n",
      "=======================================================================================\n",
      "Dep. Variable:                      y   R-squared (uncentered):                   1.000\n",
      "Model:                            OLS   Adj. R-squared (uncentered):              1.000\n",
      "Method:                 Least Squares   F-statistic:                          1.784e+35\n",
      "Date:                Tue, 03 Sep 2024   Prob (F-statistic):                        0.00\n",
      "Time:                        21:30:45   Log-Likelihood:                      3.2461e+08\n",
      "No. Observations:            10000000   AIC:                                 -6.492e+08\n",
      "Df Residuals:                 9999997   BIC:                                 -6.492e+08\n",
      "Df Model:                           3                                                  \n",
      "Covariance Type:            nonrobust                                                  \n",
      "==============================================================================\n",
      "                 coef    std err          t      P>|t|      [0.025      0.975]\n",
      "------------------------------------------------------------------------------\n",
      "x1         -1.314e-14   1.06e-17  -1240.785      0.000   -1.32e-14   -1.31e-14\n",
      "x2             1.0000   3.28e-17   3.05e+16      0.000       1.000       1.000\n",
      "x3          -1.15e-16   2.43e-17     -4.739      0.000   -1.63e-16   -6.74e-17\n",
      "==============================================================================\n",
      "Omnibus:                  1189662.731   Durbin-Watson:                   0.927\n",
      "Prob(Omnibus):                  0.000   Jarque-Bera (JB):          1675912.091\n",
      "Skew:                          -1.001   Prob(JB):                         0.00\n",
      "Kurtosis:                       3.116   Cond. No.                         55.6\n",
      "==============================================================================\n",
      "\n",
      "Notes:\n",
      "[1] R² is computed without centering (uncentered) since the model does not contain a constant.\n",
      "[2] Standard Errors assume that the covariance matrix of the errors is correctly specified.\n"
     ]
    }
   ],
   "source": [
    "X2_Z_model = sms.OLS(Z[:, 1], Z).fit()\n",
    "X2_Z_residuals= X2_Z_model.resid.reshape((-1, 1))\n",
    "print(X2_Z_model.summary())"
   ]
  },
  {
   "cell_type": "markdown",
   "metadata": {},
   "source": [
    "$\\tilde{X^3}$:"
   ]
  },
  {
   "cell_type": "code",
   "execution_count": 16,
   "metadata": {},
   "outputs": [
    {
     "name": "stdout",
     "output_type": "stream",
     "text": [
      "                                 OLS Regression Results                                \n",
      "=======================================================================================\n",
      "Dep. Variable:                      y   R-squared (uncentered):                   1.000\n",
      "Model:                            OLS   Adj. R-squared (uncentered):              1.000\n",
      "Method:                 Least Squares   F-statistic:                          5.955e+35\n",
      "Date:                Tue, 03 Sep 2024   Prob (F-statistic):                        0.00\n",
      "Time:                        21:30:48   Log-Likelihood:                      3.3232e+08\n",
      "No. Observations:            10000000   AIC:                                 -6.646e+08\n",
      "Df Residuals:                 9999997   BIC:                                 -6.646e+08\n",
      "Df Model:                           3                                                  \n",
      "Covariance Type:            nonrobust                                                  \n",
      "==============================================================================\n",
      "                 coef    std err          t      P>|t|      [0.025      0.975]\n",
      "------------------------------------------------------------------------------\n",
      "x1         -1.232e-14    4.9e-18  -2516.388      0.000   -1.23e-14   -1.23e-14\n",
      "x2          3.942e-14   1.52e-17   2598.040      0.000    3.94e-14    3.94e-14\n",
      "x3             1.0000   1.12e-17   8.91e+16      0.000       1.000       1.000\n",
      "==============================================================================\n",
      "Omnibus:                   961000.926   Durbin-Watson:                   1.265\n",
      "Prob(Omnibus):                  0.000   Jarque-Bera (JB):          1296712.449\n",
      "Skew:                           0.800   Prob(JB):                         0.00\n",
      "Kurtosis:                       3.742   Cond. No.                         55.6\n",
      "==============================================================================\n",
      "\n",
      "Notes:\n",
      "[1] R² is computed without centering (uncentered) since the model does not contain a constant.\n",
      "[2] Standard Errors assume that the covariance matrix of the errors is correctly specified.\n"
     ]
    }
   ],
   "source": [
    "X3_Z_model = sms.OLS(Z[:, 2], Z).fit()\n",
    "X3_Z_residuals= X3_Z_model.resid.reshape((-1, 1))\n",
    "print(X3_Z_model.summary())"
   ]
  },
  {
   "cell_type": "markdown",
   "metadata": {},
   "source": [
    "$\\tilde{\\varepsilon_Y}$"
   ]
  },
  {
   "cell_type": "code",
   "execution_count": 17,
   "metadata": {},
   "outputs": [
    {
     "name": "stdout",
     "output_type": "stream",
     "text": [
      "                                 OLS Regression Results                                \n",
      "=======================================================================================\n",
      "Dep. Variable:                      y   R-squared (uncentered):                   0.000\n",
      "Model:                            OLS   Adj. R-squared (uncentered):             -0.000\n",
      "Method:                 Least Squares   F-statistic:                          5.133e-10\n",
      "Date:                Tue, 03 Sep 2024   Prob (F-statistic):                        1.00\n",
      "Time:                        21:30:51   Log-Likelihood:                     -1.5141e+07\n",
      "No. Observations:            10000000   AIC:                                  3.028e+07\n",
      "Df Residuals:                 9999997   BIC:                                  3.028e+07\n",
      "Df Model:                           3                                                  \n",
      "Covariance Type:            nonrobust                                                  \n",
      "==============================================================================\n",
      "                 coef    std err          t      P>|t|      [0.025      0.975]\n",
      "------------------------------------------------------------------------------\n",
      "x1           2.72e-12      0.006   4.52e-10      1.000      -0.012       0.012\n",
      "x2         -8.275e-12      0.019  -4.43e-10      1.000      -0.037       0.037\n",
      "x3          5.796e-12      0.014    4.2e-10      1.000      -0.027       0.027\n",
      "==============================================================================\n",
      "Omnibus:                     2572.515   Durbin-Watson:                   1.999\n",
      "Prob(Omnibus):                  0.000   Jarque-Bera (JB):             2574.502\n",
      "Skew:                           0.039   Prob(JB):                         0.00\n",
      "Kurtosis:                       3.003   Cond. No.                         55.6\n",
      "==============================================================================\n",
      "\n",
      "Notes:\n",
      "[1] R² is computed without centering (uncentered) since the model does not contain a constant.\n",
      "[2] Standard Errors assume that the covariance matrix of the errors is correctly specified.\n"
     ]
    }
   ],
   "source": [
    "residuals_Z_model = sms.OLS(y_residuals, Z).fit()\n",
    "residuals_Z_residuals = residuals_Z_model.resid.reshape((-1, 1))\n",
    "print(residuals_Z_model.summary())"
   ]
  },
  {
   "cell_type": "markdown",
   "metadata": {},
   "source": [
    "Now let us divert our attention to the relationship between the base model and a model constructed with the partialled out variables. The partialling out operation is linear, meaning that\n",
    "\n",
    "\\begin{align*}\n",
    "A = bB + cC \\Rightarrow \\tilde{A} = b\\tilde{B} + c\\tilde{C}\n",
    "\\end{align*}\n",
    "\n",
    "If we apply it to our initial BLP equation (1)\n",
    "\n",
    "\\begin{gather*}\n",
    "\\tilde{Y} = \\theta \\tilde{D} + \\tilde{Z}\\gamma + \\tilde{\\varepsilon} \\quad\\quad(2)\n",
    "\\end{gather*}\n",
    "\n",
    "We can verify this by computing the right side of this equation:\n",
    "\n",
    "\n"
   ]
  },
  {
   "cell_type": "code",
   "execution_count": 18,
   "metadata": {},
   "outputs": [
    {
     "data": {
      "text/plain": [
       "array([[ 4.20567367],\n",
       "       [-2.42063419],\n",
       "       [ 0.13233798],\n",
       "       ...,\n",
       "       [ 0.35878456],\n",
       "       [-2.88329133],\n",
       "       [-3.72023471]])"
      ]
     },
     "execution_count": 18,
     "metadata": {},
     "output_type": "execute_result"
    }
   ],
   "source": [
    "right_side_residuals = sms.OLS(y_Z_residuals, np.hstack((D_Z_residuals, X1_Z_residuals, X2_Z_residuals, X3_Z_residuals))).fit().fittedvalues.reshape((-1, 1)) + residuals_Z_residuals\n",
    "right_side_residuals"
   ]
  },
  {
   "cell_type": "markdown",
   "metadata": {},
   "source": [
    "Now we compute the left side, which is just the residuals of $Y$ on $Z$"
   ]
  },
  {
   "cell_type": "code",
   "execution_count": 19,
   "metadata": {},
   "outputs": [
    {
     "data": {
      "text/plain": [
       "array([[ 4.20759445],\n",
       "       [-2.41908261],\n",
       "       [ 0.13445636],\n",
       "       ...,\n",
       "       [ 0.35967387],\n",
       "       [-2.88149951],\n",
       "       [-3.71838715]])"
      ]
     },
     "execution_count": 19,
     "metadata": {},
     "output_type": "execute_result"
    }
   ],
   "source": [
    "y_Z_residuals"
   ]
  },
  {
   "cell_type": "markdown",
   "metadata": {},
   "source": [
    "If we compute the difference between the left side and the right side, we get extremely small values, which are likely due to floating point errors from our system"
   ]
  },
  {
   "cell_type": "code",
   "execution_count": 20,
   "metadata": {},
   "outputs": [
    {
     "data": {
      "text/plain": [
       "array([[0.00192077],\n",
       "       [0.00155158],\n",
       "       [0.00211837],\n",
       "       ...,\n",
       "       [0.00088931],\n",
       "       [0.00179182],\n",
       "       [0.00184756]])"
      ]
     },
     "execution_count": 20,
     "metadata": {},
     "output_type": "execute_result"
    }
   ],
   "source": [
    "y_Z_residuals - right_side_residuals"
   ]
  },
  {
   "cell_type": "markdown",
   "metadata": {},
   "source": [
    "Why is the notable? If we take a look at (2), we should realize that\n",
    "1. $\\tilde{Z}=0$ as it can perfectly \"predict\" its own value; and\n",
    "2. $\\tilde{\\varepsilon}=\\varepsilon$ as $\\varepsilon$ is independent from (orthogonal to) X, and therefor cannot be predicted with it or with Z.\n",
    "\n",
    "This means that we can simplify (2) to\n",
    "\n",
    "\\begin{gather*}\n",
    "\\tilde{Y} = \\theta \\tilde{D} + \\varepsilon\\text{,}\\quad\\quad(3)\n",
    "\\end{gather*}\n",
    "\n",
    "meaning that we can regress $\\tilde{Y}$ on $\\tilde{D}$ and we will find the same result as with the jointly estimated predictor. To test this, first let's take a look again at the jointly estimated predictor."
   ]
  },
  {
   "cell_type": "code",
   "execution_count": 21,
   "metadata": {},
   "outputs": [
    {
     "name": "stdout",
     "output_type": "stream",
     "text": [
      "                                 OLS Regression Results                                \n",
      "=======================================================================================\n",
      "Dep. Variable:                      y   R-squared (uncentered):                   0.998\n",
      "Model:                            OLS   Adj. R-squared (uncentered):              0.998\n",
      "Method:                 Least Squares   F-statistic:                          1.354e+09\n",
      "Date:                Tue, 03 Sep 2024   Prob (F-statistic):                        0.00\n",
      "Time:                        21:30:54   Log-Likelihood:                     -1.5141e+07\n",
      "No. Observations:            10000000   AIC:                                  3.028e+07\n",
      "Df Residuals:                 9999996   BIC:                                  3.028e+07\n",
      "Df Model:                           4                                                  \n",
      "Covariance Type:            nonrobust                                                  \n",
      "==============================================================================\n",
      "                 coef    std err          t      P>|t|      [0.025      0.975]\n",
      "------------------------------------------------------------------------------\n",
      "x1             3.0111      0.000   1.39e+04      0.000       3.011       3.011\n",
      "x2            22.9980      0.008   2946.180      0.000      22.983      23.013\n",
      "x3           -66.9347      0.022  -3087.812      0.000     -66.977     -66.892\n",
      "x4            96.7670      0.015   6277.587      0.000      96.737      96.797\n",
      "==============================================================================\n",
      "Omnibus:                     2572.515   Durbin-Watson:                   1.999\n",
      "Prob(Omnibus):                  0.000   Jarque-Bera (JB):             2574.502\n",
      "Skew:                           0.039   Prob(JB):                         0.00\n",
      "Kurtosis:                       3.003   Cond. No.                         239.\n",
      "==============================================================================\n",
      "\n",
      "Notes:\n",
      "[1] R² is computed without centering (uncentered) since the model does not contain a constant.\n",
      "[2] Standard Errors assume that the covariance matrix of the errors is correctly specified.\n"
     ]
    }
   ],
   "source": [
    "print(base_model_results.summary())"
   ]
  },
  {
   "cell_type": "markdown",
   "metadata": {},
   "source": [
    "Now, according to (3), the result of regressing the residuals should be the same as above for $D$'s coefficient $\\theta$"
   ]
  },
  {
   "cell_type": "code",
   "execution_count": 22,
   "metadata": {},
   "outputs": [
    {
     "name": "stdout",
     "output_type": "stream",
     "text": [
      "                                 OLS Regression Results                                \n",
      "=======================================================================================\n",
      "Dep. Variable:                      y   R-squared (uncentered):                   0.951\n",
      "Model:                            OLS   Adj. R-squared (uncentered):              0.951\n",
      "Method:                 Least Squares   F-statistic:                          1.927e+08\n",
      "Date:                Tue, 03 Sep 2024   Prob (F-statistic):                        0.00\n",
      "Time:                        21:30:55   Log-Likelihood:                     -1.5141e+07\n",
      "No. Observations:            10000000   AIC:                                  3.028e+07\n",
      "Df Residuals:                 9999999   BIC:                                  3.028e+07\n",
      "Df Model:                           1                                                  \n",
      "Covariance Type:            nonrobust                                                  \n",
      "==============================================================================\n",
      "                 coef    std err          t      P>|t|      [0.025      0.975]\n",
      "------------------------------------------------------------------------------\n",
      "x1             3.0111      0.000   1.39e+04      0.000       3.011       3.011\n",
      "==============================================================================\n",
      "Omnibus:                     2572.515   Durbin-Watson:                   1.999\n",
      "Prob(Omnibus):                  0.000   Jarque-Bera (JB):             2574.502\n",
      "Skew:                           0.039   Prob(JB):                         0.00\n",
      "Kurtosis:                       3.003   Cond. No.                         1.00\n",
      "==============================================================================\n",
      "\n",
      "Notes:\n",
      "[1] R² is computed without centering (uncentered) since the model does not contain a constant.\n",
      "[2] Standard Errors assume that the covariance matrix of the errors is correctly specified.\n"
     ]
    }
   ],
   "source": [
    "print(sms.OLS(y_Z_residuals, D_Z_residuals).fit().summary())"
   ]
  }
 ],
 "metadata": {
  "kernelspec": {
   "display_name": ".venv",
   "language": "python",
   "name": "python3"
  },
  "language_info": {
   "codemirror_mode": {
    "name": "ipython",
    "version": 3
   },
   "file_extension": ".py",
   "mimetype": "text/x-python",
   "name": "python",
   "nbconvert_exporter": "python",
   "pygments_lexer": "ipython3",
   "version": "3.11.5"
  }
 },
 "nbformat": 4,
 "nbformat_minor": 2
}

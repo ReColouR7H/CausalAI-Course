{
 "cells": [
  {
   "cell_type": "code",
   "execution_count": 1,
   "metadata": {
    "vscode": {
     "languageId": "r"
    }
   },
   "outputs": [
    {
     "name": "stdout",
     "output_type": "stream",
     "text": [
      "\n",
      "  There is a binary version available but the source version is later:\n",
      "            binary source needs_compilation\n",
      "fastDummies  1.7.3  1.7.4             FALSE\n",
      "\n"
     ]
    },
    {
     "name": "stderr",
     "output_type": "stream",
     "text": [
      "installing the source package 'fastDummies'\n",
      "\n",
      "\n",
      "also installing the dependency 'visNetwork'\n",
      "\n",
      "\n"
     ]
    },
    {
     "name": "stdout",
     "output_type": "stream",
     "text": [
      "\n",
      "  There is a binary version available but the source version is later:\n",
      "           binary source needs_compilation\n",
      "DiagrammeR 1.0.10 1.0.11             FALSE\n",
      "\n",
      "\n",
      "The downloaded binary packages are in\n",
      "\t/var/folders/k0/5jhn7d7s1l75cf1srqv1wy980000gn/T//Rtmpj01ZOf/downloaded_packages\n"
     ]
    },
    {
     "name": "stderr",
     "output_type": "stream",
     "text": [
      "installing the source package 'DiagrammeR'\n",
      "\n",
      "\n"
     ]
    }
   ],
   "source": [
    "install.packages('fastDummies')\n",
    "install.packages(\"DiagrammeR\")"
   ]
  },
  {
   "cell_type": "code",
   "execution_count": 2,
   "metadata": {
    "vscode": {
     "languageId": "r"
    }
   },
   "outputs": [],
   "source": [
    "setwd(\"/Users/gabriel/Documents/GitHub/CausalAI-Course/Labs/PD/PD10\")"
   ]
  },
  {
   "cell_type": "markdown",
   "metadata": {},
   "source": [
    "# Heterogenous treatment effects"
   ]
  },
  {
   "cell_type": "markdown",
   "metadata": {},
   "source": [
    "### We will continue with the online discount example by Matteo Courthoud. That is, let's suppose we work in the analytics department of an online shop interested in understanding wether offering discounts to new customers increases their expenditure. In particular, we would like to know if offering discounts is more effective for some customers with respect to others, since we would prefer not to give discounts to customers that would spend anyways. Moreover, it could also be that spamming customers with pop-ups could deter them from buying, having the opposite effect."
   ]
  },
  {
   "cell_type": "markdown",
   "metadata": {},
   "source": [
    "### To understand whether and how much the discounts are effective we run an A/B test: whenever a new user visits our online shop, we randomly decide whether to offer them the discount or not. After 100 000 visits, we have collected the following dataset with relevant information beside the discount status (our treatment)."
   ]
  },
  {
   "cell_type": "code",
   "execution_count": 3,
   "metadata": {
    "vscode": {
     "languageId": "r"
    }
   },
   "outputs": [
    {
     "data": {
      "text/html": [
       "<table class=\"dataframe\">\n",
       "<caption>A data.frame: 6 x 7</caption>\n",
       "<thead>\n",
       "\t<tr><th></th><th scope=col>X</th><th scope=col>time</th><th scope=col>device</th><th scope=col>browser</th><th scope=col>region</th><th scope=col>discount</th><th scope=col>spend</th></tr>\n",
       "\t<tr><th></th><th scope=col>&lt;int&gt;</th><th scope=col>&lt;dbl&gt;</th><th scope=col>&lt;chr&gt;</th><th scope=col>&lt;chr&gt;</th><th scope=col>&lt;int&gt;</th><th scope=col>&lt;int&gt;</th><th scope=col>&lt;dbl&gt;</th></tr>\n",
       "</thead>\n",
       "<tbody>\n",
       "\t<tr><th scope=row>1</th><td>0</td><td>10.7790063</td><td>mobile </td><td>edge    </td><td>9</td><td>0</td><td> 0.4551642</td></tr>\n",
       "\t<tr><th scope=row>2</th><td>1</td><td> 0.5689725</td><td>desktop</td><td>firefox </td><td>9</td><td>0</td><td>11.0368706</td></tr>\n",
       "\t<tr><th scope=row>3</th><td>2</td><td> 3.7438714</td><td>mobile </td><td>safari  </td><td>7</td><td>0</td><td> 1.8111930</td></tr>\n",
       "\t<tr><th scope=row>4</th><td>3</td><td>13.3734357</td><td>desktop</td><td>other   </td><td>5</td><td>0</td><td>31.9049439</td></tr>\n",
       "\t<tr><th scope=row>5</th><td>4</td><td> 0.7085752</td><td>mobile </td><td>explorer</td><td>2</td><td>1</td><td>15.4198624</td></tr>\n",
       "\t<tr><th scope=row>6</th><td>5</td><td>10.8320878</td><td>desktop</td><td>brave   </td><td>0</td><td>0</td><td>24.1239264</td></tr>\n",
       "</tbody>\n",
       "</table>\n"
      ],
      "text/latex": [
       "A data.frame: 6 x 7\n",
       "\\begin{tabular}{r|lllllll}\n",
       "  & X & time & device & browser & region & discount & spend\\\\\n",
       "  & <int> & <dbl> & <chr> & <chr> & <int> & <int> & <dbl>\\\\\n",
       "\\hline\n",
       "\t1 & 0 & 10.7790063 & mobile  & edge     & 9 & 0 &  0.4551642\\\\\n",
       "\t2 & 1 &  0.5689725 & desktop & firefox  & 9 & 0 & 11.0368706\\\\\n",
       "\t3 & 2 &  3.7438714 & mobile  & safari   & 7 & 0 &  1.8111930\\\\\n",
       "\t4 & 3 & 13.3734357 & desktop & other    & 5 & 0 & 31.9049439\\\\\n",
       "\t5 & 4 &  0.7085752 & mobile  & explorer & 2 & 1 & 15.4198624\\\\\n",
       "\t6 & 5 & 10.8320878 & desktop & brave    & 0 & 0 & 24.1239264\\\\\n",
       "\\end{tabular}\n"
      ],
      "text/markdown": [
       "\n",
       "A data.frame: 6 x 7\n",
       "\n",
       "| <!--/--> | X &lt;int&gt; | time &lt;dbl&gt; | device &lt;chr&gt; | browser &lt;chr&gt; | region &lt;int&gt; | discount &lt;int&gt; | spend &lt;dbl&gt; |\n",
       "|---|---|---|---|---|---|---|---|\n",
       "| 1 | 0 | 10.7790063 | mobile  | edge     | 9 | 0 |  0.4551642 |\n",
       "| 2 | 1 |  0.5689725 | desktop | firefox  | 9 | 0 | 11.0368706 |\n",
       "| 3 | 2 |  3.7438714 | mobile  | safari   | 7 | 0 |  1.8111930 |\n",
       "| 4 | 3 | 13.3734357 | desktop | other    | 5 | 0 | 31.9049439 |\n",
       "| 5 | 4 |  0.7085752 | mobile  | explorer | 2 | 1 | 15.4198624 |\n",
       "| 6 | 5 | 10.8320878 | desktop | brave    | 0 | 0 | 24.1239264 |\n",
       "\n"
      ],
      "text/plain": [
       "  X time       device  browser  region discount spend     \n",
       "1 0 10.7790063 mobile  edge     9      0         0.4551642\n",
       "2 1  0.5689725 desktop firefox  9      0        11.0368706\n",
       "3 2  3.7438714 mobile  safari   7      0         1.8111930\n",
       "4 3 13.3734357 desktop other    5      0        31.9049439\n",
       "5 4  0.7085752 mobile  explorer 2      1        15.4198624\n",
       "6 5 10.8320878 desktop brave    0      0        24.1239264"
      ]
     },
     "metadata": {},
     "output_type": "display_data"
    }
   ],
   "source": [
    "df <- read.csv(\"online_discounts.csv\")\n",
    "head(df)"
   ]
  },
  {
   "cell_type": "markdown",
   "metadata": {},
   "source": [
    "### Since the treatment was randomly assigned, we can use a simple difference-in-means estimator to estimate the treatment effect. We expect the treatment and control group to be similar, except for the discount, therefore we can causally attribute any difference in spend to the discount"
   ]
  },
  {
   "cell_type": "code",
   "execution_count": 4,
   "metadata": {
    "vscode": {
     "languageId": "r"
    }
   },
   "outputs": [
    {
     "data": {
      "text/html": [
       "<table class=\"dataframe\">\n",
       "<caption>A matrix: 2 x 4 of type dbl</caption>\n",
       "<thead>\n",
       "\t<tr><th></th><th scope=col>Estimate</th><th scope=col>Std. Error</th><th scope=col>t value</th><th scope=col>Pr(&gt;|t|)</th></tr>\n",
       "</thead>\n",
       "<tbody>\n",
       "\t<tr><th scope=row>(Intercept)</th><td>5.122072</td><td>0.04543493</td><td>112.73424</td><td> 0.000000e+00</td></tr>\n",
       "\t<tr><th scope=row>discount</th><td>1.750692</td><td>0.06421938</td><td> 27.26111</td><td>4.866824e-163</td></tr>\n",
       "</tbody>\n",
       "</table>\n"
      ],
      "text/latex": [
       "A matrix: 2 x 4 of type dbl\n",
       "\\begin{tabular}{r|llll}\n",
       "  & Estimate & Std. Error & t value & Pr(>\\textbar{}t\\textbar{})\\\\\n",
       "\\hline\n",
       "\t(Intercept) & 5.122072 & 0.04543493 & 112.73424 &  0.000000e+00\\\\\n",
       "\tdiscount & 1.750692 & 0.06421938 &  27.26111 & 4.866824e-163\\\\\n",
       "\\end{tabular}\n"
      ],
      "text/markdown": [
       "\n",
       "A matrix: 2 x 4 of type dbl\n",
       "\n",
       "| <!--/--> | Estimate | Std. Error | t value | Pr(&gt;|t|) |\n",
       "|---|---|---|---|---|\n",
       "| (Intercept) | 5.122072 | 0.04543493 | 112.73424 |  0.000000e+00 |\n",
       "| discount | 1.750692 | 0.06421938 |  27.26111 | 4.866824e-163 |\n",
       "\n"
      ],
      "text/plain": [
       "            Estimate Std. Error t value   Pr(>|t|)     \n",
       "(Intercept) 5.122072 0.04543493 112.73424  0.000000e+00\n",
       "discount    1.750692 0.06421938  27.26111 4.866824e-163"
      ]
     },
     "metadata": {},
     "output_type": "display_data"
    }
   ],
   "source": [
    "model <- lm(spend ~ discount, data = df)\n",
    "\n",
    "summary(model)$coefficients"
   ]
  },
  {
   "cell_type": "markdown",
   "metadata": {},
   "source": [
    "### The discount seems to be effective: on average the spend in the treatment group increases by 1.75$. But are all customers equally affected? \n",
    "\n",
    "### To answer this question, we would like to estimate heterogeneous treatment effects, possibly at the individual level.\n",
    "\n"
   ]
  },
  {
   "cell_type": "markdown",
   "metadata": {},
   "source": [
    "# Conditional Average Treatment Effects (CATE)"
   ]
  },
  {
   "cell_type": "markdown",
   "metadata": {},
   "source": [
    "### There are many possible ways to estimate heterogenous treatment effects. The most common is to split the population in groups based on some observable characteristic, which in our case could be the device, the browser or the geographical region. Once you have decided which variable to split your data on, you can simply interact the treatment variable (discount) with the dimension of treatment heterogeneity. Let’s take device for example."
   ]
  },
  {
   "cell_type": "code",
   "execution_count": 5,
   "metadata": {
    "vscode": {
     "languageId": "r"
    }
   },
   "outputs": [
    {
     "data": {
      "text/html": [
       "<table class=\"dataframe\">\n",
       "<caption>A matrix: 4 x 4 of type dbl</caption>\n",
       "<thead>\n",
       "\t<tr><th></th><th scope=col>Estimate</th><th scope=col>Std. Error</th><th scope=col>t value</th><th scope=col>Pr(&gt;|t|)</th></tr>\n",
       "</thead>\n",
       "<tbody>\n",
       "\t<tr><th scope=row>(Intercept)</th><td>5.07573921</td><td>0.06408531</td><td>79.202852</td><td>0.000000e+00</td></tr>\n",
       "\t<tr><th scope=row>discount</th><td>1.08963150</td><td>0.09065748</td><td>12.019212</td><td>2.969281e-33</td></tr>\n",
       "\t<tr><th scope=row>devicemobile</th><td>0.09293248</td><td>0.09076034</td><td> 1.023933</td><td>3.058695e-01</td></tr>\n",
       "\t<tr><th scope=row>discount:devicemobile</th><td>1.32109134</td><td>0.12828371</td><td>10.298200</td><td>7.387657e-25</td></tr>\n",
       "</tbody>\n",
       "</table>\n"
      ],
      "text/latex": [
       "A matrix: 4 x 4 of type dbl\n",
       "\\begin{tabular}{r|llll}\n",
       "  & Estimate & Std. Error & t value & Pr(>\\textbar{}t\\textbar{})\\\\\n",
       "\\hline\n",
       "\t(Intercept) & 5.07573921 & 0.06408531 & 79.202852 & 0.000000e+00\\\\\n",
       "\tdiscount & 1.08963150 & 0.09065748 & 12.019212 & 2.969281e-33\\\\\n",
       "\tdevicemobile & 0.09293248 & 0.09076034 &  1.023933 & 3.058695e-01\\\\\n",
       "\tdiscount:devicemobile & 1.32109134 & 0.12828371 & 10.298200 & 7.387657e-25\\\\\n",
       "\\end{tabular}\n"
      ],
      "text/markdown": [
       "\n",
       "A matrix: 4 x 4 of type dbl\n",
       "\n",
       "| <!--/--> | Estimate | Std. Error | t value | Pr(&gt;|t|) |\n",
       "|---|---|---|---|---|\n",
       "| (Intercept) | 5.07573921 | 0.06408531 | 79.202852 | 0.000000e+00 |\n",
       "| discount | 1.08963150 | 0.09065748 | 12.019212 | 2.969281e-33 |\n",
       "| devicemobile | 0.09293248 | 0.09076034 |  1.023933 | 3.058695e-01 |\n",
       "| discount:devicemobile | 1.32109134 | 0.12828371 | 10.298200 | 7.387657e-25 |\n",
       "\n"
      ],
      "text/plain": [
       "                      Estimate   Std. Error t value   Pr(>|t|)    \n",
       "(Intercept)           5.07573921 0.06408531 79.202852 0.000000e+00\n",
       "discount              1.08963150 0.09065748 12.019212 2.969281e-33\n",
       "devicemobile          0.09293248 0.09076034  1.023933 3.058695e-01\n",
       "discount:devicemobile 1.32109134 0.12828371 10.298200 7.387657e-25"
      ]
     },
     "metadata": {},
     "output_type": "display_data"
    }
   ],
   "source": [
    "model <- lm(spend ~ discount * device, data = df)\n",
    "\n",
    "summary(model)$coefficients"
   ]
  },
  {
   "cell_type": "markdown",
   "metadata": {},
   "source": [
    "### The interpretation of these results follows the same fashion as the previous ones: the effect of the discount on customers' spend is 1.08$, but it increases by a further 1.32$ if the customer is accessing the website from a mobile device."
   ]
  },
  {
   "cell_type": "markdown",
   "metadata": {},
   "source": [
    "### Splitting is easy for categorical variables, but for a continuous variable like time it is not intuitive where to split. Every hour? And which dimension is more informative? It would be temping to try all possible splits, but the more we split the data, the more it is likely that we find spurious results (i.e. we overfit, in machine learning lingo). It would be great if we could let the data speak and select the minimum and most informative splits.\n",
    "\n",
    "### Moreover, the splitting problem must minimize the following objective function:\n",
    "\n",
    "\\begin{equation*}\n",
    "\\sum_{i}\\left[\\left(\\tau_i-\\hat{\\tau} \\left(X_i\\right)\\right)\\right]\n",
    "\\end{equation*}\n"
   ]
  },
  {
   "cell_type": "markdown",
   "metadata": {},
   "source": [
    "### Important issue: the objective function is unfeasible. A way out to this problem is to use Athey and Imbens (2016) outcome transformation\n",
    "\n",
    "\\begin{equation*}\n",
    "Y_i^* =\n",
    "\\begin{cases}\n",
    " Y_i/p & W_i = 1 \\\\\n",
    "-Y_i/(1-p) & W_i = 0\n",
    "\\end{cases}\n",
    "\n",
    "\\end{equation*}\n"
   ]
  },
  {
   "cell_type": "markdown",
   "metadata": {},
   "source": [
    "### So, performing any predictive method to estimate $\\hat{Y}_i^*$ will end up being the predicted CATE because \n",
    "\n",
    "\\begin{equation*}\n",
    "\n",
    "\\mathbb{E}\\left[Y_i^*|X_i=x\\right] = \\tau(x)\n",
    "\n",
    "\\end{equation*}"
   ]
  },
  {
   "cell_type": "markdown",
   "metadata": {},
   "source": [
    "### That is, with this transformed variable we have transformed our treatment effect prediction problem to a plain outcome prediction problem. "
   ]
  },
  {
   "cell_type": "markdown",
   "metadata": {},
   "source": [
    "### A natural question arises from the definition transformed variable: what is $p$? $p$ is non other than the propensity score. That is, the probability of the individual of being treated. In an experimental study (like this one), we know this value beforehand. In observational studies, we would calculate it using a probit or logit regression. Eventhough we have programmed the discount to be given completely random (so we know $p=0.5$), it is advisable to estimate the propensity score to account for sample uncertainty."
   ]
  },
  {
   "cell_type": "code",
   "execution_count": 6,
   "metadata": {
    "vscode": {
     "languageId": "r"
    }
   },
   "outputs": [
    {
     "name": "stderr",
     "output_type": "stream",
     "text": [
      "\n",
      "Attaching package: 'dplyr'\n",
      "\n",
      "\n",
      "The following objects are masked from 'package:stats':\n",
      "\n",
      "    filter, lag\n",
      "\n",
      "\n",
      "The following objects are masked from 'package:base':\n",
      "\n",
      "    intersect, setdiff, setequal, union\n",
      "\n",
      "\n"
     ]
    }
   ],
   "source": [
    "# como R no lee los datos de manera correcta, y por ende, no hay variables categoricas, hay que arreglar los datos\n",
    "library(dplyr)\n",
    "\n",
    "df <- df %>%\n",
    "  mutate(region = as.factor(region))\n",
    "\n",
    "df <- df %>%\n",
    "  mutate(browser = as.factor(browser))\n",
    "\n",
    "df <- df %>%\n",
    "  mutate(device = as.factor(device))\n",
    "\n"
   ]
  },
  {
   "cell_type": "code",
   "execution_count": null,
   "metadata": {
    "vscode": {
     "languageId": "r"
    }
   },
   "outputs": [
    {
     "data": {
      "text/html": [
       "<table class=\"dataframe\">\n",
       "<caption>A data.frame: 6 x 7</caption>\n",
       "<thead>\n",
       "\t<tr><th></th><th scope=col>X</th><th scope=col>time</th><th scope=col>device</th><th scope=col>browser</th><th scope=col>region</th><th scope=col>discount</th><th scope=col>spend</th></tr>\n",
       "\t<tr><th></th><th scope=col>&lt;int&gt;</th><th scope=col>&lt;dbl&gt;</th><th scope=col>&lt;fct&gt;</th><th scope=col>&lt;fct&gt;</th><th scope=col>&lt;fct&gt;</th><th scope=col>&lt;int&gt;</th><th scope=col>&lt;dbl&gt;</th></tr>\n",
       "</thead>\n",
       "<tbody>\n",
       "\t<tr><th scope=row>1</th><td>0</td><td>10.7790063</td><td>mobile </td><td>edge    </td><td>9</td><td>0</td><td> 0.4551642</td></tr>\n",
       "\t<tr><th scope=row>2</th><td>1</td><td> 0.5689725</td><td>desktop</td><td>firefox </td><td>9</td><td>0</td><td>11.0368706</td></tr>\n",
       "\t<tr><th scope=row>3</th><td>2</td><td> 3.7438714</td><td>mobile </td><td>safari  </td><td>7</td><td>0</td><td> 1.8111930</td></tr>\n",
       "\t<tr><th scope=row>4</th><td>3</td><td>13.3734357</td><td>desktop</td><td>other   </td><td>5</td><td>0</td><td>31.9049439</td></tr>\n",
       "\t<tr><th scope=row>5</th><td>4</td><td> 0.7085752</td><td>mobile </td><td>explorer</td><td>2</td><td>1</td><td>15.4198624</td></tr>\n",
       "\t<tr><th scope=row>6</th><td>5</td><td>10.8320878</td><td>desktop</td><td>brave   </td><td>0</td><td>0</td><td>24.1239264</td></tr>\n",
       "</tbody>\n",
       "</table>\n"
      ],
      "text/latex": [
       "A data.frame: 6 x 7\n",
       "\\begin{tabular}{r|lllllll}\n",
       "  & X & time & device & browser & region & discount & spend\\\\\n",
       "  & <int> & <dbl> & <fct> & <fct> & <fct> & <int> & <dbl>\\\\\n",
       "\\hline\n",
       "\t1 & 0 & 10.7790063 & mobile  & edge     & 9 & 0 &  0.4551642\\\\\n",
       "\t2 & 1 &  0.5689725 & desktop & firefox  & 9 & 0 & 11.0368706\\\\\n",
       "\t3 & 2 &  3.7438714 & mobile  & safari   & 7 & 0 &  1.8111930\\\\\n",
       "\t4 & 3 & 13.3734357 & desktop & other    & 5 & 0 & 31.9049439\\\\\n",
       "\t5 & 4 &  0.7085752 & mobile  & explorer & 2 & 1 & 15.4198624\\\\\n",
       "\t6 & 5 & 10.8320878 & desktop & brave    & 0 & 0 & 24.1239264\\\\\n",
       "\\end{tabular}\n"
      ],
      "text/markdown": [
       "\n",
       "A data.frame: 6 x 7\n",
       "\n",
       "| <!--/--> | X &lt;int&gt; | time &lt;dbl&gt; | device &lt;fct&gt; | browser &lt;fct&gt; | region &lt;fct&gt; | discount &lt;int&gt; | spend &lt;dbl&gt; |\n",
       "|---|---|---|---|---|---|---|---|\n",
       "| 1 | 0 | 10.7790063 | mobile  | edge     | 9 | 0 |  0.4551642 |\n",
       "| 2 | 1 |  0.5689725 | desktop | firefox  | 9 | 0 | 11.0368706 |\n",
       "| 3 | 2 |  3.7438714 | mobile  | safari   | 7 | 0 |  1.8111930 |\n",
       "| 4 | 3 | 13.3734357 | desktop | other    | 5 | 0 | 31.9049439 |\n",
       "| 5 | 4 |  0.7085752 | mobile  | explorer | 2 | 1 | 15.4198624 |\n",
       "| 6 | 5 | 10.8320878 | desktop | brave    | 0 | 0 | 24.1239264 |\n",
       "\n"
      ],
      "text/plain": [
       "  X time       device  browser  region discount spend     \n",
       "1 0 10.7790063 mobile  edge     9      0         0.4551642\n",
       "2 1  0.5689725 desktop firefox  9      0        11.0368706\n",
       "3 2  3.7438714 mobile  safari   7      0         1.8111930\n",
       "4 3 13.3734357 desktop other    5      0        31.9049439\n",
       "5 4  0.7085752 mobile  explorer 2      1        15.4198624\n",
       "6 5 10.8320878 desktop brave    0      0        24.1239264"
      ]
     },
     "metadata": {},
     "output_type": "display_data"
    },
    {
     "data": {
      "text/html": [
       "<table class=\"dataframe\">\n",
       "<caption>A data.frame: 6 x 23</caption>\n",
       "<thead>\n",
       "\t<tr><th></th><th scope=col>X</th><th scope=col>time</th><th scope=col>device</th><th scope=col>browser</th><th scope=col>region</th><th scope=col>discount</th><th scope=col>spend</th><th scope=col>region_1</th><th scope=col>region_2</th><th scope=col>region_3</th><th scope=col>...</th><th scope=col>region_7</th><th scope=col>region_8</th><th scope=col>region_9</th><th scope=col>browser_chrome</th><th scope=col>browser_edge</th><th scope=col>browser_explorer</th><th scope=col>browser_firefox</th><th scope=col>browser_other</th><th scope=col>browser_safari</th><th scope=col>device_mobile</th></tr>\n",
       "\t<tr><th></th><th scope=col>&lt;int&gt;</th><th scope=col>&lt;dbl&gt;</th><th scope=col>&lt;fct&gt;</th><th scope=col>&lt;fct&gt;</th><th scope=col>&lt;fct&gt;</th><th scope=col>&lt;int&gt;</th><th scope=col>&lt;dbl&gt;</th><th scope=col>&lt;int&gt;</th><th scope=col>&lt;int&gt;</th><th scope=col>&lt;int&gt;</th><th scope=col>...</th><th scope=col>&lt;int&gt;</th><th scope=col>&lt;int&gt;</th><th scope=col>&lt;int&gt;</th><th scope=col>&lt;int&gt;</th><th scope=col>&lt;int&gt;</th><th scope=col>&lt;int&gt;</th><th scope=col>&lt;int&gt;</th><th scope=col>&lt;int&gt;</th><th scope=col>&lt;int&gt;</th><th scope=col>&lt;int&gt;</th></tr>\n",
       "</thead>\n",
       "<tbody>\n",
       "\t<tr><th scope=row>1</th><td>0</td><td>10.7790063</td><td>mobile </td><td>edge    </td><td>9</td><td>0</td><td> 0.4551642</td><td>0</td><td>0</td><td>0</td><td>...</td><td>0</td><td>0</td><td>1</td><td>0</td><td>1</td><td>0</td><td>0</td><td>0</td><td>0</td><td>1</td></tr>\n",
       "\t<tr><th scope=row>2</th><td>1</td><td> 0.5689725</td><td>desktop</td><td>firefox </td><td>9</td><td>0</td><td>11.0368706</td><td>0</td><td>0</td><td>0</td><td>...</td><td>0</td><td>0</td><td>1</td><td>0</td><td>0</td><td>0</td><td>1</td><td>0</td><td>0</td><td>0</td></tr>\n",
       "\t<tr><th scope=row>3</th><td>2</td><td> 3.7438714</td><td>mobile </td><td>safari  </td><td>7</td><td>0</td><td> 1.8111930</td><td>0</td><td>0</td><td>0</td><td>...</td><td>1</td><td>0</td><td>0</td><td>0</td><td>0</td><td>0</td><td>0</td><td>0</td><td>1</td><td>1</td></tr>\n",
       "\t<tr><th scope=row>4</th><td>3</td><td>13.3734357</td><td>desktop</td><td>other   </td><td>5</td><td>0</td><td>31.9049439</td><td>0</td><td>0</td><td>0</td><td>...</td><td>0</td><td>0</td><td>0</td><td>0</td><td>0</td><td>0</td><td>0</td><td>1</td><td>0</td><td>0</td></tr>\n",
       "\t<tr><th scope=row>5</th><td>4</td><td> 0.7085752</td><td>mobile </td><td>explorer</td><td>2</td><td>1</td><td>15.4198624</td><td>0</td><td>1</td><td>0</td><td>...</td><td>0</td><td>0</td><td>0</td><td>0</td><td>0</td><td>1</td><td>0</td><td>0</td><td>0</td><td>1</td></tr>\n",
       "\t<tr><th scope=row>6</th><td>5</td><td>10.8320878</td><td>desktop</td><td>brave   </td><td>0</td><td>0</td><td>24.1239264</td><td>0</td><td>0</td><td>0</td><td>...</td><td>0</td><td>0</td><td>0</td><td>0</td><td>0</td><td>0</td><td>0</td><td>0</td><td>0</td><td>0</td></tr>\n",
       "</tbody>\n",
       "</table>\n"
      ],
      "text/latex": [
       "A data.frame: 6 x 23\n",
       "\\begin{tabular}{r|lllllllllllllllllllll}\n",
       "  & X & time & device & browser & region & discount & spend & region\\_1 & region\\_2 & region\\_3 & ... & region\\_7 & region\\_8 & region\\_9 & browser\\_chrome & browser\\_edge & browser\\_explorer & browser\\_firefox & browser\\_other & browser\\_safari & device\\_mobile\\\\\n",
       "  & <int> & <dbl> & <fct> & <fct> & <fct> & <int> & <dbl> & <int> & <int> & <int> & ... & <int> & <int> & <int> & <int> & <int> & <int> & <int> & <int> & <int> & <int>\\\\\n",
       "\\hline\n",
       "\t1 & 0 & 10.7790063 & mobile  & edge     & 9 & 0 &  0.4551642 & 0 & 0 & 0 & ... & 0 & 0 & 1 & 0 & 1 & 0 & 0 & 0 & 0 & 1\\\\\n",
       "\t2 & 1 &  0.5689725 & desktop & firefox  & 9 & 0 & 11.0368706 & 0 & 0 & 0 & ... & 0 & 0 & 1 & 0 & 0 & 0 & 1 & 0 & 0 & 0\\\\\n",
       "\t3 & 2 &  3.7438714 & mobile  & safari   & 7 & 0 &  1.8111930 & 0 & 0 & 0 & ... & 1 & 0 & 0 & 0 & 0 & 0 & 0 & 0 & 1 & 1\\\\\n",
       "\t4 & 3 & 13.3734357 & desktop & other    & 5 & 0 & 31.9049439 & 0 & 0 & 0 & ... & 0 & 0 & 0 & 0 & 0 & 0 & 0 & 1 & 0 & 0\\\\\n",
       "\t5 & 4 &  0.7085752 & mobile  & explorer & 2 & 1 & 15.4198624 & 0 & 1 & 0 & ... & 0 & 0 & 0 & 0 & 0 & 1 & 0 & 0 & 0 & 1\\\\\n",
       "\t6 & 5 & 10.8320878 & desktop & brave    & 0 & 0 & 24.1239264 & 0 & 0 & 0 & ... & 0 & 0 & 0 & 0 & 0 & 0 & 0 & 0 & 0 & 0\\\\\n",
       "\\end{tabular}\n"
      ],
      "text/markdown": [
       "\n",
       "A data.frame: 6 x 23\n",
       "\n",
       "| <!--/--> | X &lt;int&gt; | time &lt;dbl&gt; | device &lt;fct&gt; | browser &lt;fct&gt; | region &lt;fct&gt; | discount &lt;int&gt; | spend &lt;dbl&gt; | region_1 &lt;int&gt; | region_2 &lt;int&gt; | region_3 &lt;int&gt; | ... ... | region_7 &lt;int&gt; | region_8 &lt;int&gt; | region_9 &lt;int&gt; | browser_chrome &lt;int&gt; | browser_edge &lt;int&gt; | browser_explorer &lt;int&gt; | browser_firefox &lt;int&gt; | browser_other &lt;int&gt; | browser_safari &lt;int&gt; | device_mobile &lt;int&gt; |\n",
       "|---|---|---|---|---|---|---|---|---|---|---|---|---|---|---|---|---|---|---|---|---|---|\n",
       "| 1 | 0 | 10.7790063 | mobile  | edge     | 9 | 0 |  0.4551642 | 0 | 0 | 0 | ... | 0 | 0 | 1 | 0 | 1 | 0 | 0 | 0 | 0 | 1 |\n",
       "| 2 | 1 |  0.5689725 | desktop | firefox  | 9 | 0 | 11.0368706 | 0 | 0 | 0 | ... | 0 | 0 | 1 | 0 | 0 | 0 | 1 | 0 | 0 | 0 |\n",
       "| 3 | 2 |  3.7438714 | mobile  | safari   | 7 | 0 |  1.8111930 | 0 | 0 | 0 | ... | 1 | 0 | 0 | 0 | 0 | 0 | 0 | 0 | 1 | 1 |\n",
       "| 4 | 3 | 13.3734357 | desktop | other    | 5 | 0 | 31.9049439 | 0 | 0 | 0 | ... | 0 | 0 | 0 | 0 | 0 | 0 | 0 | 1 | 0 | 0 |\n",
       "| 5 | 4 |  0.7085752 | mobile  | explorer | 2 | 1 | 15.4198624 | 0 | 1 | 0 | ... | 0 | 0 | 0 | 0 | 0 | 1 | 0 | 0 | 0 | 1 |\n",
       "| 6 | 5 | 10.8320878 | desktop | brave    | 0 | 0 | 24.1239264 | 0 | 0 | 0 | ... | 0 | 0 | 0 | 0 | 0 | 0 | 0 | 0 | 0 | 0 |\n",
       "\n"
      ],
      "text/plain": [
       "  X time       device  browser  region discount spend      region_1 region_2\n",
       "1 0 10.7790063 mobile  edge     9      0         0.4551642 0        0       \n",
       "2 1  0.5689725 desktop firefox  9      0        11.0368706 0        0       \n",
       "3 2  3.7438714 mobile  safari   7      0         1.8111930 0        0       \n",
       "4 3 13.3734357 desktop other    5      0        31.9049439 0        0       \n",
       "5 4  0.7085752 mobile  explorer 2      1        15.4198624 0        1       \n",
       "6 5 10.8320878 desktop brave    0      0        24.1239264 0        0       \n",
       "  region_3 ... region_7 region_8 region_9 browser_chrome browser_edge\n",
       "1 0        ... 0        0        1        0              1           \n",
       "2 0        ... 0        0        1        0              0           \n",
       "3 0        ... 1        0        0        0              0           \n",
       "4 0        ... 0        0        0        0              0           \n",
       "5 0        ... 0        0        0        0              0           \n",
       "6 0        ... 0        0        0        0              0           \n",
       "  browser_explorer browser_firefox browser_other browser_safari device_mobile\n",
       "1 0                0               0             0              1            \n",
       "2 0                1               0             0              0            \n",
       "3 0                0               0             1              1            \n",
       "4 0                0               1             0              0            \n",
       "5 1                0               0             0              1            \n",
       "6 0                0               0             0              0            "
      ]
     },
     "metadata": {},
     "output_type": "display_data"
    },
    {
     "data": {
      "text/html": [
       "<table class=\"dataframe\">\n",
       "<caption>A data.frame: 6 x 17</caption>\n",
       "<thead>\n",
       "\t<tr><th></th><th scope=col>device_mobile</th><th scope=col>browser_chrome</th><th scope=col>browser_edge</th><th scope=col>browser_explorer</th><th scope=col>browser_firefox</th><th scope=col>browser_other</th><th scope=col>browser_safari</th><th scope=col>region_1</th><th scope=col>region_2</th><th scope=col>region_3</th><th scope=col>region_4</th><th scope=col>region_5</th><th scope=col>region_6</th><th scope=col>region_7</th><th scope=col>region_8</th><th scope=col>region_9</th><th scope=col>time</th></tr>\n",
       "\t<tr><th></th><th scope=col>&lt;int&gt;</th><th scope=col>&lt;int&gt;</th><th scope=col>&lt;int&gt;</th><th scope=col>&lt;int&gt;</th><th scope=col>&lt;int&gt;</th><th scope=col>&lt;int&gt;</th><th scope=col>&lt;int&gt;</th><th scope=col>&lt;int&gt;</th><th scope=col>&lt;int&gt;</th><th scope=col>&lt;int&gt;</th><th scope=col>&lt;int&gt;</th><th scope=col>&lt;int&gt;</th><th scope=col>&lt;int&gt;</th><th scope=col>&lt;int&gt;</th><th scope=col>&lt;int&gt;</th><th scope=col>&lt;int&gt;</th><th scope=col>&lt;dbl&gt;</th></tr>\n",
       "</thead>\n",
       "<tbody>\n",
       "\t<tr><th scope=row>1</th><td>1</td><td>0</td><td>1</td><td>0</td><td>0</td><td>0</td><td>0</td><td>0</td><td>0</td><td>0</td><td>0</td><td>0</td><td>0</td><td>0</td><td>0</td><td>1</td><td>10.7790063</td></tr>\n",
       "\t<tr><th scope=row>2</th><td>0</td><td>0</td><td>0</td><td>0</td><td>1</td><td>0</td><td>0</td><td>0</td><td>0</td><td>0</td><td>0</td><td>0</td><td>0</td><td>0</td><td>0</td><td>1</td><td> 0.5689725</td></tr>\n",
       "\t<tr><th scope=row>3</th><td>1</td><td>0</td><td>0</td><td>0</td><td>0</td><td>0</td><td>1</td><td>0</td><td>0</td><td>0</td><td>0</td><td>0</td><td>0</td><td>1</td><td>0</td><td>0</td><td> 3.7438714</td></tr>\n",
       "\t<tr><th scope=row>4</th><td>0</td><td>0</td><td>0</td><td>0</td><td>0</td><td>1</td><td>0</td><td>0</td><td>0</td><td>0</td><td>0</td><td>1</td><td>0</td><td>0</td><td>0</td><td>0</td><td>13.3734357</td></tr>\n",
       "\t<tr><th scope=row>5</th><td>1</td><td>0</td><td>0</td><td>1</td><td>0</td><td>0</td><td>0</td><td>0</td><td>1</td><td>0</td><td>0</td><td>0</td><td>0</td><td>0</td><td>0</td><td>0</td><td> 0.7085752</td></tr>\n",
       "\t<tr><th scope=row>6</th><td>0</td><td>0</td><td>0</td><td>0</td><td>0</td><td>0</td><td>0</td><td>0</td><td>0</td><td>0</td><td>0</td><td>0</td><td>0</td><td>0</td><td>0</td><td>0</td><td>10.8320878</td></tr>\n",
       "</tbody>\n",
       "</table>\n"
      ],
      "text/latex": [
       "A data.frame: 6 x 17\n",
       "\\begin{tabular}{r|lllllllllllllllll}\n",
       "  & device\\_mobile & browser\\_chrome & browser\\_edge & browser\\_explorer & browser\\_firefox & browser\\_other & browser\\_safari & region\\_1 & region\\_2 & region\\_3 & region\\_4 & region\\_5 & region\\_6 & region\\_7 & region\\_8 & region\\_9 & time\\\\\n",
       "  & <int> & <int> & <int> & <int> & <int> & <int> & <int> & <int> & <int> & <int> & <int> & <int> & <int> & <int> & <int> & <int> & <dbl>\\\\\n",
       "\\hline\n",
       "\t1 & 1 & 0 & 1 & 0 & 0 & 0 & 0 & 0 & 0 & 0 & 0 & 0 & 0 & 0 & 0 & 1 & 10.7790063\\\\\n",
       "\t2 & 0 & 0 & 0 & 0 & 1 & 0 & 0 & 0 & 0 & 0 & 0 & 0 & 0 & 0 & 0 & 1 &  0.5689725\\\\\n",
       "\t3 & 1 & 0 & 0 & 0 & 0 & 0 & 1 & 0 & 0 & 0 & 0 & 0 & 0 & 1 & 0 & 0 &  3.7438714\\\\\n",
       "\t4 & 0 & 0 & 0 & 0 & 0 & 1 & 0 & 0 & 0 & 0 & 0 & 1 & 0 & 0 & 0 & 0 & 13.3734357\\\\\n",
       "\t5 & 1 & 0 & 0 & 1 & 0 & 0 & 0 & 0 & 1 & 0 & 0 & 0 & 0 & 0 & 0 & 0 &  0.7085752\\\\\n",
       "\t6 & 0 & 0 & 0 & 0 & 0 & 0 & 0 & 0 & 0 & 0 & 0 & 0 & 0 & 0 & 0 & 0 & 10.8320878\\\\\n",
       "\\end{tabular}\n"
      ],
      "text/markdown": [
       "\n",
       "A data.frame: 6 x 17\n",
       "\n",
       "| <!--/--> | device_mobile &lt;int&gt; | browser_chrome &lt;int&gt; | browser_edge &lt;int&gt; | browser_explorer &lt;int&gt; | browser_firefox &lt;int&gt; | browser_other &lt;int&gt; | browser_safari &lt;int&gt; | region_1 &lt;int&gt; | region_2 &lt;int&gt; | region_3 &lt;int&gt; | region_4 &lt;int&gt; | region_5 &lt;int&gt; | region_6 &lt;int&gt; | region_7 &lt;int&gt; | region_8 &lt;int&gt; | region_9 &lt;int&gt; | time &lt;dbl&gt; |\n",
       "|---|---|---|---|---|---|---|---|---|---|---|---|---|---|---|---|---|---|\n",
       "| 1 | 1 | 0 | 1 | 0 | 0 | 0 | 0 | 0 | 0 | 0 | 0 | 0 | 0 | 0 | 0 | 1 | 10.7790063 |\n",
       "| 2 | 0 | 0 | 0 | 0 | 1 | 0 | 0 | 0 | 0 | 0 | 0 | 0 | 0 | 0 | 0 | 1 |  0.5689725 |\n",
       "| 3 | 1 | 0 | 0 | 0 | 0 | 0 | 1 | 0 | 0 | 0 | 0 | 0 | 0 | 1 | 0 | 0 |  3.7438714 |\n",
       "| 4 | 0 | 0 | 0 | 0 | 0 | 1 | 0 | 0 | 0 | 0 | 0 | 1 | 0 | 0 | 0 | 0 | 13.3734357 |\n",
       "| 5 | 1 | 0 | 0 | 1 | 0 | 0 | 0 | 0 | 1 | 0 | 0 | 0 | 0 | 0 | 0 | 0 |  0.7085752 |\n",
       "| 6 | 0 | 0 | 0 | 0 | 0 | 0 | 0 | 0 | 0 | 0 | 0 | 0 | 0 | 0 | 0 | 0 | 10.8320878 |\n",
       "\n"
      ],
      "text/plain": [
       "  device_mobile browser_chrome browser_edge browser_explorer browser_firefox\n",
       "1 1             0              1            0                0              \n",
       "2 0             0              0            0                1              \n",
       "3 1             0              0            0                0              \n",
       "4 0             0              0            0                0              \n",
       "5 1             0              0            1                0              \n",
       "6 0             0              0            0                0              \n",
       "  browser_other browser_safari region_1 region_2 region_3 region_4 region_5\n",
       "1 0             0              0        0        0        0        0       \n",
       "2 0             0              0        0        0        0        0       \n",
       "3 0             1              0        0        0        0        0       \n",
       "4 1             0              0        0        0        0        1       \n",
       "5 0             0              0        1        0        0        0       \n",
       "6 0             0              0        0        0        0        0       \n",
       "  region_6 region_7 region_8 region_9 time      \n",
       "1 0        0        0        1        10.7790063\n",
       "2 0        0        0        1         0.5689725\n",
       "3 0        1        0        0         3.7438714\n",
       "4 0        0        0        0        13.3734357\n",
       "5 0        0        0        0         0.7085752\n",
       "6 0        0        0        0        10.8320878"
      ]
     },
     "metadata": {},
     "output_type": "display_data"
    }
   ],
   "source": [
    "# Transformamos variables categoricas en dummies\n",
    "Xi <- fastDummies::dummy_cols(df[3:5], remove_selected_columns = TRUE,\n",
    "                             remove_first_dummy = TRUE)\n",
    "Xi$time <- df$time\n",
    "\n",
    "df2 <- fastDummies::dummy_cols(df, select_columns = c('region','browser','device'),\n",
    "                             remove_first_dummy = TRUE)\n",
    "head(df)\n",
    "head(df2)\n",
    "head(Xi)\n",
    "\n",
    "# Debemos dividir de esta forma para obtener unicamente los nombres de las covariables"
   ]
  },
  {
   "cell_type": "code",
   "execution_count": 10,
   "metadata": {
    "vscode": {
     "languageId": "r"
    }
   },
   "outputs": [
    {
     "data": {
      "text/html": [
       "<style>\n",
       ".list-inline {list-style: none; margin:0; padding: 0}\n",
       ".list-inline>li {display: inline-block}\n",
       ".list-inline>li:not(:last-child)::after {content: \"\\00b7\"; padding: 0 .5ex}\n",
       "</style>\n",
       "<ol class=list-inline><li>'device_mobile'</li><li>'browser_chrome'</li><li>'browser_edge'</li><li>'browser_explorer'</li><li>'browser_firefox'</li><li>'browser_other'</li><li>'browser_safari'</li><li>'region_1'</li><li>'region_2'</li><li>'region_3'</li><li>'region_4'</li><li>'region_5'</li><li>'region_6'</li><li>'region_7'</li><li>'region_8'</li><li>'region_9'</li><li>'time'</li></ol>\n"
      ],
      "text/latex": [
       "\\begin{enumerate*}\n",
       "\\item 'device\\_mobile'\n",
       "\\item 'browser\\_chrome'\n",
       "\\item 'browser\\_edge'\n",
       "\\item 'browser\\_explorer'\n",
       "\\item 'browser\\_firefox'\n",
       "\\item 'browser\\_other'\n",
       "\\item 'browser\\_safari'\n",
       "\\item 'region\\_1'\n",
       "\\item 'region\\_2'\n",
       "\\item 'region\\_3'\n",
       "\\item 'region\\_4'\n",
       "\\item 'region\\_5'\n",
       "\\item 'region\\_6'\n",
       "\\item 'region\\_7'\n",
       "\\item 'region\\_8'\n",
       "\\item 'region\\_9'\n",
       "\\item 'time'\n",
       "\\end{enumerate*}\n"
      ],
      "text/markdown": [
       "1. 'device_mobile'\n",
       "2. 'browser_chrome'\n",
       "3. 'browser_edge'\n",
       "4. 'browser_explorer'\n",
       "5. 'browser_firefox'\n",
       "6. 'browser_other'\n",
       "7. 'browser_safari'\n",
       "8. 'region_1'\n",
       "9. 'region_2'\n",
       "10. 'region_3'\n",
       "11. 'region_4'\n",
       "12. 'region_5'\n",
       "13. 'region_6'\n",
       "14. 'region_7'\n",
       "15. 'region_8'\n",
       "16. 'region_9'\n",
       "17. 'time'\n",
       "\n",
       "\n"
      ],
      "text/plain": [
       " [1] \"device_mobile\"    \"browser_chrome\"   \"browser_edge\"     \"browser_explorer\"\n",
       " [5] \"browser_firefox\"  \"browser_other\"    \"browser_safari\"   \"region_1\"        \n",
       " [9] \"region_2\"         \"region_3\"         \"region_4\"         \"region_5\"        \n",
       "[13] \"region_6\"         \"region_7\"         \"region_8\"         \"region_9\"        \n",
       "[17] \"time\"            "
      ]
     },
     "metadata": {},
     "output_type": "display_data"
    }
   ],
   "source": [
    "X <- colnames(Xi)\n",
    "X"
   ]
  },
  {
   "cell_type": "code",
   "execution_count": 14,
   "metadata": {
    "vscode": {
     "languageId": "r"
    }
   },
   "outputs": [
    {
     "name": "stderr",
     "output_type": "stream",
     "text": [
      "Warning message:\n",
      "\"\u001b[1m\u001b[22mRemoved 4 rows containing missing values or values outside the scale range\n",
      "(`geom_bar()`).\"\n"
     ]
    },
    {
     "data": {
      "image/png": "[encoded data removed]",
      "text/plain": [
       "plot without title"
      ]
     },
     "metadata": {
      "image/png": {
       "height": 420,
       "width": 420
      }
     },
     "output_type": "display_data"
    }
   ],
   "source": [
    "# Load necessary packages\n",
    "# install.packages(\"ggplot2\")\n",
    "library(ggplot2)\n",
    "\n",
    "# Fit the logistic regression model to predict propensity scores\n",
    "logistic_model <- glm(discount ~ ., data = df2[,c(X,'discount')], family = binomial)\n",
    "df$pscore <- predict(logistic_model, df2[X], type = \"response\")\n",
    "\n",
    "# Plot the histogram with ggplot2\n",
    "ggplot(df, aes(x = pscore, fill = as.factor(discount))) +\n",
    "  geom_histogram(binwidth = 0.05, position = \"identity\", alpha = 0.7) +\n",
    "  labs(\n",
    "    title = \"Predicted Propensity Scores\",\n",
    "    x = \"Propensity Score\",\n",
    "    fill = \"Discount\"\n",
    "  ) +\n",
    "  xlim(0, 1)"
   ]
  },
  {
   "cell_type": "markdown",
   "metadata": {},
   "source": [
    "### As expected, the histogram of the propensity score reveals that the treatment is completely random. Now, with the estimated propensity score of each individual we can calculate $Y_i^*$"
   ]
  },
  {
   "cell_type": "code",
   "execution_count": 15,
   "metadata": {
    "vscode": {
     "languageId": "r"
    }
   },
   "outputs": [],
   "source": [
    "df$y_star <- df$spend / (df$discount * df$pscore - (1 - df$discount) * (1 - df$pscore))"
   ]
  },
  {
   "cell_type": "code",
   "execution_count": 16,
   "metadata": {
    "vscode": {
     "languageId": "r"
    }
   },
   "outputs": [
    {
     "data": {
      "text/html": [
       "<table class=\"dataframe\">\n",
       "<caption>A data.frame: 6 x 17</caption>\n",
       "<thead>\n",
       "\t<tr><th></th><th scope=col>device_mobile</th><th scope=col>browser_chrome</th><th scope=col>browser_edge</th><th scope=col>browser_explorer</th><th scope=col>browser_firefox</th><th scope=col>browser_other</th><th scope=col>browser_safari</th><th scope=col>region_1</th><th scope=col>region_2</th><th scope=col>region_3</th><th scope=col>region_4</th><th scope=col>region_5</th><th scope=col>region_6</th><th scope=col>region_7</th><th scope=col>region_8</th><th scope=col>region_9</th><th scope=col>time</th></tr>\n",
       "\t<tr><th></th><th scope=col>&lt;int&gt;</th><th scope=col>&lt;int&gt;</th><th scope=col>&lt;int&gt;</th><th scope=col>&lt;int&gt;</th><th scope=col>&lt;int&gt;</th><th scope=col>&lt;int&gt;</th><th scope=col>&lt;int&gt;</th><th scope=col>&lt;int&gt;</th><th scope=col>&lt;int&gt;</th><th scope=col>&lt;int&gt;</th><th scope=col>&lt;int&gt;</th><th scope=col>&lt;int&gt;</th><th scope=col>&lt;int&gt;</th><th scope=col>&lt;int&gt;</th><th scope=col>&lt;int&gt;</th><th scope=col>&lt;int&gt;</th><th scope=col>&lt;dbl&gt;</th></tr>\n",
       "</thead>\n",
       "<tbody>\n",
       "\t<tr><th scope=row>1</th><td>1</td><td>0</td><td>1</td><td>0</td><td>0</td><td>0</td><td>0</td><td>0</td><td>0</td><td>0</td><td>0</td><td>0</td><td>0</td><td>0</td><td>0</td><td>1</td><td>10.7790063</td></tr>\n",
       "\t<tr><th scope=row>2</th><td>0</td><td>0</td><td>0</td><td>0</td><td>1</td><td>0</td><td>0</td><td>0</td><td>0</td><td>0</td><td>0</td><td>0</td><td>0</td><td>0</td><td>0</td><td>1</td><td> 0.5689725</td></tr>\n",
       "\t<tr><th scope=row>3</th><td>1</td><td>0</td><td>0</td><td>0</td><td>0</td><td>0</td><td>1</td><td>0</td><td>0</td><td>0</td><td>0</td><td>0</td><td>0</td><td>1</td><td>0</td><td>0</td><td> 3.7438714</td></tr>\n",
       "\t<tr><th scope=row>4</th><td>0</td><td>0</td><td>0</td><td>0</td><td>0</td><td>1</td><td>0</td><td>0</td><td>0</td><td>0</td><td>0</td><td>1</td><td>0</td><td>0</td><td>0</td><td>0</td><td>13.3734357</td></tr>\n",
       "\t<tr><th scope=row>5</th><td>1</td><td>0</td><td>0</td><td>1</td><td>0</td><td>0</td><td>0</td><td>0</td><td>1</td><td>0</td><td>0</td><td>0</td><td>0</td><td>0</td><td>0</td><td>0</td><td> 0.7085752</td></tr>\n",
       "\t<tr><th scope=row>6</th><td>0</td><td>0</td><td>0</td><td>0</td><td>0</td><td>0</td><td>0</td><td>0</td><td>0</td><td>0</td><td>0</td><td>0</td><td>0</td><td>0</td><td>0</td><td>0</td><td>10.8320878</td></tr>\n",
       "</tbody>\n",
       "</table>\n"
      ],
      "text/latex": [
       "A data.frame: 6 x 17\n",
       "\\begin{tabular}{r|lllllllllllllllll}\n",
       "  & device\\_mobile & browser\\_chrome & browser\\_edge & browser\\_explorer & browser\\_firefox & browser\\_other & browser\\_safari & region\\_1 & region\\_2 & region\\_3 & region\\_4 & region\\_5 & region\\_6 & region\\_7 & region\\_8 & region\\_9 & time\\\\\n",
       "  & <int> & <int> & <int> & <int> & <int> & <int> & <int> & <int> & <int> & <int> & <int> & <int> & <int> & <int> & <int> & <int> & <dbl>\\\\\n",
       "\\hline\n",
       "\t1 & 1 & 0 & 1 & 0 & 0 & 0 & 0 & 0 & 0 & 0 & 0 & 0 & 0 & 0 & 0 & 1 & 10.7790063\\\\\n",
       "\t2 & 0 & 0 & 0 & 0 & 1 & 0 & 0 & 0 & 0 & 0 & 0 & 0 & 0 & 0 & 0 & 1 &  0.5689725\\\\\n",
       "\t3 & 1 & 0 & 0 & 0 & 0 & 0 & 1 & 0 & 0 & 0 & 0 & 0 & 0 & 1 & 0 & 0 &  3.7438714\\\\\n",
       "\t4 & 0 & 0 & 0 & 0 & 0 & 1 & 0 & 0 & 0 & 0 & 0 & 1 & 0 & 0 & 0 & 0 & 13.3734357\\\\\n",
       "\t5 & 1 & 0 & 0 & 1 & 0 & 0 & 0 & 0 & 1 & 0 & 0 & 0 & 0 & 0 & 0 & 0 &  0.7085752\\\\\n",
       "\t6 & 0 & 0 & 0 & 0 & 0 & 0 & 0 & 0 & 0 & 0 & 0 & 0 & 0 & 0 & 0 & 0 & 10.8320878\\\\\n",
       "\\end{tabular}\n"
      ],
      "text/markdown": [
       "\n",
       "A data.frame: 6 x 17\n",
       "\n",
       "| <!--/--> | device_mobile &lt;int&gt; | browser_chrome &lt;int&gt; | browser_edge &lt;int&gt; | browser_explorer &lt;int&gt; | browser_firefox &lt;int&gt; | browser_other &lt;int&gt; | browser_safari &lt;int&gt; | region_1 &lt;int&gt; | region_2 &lt;int&gt; | region_3 &lt;int&gt; | region_4 &lt;int&gt; | region_5 &lt;int&gt; | region_6 &lt;int&gt; | region_7 &lt;int&gt; | region_8 &lt;int&gt; | region_9 &lt;int&gt; | time &lt;dbl&gt; |\n",
       "|---|---|---|---|---|---|---|---|---|---|---|---|---|---|---|---|---|---|\n",
       "| 1 | 1 | 0 | 1 | 0 | 0 | 0 | 0 | 0 | 0 | 0 | 0 | 0 | 0 | 0 | 0 | 1 | 10.7790063 |\n",
       "| 2 | 0 | 0 | 0 | 0 | 1 | 0 | 0 | 0 | 0 | 0 | 0 | 0 | 0 | 0 | 0 | 1 |  0.5689725 |\n",
       "| 3 | 1 | 0 | 0 | 0 | 0 | 0 | 1 | 0 | 0 | 0 | 0 | 0 | 0 | 1 | 0 | 0 |  3.7438714 |\n",
       "| 4 | 0 | 0 | 0 | 0 | 0 | 1 | 0 | 0 | 0 | 0 | 0 | 1 | 0 | 0 | 0 | 0 | 13.3734357 |\n",
       "| 5 | 1 | 0 | 0 | 1 | 0 | 0 | 0 | 0 | 1 | 0 | 0 | 0 | 0 | 0 | 0 | 0 |  0.7085752 |\n",
       "| 6 | 0 | 0 | 0 | 0 | 0 | 0 | 0 | 0 | 0 | 0 | 0 | 0 | 0 | 0 | 0 | 0 | 10.8320878 |\n",
       "\n"
      ],
      "text/plain": [
       "  device_mobile browser_chrome browser_edge browser_explorer browser_firefox\n",
       "1 1             0              1            0                0              \n",
       "2 0             0              0            0                1              \n",
       "3 1             0              0            0                0              \n",
       "4 0             0              0            0                0              \n",
       "5 1             0              0            1                0              \n",
       "6 0             0              0            0                0              \n",
       "  browser_other browser_safari region_1 region_2 region_3 region_4 region_5\n",
       "1 0             0              0        0        0        0        0       \n",
       "2 0             0              0        0        0        0        0       \n",
       "3 0             1              0        0        0        0        0       \n",
       "4 1             0              0        0        0        0        1       \n",
       "5 0             0              0        1        0        0        0       \n",
       "6 0             0              0        0        0        0        0       \n",
       "  region_6 region_7 region_8 region_9 time      \n",
       "1 0        0        0        1        10.7790063\n",
       "2 0        0        0        1         0.5689725\n",
       "3 0        1        0        0         3.7438714\n",
       "4 0        0        0        0        13.3734357\n",
       "5 0        0        0        0         0.7085752\n",
       "6 0        0        0        0        10.8320878"
      ]
     },
     "metadata": {},
     "output_type": "display_data"
    }
   ],
   "source": [
    "head(df2[X])"
   ]
  },
  {
   "cell_type": "markdown",
   "metadata": {},
   "source": [
    "### As we said before, the idea is to use $Y_i^*$ as the target of a prediction problem, since the expected value is exactly the individual treatment effect. Let’s check its average in the data."
   ]
  },
  {
   "cell_type": "code",
   "execution_count": 17,
   "metadata": {
    "vscode": {
     "languageId": "r"
    }
   },
   "outputs": [
    {
     "data": {
      "text/html": [
       "1.75715996579332"
      ],
      "text/latex": [
       "1.75715996579332"
      ],
      "text/markdown": [
       "1.75715996579332"
      ],
      "text/plain": [
       "[1] 1.75716"
      ]
     },
     "metadata": {},
     "output_type": "display_data"
    }
   ],
   "source": [
    "mean(df$y_star, na.rm = TRUE)"
   ]
  },
  {
   "cell_type": "markdown",
   "metadata": {},
   "source": [
    "### Although $Y_i^*$ is an unbiased estimator for the individual treatment effect, it has a very high variance"
   ]
  },
  {
   "cell_type": "code",
   "execution_count": 18,
   "metadata": {
    "vscode": {
     "languageId": "r"
    }
   },
   "outputs": [
    {
     "data": {
      "image/png": "[encoded data removed]",
      "text/plain": [
       "plot without title"
      ]
     },
     "metadata": {
      "image/png": {
       "height": 420,
       "width": 420
      }
     },
     "output_type": "display_data"
    }
   ],
   "source": [
    "library(ggplot2)\n",
    "\n",
    "ggplot(df, aes(x = y_star)) +\n",
    "  geom_histogram(binwidth = 0.05, fill = \"skyblue\", color = \"black\", alpha = 0.7) +\n",
    "  labs(title = \"Distribution of Auxiliary Variable\") +\n",
    "  theme_minimal()"
   ]
  },
  {
   "cell_type": "markdown",
   "metadata": {},
   "source": [
    "### Now, with all the arguments given above, we can build a regression tree with the transformed outcome to calculate the predicted CATE"
   ]
  },
  {
   "cell_type": "code",
   "execution_count": 14,
   "metadata": {
    "vscode": {
     "languageId": "r"
    }
   },
   "outputs": [
    {
     "data": {
      "text/html": [
       "<table class=\"dataframe\">\n",
       "<caption>A data.frame: 100000 × 9</caption>\n",
       "<thead>\n",
       "\t<tr><th scope=col>X</th><th scope=col>time</th><th scope=col>device</th><th scope=col>browser</th><th scope=col>region</th><th scope=col>discount</th><th scope=col>spend</th><th scope=col>pscore</th><th scope=col>y_star</th></tr>\n",
       "\t<tr><th scope=col>&lt;int&gt;</th><th scope=col>&lt;dbl&gt;</th><th scope=col>&lt;fct&gt;</th><th scope=col>&lt;fct&gt;</th><th scope=col>&lt;fct&gt;</th><th scope=col>&lt;int&gt;</th><th scope=col>&lt;dbl&gt;</th><th scope=col>&lt;dbl&gt;</th><th scope=col>&lt;dbl&gt;</th></tr>\n",
       "</thead>\n",
       "<tbody>\n",
       "\t<tr><td> 0</td><td>10.7790063</td><td>mobile </td><td>edge    </td><td>9</td><td>0</td><td> 0.45516422</td><td>0.5141587</td><td> -0.9368578</td></tr>\n",
       "\t<tr><td> 1</td><td> 0.5689725</td><td>desktop</td><td>firefox </td><td>9</td><td>0</td><td>11.03687063</td><td>0.5098886</td><td>-22.5191068</td></tr>\n",
       "\t<tr><td> 2</td><td> 3.7438714</td><td>mobile </td><td>safari  </td><td>7</td><td>0</td><td> 1.81119304</td><td>0.4974938</td><td> -3.6043197</td></tr>\n",
       "\t<tr><td> 3</td><td>13.3734357</td><td>desktop</td><td>other   </td><td>5</td><td>0</td><td>31.90494394</td><td>0.4880360</td><td>-62.3187267</td></tr>\n",
       "\t<tr><td> 4</td><td> 0.7085752</td><td>mobile </td><td>explorer</td><td>2</td><td>1</td><td>15.41986237</td><td>0.5111713</td><td> 30.1657412</td></tr>\n",
       "\t<tr><td> 5</td><td>10.8320878</td><td>desktop</td><td>brave   </td><td>0</td><td>0</td><td>24.12392643</td><td>0.5074952</td><td>-48.9821190</td></tr>\n",
       "\t<tr><td> 6</td><td>22.0927643</td><td>desktop</td><td>safari  </td><td>0</td><td>1</td><td>14.35099577</td><td>0.5005385</td><td> 28.6711105</td></tr>\n",
       "\t<tr><td> 7</td><td>14.8807829</td><td>desktop</td><td>chrome  </td><td>3</td><td>0</td><td>30.98908236</td><td>0.5013280</td><td>-62.1432161</td></tr>\n",
       "\t<tr><td> 8</td><td>11.1468772</td><td>desktop</td><td>safari  </td><td>2</td><td>0</td><td>-0.92061600</td><td>0.4999294</td><td>  1.8409721</td></tr>\n",
       "\t<tr><td> 9</td><td>13.5419450</td><td>desktop</td><td>edge    </td><td>6</td><td>1</td><td> 8.53350278</td><td>0.4949061</td><td> 17.2426706</td></tr>\n",
       "\t<tr><td>10</td><td>17.2932492</td><td>desktop</td><td>other   </td><td>5</td><td>0</td><td> 9.32260511</td><td>0.4870330</td><td>-18.1738878</td></tr>\n",
       "\t<tr><td>11</td><td>15.7462867</td><td>desktop</td><td>safari  </td><td>5</td><td>0</td><td>-1.53330076</td><td>0.4884324</td><td>  2.9972590</td></tr>\n",
       "\t<tr><td>12</td><td>14.1650074</td><td>desktop</td><td>brave   </td><td>5</td><td>0</td><td>-1.09132890</td><td>0.4929096</td><td>  2.1521390</td></tr>\n",
       "\t<tr><td>13</td><td>19.8258798</td><td>desktop</td><td>chrome  </td><td>9</td><td>0</td><td>-0.13794651</td><td>0.5071021</td><td>  0.2798683</td></tr>\n",
       "\t<tr><td>14</td><td> 8.3458585</td><td>mobile </td><td>other   </td><td>2</td><td>1</td><td> 5.68073339</td><td>0.5013014</td><td> 11.3319728</td></tr>\n",
       "\t<tr><td>15</td><td>21.4616659</td><td>desktop</td><td>edge    </td><td>8</td><td>1</td><td>-1.48978816</td><td>0.5005316</td><td> -2.9764118</td></tr>\n",
       "\t<tr><td>16</td><td>21.5307764</td><td>mobile </td><td>brave   </td><td>3</td><td>1</td><td>26.10082118</td><td>0.4970568</td><td> 52.5107407</td></tr>\n",
       "\t<tr><td>17</td><td>22.7918230</td><td>desktop</td><td>firefox </td><td>5</td><td>0</td><td>13.54649697</td><td>0.4927848</td><td>-26.7075952</td></tr>\n",
       "\t<tr><td>18</td><td>16.8419547</td><td>mobile </td><td>edge    </td><td>8</td><td>0</td><td> 8.59158668</td><td>0.5033733</td><td>-17.2998882</td></tr>\n",
       "\t<tr><td>19</td><td>17.1316326</td><td>mobile </td><td>other   </td><td>5</td><td>0</td><td> 9.15314012</td><td>0.4887322</td><td>-17.9028305</td></tr>\n",
       "\t<tr><td>20</td><td>10.4221730</td><td>desktop</td><td>edge    </td><td>4</td><td>0</td><td>-4.70411555</td><td>0.5098208</td><td>  9.5967267</td></tr>\n",
       "\t<tr><td>21</td><td> 2.0347608</td><td>desktop</td><td>firefox </td><td>1</td><td>0</td><td>-2.16873652</td><td>0.5010676</td><td>  4.3467544</td></tr>\n",
       "\t<tr><td>22</td><td>16.3444506</td><td>mobile </td><td>chrome  </td><td>3</td><td>1</td><td> 8.28808471</td><td>0.5026121</td><td> 16.4900229</td></tr>\n",
       "\t<tr><td>23</td><td>20.3470285</td><td>mobile </td><td>other   </td><td>8</td><td>0</td><td> 8.72860046</td><td>0.4900870</td><td>-17.1178243</td></tr>\n",
       "\t<tr><td>24</td><td> 7.7543764</td><td>desktop</td><td>brave   </td><td>7</td><td>1</td><td>12.55704402</td><td>0.4988820</td><td> 25.1703684</td></tr>\n",
       "\t<tr><td>25</td><td> 3.7295781</td><td>desktop</td><td>firefox </td><td>0</td><td>0</td><td> 3.94743524</td><td>0.5113965</td><td> -8.0790148</td></tr>\n",
       "\t<tr><td>26</td><td>14.6969607</td><td>mobile </td><td>other   </td><td>7</td><td>1</td><td> 1.10181151</td><td>0.4936855</td><td>  2.2318087</td></tr>\n",
       "\t<tr><td>27</td><td>23.2044761</td><td>desktop</td><td>brave   </td><td>5</td><td>0</td><td>-0.22677954</td><td>0.4905957</td><td>  0.4451858</td></tr>\n",
       "\t<tr><td>28</td><td>23.8648193</td><td>mobile </td><td>explorer</td><td>8</td><td>0</td><td>-0.06088373</td><td>0.4971014</td><td>  0.1210656</td></tr>\n",
       "\t<tr><td>29</td><td>17.1630895</td><td>desktop</td><td>other   </td><td>7</td><td>1</td><td>13.42564715</td><td>0.4913957</td><td> 27.3214607</td></tr>\n",
       "\t<tr><td>⋮</td><td>⋮</td><td>⋮</td><td>⋮</td><td>⋮</td><td>⋮</td><td>⋮</td><td>⋮</td><td>⋮</td></tr>\n",
       "\t<tr><td>99970</td><td> 8.949498</td><td>mobile </td><td>chrome  </td><td>0</td><td>0</td><td> 1.9644888</td><td>0.5138606</td><td> -4.0409985</td></tr>\n",
       "\t<tr><td>99971</td><td>19.173838</td><td>mobile </td><td>other   </td><td>1</td><td>1</td><td>16.7144347</td><td>0.4911768</td><td> 34.0293637</td></tr>\n",
       "\t<tr><td>99972</td><td> 6.983669</td><td>desktop</td><td>explorer</td><td>2</td><td>0</td><td> 0.5429627</td><td>0.5079069</td><td> -1.1033740</td></tr>\n",
       "\t<tr><td>99973</td><td>10.265262</td><td>desktop</td><td>brave   </td><td>3</td><td>1</td><td>-1.8835153</td><td>0.4982824</td><td> -3.7800156</td></tr>\n",
       "\t<tr><td>99974</td><td> 7.532928</td><td>desktop</td><td>brave   </td><td>6</td><td>0</td><td>12.2878589</td><td>0.4891342</td><td>-24.0530081</td></tr>\n",
       "\t<tr><td>99975</td><td> 9.173990</td><td>desktop</td><td>brave   </td><td>0</td><td>1</td><td> 6.1189037</td><td>0.5079197</td><td> 12.0469904</td></tr>\n",
       "\t<tr><td>99976</td><td> 3.315111</td><td>mobile </td><td>explorer</td><td>3</td><td>0</td><td>-2.5834166</td><td>0.5045589</td><td>  5.2143772</td></tr>\n",
       "\t<tr><td>99977</td><td>16.038877</td><td>mobile </td><td>safari  </td><td>9</td><td>1</td><td>12.2699561</td><td>0.5014297</td><td> 24.4699428</td></tr>\n",
       "\t<tr><td>99978</td><td>23.692790</td><td>mobile </td><td>other   </td><td>7</td><td>1</td><td>-1.0152965</td><td>0.4913826</td><td> -2.0662035</td></tr>\n",
       "\t<tr><td>99979</td><td>12.620873</td><td>desktop</td><td>other   </td><td>6</td><td>1</td><td>-2.2049818</td><td>0.4827585</td><td> -4.5674637</td></tr>\n",
       "\t<tr><td>99980</td><td> 5.844306</td><td>desktop</td><td>chrome  </td><td>7</td><td>1</td><td> 1.5375232</td><td>0.5035984</td><td>  3.0530740</td></tr>\n",
       "\t<tr><td>99981</td><td>14.915415</td><td>desktop</td><td>chrome  </td><td>0</td><td>0</td><td>12.6377339</td><td>0.5106760</td><td>-25.8269267</td></tr>\n",
       "\t<tr><td>99982</td><td>21.702594</td><td>mobile </td><td>brave   </td><td>9</td><td>1</td><td> 6.2072175</td><td>0.5040534</td><td> 12.3146020</td></tr>\n",
       "\t<tr><td>99983</td><td>11.585896</td><td>desktop</td><td>safari  </td><td>3</td><td>0</td><td>-2.6631441</td><td>0.4938706</td><td>  5.2617846</td></tr>\n",
       "\t<tr><td>99984</td><td> 4.513100</td><td>mobile </td><td>safari  </td><td>6</td><td>0</td><td>18.8492305</td><td>0.4874932</td><td>-36.7784989</td></tr>\n",
       "\t<tr><td>99985</td><td> 3.023421</td><td>mobile </td><td>other   </td><td>5</td><td>0</td><td>30.9560380</td><td>0.4923433</td><td>-60.9782906</td></tr>\n",
       "\t<tr><td>99986</td><td>10.118575</td><td>desktop</td><td>safari  </td><td>1</td><td>1</td><td> 1.8962759</td><td>0.4928402</td><td>  3.8476485</td></tr>\n",
       "\t<tr><td>99987</td><td> 8.351566</td><td>mobile </td><td>edge    </td><td>6</td><td>1</td><td>-4.5103019</td><td>0.4978938</td><td> -9.0587632</td></tr>\n",
       "\t<tr><td>99988</td><td> 6.246268</td><td>desktop</td><td>edge    </td><td>7</td><td>1</td><td>18.0807943</td><td>0.5065798</td><td> 35.6918987</td></tr>\n",
       "\t<tr><td>99989</td><td>12.055227</td><td>mobile </td><td>edge    </td><td>5</td><td>0</td><td>-4.3351129</td><td>0.5024202</td><td>  8.7123980</td></tr>\n",
       "\t<tr><td>99990</td><td> 4.257435</td><td>mobile </td><td>explorer</td><td>5</td><td>1</td><td> 5.1890847</td><td>0.4999431</td><td> 10.3793513</td></tr>\n",
       "\t<tr><td>99991</td><td> 8.517061</td><td>desktop</td><td>other   </td><td>5</td><td>0</td><td>15.5922937</td><td>0.4892788</td><td>-30.5299538</td></tr>\n",
       "\t<tr><td>99992</td><td>12.212770</td><td>desktop</td><td>safari  </td><td>2</td><td>1</td><td> 1.7046014</td><td>0.4996565</td><td>  3.4115466</td></tr>\n",
       "\t<tr><td>99993</td><td>16.094350</td><td>desktop</td><td>edge    </td><td>3</td><td>1</td><td> 2.9807953</td><td>0.5041018</td><td>  5.9130821</td></tr>\n",
       "\t<tr><td>99994</td><td> 3.579474</td><td>desktop</td><td>chrome  </td><td>4</td><td>0</td><td>-2.1244347</td><td>0.5084887</td><td>  4.3222501</td></tr>\n",
       "\t<tr><td>99995</td><td>14.224321</td><td>desktop</td><td>firefox </td><td>9</td><td>0</td><td>34.0475179</td><td>0.5063931</td><td>-68.9769951</td></tr>\n",
       "\t<tr><td>99996</td><td>15.804262</td><td>desktop</td><td>other   </td><td>5</td><td>0</td><td>13.2772671</td><td>0.4874140</td><td>-25.9025151</td></tr>\n",
       "\t<tr><td>99997</td><td> 2.364713</td><td>desktop</td><td>safari  </td><td>9</td><td>0</td><td>13.2370085</td><td>0.5032720</td><td>-26.6484048</td></tr>\n",
       "\t<tr><td>99998</td><td> 3.723502</td><td>desktop</td><td>edge    </td><td>4</td><td>0</td><td> 0.2026600</td><td>0.5115352</td><td> -0.4148917</td></tr>\n",
       "\t<tr><td>99999</td><td>10.108936</td><td>mobile </td><td>chrome  </td><td>2</td><td>1</td><td> 3.0059510</td><td>0.5101540</td><td>  5.8922418</td></tr>\n",
       "</tbody>\n",
       "</table>\n"
      ],
      "text/latex": [
       "A data.frame: 100000 × 9\n",
       "\\begin{tabular}{lllllllll}\n",
       " X & time & device & browser & region & discount & spend & pscore & y\\_star\\\\\n",
       " <int> & <dbl> & <fct> & <fct> & <fct> & <int> & <dbl> & <dbl> & <dbl>\\\\\n",
       "\\hline\n",
       "\t  0 & 10.7790063 & mobile  & edge     & 9 & 0 &  0.45516422 & 0.5141587 &  -0.9368578\\\\\n",
       "\t  1 &  0.5689725 & desktop & firefox  & 9 & 0 & 11.03687063 & 0.5098886 & -22.5191068\\\\\n",
       "\t  2 &  3.7438714 & mobile  & safari   & 7 & 0 &  1.81119304 & 0.4974938 &  -3.6043197\\\\\n",
       "\t  3 & 13.3734357 & desktop & other    & 5 & 0 & 31.90494394 & 0.4880360 & -62.3187267\\\\\n",
       "\t  4 &  0.7085752 & mobile  & explorer & 2 & 1 & 15.41986237 & 0.5111713 &  30.1657412\\\\\n",
       "\t  5 & 10.8320878 & desktop & brave    & 0 & 0 & 24.12392643 & 0.5074952 & -48.9821190\\\\\n",
       "\t  6 & 22.0927643 & desktop & safari   & 0 & 1 & 14.35099577 & 0.5005385 &  28.6711105\\\\\n",
       "\t  7 & 14.8807829 & desktop & chrome   & 3 & 0 & 30.98908236 & 0.5013280 & -62.1432161\\\\\n",
       "\t  8 & 11.1468772 & desktop & safari   & 2 & 0 & -0.92061600 & 0.4999294 &   1.8409721\\\\\n",
       "\t  9 & 13.5419450 & desktop & edge     & 6 & 1 &  8.53350278 & 0.4949061 &  17.2426706\\\\\n",
       "\t 10 & 17.2932492 & desktop & other    & 5 & 0 &  9.32260511 & 0.4870330 & -18.1738878\\\\\n",
       "\t 11 & 15.7462867 & desktop & safari   & 5 & 0 & -1.53330076 & 0.4884324 &   2.9972590\\\\\n",
       "\t 12 & 14.1650074 & desktop & brave    & 5 & 0 & -1.09132890 & 0.4929096 &   2.1521390\\\\\n",
       "\t 13 & 19.8258798 & desktop & chrome   & 9 & 0 & -0.13794651 & 0.5071021 &   0.2798683\\\\\n",
       "\t 14 &  8.3458585 & mobile  & other    & 2 & 1 &  5.68073339 & 0.5013014 &  11.3319728\\\\\n",
       "\t 15 & 21.4616659 & desktop & edge     & 8 & 1 & -1.48978816 & 0.5005316 &  -2.9764118\\\\\n",
       "\t 16 & 21.5307764 & mobile  & brave    & 3 & 1 & 26.10082118 & 0.4970568 &  52.5107407\\\\\n",
       "\t 17 & 22.7918230 & desktop & firefox  & 5 & 0 & 13.54649697 & 0.4927848 & -26.7075952\\\\\n",
       "\t 18 & 16.8419547 & mobile  & edge     & 8 & 0 &  8.59158668 & 0.5033733 & -17.2998882\\\\\n",
       "\t 19 & 17.1316326 & mobile  & other    & 5 & 0 &  9.15314012 & 0.4887322 & -17.9028305\\\\\n",
       "\t 20 & 10.4221730 & desktop & edge     & 4 & 0 & -4.70411555 & 0.5098208 &   9.5967267\\\\\n",
       "\t 21 &  2.0347608 & desktop & firefox  & 1 & 0 & -2.16873652 & 0.5010676 &   4.3467544\\\\\n",
       "\t 22 & 16.3444506 & mobile  & chrome   & 3 & 1 &  8.28808471 & 0.5026121 &  16.4900229\\\\\n",
       "\t 23 & 20.3470285 & mobile  & other    & 8 & 0 &  8.72860046 & 0.4900870 & -17.1178243\\\\\n",
       "\t 24 &  7.7543764 & desktop & brave    & 7 & 1 & 12.55704402 & 0.4988820 &  25.1703684\\\\\n",
       "\t 25 &  3.7295781 & desktop & firefox  & 0 & 0 &  3.94743524 & 0.5113965 &  -8.0790148\\\\\n",
       "\t 26 & 14.6969607 & mobile  & other    & 7 & 1 &  1.10181151 & 0.4936855 &   2.2318087\\\\\n",
       "\t 27 & 23.2044761 & desktop & brave    & 5 & 0 & -0.22677954 & 0.4905957 &   0.4451858\\\\\n",
       "\t 28 & 23.8648193 & mobile  & explorer & 8 & 0 & -0.06088373 & 0.4971014 &   0.1210656\\\\\n",
       "\t 29 & 17.1630895 & desktop & other    & 7 & 1 & 13.42564715 & 0.4913957 &  27.3214607\\\\\n",
       "\t ⋮ & ⋮ & ⋮ & ⋮ & ⋮ & ⋮ & ⋮ & ⋮ & ⋮\\\\\n",
       "\t 99970 &  8.949498 & mobile  & chrome   & 0 & 0 &  1.9644888 & 0.5138606 &  -4.0409985\\\\\n",
       "\t 99971 & 19.173838 & mobile  & other    & 1 & 1 & 16.7144347 & 0.4911768 &  34.0293637\\\\\n",
       "\t 99972 &  6.983669 & desktop & explorer & 2 & 0 &  0.5429627 & 0.5079069 &  -1.1033740\\\\\n",
       "\t 99973 & 10.265262 & desktop & brave    & 3 & 1 & -1.8835153 & 0.4982824 &  -3.7800156\\\\\n",
       "\t 99974 &  7.532928 & desktop & brave    & 6 & 0 & 12.2878589 & 0.4891342 & -24.0530081\\\\\n",
       "\t 99975 &  9.173990 & desktop & brave    & 0 & 1 &  6.1189037 & 0.5079197 &  12.0469904\\\\\n",
       "\t 99976 &  3.315111 & mobile  & explorer & 3 & 0 & -2.5834166 & 0.5045589 &   5.2143772\\\\\n",
       "\t 99977 & 16.038877 & mobile  & safari   & 9 & 1 & 12.2699561 & 0.5014297 &  24.4699428\\\\\n",
       "\t 99978 & 23.692790 & mobile  & other    & 7 & 1 & -1.0152965 & 0.4913826 &  -2.0662035\\\\\n",
       "\t 99979 & 12.620873 & desktop & other    & 6 & 1 & -2.2049818 & 0.4827585 &  -4.5674637\\\\\n",
       "\t 99980 &  5.844306 & desktop & chrome   & 7 & 1 &  1.5375232 & 0.5035984 &   3.0530740\\\\\n",
       "\t 99981 & 14.915415 & desktop & chrome   & 0 & 0 & 12.6377339 & 0.5106760 & -25.8269267\\\\\n",
       "\t 99982 & 21.702594 & mobile  & brave    & 9 & 1 &  6.2072175 & 0.5040534 &  12.3146020\\\\\n",
       "\t 99983 & 11.585896 & desktop & safari   & 3 & 0 & -2.6631441 & 0.4938706 &   5.2617846\\\\\n",
       "\t 99984 &  4.513100 & mobile  & safari   & 6 & 0 & 18.8492305 & 0.4874932 & -36.7784989\\\\\n",
       "\t 99985 &  3.023421 & mobile  & other    & 5 & 0 & 30.9560380 & 0.4923433 & -60.9782906\\\\\n",
       "\t 99986 & 10.118575 & desktop & safari   & 1 & 1 &  1.8962759 & 0.4928402 &   3.8476485\\\\\n",
       "\t 99987 &  8.351566 & mobile  & edge     & 6 & 1 & -4.5103019 & 0.4978938 &  -9.0587632\\\\\n",
       "\t 99988 &  6.246268 & desktop & edge     & 7 & 1 & 18.0807943 & 0.5065798 &  35.6918987\\\\\n",
       "\t 99989 & 12.055227 & mobile  & edge     & 5 & 0 & -4.3351129 & 0.5024202 &   8.7123980\\\\\n",
       "\t 99990 &  4.257435 & mobile  & explorer & 5 & 1 &  5.1890847 & 0.4999431 &  10.3793513\\\\\n",
       "\t 99991 &  8.517061 & desktop & other    & 5 & 0 & 15.5922937 & 0.4892788 & -30.5299538\\\\\n",
       "\t 99992 & 12.212770 & desktop & safari   & 2 & 1 &  1.7046014 & 0.4996565 &   3.4115466\\\\\n",
       "\t 99993 & 16.094350 & desktop & edge     & 3 & 1 &  2.9807953 & 0.5041018 &   5.9130821\\\\\n",
       "\t 99994 &  3.579474 & desktop & chrome   & 4 & 0 & -2.1244347 & 0.5084887 &   4.3222501\\\\\n",
       "\t 99995 & 14.224321 & desktop & firefox  & 9 & 0 & 34.0475179 & 0.5063931 & -68.9769951\\\\\n",
       "\t 99996 & 15.804262 & desktop & other    & 5 & 0 & 13.2772671 & 0.4874140 & -25.9025151\\\\\n",
       "\t 99997 &  2.364713 & desktop & safari   & 9 & 0 & 13.2370085 & 0.5032720 & -26.6484048\\\\\n",
       "\t 99998 &  3.723502 & desktop & edge     & 4 & 0 &  0.2026600 & 0.5115352 &  -0.4148917\\\\\n",
       "\t 99999 & 10.108936 & mobile  & chrome   & 2 & 1 &  3.0059510 & 0.5101540 &   5.8922418\\\\\n",
       "\\end{tabular}\n"
      ],
      "text/markdown": [
       "\n",
       "A data.frame: 100000 × 9\n",
       "\n",
       "| X &lt;int&gt; | time &lt;dbl&gt; | device &lt;fct&gt; | browser &lt;fct&gt; | region &lt;fct&gt; | discount &lt;int&gt; | spend &lt;dbl&gt; | pscore &lt;dbl&gt; | y_star &lt;dbl&gt; |\n",
       "|---|---|---|---|---|---|---|---|---|\n",
       "|  0 | 10.7790063 | mobile  | edge     | 9 | 0 |  0.45516422 | 0.5141587 |  -0.9368578 |\n",
       "|  1 |  0.5689725 | desktop | firefox  | 9 | 0 | 11.03687063 | 0.5098886 | -22.5191068 |\n",
       "|  2 |  3.7438714 | mobile  | safari   | 7 | 0 |  1.81119304 | 0.4974938 |  -3.6043197 |\n",
       "|  3 | 13.3734357 | desktop | other    | 5 | 0 | 31.90494394 | 0.4880360 | -62.3187267 |\n",
       "|  4 |  0.7085752 | mobile  | explorer | 2 | 1 | 15.41986237 | 0.5111713 |  30.1657412 |\n",
       "|  5 | 10.8320878 | desktop | brave    | 0 | 0 | 24.12392643 | 0.5074952 | -48.9821190 |\n",
       "|  6 | 22.0927643 | desktop | safari   | 0 | 1 | 14.35099577 | 0.5005385 |  28.6711105 |\n",
       "|  7 | 14.8807829 | desktop | chrome   | 3 | 0 | 30.98908236 | 0.5013280 | -62.1432161 |\n",
       "|  8 | 11.1468772 | desktop | safari   | 2 | 0 | -0.92061600 | 0.4999294 |   1.8409721 |\n",
       "|  9 | 13.5419450 | desktop | edge     | 6 | 1 |  8.53350278 | 0.4949061 |  17.2426706 |\n",
       "| 10 | 17.2932492 | desktop | other    | 5 | 0 |  9.32260511 | 0.4870330 | -18.1738878 |\n",
       "| 11 | 15.7462867 | desktop | safari   | 5 | 0 | -1.53330076 | 0.4884324 |   2.9972590 |\n",
       "| 12 | 14.1650074 | desktop | brave    | 5 | 0 | -1.09132890 | 0.4929096 |   2.1521390 |\n",
       "| 13 | 19.8258798 | desktop | chrome   | 9 | 0 | -0.13794651 | 0.5071021 |   0.2798683 |\n",
       "| 14 |  8.3458585 | mobile  | other    | 2 | 1 |  5.68073339 | 0.5013014 |  11.3319728 |\n",
       "| 15 | 21.4616659 | desktop | edge     | 8 | 1 | -1.48978816 | 0.5005316 |  -2.9764118 |\n",
       "| 16 | 21.5307764 | mobile  | brave    | 3 | 1 | 26.10082118 | 0.4970568 |  52.5107407 |\n",
       "| 17 | 22.7918230 | desktop | firefox  | 5 | 0 | 13.54649697 | 0.4927848 | -26.7075952 |\n",
       "| 18 | 16.8419547 | mobile  | edge     | 8 | 0 |  8.59158668 | 0.5033733 | -17.2998882 |\n",
       "| 19 | 17.1316326 | mobile  | other    | 5 | 0 |  9.15314012 | 0.4887322 | -17.9028305 |\n",
       "| 20 | 10.4221730 | desktop | edge     | 4 | 0 | -4.70411555 | 0.5098208 |   9.5967267 |\n",
       "| 21 |  2.0347608 | desktop | firefox  | 1 | 0 | -2.16873652 | 0.5010676 |   4.3467544 |\n",
       "| 22 | 16.3444506 | mobile  | chrome   | 3 | 1 |  8.28808471 | 0.5026121 |  16.4900229 |\n",
       "| 23 | 20.3470285 | mobile  | other    | 8 | 0 |  8.72860046 | 0.4900870 | -17.1178243 |\n",
       "| 24 |  7.7543764 | desktop | brave    | 7 | 1 | 12.55704402 | 0.4988820 |  25.1703684 |\n",
       "| 25 |  3.7295781 | desktop | firefox  | 0 | 0 |  3.94743524 | 0.5113965 |  -8.0790148 |\n",
       "| 26 | 14.6969607 | mobile  | other    | 7 | 1 |  1.10181151 | 0.4936855 |   2.2318087 |\n",
       "| 27 | 23.2044761 | desktop | brave    | 5 | 0 | -0.22677954 | 0.4905957 |   0.4451858 |\n",
       "| 28 | 23.8648193 | mobile  | explorer | 8 | 0 | -0.06088373 | 0.4971014 |   0.1210656 |\n",
       "| 29 | 17.1630895 | desktop | other    | 7 | 1 | 13.42564715 | 0.4913957 |  27.3214607 |\n",
       "| ⋮ | ⋮ | ⋮ | ⋮ | ⋮ | ⋮ | ⋮ | ⋮ | ⋮ |\n",
       "| 99970 |  8.949498 | mobile  | chrome   | 0 | 0 |  1.9644888 | 0.5138606 |  -4.0409985 |\n",
       "| 99971 | 19.173838 | mobile  | other    | 1 | 1 | 16.7144347 | 0.4911768 |  34.0293637 |\n",
       "| 99972 |  6.983669 | desktop | explorer | 2 | 0 |  0.5429627 | 0.5079069 |  -1.1033740 |\n",
       "| 99973 | 10.265262 | desktop | brave    | 3 | 1 | -1.8835153 | 0.4982824 |  -3.7800156 |\n",
       "| 99974 |  7.532928 | desktop | brave    | 6 | 0 | 12.2878589 | 0.4891342 | -24.0530081 |\n",
       "| 99975 |  9.173990 | desktop | brave    | 0 | 1 |  6.1189037 | 0.5079197 |  12.0469904 |\n",
       "| 99976 |  3.315111 | mobile  | explorer | 3 | 0 | -2.5834166 | 0.5045589 |   5.2143772 |\n",
       "| 99977 | 16.038877 | mobile  | safari   | 9 | 1 | 12.2699561 | 0.5014297 |  24.4699428 |\n",
       "| 99978 | 23.692790 | mobile  | other    | 7 | 1 | -1.0152965 | 0.4913826 |  -2.0662035 |\n",
       "| 99979 | 12.620873 | desktop | other    | 6 | 1 | -2.2049818 | 0.4827585 |  -4.5674637 |\n",
       "| 99980 |  5.844306 | desktop | chrome   | 7 | 1 |  1.5375232 | 0.5035984 |   3.0530740 |\n",
       "| 99981 | 14.915415 | desktop | chrome   | 0 | 0 | 12.6377339 | 0.5106760 | -25.8269267 |\n",
       "| 99982 | 21.702594 | mobile  | brave    | 9 | 1 |  6.2072175 | 0.5040534 |  12.3146020 |\n",
       "| 99983 | 11.585896 | desktop | safari   | 3 | 0 | -2.6631441 | 0.4938706 |   5.2617846 |\n",
       "| 99984 |  4.513100 | mobile  | safari   | 6 | 0 | 18.8492305 | 0.4874932 | -36.7784989 |\n",
       "| 99985 |  3.023421 | mobile  | other    | 5 | 0 | 30.9560380 | 0.4923433 | -60.9782906 |\n",
       "| 99986 | 10.118575 | desktop | safari   | 1 | 1 |  1.8962759 | 0.4928402 |   3.8476485 |\n",
       "| 99987 |  8.351566 | mobile  | edge     | 6 | 1 | -4.5103019 | 0.4978938 |  -9.0587632 |\n",
       "| 99988 |  6.246268 | desktop | edge     | 7 | 1 | 18.0807943 | 0.5065798 |  35.6918987 |\n",
       "| 99989 | 12.055227 | mobile  | edge     | 5 | 0 | -4.3351129 | 0.5024202 |   8.7123980 |\n",
       "| 99990 |  4.257435 | mobile  | explorer | 5 | 1 |  5.1890847 | 0.4999431 |  10.3793513 |\n",
       "| 99991 |  8.517061 | desktop | other    | 5 | 0 | 15.5922937 | 0.4892788 | -30.5299538 |\n",
       "| 99992 | 12.212770 | desktop | safari   | 2 | 1 |  1.7046014 | 0.4996565 |   3.4115466 |\n",
       "| 99993 | 16.094350 | desktop | edge     | 3 | 1 |  2.9807953 | 0.5041018 |   5.9130821 |\n",
       "| 99994 |  3.579474 | desktop | chrome   | 4 | 0 | -2.1244347 | 0.5084887 |   4.3222501 |\n",
       "| 99995 | 14.224321 | desktop | firefox  | 9 | 0 | 34.0475179 | 0.5063931 | -68.9769951 |\n",
       "| 99996 | 15.804262 | desktop | other    | 5 | 0 | 13.2772671 | 0.4874140 | -25.9025151 |\n",
       "| 99997 |  2.364713 | desktop | safari   | 9 | 0 | 13.2370085 | 0.5032720 | -26.6484048 |\n",
       "| 99998 |  3.723502 | desktop | edge     | 4 | 0 |  0.2026600 | 0.5115352 |  -0.4148917 |\n",
       "| 99999 | 10.108936 | mobile  | chrome   | 2 | 1 |  3.0059510 | 0.5101540 |   5.8922418 |\n",
       "\n"
      ],
      "text/plain": [
       "       X     time       device  browser  region discount spend       pscore   \n",
       "1       0    10.7790063 mobile  edge     9      0         0.45516422 0.5141587\n",
       "2       1     0.5689725 desktop firefox  9      0        11.03687063 0.5098886\n",
       "3       2     3.7438714 mobile  safari   7      0         1.81119304 0.4974938\n",
       "4       3    13.3734357 desktop other    5      0        31.90494394 0.4880360\n",
       "5       4     0.7085752 mobile  explorer 2      1        15.41986237 0.5111713\n",
       "6       5    10.8320878 desktop brave    0      0        24.12392643 0.5074952\n",
       "7       6    22.0927643 desktop safari   0      1        14.35099577 0.5005385\n",
       "8       7    14.8807829 desktop chrome   3      0        30.98908236 0.5013280\n",
       "9       8    11.1468772 desktop safari   2      0        -0.92061600 0.4999294\n",
       "10      9    13.5419450 desktop edge     6      1         8.53350278 0.4949061\n",
       "11     10    17.2932492 desktop other    5      0         9.32260511 0.4870330\n",
       "12     11    15.7462867 desktop safari   5      0        -1.53330076 0.4884324\n",
       "13     12    14.1650074 desktop brave    5      0        -1.09132890 0.4929096\n",
       "14     13    19.8258798 desktop chrome   9      0        -0.13794651 0.5071021\n",
       "15     14     8.3458585 mobile  other    2      1         5.68073339 0.5013014\n",
       "16     15    21.4616659 desktop edge     8      1        -1.48978816 0.5005316\n",
       "17     16    21.5307764 mobile  brave    3      1        26.10082118 0.4970568\n",
       "18     17    22.7918230 desktop firefox  5      0        13.54649697 0.4927848\n",
       "19     18    16.8419547 mobile  edge     8      0         8.59158668 0.5033733\n",
       "20     19    17.1316326 mobile  other    5      0         9.15314012 0.4887322\n",
       "21     20    10.4221730 desktop edge     4      0        -4.70411555 0.5098208\n",
       "22     21     2.0347608 desktop firefox  1      0        -2.16873652 0.5010676\n",
       "23     22    16.3444506 mobile  chrome   3      1         8.28808471 0.5026121\n",
       "24     23    20.3470285 mobile  other    8      0         8.72860046 0.4900870\n",
       "25     24     7.7543764 desktop brave    7      1        12.55704402 0.4988820\n",
       "26     25     3.7295781 desktop firefox  0      0         3.94743524 0.5113965\n",
       "27     26    14.6969607 mobile  other    7      1         1.10181151 0.4936855\n",
       "28     27    23.2044761 desktop brave    5      0        -0.22677954 0.4905957\n",
       "29     28    23.8648193 mobile  explorer 8      0        -0.06088373 0.4971014\n",
       "30     29    17.1630895 desktop other    7      1        13.42564715 0.4913957\n",
       "⋮      ⋮     ⋮          ⋮       ⋮        ⋮      ⋮        ⋮           ⋮        \n",
       "99971  99970  8.949498  mobile  chrome   0      0         1.9644888  0.5138606\n",
       "99972  99971 19.173838  mobile  other    1      1        16.7144347  0.4911768\n",
       "99973  99972  6.983669  desktop explorer 2      0         0.5429627  0.5079069\n",
       "99974  99973 10.265262  desktop brave    3      1        -1.8835153  0.4982824\n",
       "99975  99974  7.532928  desktop brave    6      0        12.2878589  0.4891342\n",
       "99976  99975  9.173990  desktop brave    0      1         6.1189037  0.5079197\n",
       "99977  99976  3.315111  mobile  explorer 3      0        -2.5834166  0.5045589\n",
       "99978  99977 16.038877  mobile  safari   9      1        12.2699561  0.5014297\n",
       "99979  99978 23.692790  mobile  other    7      1        -1.0152965  0.4913826\n",
       "99980  99979 12.620873  desktop other    6      1        -2.2049818  0.4827585\n",
       "99981  99980  5.844306  desktop chrome   7      1         1.5375232  0.5035984\n",
       "99982  99981 14.915415  desktop chrome   0      0        12.6377339  0.5106760\n",
       "99983  99982 21.702594  mobile  brave    9      1         6.2072175  0.5040534\n",
       "99984  99983 11.585896  desktop safari   3      0        -2.6631441  0.4938706\n",
       "99985  99984  4.513100  mobile  safari   6      0        18.8492305  0.4874932\n",
       "99986  99985  3.023421  mobile  other    5      0        30.9560380  0.4923433\n",
       "99987  99986 10.118575  desktop safari   1      1         1.8962759  0.4928402\n",
       "99988  99987  8.351566  mobile  edge     6      1        -4.5103019  0.4978938\n",
       "99989  99988  6.246268  desktop edge     7      1        18.0807943  0.5065798\n",
       "99990  99989 12.055227  mobile  edge     5      0        -4.3351129  0.5024202\n",
       "99991  99990  4.257435  mobile  explorer 5      1         5.1890847  0.4999431\n",
       "99992  99991  8.517061  desktop other    5      0        15.5922937  0.4892788\n",
       "99993  99992 12.212770  desktop safari   2      1         1.7046014  0.4996565\n",
       "99994  99993 16.094350  desktop edge     3      1         2.9807953  0.5041018\n",
       "99995  99994  3.579474  desktop chrome   4      0        -2.1244347  0.5084887\n",
       "99996  99995 14.224321  desktop firefox  9      0        34.0475179  0.5063931\n",
       "99997  99996 15.804262  desktop other    5      0        13.2772671  0.4874140\n",
       "99998  99997  2.364713  desktop safari   9      0        13.2370085  0.5032720\n",
       "99999  99998  3.723502  desktop edge     4      0         0.2026600  0.5115352\n",
       "100000 99999 10.108936  mobile  chrome   2      1         3.0059510  0.5101540\n",
       "       y_star     \n",
       "1       -0.9368578\n",
       "2      -22.5191068\n",
       "3       -3.6043197\n",
       "4      -62.3187267\n",
       "5       30.1657412\n",
       "6      -48.9821190\n",
       "7       28.6711105\n",
       "8      -62.1432161\n",
       "9        1.8409721\n",
       "10      17.2426706\n",
       "11     -18.1738878\n",
       "12       2.9972590\n",
       "13       2.1521390\n",
       "14       0.2798683\n",
       "15      11.3319728\n",
       "16      -2.9764118\n",
       "17      52.5107407\n",
       "18     -26.7075952\n",
       "19     -17.2998882\n",
       "20     -17.9028305\n",
       "21       9.5967267\n",
       "22       4.3467544\n",
       "23      16.4900229\n",
       "24     -17.1178243\n",
       "25      25.1703684\n",
       "26      -8.0790148\n",
       "27       2.2318087\n",
       "28       0.4451858\n",
       "29       0.1210656\n",
       "30      27.3214607\n",
       "⋮      ⋮          \n",
       "99971   -4.0409985\n",
       "99972   34.0293637\n",
       "99973   -1.1033740\n",
       "99974   -3.7800156\n",
       "99975  -24.0530081\n",
       "99976   12.0469904\n",
       "99977    5.2143772\n",
       "99978   24.4699428\n",
       "99979   -2.0662035\n",
       "99980   -4.5674637\n",
       "99981    3.0530740\n",
       "99982  -25.8269267\n",
       "99983   12.3146020\n",
       "99984    5.2617846\n",
       "99985  -36.7784989\n",
       "99986  -60.9782906\n",
       "99987    3.8476485\n",
       "99988   -9.0587632\n",
       "99989   35.6918987\n",
       "99990    8.7123980\n",
       "99991   10.3793513\n",
       "99992  -30.5299538\n",
       "99993    3.4115466\n",
       "99994    5.9130821\n",
       "99995    4.3222501\n",
       "99996  -68.9769951\n",
       "99997  -25.9025151\n",
       "99998  -26.6484048\n",
       "99999   -0.4148917\n",
       "100000   5.8922418"
      ]
     },
     "metadata": {},
     "output_type": "display_data"
    }
   ],
   "source": [
    "df"
   ]
  },
  {
   "cell_type": "code",
   "execution_count": 19,
   "metadata": {
    "vscode": {
     "languageId": "r"
    }
   },
   "outputs": [],
   "source": [
    "vars = df[,c(\"time\", \"device\", \"browser\", \"region\", \"y_star\")]"
   ]
  },
  {
   "cell_type": "code",
   "execution_count": 20,
   "metadata": {
    "vscode": {
     "languageId": "r"
    }
   },
   "outputs": [],
   "source": [
    "library(rpart)\n",
    "\n",
    "tree_model <- rpart(y_star ~.,\n",
    "                   data = vars[1:100,])\n",
    "                "
   ]
  },
  {
   "cell_type": "code",
   "execution_count": 21,
   "metadata": {
    "vscode": {
     "languageId": "r"
    }
   },
   "outputs": [
    {
     "data": {
      "text/plain": [
       "n= 100 \n",
       "\n",
       "node), split, n, deviance, yval\n",
       "      * denotes terminal node\n",
       "\n",
       " 1) root 100 61221.290   3.711641  \n",
       "   2) browser=chrome,explorer,firefox,other 51 28570.450  -3.082367  \n",
       "     4) region=0,1,3,4,5,6 25 15443.290 -14.129650  \n",
       "       8) device=desktop 18 11825.880 -18.356740 *\n",
       "       9) device=mobile 7  2468.737  -3.260008 *\n",
       "     5) region=2,7,8,9 26  7142.377   7.540024  \n",
       "      10) region=7,8,9 19  3427.266   3.220422 *\n",
       "      11) region=2 7  2398.322  19.264660 *\n",
       "   3) browser=brave,edge,safari 49 27846.590  10.782950  \n",
       "     6) region=0,2,4,5,6,7,8 36 14809.520   4.930149  \n",
       "      12) browser=brave,edge 25 11669.230   1.474322  \n",
       "        24) time>=9.005303 18  9466.082  -1.774799 *\n",
       "        25) time< 9.005303 7  1524.500   9.829202 *\n",
       "      13) browser=safari 11  2163.155  12.784300 *\n",
       "     7) region=1,3,9 13  8388.881  26.990730 *"
      ]
     },
     "metadata": {},
     "output_type": "display_data"
    }
   ],
   "source": [
    "tree_model"
   ]
  },
  {
   "cell_type": "code",
   "execution_count": 22,
   "metadata": {
    "vscode": {
     "languageId": "r"
    }
   },
   "outputs": [
    {
     "data": {
      "image/png": "[encoded data removed]",
      "text/plain": [
       "plot without title"
      ]
     },
     "metadata": {
      "image/png": {
       "height": 420,
       "width": 420
      }
     },
     "output_type": "display_data"
    }
   ],
   "source": [
    "plot(tree_model)\n",
    "text(tree_model, pretty = 0)"
   ]
  },
  {
   "cell_type": "markdown",
   "metadata": {},
   "source": [
    "### Some caveats should be given about the results of this tree. First, the CATE estimates will be unbiased only if, within each leave, we have the same number of treated and control units. And second, we have used the same data to generate and evaluate the tree, which generates overfitting."
   ]
  },
  {
   "cell_type": "markdown",
   "metadata": {},
   "source": [
    "# Generating Splits"
   ]
  },
  {
   "cell_type": "markdown",
   "metadata": {},
   "source": [
    "### Last but not least, how should the tree be generated? The default rule to generate splits minimizing the sum of squared errors metric, so there is no restriction on the minimum number of observations per leaf. Other commonly used rules include, mean absolute error, Gini’s impurity, and Shannon’s information. Which one performs better depends on the specific application, but the general objective is always prediction accuracy, broadly defined.\n",
    "\n",
    "### In that regard, Athey and Imbens (2016) use a modified version of the Mean Squared Error (MSE) as splitting criterion, named the Expanded Mean Squared Error (EMSE)\n",
    "\n",
    "\\begin{equation*}\n",
    "\n",
    "EMSE = \\mathbb{E}\\left[\\left(Y_i-\\hat{\\mu}(X_i)\\right)^2-Y_i^2\\right]\n",
    "\n",
    "\\end{equation*}"
   ]
  },
  {
   "cell_type": "markdown",
   "metadata": {},
   "source": [
    "### Luckily, there are multiple libraries where the so-called causal trees are implemented. We import CausalForestDML from Microsoft’s EconML library, one of the best libraries for causal inference"
   ]
  },
  {
   "cell_type": "code",
   "execution_count": 23,
   "metadata": {
    "vscode": {
     "languageId": "r"
    }
   },
   "outputs": [
    {
     "name": "stderr",
     "output_type": "stream",
     "text": [
      "also installing the dependencies 'DiceKriging', 'sandwich'\n",
      "\n",
      "\n"
     ]
    },
    {
     "name": "stdout",
     "output_type": "stream",
     "text": [
      "\n",
      "  There are binary versions available but the source versions are later:\n",
      "         binary source needs_compilation\n",
      "sandwich  3.1-0  3.1-1             FALSE\n",
      "grf       2.3.1  2.4.0              TRUE\n",
      "\n",
      "\n",
      "The downloaded binary packages are in\n",
      "\t/var/folders/k0/5jhn7d7s1l75cf1srqv1wy980000gn/T//Rtmpj01ZOf/downloaded_packages\n"
     ]
    },
    {
     "name": "stderr",
     "output_type": "stream",
     "text": [
      "installing the source packages 'sandwich', 'grf'\n",
      "\n",
      "\n"
     ]
    }
   ],
   "source": [
    "install.packages(\"grf\")"
   ]
  },
  {
   "cell_type": "code",
   "execution_count": 27,
   "metadata": {
    "vscode": {
     "languageId": "r"
    }
   },
   "outputs": [
    {
     "data": {
      "text/html": [
       "<table class=\"dataframe\">\n",
       "<caption>A data.frame: 6 x 17</caption>\n",
       "<thead>\n",
       "\t<tr><th></th><th scope=col>time</th><th scope=col>device_mobile</th><th scope=col>browser_chrome</th><th scope=col>browser_edge</th><th scope=col>browser_explorer</th><th scope=col>browser_firefox</th><th scope=col>browser_other</th><th scope=col>browser_safari</th><th scope=col>region_1</th><th scope=col>region_2</th><th scope=col>region_3</th><th scope=col>region_4</th><th scope=col>region_5</th><th scope=col>region_6</th><th scope=col>region_7</th><th scope=col>region_8</th><th scope=col>region_9</th></tr>\n",
       "\t<tr><th></th><th scope=col>&lt;dbl&gt;</th><th scope=col>&lt;int&gt;</th><th scope=col>&lt;int&gt;</th><th scope=col>&lt;int&gt;</th><th scope=col>&lt;int&gt;</th><th scope=col>&lt;int&gt;</th><th scope=col>&lt;int&gt;</th><th scope=col>&lt;int&gt;</th><th scope=col>&lt;int&gt;</th><th scope=col>&lt;int&gt;</th><th scope=col>&lt;int&gt;</th><th scope=col>&lt;int&gt;</th><th scope=col>&lt;int&gt;</th><th scope=col>&lt;int&gt;</th><th scope=col>&lt;int&gt;</th><th scope=col>&lt;int&gt;</th><th scope=col>&lt;int&gt;</th></tr>\n",
       "</thead>\n",
       "<tbody>\n",
       "\t<tr><th scope=row>1</th><td>10.7790063</td><td>1</td><td>0</td><td>1</td><td>0</td><td>0</td><td>0</td><td>0</td><td>0</td><td>0</td><td>0</td><td>0</td><td>0</td><td>0</td><td>0</td><td>0</td><td>1</td></tr>\n",
       "\t<tr><th scope=row>2</th><td> 0.5689725</td><td>0</td><td>0</td><td>0</td><td>0</td><td>1</td><td>0</td><td>0</td><td>0</td><td>0</td><td>0</td><td>0</td><td>0</td><td>0</td><td>0</td><td>0</td><td>1</td></tr>\n",
       "\t<tr><th scope=row>3</th><td> 3.7438714</td><td>1</td><td>0</td><td>0</td><td>0</td><td>0</td><td>0</td><td>1</td><td>0</td><td>0</td><td>0</td><td>0</td><td>0</td><td>0</td><td>1</td><td>0</td><td>0</td></tr>\n",
       "\t<tr><th scope=row>4</th><td>13.3734357</td><td>0</td><td>0</td><td>0</td><td>0</td><td>0</td><td>1</td><td>0</td><td>0</td><td>0</td><td>0</td><td>0</td><td>1</td><td>0</td><td>0</td><td>0</td><td>0</td></tr>\n",
       "\t<tr><th scope=row>5</th><td> 0.7085752</td><td>1</td><td>0</td><td>0</td><td>1</td><td>0</td><td>0</td><td>0</td><td>0</td><td>1</td><td>0</td><td>0</td><td>0</td><td>0</td><td>0</td><td>0</td><td>0</td></tr>\n",
       "\t<tr><th scope=row>6</th><td>10.8320878</td><td>0</td><td>0</td><td>0</td><td>0</td><td>0</td><td>0</td><td>0</td><td>0</td><td>0</td><td>0</td><td>0</td><td>0</td><td>0</td><td>0</td><td>0</td><td>0</td></tr>\n",
       "</tbody>\n",
       "</table>\n"
      ],
      "text/latex": [
       "A data.frame: 6 x 17\n",
       "\\begin{tabular}{r|lllllllllllllllll}\n",
       "  & time & device\\_mobile & browser\\_chrome & browser\\_edge & browser\\_explorer & browser\\_firefox & browser\\_other & browser\\_safari & region\\_1 & region\\_2 & region\\_3 & region\\_4 & region\\_5 & region\\_6 & region\\_7 & region\\_8 & region\\_9\\\\\n",
       "  & <dbl> & <int> & <int> & <int> & <int> & <int> & <int> & <int> & <int> & <int> & <int> & <int> & <int> & <int> & <int> & <int> & <int>\\\\\n",
       "\\hline\n",
       "\t1 & 10.7790063 & 1 & 0 & 1 & 0 & 0 & 0 & 0 & 0 & 0 & 0 & 0 & 0 & 0 & 0 & 0 & 1\\\\\n",
       "\t2 &  0.5689725 & 0 & 0 & 0 & 0 & 1 & 0 & 0 & 0 & 0 & 0 & 0 & 0 & 0 & 0 & 0 & 1\\\\\n",
       "\t3 &  3.7438714 & 1 & 0 & 0 & 0 & 0 & 0 & 1 & 0 & 0 & 0 & 0 & 0 & 0 & 1 & 0 & 0\\\\\n",
       "\t4 & 13.3734357 & 0 & 0 & 0 & 0 & 0 & 1 & 0 & 0 & 0 & 0 & 0 & 1 & 0 & 0 & 0 & 0\\\\\n",
       "\t5 &  0.7085752 & 1 & 0 & 0 & 1 & 0 & 0 & 0 & 0 & 1 & 0 & 0 & 0 & 0 & 0 & 0 & 0\\\\\n",
       "\t6 & 10.8320878 & 0 & 0 & 0 & 0 & 0 & 0 & 0 & 0 & 0 & 0 & 0 & 0 & 0 & 0 & 0 & 0\\\\\n",
       "\\end{tabular}\n"
      ],
      "text/markdown": [
       "\n",
       "A data.frame: 6 x 17\n",
       "\n",
       "| <!--/--> | time &lt;dbl&gt; | device_mobile &lt;int&gt; | browser_chrome &lt;int&gt; | browser_edge &lt;int&gt; | browser_explorer &lt;int&gt; | browser_firefox &lt;int&gt; | browser_other &lt;int&gt; | browser_safari &lt;int&gt; | region_1 &lt;int&gt; | region_2 &lt;int&gt; | region_3 &lt;int&gt; | region_4 &lt;int&gt; | region_5 &lt;int&gt; | region_6 &lt;int&gt; | region_7 &lt;int&gt; | region_8 &lt;int&gt; | region_9 &lt;int&gt; |\n",
       "|---|---|---|---|---|---|---|---|---|---|---|---|---|---|---|---|---|---|\n",
       "| 1 | 10.7790063 | 1 | 0 | 1 | 0 | 0 | 0 | 0 | 0 | 0 | 0 | 0 | 0 | 0 | 0 | 0 | 1 |\n",
       "| 2 |  0.5689725 | 0 | 0 | 0 | 0 | 1 | 0 | 0 | 0 | 0 | 0 | 0 | 0 | 0 | 0 | 0 | 1 |\n",
       "| 3 |  3.7438714 | 1 | 0 | 0 | 0 | 0 | 0 | 1 | 0 | 0 | 0 | 0 | 0 | 0 | 1 | 0 | 0 |\n",
       "| 4 | 13.3734357 | 0 | 0 | 0 | 0 | 0 | 1 | 0 | 0 | 0 | 0 | 0 | 1 | 0 | 0 | 0 | 0 |\n",
       "| 5 |  0.7085752 | 1 | 0 | 0 | 1 | 0 | 0 | 0 | 0 | 1 | 0 | 0 | 0 | 0 | 0 | 0 | 0 |\n",
       "| 6 | 10.8320878 | 0 | 0 | 0 | 0 | 0 | 0 | 0 | 0 | 0 | 0 | 0 | 0 | 0 | 0 | 0 | 0 |\n",
       "\n"
      ],
      "text/plain": [
       "  time       device_mobile browser_chrome browser_edge browser_explorer\n",
       "1 10.7790063 1             0              1            0               \n",
       "2  0.5689725 0             0              0            0               \n",
       "3  3.7438714 1             0              0            0               \n",
       "4 13.3734357 0             0              0            0               \n",
       "5  0.7085752 1             0              0            1               \n",
       "6 10.8320878 0             0              0            0               \n",
       "  browser_firefox browser_other browser_safari region_1 region_2 region_3\n",
       "1 0               0             0              0        0        0       \n",
       "2 1               0             0              0        0        0       \n",
       "3 0               0             1              0        0        0       \n",
       "4 0               1             0              0        0        0       \n",
       "5 0               0             0              0        1        0       \n",
       "6 0               0             0              0        0        0       \n",
       "  region_4 region_5 region_6 region_7 region_8 region_9\n",
       "1 0        0        0        0        0        1       \n",
       "2 0        0        0        0        0        1       \n",
       "3 0        0        0        1        0        0       \n",
       "4 0        1        0        0        0        0       \n",
       "5 0        0        0        0        0        0       \n",
       "6 0        0        0        0        0        0       "
      ]
     },
     "metadata": {},
     "output_type": "display_data"
    },
    {
     "data": {
      "text/html": [
       "<style>\n",
       ".list-inline {list-style: none; margin:0; padding: 0}\n",
       ".list-inline>li {display: inline-block}\n",
       ".list-inline>li:not(:last-child)::after {content: \"\\00b7\"; padding: 0 .5ex}\n",
       "</style>\n",
       "<ol class=list-inline><li>0.455164218515863</li><li>11.0368706308282</li><li>1.81119303803717</li><li>31.9049439436321</li><li>15.4198623725978</li><li>24.1239264292231</li></ol>\n"
      ],
      "text/latex": [
       "\\begin{enumerate*}\n",
       "\\item 0.455164218515863\n",
       "\\item 11.0368706308282\n",
       "\\item 1.81119303803717\n",
       "\\item 31.9049439436321\n",
       "\\item 15.4198623725978\n",
       "\\item 24.1239264292231\n",
       "\\end{enumerate*}\n"
      ],
      "text/markdown": [
       "1. 0.455164218515863\n",
       "2. 11.0368706308282\n",
       "3. 1.81119303803717\n",
       "4. 31.9049439436321\n",
       "5. 15.4198623725978\n",
       "6. 24.1239264292231\n",
       "\n",
       "\n"
      ],
      "text/plain": [
       "[1]  0.4551642 11.0368706  1.8111930 31.9049439 15.4198624 24.1239264"
      ]
     },
     "metadata": {},
     "output_type": "display_data"
    },
    {
     "data": {
      "text/html": [
       "<style>\n",
       ".list-inline {list-style: none; margin:0; padding: 0}\n",
       ".list-inline>li {display: inline-block}\n",
       ".list-inline>li:not(:last-child)::after {content: \"\\00b7\"; padding: 0 .5ex}\n",
       "</style>\n",
       "<ol class=list-inline><li>0</li><li>0</li><li>0</li><li>0</li><li>1</li><li>0</li></ol>\n"
      ],
      "text/latex": [
       "\\begin{enumerate*}\n",
       "\\item 0\n",
       "\\item 0\n",
       "\\item 0\n",
       "\\item 0\n",
       "\\item 1\n",
       "\\item 0\n",
       "\\end{enumerate*}\n"
      ],
      "text/markdown": [
       "1. 0\n",
       "2. 0\n",
       "3. 0\n",
       "4. 0\n",
       "5. 1\n",
       "6. 0\n",
       "\n",
       "\n"
      ],
      "text/plain": [
       "[1] 0 0 0 0 1 0"
      ]
     },
     "metadata": {},
     "output_type": "display_data"
    }
   ],
   "source": [
    "library(fastDummies)\n",
    "X <- df[,c(\"time\", \"device\", \"browser\", \"region\")]\n",
    "X <- dummy_cols(X, remove_first_dummy = TRUE, remove_selected_columns = TRUE) # covariables\n",
    "Y <- df[, \"spend\"] # objetivo\n",
    "W <- df[, \"discount\"] # tratamiento\n",
    "head(X)\n",
    "head(Y)\n",
    "head(W)"
   ]
  },
  {
   "cell_type": "code",
   "execution_count": 25,
   "metadata": {
    "vscode": {
     "languageId": "r"
    }
   },
   "outputs": [],
   "source": [
    "library(grf)\n",
    "tree <- causal_forest(X, Y, W, num.trees = 1,\n",
    "                      mtry = ncol(X), min.node.size = 1800)\n",
    "# aqui se controla la profundidad del arbol de manera indirecta controlando el tamaño minimo de la muestra de los nodos en vez de controlar cuantas hojas tendra el \n",
    "# arbol como se hace en python"
   ]
  },
  {
   "cell_type": "code",
   "execution_count": 87,
   "metadata": {
    "vscode": {
     "languageId": "r"
    }
   },
   "outputs": [
    {
     "data": {
      "text/plain": [
       "GRF tree object \n",
       "Number of training samples: 50000 \n",
       "Variable splits: \n",
       "(1) split_variable: time  split_value: 12.6249 \n",
       "  (2) split_variable: time  split_value: 6.85996 \n",
       "    (4) * num_samples: 7219  avg_Y: 5.15 avg_W: 0.5 \n",
       "    (5) * num_samples: 5917  avg_Y: 5.49 avg_W: 0.5 \n",
       "  (3) split_variable: device_mobile  split_value: 0 \n",
       "    (6) * num_samples: 5905  avg_Y: 6.3 avg_W: 0.5 \n",
       "    (7) * num_samples: 5959  avg_Y: 7.27 avg_W: 0.5 "
      ]
     },
     "metadata": {},
     "output_type": "display_data"
    }
   ],
   "source": [
    "get_tree(tree, 1)"
   ]
  }
 ],
 "metadata": {
  "kernelspec": {
   "display_name": "R",
   "language": "R",
   "name": "ir"
  },
  "language_info": {
   "codemirror_mode": "r",
   "file_extension": ".r",
   "mimetype": "text/x-r-source",
   "name": "R",
   "pygments_lexer": "r",
   "version": "4.2.3"
  }
 },
 "nbformat": 4,
 "nbformat_minor": 2
}

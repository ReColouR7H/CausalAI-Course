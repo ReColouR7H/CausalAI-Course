{
 "cells": [
  {
   "cell_type": "code",
   "execution_count": 1,
   "metadata": {},
   "outputs": [],
   "source": [
    "import pandas as pd\n",
    "import os\n",
    "from matplotlib import pyplot as plt"
   ]
  },
  {
   "cell_type": "markdown",
   "metadata": {},
   "source": [
    "# Heterogenous treatment effects"
   ]
  },
  {
   "cell_type": "markdown",
   "metadata": {},
   "source": [
    "### We will continue with the online discount example by Matteo Courthoud. That is, let's suppose we work in the analytics department of an online shop interested in understanding wether offering discounts to new customers increases their expenditure. In particular, we would like to know if offering discounts is more effective for some customers with respect to others, since we would prefer not to give discounts to customers that would spend anyways. Moreover, it could also be that spamming customers with pop-ups could deter them from buying, having the opposite effect."
   ]
  },
  {
   "cell_type": "markdown",
   "metadata": {},
   "source": [
    "### To understand whether and how much the discounts are effective we run an A/B test: whenever a new user visits our online shop, we randomly decide whether to offer them the discount or not. After 100 000 visits, we have collected the following dataset with relevant information beside the discount status (our treatment)."
   ]
  },
  {
   "cell_type": "code",
   "execution_count": 2,
   "metadata": {},
   "outputs": [
    {
     "data": {
      "text/html": [
       "<div>\n",
       "<style scoped>\n",
       "    .dataframe tbody tr th:only-of-type {\n",
       "        vertical-align: middle;\n",
       "    }\n",
       "\n",
       "    .dataframe tbody tr th {\n",
       "        vertical-align: top;\n",
       "    }\n",
       "\n",
       "    .dataframe thead th {\n",
       "        text-align: right;\n",
       "    }\n",
       "</style>\n",
       "<table border=\"1\" class=\"dataframe\">\n",
       "  <thead>\n",
       "    <tr style=\"text-align: right;\">\n",
       "      <th></th>\n",
       "      <th>Unnamed: 0</th>\n",
       "      <th>time</th>\n",
       "      <th>device</th>\n",
       "      <th>browser</th>\n",
       "      <th>region</th>\n",
       "      <th>discount</th>\n",
       "      <th>spend</th>\n",
       "    </tr>\n",
       "  </thead>\n",
       "  <tbody>\n",
       "    <tr>\n",
       "      <th>0</th>\n",
       "      <td>0</td>\n",
       "      <td>10.779006</td>\n",
       "      <td>mobile</td>\n",
       "      <td>edge</td>\n",
       "      <td>9</td>\n",
       "      <td>0</td>\n",
       "      <td>0.455164</td>\n",
       "    </tr>\n",
       "    <tr>\n",
       "      <th>1</th>\n",
       "      <td>1</td>\n",
       "      <td>0.568973</td>\n",
       "      <td>desktop</td>\n",
       "      <td>firefox</td>\n",
       "      <td>9</td>\n",
       "      <td>0</td>\n",
       "      <td>11.036871</td>\n",
       "    </tr>\n",
       "    <tr>\n",
       "      <th>2</th>\n",
       "      <td>2</td>\n",
       "      <td>3.743871</td>\n",
       "      <td>mobile</td>\n",
       "      <td>safari</td>\n",
       "      <td>7</td>\n",
       "      <td>0</td>\n",
       "      <td>1.811193</td>\n",
       "    </tr>\n",
       "    <tr>\n",
       "      <th>3</th>\n",
       "      <td>3</td>\n",
       "      <td>13.373436</td>\n",
       "      <td>desktop</td>\n",
       "      <td>other</td>\n",
       "      <td>5</td>\n",
       "      <td>0</td>\n",
       "      <td>31.904944</td>\n",
       "    </tr>\n",
       "    <tr>\n",
       "      <th>4</th>\n",
       "      <td>4</td>\n",
       "      <td>0.708575</td>\n",
       "      <td>mobile</td>\n",
       "      <td>explorer</td>\n",
       "      <td>2</td>\n",
       "      <td>1</td>\n",
       "      <td>15.419862</td>\n",
       "    </tr>\n",
       "  </tbody>\n",
       "</table>\n",
       "</div>"
      ],
      "text/plain": [
       "   Unnamed: 0       time   device   browser  region  discount      spend\n",
       "0           0  10.779006   mobile      edge       9         0   0.455164\n",
       "1           1   0.568973  desktop   firefox       9         0  11.036871\n",
       "2           2   3.743871   mobile    safari       7         0   1.811193\n",
       "3           3  13.373436  desktop     other       5         0  31.904944\n",
       "4           4   0.708575   mobile  explorer       2         1  15.419862"
      ]
     },
     "execution_count": 2,
     "metadata": {},
     "output_type": "execute_result"
    }
   ],
   "source": [
    "df = pd.read_csv('online_discounts.csv') \n",
    "df.head()\n",
    "# tratamiento es discount y el output es spend"
   ]
  },
  {
   "cell_type": "markdown",
   "metadata": {},
   "source": [
    "### Since the treatment was randomly assigned, we can use a simple difference-in-means estimator to estimate the treatment effect. We expect the treatment and control group to be similar, except for the discount, therefore we can causally attribute any difference in spend to the discount"
   ]
  },
  {
   "cell_type": "markdown",
   "metadata": {},
   "source": [
    "### Estimador de diferencia en medias --> coeficiente de regresion correspondiente a una regresion con un intercepto y la variable de tratamiento (coeficiente de la var de tratamiento)"
   ]
  },
  {
   "cell_type": "code",
   "execution_count": 3,
   "metadata": {},
   "outputs": [
    {
     "data": {
      "text/html": [
       "<table class=\"simpletable\">\n",
       "<tr>\n",
       "      <td></td>         <th>coef</th>     <th>std err</th>      <th>t</th>      <th>P>|t|</th>  <th>[0.025</th>    <th>0.975]</th>  \n",
       "</tr>\n",
       "<tr>\n",
       "  <th>Intercept</th> <td>    5.1221</td> <td>    0.045</td> <td>  112.734</td> <td> 0.000</td> <td>    5.033</td> <td>    5.211</td>\n",
       "</tr>\n",
       "<tr>\n",
       "  <th>discount</th>  <td>    1.7507</td> <td>    0.064</td> <td>   27.261</td> <td> 0.000</td> <td>    1.625</td> <td>    1.877</td>\n",
       "</tr>\n",
       "</table>"
      ],
      "text/latex": [
       "\\begin{center}\n",
       "\\begin{tabular}{lcccccc}\n",
       "\\toprule\n",
       "                   & \\textbf{coef} & \\textbf{std err} & \\textbf{t} & \\textbf{P$> |$t$|$} & \\textbf{[0.025} & \\textbf{0.975]}  \\\\\n",
       "\\midrule\n",
       "\\textbf{Intercept} &       5.1221  &        0.045     &   112.734  &         0.000        &        5.033    &        5.211     \\\\\n",
       "\\textbf{discount}  &       1.7507  &        0.064     &    27.261  &         0.000        &        1.625    &        1.877     \\\\\n",
       "\\bottomrule\n",
       "\\end{tabular}\n",
       "\\end{center}"
      ],
      "text/plain": [
       "<class 'statsmodels.iolib.table.SimpleTable'>"
      ]
     },
     "execution_count": 3,
     "metadata": {},
     "output_type": "execute_result"
    }
   ],
   "source": [
    "import statsmodels.formula.api as smf\n",
    "smf.ols('spend ~ discount', df).fit().summary().tables[1]\n",
    "# esta forma permite hacer regresion OLS con los regresores a la derecha, lo que no suele ser disponible en python"
   ]
  },
  {
   "cell_type": "markdown",
   "metadata": {},
   "source": [
    "### The discount seems to be effective: on average the spend in the treatment group increases by 1.75$. But are all customers equally affected? \n",
    "\n",
    "### To answer this question, we would like to estimate heterogeneous treatment effects, possibly at the individual level.\n",
    "\n"
   ]
  },
  {
   "cell_type": "markdown",
   "metadata": {},
   "source": [
    "# Conditional Average Treatment Effects (CATE)"
   ]
  },
  {
   "cell_type": "markdown",
   "metadata": {},
   "source": [
    "### There are many possible ways to estimate heterogenous treatment effects. The most common is to split the population in groups based on some observable characteristic, which in our case could be the device, the browser or the geographical region. Once you have decided which variable to split your data on, you can simply interact the treatment variable (discount) with the dimension of treatment heterogeneity. Let’s take device for example."
   ]
  },
  {
   "cell_type": "code",
   "execution_count": 4,
   "metadata": {},
   "outputs": [
    {
     "data": {
      "text/html": [
       "<table class=\"simpletable\">\n",
       "<tr>\n",
       "              <td></td>                 <th>coef</th>     <th>std err</th>      <th>t</th>      <th>P>|t|</th>  <th>[0.025</th>    <th>0.975]</th>  \n",
       "</tr>\n",
       "<tr>\n",
       "  <th>Intercept</th>                 <td>    5.0757</td> <td>    0.064</td> <td>   79.203</td> <td> 0.000</td> <td>    4.950</td> <td>    5.201</td>\n",
       "</tr>\n",
       "<tr>\n",
       "  <th>device[T.mobile]</th>          <td>    0.0929</td> <td>    0.091</td> <td>    1.024</td> <td> 0.306</td> <td>   -0.085</td> <td>    0.271</td>\n",
       "</tr>\n",
       "<tr>\n",
       "  <th>discount</th>                  <td>    1.0896</td> <td>    0.091</td> <td>   12.019</td> <td> 0.000</td> <td>    0.912</td> <td>    1.267</td>\n",
       "</tr>\n",
       "<tr>\n",
       "  <th>discount:device[T.mobile]</th> <td>    1.3211</td> <td>    0.128</td> <td>   10.298</td> <td> 0.000</td> <td>    1.070</td> <td>    1.573</td>\n",
       "</tr>\n",
       "</table>"
      ],
      "text/latex": [
       "\\begin{center}\n",
       "\\begin{tabular}{lcccccc}\n",
       "\\toprule\n",
       "                                   & \\textbf{coef} & \\textbf{std err} & \\textbf{t} & \\textbf{P$> |$t$|$} & \\textbf{[0.025} & \\textbf{0.975]}  \\\\\n",
       "\\midrule\n",
       "\\textbf{Intercept}                 &       5.0757  &        0.064     &    79.203  &         0.000        &        4.950    &        5.201     \\\\\n",
       "\\textbf{device[T.mobile]}          &       0.0929  &        0.091     &     1.024  &         0.306        &       -0.085    &        0.271     \\\\\n",
       "\\textbf{discount}                  &       1.0896  &        0.091     &    12.019  &         0.000        &        0.912    &        1.267     \\\\\n",
       "\\textbf{discount:device[T.mobile]} &       1.3211  &        0.128     &    10.298  &         0.000        &        1.070    &        1.573     \\\\\n",
       "\\bottomrule\n",
       "\\end{tabular}\n",
       "\\end{center}"
      ],
      "text/plain": [
       "<class 'statsmodels.iolib.table.SimpleTable'>"
      ]
     },
     "execution_count": 4,
     "metadata": {},
     "output_type": "execute_result"
    }
   ],
   "source": [
    "smf.ols('spend ~ discount * device', df).fit().summary().tables[1]"
   ]
  },
  {
   "cell_type": "markdown",
   "metadata": {},
   "source": [
    "### The interpretation of these results follows the same fashion as the previous ones: the effect of the discount on customers' spend is 1.08$, but it increases by a further 1.32$ if the customer is accessing the website from a mobile device."
   ]
  },
  {
   "cell_type": "markdown",
   "metadata": {},
   "source": [
    "### Splitting is easy for categorical variables, but for a continuous variable like time it is not intuitive where to split. Every hour? And which dimension is more informative? It would be temping to try all possible splits, but the more we split the data, the more it is likely that we find spurious results (i.e. we overfit, in machine learning lingo). It would be great if we could let the data speak and select the minimum and most informative splits.\n",
    "\n",
    "### Moreover, the splitting problem must minimize the following objective function:\n",
    "\n",
    "\\begin{equation*}\n",
    "\\sum_{i}\\left[\\left(\\tau_i-\\hat{\\tau} \\left(X_i\\right)\\right)^2\\right]\n",
    "\\end{equation*}\n"
   ]
  },
  {
   "cell_type": "markdown",
   "metadata": {},
   "source": [
    "### La anterior ecuación es unfeasible, imposible de implementar ya que el efecto causal no es observable. Ahí Athey e Imbens (2016) sugieren la transformación del outcome tal que se pueda diferenciar del efecto de tratamiento y control. Este es un estimador insesgado y consistente del verdadero efecto causal. $\\hat{Y}$ es la predicción del efecto causal"
   ]
  },
  {
   "cell_type": "markdown",
   "metadata": {},
   "source": [
    "### Important issue: the objective function is unfeasible. A way out to this problem is to use Athey and Imbens (2016) outcome transformation\n",
    "\n",
    "\\begin{equation*}\n",
    "Y_i^* =\n",
    "\\begin{cases}\n",
    " Y_i/p & W_i = 1 \\\\\n",
    "-Y_i/(1-p) & W_i = 0\n",
    "\\end{cases}\n",
    "\n",
    "\\end{equation*}\n"
   ]
  },
  {
   "cell_type": "markdown",
   "metadata": {},
   "source": [
    "### So, performing any predictive method to estimate $\\hat{Y}_i^*$ will end up being th predicte CATE because \n",
    "\n",
    "\\begin{equation*}\n",
    "\n",
    "\\mathbb{E}\\left[Y_i^*|X_i=x\\right] = \\tau(x)\n",
    "\n",
    "\\end{equation*}"
   ]
  },
  {
   "cell_type": "markdown",
   "metadata": {},
   "source": [
    "### That is, with this transformed variable we have transformed our treatment effect prediction problem to a plain outcome prediction problem. "
   ]
  },
  {
   "cell_type": "markdown",
   "metadata": {},
   "source": [
    "### A natural question arises from the definition transformed variable: what is $p$? $p$ is non other than the propensity score. That is, the probability of the individual of being treated. In an experimental study (like this one), we know this value beforehand. In observational studies, we would calculate it using a probit or logit regression. Eventhough we have programmed the discount to be given completely random (so we know $p=0.5$), it is advisable to estimate the propensity score to account for sample uncertainty."
   ]
  },
  {
   "cell_type": "code",
   "execution_count": 5,
   "metadata": {},
   "outputs": [
    {
     "data": {
      "text/plain": [
       "region\n",
       "3    10116\n",
       "8    10105\n",
       "0    10089\n",
       "6    10021\n",
       "1    10009\n",
       "9     9987\n",
       "4     9970\n",
       "5     9967\n",
       "7     9938\n",
       "2     9798\n",
       "Name: count, dtype: int64"
      ]
     },
     "execution_count": 5,
     "metadata": {},
     "output_type": "execute_result"
    }
   ],
   "source": [
    "df['region'].value_counts()"
   ]
  },
  {
   "cell_type": "code",
   "execution_count": 6,
   "metadata": {},
   "outputs": [],
   "source": [
    "# Dropeamos variables categoricas para generar dummies y evitar multicolinealidad\n",
    "df['region']= df['region'].astype(str)\n",
    "\n",
    "df_dummies = pd.get_dummies(df[['device','browser','region']], drop_first=True)\n",
    "df = pd.concat([df, df_dummies], axis=1)\n",
    "X = ['time'] + list(df_dummies.columns)"
   ]
  },
  {
   "cell_type": "code",
   "execution_count": 7,
   "metadata": {},
   "outputs": [
    {
     "data": {
      "text/plain": [
       "['time',\n",
       " 'device_mobile',\n",
       " 'browser_chrome',\n",
       " 'browser_edge',\n",
       " 'browser_explorer',\n",
       " 'browser_firefox',\n",
       " 'browser_other',\n",
       " 'browser_safari',\n",
       " 'region_1',\n",
       " 'region_2',\n",
       " 'region_3',\n",
       " 'region_4',\n",
       " 'region_5',\n",
       " 'region_6',\n",
       " 'region_7',\n",
       " 'region_8',\n",
       " 'region_9']"
      ]
     },
     "execution_count": 7,
     "metadata": {},
     "output_type": "execute_result"
    }
   ],
   "source": [
    "X"
   ]
  },
  {
   "cell_type": "code",
   "execution_count": 8,
   "metadata": {},
   "outputs": [
    {
     "data": {
      "image/png": "[encoded data removed]",
      "text/plain": [
       "<Figure size 640x480 with 1 Axes>"
      ]
     },
     "metadata": {},
     "output_type": "display_data"
    }
   ],
   "source": [
    "# linear_model alude a que el predictor es lineal, no que es una regresion lineal\n",
    "from sklearn.linear_model import LogisticRegression\n",
    "import seaborn as sns\n",
    "\n",
    "# calculamos el propensity score\n",
    "df['pscore'] = LogisticRegression().fit(df[X], df['discount']).predict_proba(df[X])[:,1]\n",
    "\n",
    "# df(X) -> subconjunto del data frame\n",
    "# df['discount'] -> variable de respuesta va a seer el descuento de tratamiento\n",
    "# calcula los propensity scores para cada observación en el conjunto de datos. Los propensity scores son probabilidades estimadas de que una observación reciba un \n",
    "# tratamiento dados los valores de las variables predictoras.\n",
    "\n",
    "sns.histplot(data=df, x='pscore', hue='discount').set(\n",
    "    title='Predicted propensity scores', xlim=[0,1], xlabel='Propensity Score')\n",
    "plt.show()"
   ]
  },
  {
   "cell_type": "markdown",
   "metadata": {},
   "source": [
    "### El pscore sale 0.5 porque este es un estudio experimental (como el A/B testing) donde el tratamiento es experimentado de manera aleatoria"
   ]
  },
  {
   "cell_type": "markdown",
   "metadata": {},
   "source": [
    "### As expected, the histogram of the propensity score reveals that the treatment is completely random. Now, with the estimated propensity score of each individual we can calculate $Y_i^*$"
   ]
  },
  {
   "cell_type": "code",
   "execution_count": 9,
   "metadata": {},
   "outputs": [],
   "source": [
    "# Aiuste del gasto dependiendo de la probabilidad de que ocurra un descueto\n",
    "df['y_star'] = df['spend'] / (df['discount'] * df['pscore'] - (1-df['discount']) * (1-df['pscore']))"
   ]
  },
  {
   "cell_type": "markdown",
   "metadata": {},
   "source": [
    "### As we said before, the idea is to use $Y_i^*$ as the target of a prediction problem, since the expected value is exactly the individual treatment effect. Let’s check its average in the data."
   ]
  },
  {
   "cell_type": "code",
   "execution_count": 10,
   "metadata": {},
   "outputs": [
    {
     "data": {
      "text/plain": [
       "1.757432826474874"
      ]
     },
     "execution_count": 10,
     "metadata": {},
     "output_type": "execute_result"
    }
   ],
   "source": [
    "df['y_star'].mean()"
   ]
  },
  {
   "cell_type": "markdown",
   "metadata": {},
   "source": [
    "### Es decir, al crear el $Y$* se toma en cuenta la probabilidad de que se de un descuento, y en cierta medida, es el efecto causal del descuento en el gasto considerando la probabilidad de que haya descuento como la probabilidad de que no lo haya, pero dado de que ambas probabilidades son en promedio iguales, se parece mucho al efecto causal del descuento en el gasto estimado mediante OLS."
   ]
  },
  {
   "cell_type": "markdown",
   "metadata": {},
   "source": [
    "### Although $Y_i^*$ is an unbiased estimator for the individual treatment effect, it has a very high variance"
   ]
  },
  {
   "cell_type": "code",
   "execution_count": 11,
   "metadata": {},
   "outputs": [
    {
     "data": {
      "image/png": "[encoded data removed]",
      "text/plain": [
       "<Figure size 640x480 with 1 Axes>"
      ]
     },
     "metadata": {},
     "output_type": "display_data"
    }
   ],
   "source": [
    "import matplotlib.pyplot as plt\n",
    "\n",
    "fig, ax = plt.subplots()\n",
    "sns.histplot(df['y_star'], ax=ax).set(title='Distribution of Auxiliary Variable')\n",
    "plt.show()"
   ]
  },
  {
   "cell_type": "markdown",
   "metadata": {},
   "source": [
    "### Now, with all the arguments given above, we can build a regression tree with the transformed outcome to calculate the predicted CATE"
   ]
  },
  {
   "cell_type": "code",
   "execution_count": 12,
   "metadata": {},
   "outputs": [
    {
     "data": {
      "text/html": [
       "<div>\n",
       "<style scoped>\n",
       "    .dataframe tbody tr th:only-of-type {\n",
       "        vertical-align: middle;\n",
       "    }\n",
       "\n",
       "    .dataframe tbody tr th {\n",
       "        vertical-align: top;\n",
       "    }\n",
       "\n",
       "    .dataframe thead th {\n",
       "        text-align: right;\n",
       "    }\n",
       "</style>\n",
       "<table border=\"1\" class=\"dataframe\">\n",
       "  <thead>\n",
       "    <tr style=\"text-align: right;\">\n",
       "      <th></th>\n",
       "      <th>time</th>\n",
       "      <th>device_mobile</th>\n",
       "      <th>browser_chrome</th>\n",
       "      <th>browser_edge</th>\n",
       "      <th>browser_explorer</th>\n",
       "      <th>browser_firefox</th>\n",
       "      <th>browser_other</th>\n",
       "      <th>browser_safari</th>\n",
       "      <th>region_1</th>\n",
       "      <th>region_2</th>\n",
       "      <th>region_3</th>\n",
       "      <th>region_4</th>\n",
       "      <th>region_5</th>\n",
       "      <th>region_6</th>\n",
       "      <th>region_7</th>\n",
       "      <th>region_8</th>\n",
       "      <th>region_9</th>\n",
       "    </tr>\n",
       "  </thead>\n",
       "  <tbody>\n",
       "    <tr>\n",
       "      <th>0</th>\n",
       "      <td>10.779006</td>\n",
       "      <td>True</td>\n",
       "      <td>False</td>\n",
       "      <td>True</td>\n",
       "      <td>False</td>\n",
       "      <td>False</td>\n",
       "      <td>False</td>\n",
       "      <td>False</td>\n",
       "      <td>False</td>\n",
       "      <td>False</td>\n",
       "      <td>False</td>\n",
       "      <td>False</td>\n",
       "      <td>False</td>\n",
       "      <td>False</td>\n",
       "      <td>False</td>\n",
       "      <td>False</td>\n",
       "      <td>True</td>\n",
       "    </tr>\n",
       "    <tr>\n",
       "      <th>1</th>\n",
       "      <td>0.568973</td>\n",
       "      <td>False</td>\n",
       "      <td>False</td>\n",
       "      <td>False</td>\n",
       "      <td>False</td>\n",
       "      <td>True</td>\n",
       "      <td>False</td>\n",
       "      <td>False</td>\n",
       "      <td>False</td>\n",
       "      <td>False</td>\n",
       "      <td>False</td>\n",
       "      <td>False</td>\n",
       "      <td>False</td>\n",
       "      <td>False</td>\n",
       "      <td>False</td>\n",
       "      <td>False</td>\n",
       "      <td>True</td>\n",
       "    </tr>\n",
       "    <tr>\n",
       "      <th>2</th>\n",
       "      <td>3.743871</td>\n",
       "      <td>True</td>\n",
       "      <td>False</td>\n",
       "      <td>False</td>\n",
       "      <td>False</td>\n",
       "      <td>False</td>\n",
       "      <td>False</td>\n",
       "      <td>True</td>\n",
       "      <td>False</td>\n",
       "      <td>False</td>\n",
       "      <td>False</td>\n",
       "      <td>False</td>\n",
       "      <td>False</td>\n",
       "      <td>False</td>\n",
       "      <td>True</td>\n",
       "      <td>False</td>\n",
       "      <td>False</td>\n",
       "    </tr>\n",
       "    <tr>\n",
       "      <th>3</th>\n",
       "      <td>13.373436</td>\n",
       "      <td>False</td>\n",
       "      <td>False</td>\n",
       "      <td>False</td>\n",
       "      <td>False</td>\n",
       "      <td>False</td>\n",
       "      <td>True</td>\n",
       "      <td>False</td>\n",
       "      <td>False</td>\n",
       "      <td>False</td>\n",
       "      <td>False</td>\n",
       "      <td>False</td>\n",
       "      <td>True</td>\n",
       "      <td>False</td>\n",
       "      <td>False</td>\n",
       "      <td>False</td>\n",
       "      <td>False</td>\n",
       "    </tr>\n",
       "    <tr>\n",
       "      <th>4</th>\n",
       "      <td>0.708575</td>\n",
       "      <td>True</td>\n",
       "      <td>False</td>\n",
       "      <td>False</td>\n",
       "      <td>True</td>\n",
       "      <td>False</td>\n",
       "      <td>False</td>\n",
       "      <td>False</td>\n",
       "      <td>False</td>\n",
       "      <td>True</td>\n",
       "      <td>False</td>\n",
       "      <td>False</td>\n",
       "      <td>False</td>\n",
       "      <td>False</td>\n",
       "      <td>False</td>\n",
       "      <td>False</td>\n",
       "      <td>False</td>\n",
       "    </tr>\n",
       "    <tr>\n",
       "      <th>...</th>\n",
       "      <td>...</td>\n",
       "      <td>...</td>\n",
       "      <td>...</td>\n",
       "      <td>...</td>\n",
       "      <td>...</td>\n",
       "      <td>...</td>\n",
       "      <td>...</td>\n",
       "      <td>...</td>\n",
       "      <td>...</td>\n",
       "      <td>...</td>\n",
       "      <td>...</td>\n",
       "      <td>...</td>\n",
       "      <td>...</td>\n",
       "      <td>...</td>\n",
       "      <td>...</td>\n",
       "      <td>...</td>\n",
       "      <td>...</td>\n",
       "    </tr>\n",
       "    <tr>\n",
       "      <th>99995</th>\n",
       "      <td>14.224321</td>\n",
       "      <td>False</td>\n",
       "      <td>False</td>\n",
       "      <td>False</td>\n",
       "      <td>False</td>\n",
       "      <td>True</td>\n",
       "      <td>False</td>\n",
       "      <td>False</td>\n",
       "      <td>False</td>\n",
       "      <td>False</td>\n",
       "      <td>False</td>\n",
       "      <td>False</td>\n",
       "      <td>False</td>\n",
       "      <td>False</td>\n",
       "      <td>False</td>\n",
       "      <td>False</td>\n",
       "      <td>True</td>\n",
       "    </tr>\n",
       "    <tr>\n",
       "      <th>99996</th>\n",
       "      <td>15.804262</td>\n",
       "      <td>False</td>\n",
       "      <td>False</td>\n",
       "      <td>False</td>\n",
       "      <td>False</td>\n",
       "      <td>False</td>\n",
       "      <td>True</td>\n",
       "      <td>False</td>\n",
       "      <td>False</td>\n",
       "      <td>False</td>\n",
       "      <td>False</td>\n",
       "      <td>False</td>\n",
       "      <td>True</td>\n",
       "      <td>False</td>\n",
       "      <td>False</td>\n",
       "      <td>False</td>\n",
       "      <td>False</td>\n",
       "    </tr>\n",
       "    <tr>\n",
       "      <th>99997</th>\n",
       "      <td>2.364713</td>\n",
       "      <td>False</td>\n",
       "      <td>False</td>\n",
       "      <td>False</td>\n",
       "      <td>False</td>\n",
       "      <td>False</td>\n",
       "      <td>False</td>\n",
       "      <td>True</td>\n",
       "      <td>False</td>\n",
       "      <td>False</td>\n",
       "      <td>False</td>\n",
       "      <td>False</td>\n",
       "      <td>False</td>\n",
       "      <td>False</td>\n",
       "      <td>False</td>\n",
       "      <td>False</td>\n",
       "      <td>True</td>\n",
       "    </tr>\n",
       "    <tr>\n",
       "      <th>99998</th>\n",
       "      <td>3.723502</td>\n",
       "      <td>False</td>\n",
       "      <td>False</td>\n",
       "      <td>True</td>\n",
       "      <td>False</td>\n",
       "      <td>False</td>\n",
       "      <td>False</td>\n",
       "      <td>False</td>\n",
       "      <td>False</td>\n",
       "      <td>False</td>\n",
       "      <td>False</td>\n",
       "      <td>True</td>\n",
       "      <td>False</td>\n",
       "      <td>False</td>\n",
       "      <td>False</td>\n",
       "      <td>False</td>\n",
       "      <td>False</td>\n",
       "    </tr>\n",
       "    <tr>\n",
       "      <th>99999</th>\n",
       "      <td>10.108936</td>\n",
       "      <td>True</td>\n",
       "      <td>True</td>\n",
       "      <td>False</td>\n",
       "      <td>False</td>\n",
       "      <td>False</td>\n",
       "      <td>False</td>\n",
       "      <td>False</td>\n",
       "      <td>False</td>\n",
       "      <td>True</td>\n",
       "      <td>False</td>\n",
       "      <td>False</td>\n",
       "      <td>False</td>\n",
       "      <td>False</td>\n",
       "      <td>False</td>\n",
       "      <td>False</td>\n",
       "      <td>False</td>\n",
       "    </tr>\n",
       "  </tbody>\n",
       "</table>\n",
       "<p>100000 rows × 17 columns</p>\n",
       "</div>"
      ],
      "text/plain": [
       "            time  device_mobile  browser_chrome  browser_edge  \\\n",
       "0      10.779006           True           False          True   \n",
       "1       0.568973          False           False         False   \n",
       "2       3.743871           True           False         False   \n",
       "3      13.373436          False           False         False   \n",
       "4       0.708575           True           False         False   \n",
       "...          ...            ...             ...           ...   \n",
       "99995  14.224321          False           False         False   \n",
       "99996  15.804262          False           False         False   \n",
       "99997   2.364713          False           False         False   \n",
       "99998   3.723502          False           False          True   \n",
       "99999  10.108936           True            True         False   \n",
       "\n",
       "       browser_explorer  browser_firefox  browser_other  browser_safari  \\\n",
       "0                 False            False          False           False   \n",
       "1                 False             True          False           False   \n",
       "2                 False            False          False            True   \n",
       "3                 False            False           True           False   \n",
       "4                  True            False          False           False   \n",
       "...                 ...              ...            ...             ...   \n",
       "99995             False             True          False           False   \n",
       "99996             False            False           True           False   \n",
       "99997             False            False          False            True   \n",
       "99998             False            False          False           False   \n",
       "99999             False            False          False           False   \n",
       "\n",
       "       region_1  region_2  region_3  region_4  region_5  region_6  region_7  \\\n",
       "0         False     False     False     False     False     False     False   \n",
       "1         False     False     False     False     False     False     False   \n",
       "2         False     False     False     False     False     False      True   \n",
       "3         False     False     False     False      True     False     False   \n",
       "4         False      True     False     False     False     False     False   \n",
       "...         ...       ...       ...       ...       ...       ...       ...   \n",
       "99995     False     False     False     False     False     False     False   \n",
       "99996     False     False     False     False      True     False     False   \n",
       "99997     False     False     False     False     False     False     False   \n",
       "99998     False     False     False      True     False     False     False   \n",
       "99999     False      True     False     False     False     False     False   \n",
       "\n",
       "       region_8  region_9  \n",
       "0         False      True  \n",
       "1         False      True  \n",
       "2         False     False  \n",
       "3         False     False  \n",
       "4         False     False  \n",
       "...         ...       ...  \n",
       "99995     False      True  \n",
       "99996     False     False  \n",
       "99997     False      True  \n",
       "99998     False     False  \n",
       "99999     False     False  \n",
       "\n",
       "[100000 rows x 17 columns]"
      ]
     },
     "execution_count": 12,
     "metadata": {},
     "output_type": "execute_result"
    }
   ],
   "source": [
    "df[X]"
   ]
  },
  {
   "cell_type": "code",
   "execution_count": 13,
   "metadata": {},
   "outputs": [],
   "source": [
    "from sklearn.tree import DecisionTreeRegressor\n",
    "\n",
    "# Utilizamos arbol con las covariables dummy y luego el estimador del efecto causal Y*\n",
    "tree = DecisionTreeRegressor(max_depth=2).fit(df[X], df['y_star']) # aqui el paramámetro de pruning se pone en 2\n",
    "df['y_hat'] = tree.predict(df[X])"
   ]
  },
  {
   "cell_type": "code",
   "execution_count": 14,
   "metadata": {},
   "outputs": [
    {
     "data": {
      "image/png": "[encoded data removed]",
      "text/plain": [
       "<Figure size 640x480 with 1 Axes>"
      ]
     },
     "metadata": {},
     "output_type": "display_data"
    }
   ],
   "source": [
    "from sklearn.tree import plot_tree\n",
    "\n",
    "plot_tree(tree, filled=True, feature_names=X, impurity=False, rounded=True)\n",
    "plt.show()"
   ]
  },
  {
   "cell_type": "markdown",
   "metadata": {},
   "source": [
    "### Se lee, si el descuento se da antes del medio día pasan dos cosas: si se conecta antes de las 8, el efecto causal del descuento sobre el gasto es 0.127; si se conecta entre las 8 y las 12 el efecto es de 1.2. Por otro lado, si los individuos se conectan despues de las 12 pasan dos cosas: si no se concecta desde safari (como safari es dicotomica, cuando es menor a 0.5 significa que es cero, por lo tanto no se conecta mediante safari) el efecto causal es 2.763; si se conecta mediante safaria el efecto causal es 5.939."
   ]
  },
  {
   "cell_type": "markdown",
   "metadata": {},
   "source": [
    "### Some caveats should be given about the results of this tree. First, the CATE estimates will be unbiased only if, within each leave, we have the same number of treated and control units. And second, we have used the same data to generate and evaluate the tree, which generates overfitting."
   ]
  },
  {
   "cell_type": "markdown",
   "metadata": {},
   "source": [
    "# Generating Splits"
   ]
  },
  {
   "cell_type": "markdown",
   "metadata": {},
   "source": [
    "### Last but not least, how should the tree be generated? The default rule to generate splits minimizing the sum of squared errors metric, so there is no restriction on the minimum number of observations per leaf. Other commonly used rules include, mean absolute error, Gini’s impurity, and Shannon’s information. Which one performs better depends on the specific application, but the general objective is always prediction accuracy, broadly defined.\n",
    "\n",
    "### In that regard, Athey and Imbens (2016) use a modified version of the Mean Squared Error (MSE) as splitting criterion, named the Expanded Mean Squared Error (EMSE)\n",
    "\n",
    "\\begin{equation*}\n",
    "\n",
    "EMSE = \\mathbb{E}\\left[\\left(Y_i-\\hat{\\mu}(X_i)\\right)^2-Y_i^2\\right]\n",
    "\n",
    "\\end{equation*}"
   ]
  },
  {
   "cell_type": "markdown",
   "metadata": {},
   "source": [
    "### Luckily, there are multiple libraries where the so-called causal trees are implemented. We import CausalForestDML from Microsoft’s EconML library, one of the best libraries for causal inference"
   ]
  },
  {
   "cell_type": "code",
   "execution_count": 15,
   "metadata": {},
   "outputs": [
    {
     "name": "stdout",
     "output_type": "stream",
     "text": [
      "Requirement already satisfied: econml in /Users/gabriel/Documents/GitHub/CausalAI-Course/.venv/lib/python3.9/site-packages (0.15.1)\n",
      "Requirement already satisfied: numpy<2 in /Users/gabriel/Documents/GitHub/CausalAI-Course/.venv/lib/python3.9/site-packages (from econml) (1.26.4)\n",
      "Requirement already satisfied: scipy>1.4.0 in /Users/gabriel/Documents/GitHub/CausalAI-Course/.venv/lib/python3.9/site-packages (from econml) (1.13.1)\n",
      "Requirement already satisfied: scikit-learn<1.6,>=1.0 in /Users/gabriel/Documents/GitHub/CausalAI-Course/.venv/lib/python3.9/site-packages (from econml) (1.5.2)\n",
      "Requirement already satisfied: sparse in /Users/gabriel/Documents/GitHub/CausalAI-Course/.venv/lib/python3.9/site-packages (from econml) (0.15.4)\n",
      "Requirement already satisfied: joblib>=0.13.0 in /Users/gabriel/Documents/GitHub/CausalAI-Course/.venv/lib/python3.9/site-packages (from econml) (1.4.2)\n",
      "Requirement already satisfied: statsmodels>=0.10 in /Users/gabriel/Documents/GitHub/CausalAI-Course/.venv/lib/python3.9/site-packages (from econml) (0.14.2)\n",
      "Requirement already satisfied: pandas>1.0 in /Users/gabriel/Documents/GitHub/CausalAI-Course/.venv/lib/python3.9/site-packages (from econml) (2.2.2)\n",
      "Requirement already satisfied: shap<0.44.0,>=0.38.1 in /Users/gabriel/Documents/GitHub/CausalAI-Course/.venv/lib/python3.9/site-packages (from econml) (0.43.0)\n",
      "Requirement already satisfied: lightgbm in /Users/gabriel/Documents/GitHub/CausalAI-Course/.venv/lib/python3.9/site-packages (from econml) (4.5.0)\n",
      "Requirement already satisfied: packaging in /Users/gabriel/Documents/GitHub/CausalAI-Course/.venv/lib/python3.9/site-packages (from econml) (24.1)\n",
      "Requirement already satisfied: python-dateutil>=2.8.2 in /Users/gabriel/Documents/GitHub/CausalAI-Course/.venv/lib/python3.9/site-packages (from pandas>1.0->econml) (2.9.0.post0)\n",
      "Requirement already satisfied: pytz>=2020.1 in /Users/gabriel/Documents/GitHub/CausalAI-Course/.venv/lib/python3.9/site-packages (from pandas>1.0->econml) (2024.2)\n",
      "Requirement already satisfied: tzdata>=2022.7 in /Users/gabriel/Documents/GitHub/CausalAI-Course/.venv/lib/python3.9/site-packages (from pandas>1.0->econml) (2024.1)\n",
      "Requirement already satisfied: threadpoolctl>=3.1.0 in /Users/gabriel/Documents/GitHub/CausalAI-Course/.venv/lib/python3.9/site-packages (from scikit-learn<1.6,>=1.0->econml) (3.5.0)\n",
      "Requirement already satisfied: tqdm>=4.27.0 in /Users/gabriel/Documents/GitHub/CausalAI-Course/.venv/lib/python3.9/site-packages (from shap<0.44.0,>=0.38.1->econml) (4.67.1)\n",
      "Requirement already satisfied: slicer==0.0.7 in /Users/gabriel/Documents/GitHub/CausalAI-Course/.venv/lib/python3.9/site-packages (from shap<0.44.0,>=0.38.1->econml) (0.0.7)\n",
      "Requirement already satisfied: numba in /Users/gabriel/Documents/GitHub/CausalAI-Course/.venv/lib/python3.9/site-packages (from shap<0.44.0,>=0.38.1->econml) (0.60.0)\n",
      "Requirement already satisfied: cloudpickle in /Users/gabriel/Documents/GitHub/CausalAI-Course/.venv/lib/python3.9/site-packages (from shap<0.44.0,>=0.38.1->econml) (3.1.0)\n",
      "Requirement already satisfied: patsy>=0.5.6 in /Users/gabriel/Documents/GitHub/CausalAI-Course/.venv/lib/python3.9/site-packages (from statsmodels>=0.10->econml) (0.5.6)\n",
      "Requirement already satisfied: llvmlite<0.44,>=0.43.0dev0 in /Users/gabriel/Documents/GitHub/CausalAI-Course/.venv/lib/python3.9/site-packages (from numba->shap<0.44.0,>=0.38.1->econml) (0.43.0)\n",
      "Requirement already satisfied: six in /Users/gabriel/Documents/GitHub/CausalAI-Course/.venv/lib/python3.9/site-packages (from patsy>=0.5.6->statsmodels>=0.10->econml) (1.16.0)\n",
      "Note: you may need to restart the kernel to use updated packages.\n"
     ]
    }
   ],
   "source": [
    "pip install econml"
   ]
  },
  {
   "cell_type": "code",
   "execution_count": 16,
   "metadata": {},
   "outputs": [
    {
     "name": "stderr",
     "output_type": "stream",
     "text": [
      "IProgress not found. Please update jupyter and ipywidgets. See https://ipywidgets.readthedocs.io/en/stable/user_install.html\n"
     ]
    }
   ],
   "source": [
    "from econml.dml import CausalForestDML\n",
    "import numpy as np \n",
    "np.random.seed(0)\n",
    "# con subforest_size se convierte en un único arbol causal\n",
    "# aqui no es necesario transformar la variable a Y*\n",
    "tree_model = CausalForestDML(n_estimators=1, subforest_size=1, inference=False, max_depth=3)\n",
    "tree_model = tree_model.fit(Y=df['spend'], X=df[X], T=df['discount'])"
   ]
  },
  {
   "cell_type": "code",
   "execution_count": 17,
   "metadata": {},
   "outputs": [
    {
     "data": {
      "image/png": "[encoded data removed]",
      "text/plain": [
       "<Figure size 640x480 with 1 Axes>"
      ]
     },
     "metadata": {},
     "output_type": "display_data"
    }
   ],
   "source": [
    "from econml.cate_interpreter import SingleTreeCateInterpreter\n",
    "%matplotlib inline\n",
    "\n",
    "intrp = SingleTreeCateInterpreter(max_depth=2).interpret(tree_model, df[X])\n",
    "intrp.plot(feature_names=X)\n",
    "plt.show()"
   ]
  }
 ],
 "metadata": {
  "kernelspec": {
   "display_name": ".venv",
   "language": "python",
   "name": "python3"
  },
  "language_info": {
   "codemirror_mode": {
    "name": "ipython",
    "version": 3
   },
   "file_extension": ".py",
   "mimetype": "text/x-python",
   "name": "python",
   "nbconvert_exporter": "python",
   "pygments_lexer": "ipython3",
   "version": "3.9.6"
  }
 },
 "nbformat": 4,
 "nbformat_minor": 2
}

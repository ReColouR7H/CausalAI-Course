{
 "cells": [
  {
   "cell_type": "markdown",
   "metadata": {},
   "source": [
    "# PD7 - Directed Acyclic Graphs"
   ]
  },
  {
   "cell_type": "code",
   "execution_count": 1,
   "metadata": {},
   "outputs": [],
   "source": [
    "import numpy as np\n",
    "import statsmodels.api as sms"
   ]
  },
  {
   "cell_type": "code",
   "execution_count": 2,
   "metadata": {},
   "outputs": [
    {
     "data": {
      "text/plain": [
       "np.int64(1046)"
      ]
     },
     "execution_count": 2,
     "metadata": {},
     "output_type": "execute_result"
    }
   ],
   "source": [
    "sample = np.random.uniform(0, 1, (1_000_000, 1)) < 0.001\n",
    "sample.sum()"
   ]
  },
  {
   "cell_type": "code",
   "execution_count": 3,
   "metadata": {},
   "outputs": [],
   "source": [
    "sample_indices = np.where(sample)[0]"
   ]
  },
  {
   "cell_type": "markdown",
   "metadata": {},
   "source": [
    "## 1.\n",
    "\n",
    "![](assets/dags1.png)"
   ]
  },
  {
   "cell_type": "code",
   "execution_count": 4,
   "metadata": {},
   "outputs": [],
   "source": [
    "pop_Z = np.random.normal(0, 1, (1_000_000, 1))\n",
    "pop_X = pop_Z + np.random.normal(0, 1, (1_000_000, 1))\n",
    "pop_Y = pop_Z + pop_X + np.random.normal(0, 1, (1_000_000, 1))"
   ]
  },
  {
   "cell_type": "code",
   "execution_count": 5,
   "metadata": {},
   "outputs": [
    {
     "name": "stdout",
     "output_type": "stream",
     "text": [
      "                                 OLS Regression Results                                \n",
      "=======================================================================================\n",
      "Dep. Variable:                      y   R-squared (uncentered):                   0.779\n",
      "Model:                            OLS   Adj. R-squared (uncentered):              0.779\n",
      "Method:                 Least Squares   F-statistic:                              3688.\n",
      "Date:                Thu, 03 Oct 2024   Prob (F-statistic):                        0.00\n",
      "Time:                        12:12:15   Log-Likelihood:                         -1678.1\n",
      "No. Observations:                1046   AIC:                                      3358.\n",
      "Df Residuals:                    1045   BIC:                                      3363.\n",
      "Df Model:                           1                                                  \n",
      "Covariance Type:            nonrobust                                                  \n",
      "==============================================================================\n",
      "                 coef    std err          t      P>|t|      [0.025      0.975]\n",
      "------------------------------------------------------------------------------\n",
      "x1             1.5661      0.026     60.731      0.000       1.516       1.617\n",
      "==============================================================================\n",
      "Omnibus:                        1.859   Durbin-Watson:                   1.986\n",
      "Prob(Omnibus):                  0.395   Jarque-Bera (JB):                1.863\n",
      "Skew:                          -0.103   Prob(JB):                        0.394\n",
      "Kurtosis:                       2.977   Cond. No.                         1.00\n",
      "==============================================================================\n",
      "\n",
      "Notes:\n",
      "[1] R² is computed without centering (uncentered) since the model does not contain a constant.\n",
      "[2] Standard Errors assume that the covariance matrix of the errors is correctly specified.\n"
     ]
    }
   ],
   "source": [
    "print(sms.OLS(pop_Y[sample_indices], pop_X[sample_indices]).fit().summary())"
   ]
  },
  {
   "cell_type": "code",
   "execution_count": 6,
   "metadata": {},
   "outputs": [
    {
     "name": "stdout",
     "output_type": "stream",
     "text": [
      "                                 OLS Regression Results                                \n",
      "=======================================================================================\n",
      "Dep. Variable:                      y   R-squared (uncentered):                   0.850\n",
      "Model:                            OLS   Adj. R-squared (uncentered):              0.849\n",
      "Method:                 Least Squares   F-statistic:                              2949.\n",
      "Date:                Thu, 03 Oct 2024   Prob (F-statistic):                        0.00\n",
      "Time:                        12:12:15   Log-Likelihood:                         -1477.3\n",
      "No. Observations:                1046   AIC:                                      2959.\n",
      "Df Residuals:                    1044   BIC:                                      2969.\n",
      "Df Model:                           2                                                  \n",
      "Covariance Type:            nonrobust                                                  \n",
      "==============================================================================\n",
      "                 coef    std err          t      P>|t|      [0.025      0.975]\n",
      "------------------------------------------------------------------------------\n",
      "x1             1.0700      0.031     34.584      0.000       1.009       1.131\n",
      "x2             0.9592      0.043     22.103      0.000       0.874       1.044\n",
      "==============================================================================\n",
      "Omnibus:                        0.375   Durbin-Watson:                   2.010\n",
      "Prob(Omnibus):                  0.829   Jarque-Bera (JB):                0.459\n",
      "Skew:                           0.027   Prob(JB):                        0.795\n",
      "Kurtosis:                       2.913   Cond. No.                         2.70\n",
      "==============================================================================\n",
      "\n",
      "Notes:\n",
      "[1] R² is computed without centering (uncentered) since the model does not contain a constant.\n",
      "[2] Standard Errors assume that the covariance matrix of the errors is correctly specified.\n"
     ]
    }
   ],
   "source": [
    "print(sms.OLS(pop_Y[sample_indices], np.hstack((pop_X, pop_Z))[sample_indices]).fit().summary())"
   ]
  },
  {
   "cell_type": "markdown",
   "metadata": {},
   "source": [
    "1. Good controls: controlling for a confounder"
   ]
  },
  {
   "cell_type": "code",
   "execution_count": 7,
   "metadata": {},
   "outputs": [],
   "source": [
    "pop_U = np.random.normal(0, 1, (1_000_000, 1))\n",
    "pop_Z = pop_U + np.random.normal(0, 1, (1_000_000, 1))\n",
    "pop_X = pop_Z + np.random.normal(0, 1, (1_000_000, 1))\n",
    "pop_Y = pop_U + pop_X + np.random.normal(0, 1, (1_000_000, 1))"
   ]
  },
  {
   "cell_type": "code",
   "execution_count": 8,
   "metadata": {},
   "outputs": [
    {
     "name": "stdout",
     "output_type": "stream",
     "text": [
      "                                 OLS Regression Results                                \n",
      "=======================================================================================\n",
      "Dep. Variable:                      y   R-squared (uncentered):                   0.767\n",
      "Model:                            OLS   Adj. R-squared (uncentered):              0.766\n",
      "Method:                 Least Squares   F-statistic:                              3434.\n",
      "Date:                Thu, 03 Oct 2024   Prob (F-statistic):                        0.00\n",
      "Time:                        12:12:15   Log-Likelihood:                         -1709.9\n",
      "No. Observations:                1046   AIC:                                      3422.\n",
      "Df Residuals:                    1045   BIC:                                      3427.\n",
      "Df Model:                           1                                                  \n",
      "Covariance Type:            nonrobust                                                  \n",
      "==============================================================================\n",
      "                 coef    std err          t      P>|t|      [0.025      0.975]\n",
      "------------------------------------------------------------------------------\n",
      "x1             1.3096      0.022     58.600      0.000       1.266       1.353\n",
      "==============================================================================\n",
      "Omnibus:                       14.783   Durbin-Watson:                   2.098\n",
      "Prob(Omnibus):                  0.001   Jarque-Bera (JB):               18.900\n",
      "Skew:                          -0.179   Prob(JB):                     7.87e-05\n",
      "Kurtosis:                       3.553   Cond. No.                         1.00\n",
      "==============================================================================\n",
      "\n",
      "Notes:\n",
      "[1] R² is computed without centering (uncentered) since the model does not contain a constant.\n",
      "[2] Standard Errors assume that the covariance matrix of the errors is correctly specified.\n"
     ]
    }
   ],
   "source": [
    "print(sms.OLS(pop_Y[sample_indices], pop_X[sample_indices]).fit().summary())"
   ]
  },
  {
   "cell_type": "code",
   "execution_count": 9,
   "metadata": {},
   "outputs": [
    {
     "name": "stdout",
     "output_type": "stream",
     "text": [
      "                                 OLS Regression Results                                \n",
      "=======================================================================================\n",
      "Dep. Variable:                      y   R-squared (uncentered):                   0.791\n",
      "Model:                            OLS   Adj. R-squared (uncentered):              0.790\n",
      "Method:                 Least Squares   F-statistic:                              1972.\n",
      "Date:                Thu, 03 Oct 2024   Prob (F-statistic):                        0.00\n",
      "Time:                        12:12:15   Log-Likelihood:                         -1653.1\n",
      "No. Observations:                1046   AIC:                                      3310.\n",
      "Df Residuals:                    1044   BIC:                                      3320.\n",
      "Df Model:                           2                                                  \n",
      "Covariance Type:            nonrobust                                                  \n",
      "==============================================================================\n",
      "                 coef    std err          t      P>|t|      [0.025      0.975]\n",
      "------------------------------------------------------------------------------\n",
      "x1             0.9795      0.037     26.574      0.000       0.907       1.052\n",
      "x2             0.4973      0.045     10.942      0.000       0.408       0.587\n",
      "==============================================================================\n",
      "Omnibus:                       12.711   Durbin-Watson:                   2.091\n",
      "Prob(Omnibus):                  0.002   Jarque-Bera (JB):               16.495\n",
      "Skew:                          -0.148   Prob(JB):                     0.000262\n",
      "Kurtosis:                       3.539   Cond. No.                         3.25\n",
      "==============================================================================\n",
      "\n",
      "Notes:\n",
      "[1] R² is computed without centering (uncentered) since the model does not contain a constant.\n",
      "[2] Standard Errors assume that the covariance matrix of the errors is correctly specified.\n"
     ]
    }
   ],
   "source": [
    "print(sms.OLS(pop_Y[sample_indices], np.hstack((pop_X, pop_Z))[sample_indices]).fit().summary())"
   ]
  },
  {
   "cell_type": "markdown",
   "metadata": {},
   "source": [
    "## 2. \n",
    "\n",
    "![](assets/dags2.png)"
   ]
  },
  {
   "cell_type": "code",
   "execution_count": 10,
   "metadata": {},
   "outputs": [],
   "source": [
    "pop_U = np.random.normal(0, 1, (1_000_000, 1))\n",
    "pop_Z = pop_U + np.random.normal(0, 1, (1_000_000, 1))\n",
    "pop_X = pop_U + np.random.normal(0, 1, (1_000_000, 1))\n",
    "pop_M = pop_Z + np.random.normal(0, 1, (1_000_000, 1))\n",
    "pop_Y = pop_X + pop_M + np.random.normal(0, 1, (1_000_000, 1))"
   ]
  },
  {
   "cell_type": "code",
   "execution_count": 11,
   "metadata": {},
   "outputs": [
    {
     "name": "stdout",
     "output_type": "stream",
     "text": [
      "                                 OLS Regression Results                                \n",
      "=======================================================================================\n",
      "Dep. Variable:                      y   R-squared (uncentered):                   0.577\n",
      "Model:                            OLS   Adj. R-squared (uncentered):              0.577\n",
      "Method:                 Least Squares   F-statistic:                              1427.\n",
      "Date:                Thu, 03 Oct 2024   Prob (F-statistic):                   1.22e-197\n",
      "Time:                        12:12:15   Log-Likelihood:                         -2125.6\n",
      "No. Observations:                1046   AIC:                                      4253.\n",
      "Df Residuals:                    1045   BIC:                                      4258.\n",
      "Df Model:                           1                                                  \n",
      "Covariance Type:            nonrobust                                                  \n",
      "==============================================================================\n",
      "                 coef    std err          t      P>|t|      [0.025      0.975]\n",
      "------------------------------------------------------------------------------\n",
      "x1             1.4963      0.040     37.782      0.000       1.419       1.574\n",
      "==============================================================================\n",
      "Omnibus:                        2.381   Durbin-Watson:                   1.918\n",
      "Prob(Omnibus):                  0.304   Jarque-Bera (JB):                2.321\n",
      "Skew:                          -0.067   Prob(JB):                        0.313\n",
      "Kurtosis:                       3.187   Cond. No.                         1.00\n",
      "==============================================================================\n",
      "\n",
      "Notes:\n",
      "[1] R² is computed without centering (uncentered) since the model does not contain a constant.\n",
      "[2] Standard Errors assume that the covariance matrix of the errors is correctly specified.\n"
     ]
    }
   ],
   "source": [
    "print(sms.OLS(pop_Y[sample_indices], pop_X[sample_indices]).fit().summary())"
   ]
  },
  {
   "cell_type": "code",
   "execution_count": 12,
   "metadata": {},
   "outputs": [
    {
     "name": "stdout",
     "output_type": "stream",
     "text": [
      "                                 OLS Regression Results                                \n",
      "=======================================================================================\n",
      "Dep. Variable:                      y   R-squared (uncentered):                   0.762\n",
      "Model:                            OLS   Adj. R-squared (uncentered):              0.762\n",
      "Method:                 Least Squares   F-statistic:                              1673.\n",
      "Date:                Thu, 03 Oct 2024   Prob (F-statistic):                        0.00\n",
      "Time:                        12:12:15   Log-Likelihood:                         -1824.8\n",
      "No. Observations:                1046   AIC:                                      3654.\n",
      "Df Residuals:                    1044   BIC:                                      3664.\n",
      "Df Model:                           2                                                  \n",
      "Covariance Type:            nonrobust                                                  \n",
      "==============================================================================\n",
      "                 coef    std err          t      P>|t|      [0.025      0.975]\n",
      "------------------------------------------------------------------------------\n",
      "x1             1.0052      0.034     29.257      0.000       0.938       1.073\n",
      "x2             0.9809      0.034     28.488      0.000       0.913       1.048\n",
      "==============================================================================\n",
      "Omnibus:                        0.688   Durbin-Watson:                   1.995\n",
      "Prob(Omnibus):                  0.709   Jarque-Bera (JB):                0.589\n",
      "Skew:                           0.050   Prob(JB):                        0.745\n",
      "Kurtosis:                       3.061   Cond. No.                         1.74\n",
      "==============================================================================\n",
      "\n",
      "Notes:\n",
      "[1] R² is computed without centering (uncentered) since the model does not contain a constant.\n",
      "[2] Standard Errors assume that the covariance matrix of the errors is correctly specified.\n"
     ]
    }
   ],
   "source": [
    "print(sms.OLS(pop_Y[sample_indices], np.hstack((pop_X, pop_Z))[sample_indices]).fit().summary())"
   ]
  },
  {
   "cell_type": "markdown",
   "metadata": {},
   "source": [
    "2. Good controls: controlling for a confounder"
   ]
  },
  {
   "cell_type": "markdown",
   "metadata": {},
   "source": [
    "## 3.\n",
    "\n",
    "![](assets/dags3.png)"
   ]
  },
  {
   "cell_type": "code",
   "execution_count": 13,
   "metadata": {},
   "outputs": [],
   "source": [
    "pop_U1 = np.random.normal(0, 1, (1_000_000, 1))\n",
    "pop_U2 = np.random.normal(0, 1, (1_000_000, 1))\n",
    "pop_Z = pop_U1 + pop_U2 + np.random.normal(0, 1, (1_000_000, 1))\n",
    "pop_X = pop_U1 + np.random.normal(0, 1, (1_000_000, 1))\n",
    "pop_Y = pop_X + pop_U2 + np.random.normal(0, 1, (1_000_000, 1))"
   ]
  },
  {
   "cell_type": "code",
   "execution_count": 14,
   "metadata": {},
   "outputs": [
    {
     "name": "stdout",
     "output_type": "stream",
     "text": [
      "                                 OLS Regression Results                                \n",
      "=======================================================================================\n",
      "Dep. Variable:                      y   R-squared (uncentered):                   0.531\n",
      "Model:                            OLS   Adj. R-squared (uncentered):              0.530\n",
      "Method:                 Least Squares   F-statistic:                              1183.\n",
      "Date:                Thu, 03 Oct 2024   Prob (F-statistic):                   5.87e-174\n",
      "Time:                        12:12:15   Log-Likelihood:                         -1811.8\n",
      "No. Observations:                1046   AIC:                                      3626.\n",
      "Df Residuals:                    1045   BIC:                                      3631.\n",
      "Df Model:                           1                                                  \n",
      "Covariance Type:            nonrobust                                                  \n",
      "==============================================================================\n",
      "                 coef    std err          t      P>|t|      [0.025      0.975]\n",
      "------------------------------------------------------------------------------\n",
      "x1             1.0415      0.030     34.390      0.000       0.982       1.101\n",
      "==============================================================================\n",
      "Omnibus:                        0.013   Durbin-Watson:                   2.001\n",
      "Prob(Omnibus):                  0.994   Jarque-Bera (JB):                0.042\n",
      "Skew:                           0.005   Prob(JB):                        0.979\n",
      "Kurtosis:                       2.971   Cond. No.                         1.00\n",
      "==============================================================================\n",
      "\n",
      "Notes:\n",
      "[1] R² is computed without centering (uncentered) since the model does not contain a constant.\n",
      "[2] Standard Errors assume that the covariance matrix of the errors is correctly specified.\n"
     ]
    }
   ],
   "source": [
    "print(sms.OLS(pop_Y[sample_indices], pop_X[sample_indices]).fit().summary())"
   ]
  },
  {
   "cell_type": "code",
   "execution_count": 15,
   "metadata": {},
   "outputs": [
    {
     "name": "stdout",
     "output_type": "stream",
     "text": [
      "                                 OLS Regression Results                                \n",
      "=======================================================================================\n",
      "Dep. Variable:                      y   R-squared (uncentered):                   0.625\n",
      "Model:                            OLS   Adj. R-squared (uncentered):              0.625\n",
      "Method:                 Least Squares   F-statistic:                              871.7\n",
      "Date:                Thu, 03 Oct 2024   Prob (F-statistic):                   2.33e-223\n",
      "Time:                        12:12:15   Log-Likelihood:                         -1694.1\n",
      "No. Observations:                1046   AIC:                                      3392.\n",
      "Df Residuals:                    1044   BIC:                                      3402.\n",
      "Df Model:                           2                                                  \n",
      "Covariance Type:            nonrobust                                                  \n",
      "==============================================================================\n",
      "                 coef    std err          t      P>|t|      [0.025      0.975]\n",
      "------------------------------------------------------------------------------\n",
      "x1             0.8358      0.030     27.958      0.000       0.777       0.894\n",
      "x2             0.3900      0.024     16.236      0.000       0.343       0.437\n",
      "==============================================================================\n",
      "Omnibus:                        2.283   Durbin-Watson:                   2.022\n",
      "Prob(Omnibus):                  0.319   Jarque-Bera (JB):                2.357\n",
      "Skew:                          -0.020   Prob(JB):                        0.308\n",
      "Kurtosis:                       3.229   Cond. No.                         1.66\n",
      "==============================================================================\n",
      "\n",
      "Notes:\n",
      "[1] R² is computed without centering (uncentered) since the model does not contain a constant.\n",
      "[2] Standard Errors assume that the covariance matrix of the errors is correctly specified.\n"
     ]
    }
   ],
   "source": [
    "print(sms.OLS(pop_Y[sample_indices], np.hstack((pop_X, pop_Z))[sample_indices]).fit().summary())"
   ]
  },
  {
   "cell_type": "markdown",
   "metadata": {},
   "source": [
    "3. Bad control: controlling for a collider (M-graph)"
   ]
  },
  {
   "cell_type": "markdown",
   "metadata": {},
   "source": [
    "## 4. Damned if you do damned if you don't\n",
    "\n",
    "![](assets/dags4.png)"
   ]
  },
  {
   "cell_type": "markdown",
   "metadata": {},
   "source": [
    "In this situation, it is not clear whether Z will be a good or bad controls. Other tools may be needed like sensitivity analysis to assess the effect of using it as a control."
   ]
  },
  {
   "cell_type": "markdown",
   "metadata": {},
   "source": [
    "## 5.\n",
    "\n",
    "![](assets/dags5.png)"
   ]
  },
  {
   "cell_type": "code",
   "execution_count": 16,
   "metadata": {},
   "outputs": [],
   "source": [
    "pop_Z = np.random.normal(0, 1, (1_000_000, 1))\n",
    "pop_X = np.random.normal(0, 1, (1_000_000, 1))\n",
    "pop_Y = pop_X + pop_Z + np.random.normal(0, 1, (1_000_000, 1))"
   ]
  },
  {
   "cell_type": "code",
   "execution_count": 17,
   "metadata": {},
   "outputs": [
    {
     "name": "stdout",
     "output_type": "stream",
     "text": [
      "                                 OLS Regression Results                                \n",
      "=======================================================================================\n",
      "Dep. Variable:                      y   R-squared (uncentered):                   0.334\n",
      "Model:                            OLS   Adj. R-squared (uncentered):              0.334\n",
      "Method:                 Least Squares   F-statistic:                              525.0\n",
      "Date:                Thu, 03 Oct 2024   Prob (F-statistic):                    1.79e-94\n",
      "Time:                        12:12:16   Log-Likelihood:                         -1869.1\n",
      "No. Observations:                1046   AIC:                                      3740.\n",
      "Df Residuals:                    1045   BIC:                                      3745.\n",
      "Df Model:                           1                                                  \n",
      "Covariance Type:            nonrobust                                                  \n",
      "==============================================================================\n",
      "                 coef    std err          t      P>|t|      [0.025      0.975]\n",
      "------------------------------------------------------------------------------\n",
      "x1             1.0277      0.045     22.914      0.000       0.940       1.116\n",
      "==============================================================================\n",
      "Omnibus:                        2.940   Durbin-Watson:                   2.003\n",
      "Prob(Omnibus):                  0.230   Jarque-Bera (JB):                2.856\n",
      "Skew:                           0.087   Prob(JB):                        0.240\n",
      "Kurtosis:                       2.813   Cond. No.                         1.00\n",
      "==============================================================================\n",
      "\n",
      "Notes:\n",
      "[1] R² is computed without centering (uncentered) since the model does not contain a constant.\n",
      "[2] Standard Errors assume that the covariance matrix of the errors is correctly specified.\n"
     ]
    }
   ],
   "source": [
    "print(sms.OLS(pop_Y[sample_indices], pop_X[sample_indices]).fit().summary())"
   ]
  },
  {
   "cell_type": "code",
   "execution_count": 18,
   "metadata": {},
   "outputs": [
    {
     "name": "stdout",
     "output_type": "stream",
     "text": [
      "                                 OLS Regression Results                                \n",
      "=======================================================================================\n",
      "Dep. Variable:                      y   R-squared (uncentered):                   0.653\n",
      "Model:                            OLS   Adj. R-squared (uncentered):              0.653\n",
      "Method:                 Least Squares   F-statistic:                              983.2\n",
      "Date:                Thu, 03 Oct 2024   Prob (F-statistic):                   8.20e-241\n",
      "Time:                        12:12:16   Log-Likelihood:                         -1528.2\n",
      "No. Observations:                1046   AIC:                                      3060.\n",
      "Df Residuals:                    1044   BIC:                                      3070.\n",
      "Df Model:                           2                                                  \n",
      "Covariance Type:            nonrobust                                                  \n",
      "==============================================================================\n",
      "                 coef    std err          t      P>|t|      [0.025      0.975]\n",
      "------------------------------------------------------------------------------\n",
      "x1             1.0344      0.032     31.934      0.000       0.971       1.098\n",
      "x2             0.9718      0.031     30.980      0.000       0.910       1.033\n",
      "==============================================================================\n",
      "Omnibus:                        0.280   Durbin-Watson:                   1.969\n",
      "Prob(Omnibus):                  0.869   Jarque-Bera (JB):                0.185\n",
      "Skew:                           0.012   Prob(JB):                        0.911\n",
      "Kurtosis:                       3.061   Cond. No.                         1.03\n",
      "==============================================================================\n",
      "\n",
      "Notes:\n",
      "[1] R² is computed without centering (uncentered) since the model does not contain a constant.\n",
      "[2] Standard Errors assume that the covariance matrix of the errors is correctly specified.\n"
     ]
    }
   ],
   "source": [
    "print(sms.OLS(pop_Y[sample_indices], np.hstack((pop_X, pop_Z))[sample_indices]).fit().summary())"
   ]
  },
  {
   "cell_type": "markdown",
   "metadata": {},
   "source": [
    "5. Neutral control (but raises precision)"
   ]
  },
  {
   "cell_type": "markdown",
   "metadata": {},
   "source": [
    "## 6.\n",
    "\n",
    "![](assets/dags6.png)"
   ]
  },
  {
   "cell_type": "code",
   "execution_count": 19,
   "metadata": {},
   "outputs": [],
   "source": [
    "pop_Z = np.random.normal(0, 1, (1_000_000, 1))\n",
    "pop_X = pop_Z + np.random.normal(0, 1, (1_000_000, 1))\n",
    "pop_Y = pop_X + np.random.normal(0, 1, (1_000_000, 1))"
   ]
  },
  {
   "cell_type": "code",
   "execution_count": 20,
   "metadata": {},
   "outputs": [
    {
     "name": "stdout",
     "output_type": "stream",
     "text": [
      "                                 OLS Regression Results                                \n",
      "=======================================================================================\n",
      "Dep. Variable:                      y   R-squared (uncentered):                   0.638\n",
      "Model:                            OLS   Adj. R-squared (uncentered):              0.637\n",
      "Method:                 Least Squares   F-statistic:                              1838.\n",
      "Date:                Thu, 03 Oct 2024   Prob (F-statistic):                   1.62e-232\n",
      "Time:                        12:12:16   Log-Likelihood:                         -1502.9\n",
      "No. Observations:                1046   AIC:                                      3008.\n",
      "Df Residuals:                    1045   BIC:                                      3013.\n",
      "Df Model:                           1                                                  \n",
      "Covariance Type:            nonrobust                                                  \n",
      "==============================================================================\n",
      "                 coef    std err          t      P>|t|      [0.025      0.975]\n",
      "------------------------------------------------------------------------------\n",
      "x1             0.9649      0.023     42.872      0.000       0.921       1.009\n",
      "==============================================================================\n",
      "Omnibus:                        0.915   Durbin-Watson:                   1.845\n",
      "Prob(Omnibus):                  0.633   Jarque-Bera (JB):                0.794\n",
      "Skew:                          -0.008   Prob(JB):                        0.672\n",
      "Kurtosis:                       3.134   Cond. No.                         1.00\n",
      "==============================================================================\n",
      "\n",
      "Notes:\n",
      "[1] R² is computed without centering (uncentered) since the model does not contain a constant.\n",
      "[2] Standard Errors assume that the covariance matrix of the errors is correctly specified.\n"
     ]
    }
   ],
   "source": [
    "print(sms.OLS(pop_Y[sample_indices], pop_X[sample_indices]).fit().summary())"
   ]
  },
  {
   "cell_type": "code",
   "execution_count": 21,
   "metadata": {},
   "outputs": [
    {
     "name": "stdout",
     "output_type": "stream",
     "text": [
      "                                 OLS Regression Results                                \n",
      "=======================================================================================\n",
      "Dep. Variable:                      y   R-squared (uncentered):                   0.638\n",
      "Model:                            OLS   Adj. R-squared (uncentered):              0.637\n",
      "Method:                 Least Squares   F-statistic:                              918.2\n",
      "Date:                Thu, 03 Oct 2024   Prob (F-statistic):                   8.36e-231\n",
      "Time:                        12:12:16   Log-Likelihood:                         -1502.9\n",
      "No. Observations:                1046   AIC:                                      3010.\n",
      "Df Residuals:                    1044   BIC:                                      3020.\n",
      "Df Model:                           2                                                  \n",
      "Covariance Type:            nonrobust                                                  \n",
      "==============================================================================\n",
      "                 coef    std err          t      P>|t|      [0.025      0.975]\n",
      "------------------------------------------------------------------------------\n",
      "x1             0.9712      0.031     31.222      0.000       0.910       1.032\n",
      "x2            -0.0129      0.044     -0.291      0.771      -0.100       0.074\n",
      "==============================================================================\n",
      "Omnibus:                        0.909   Durbin-Watson:                   1.844\n",
      "Prob(Omnibus):                  0.635   Jarque-Bera (JB):                0.787\n",
      "Skew:                          -0.009   Prob(JB):                        0.675\n",
      "Kurtosis:                       3.133   Cond. No.                         2.55\n",
      "==============================================================================\n",
      "\n",
      "Notes:\n",
      "[1] R² is computed without centering (uncentered) since the model does not contain a constant.\n",
      "[2] Standard Errors assume that the covariance matrix of the errors is correctly specified.\n"
     ]
    }
   ],
   "source": [
    "print(sms.OLS(pop_Y[sample_indices], np.hstack((pop_X, pop_Z))[sample_indices]).fit().summary())"
   ]
  },
  {
   "cell_type": "markdown",
   "metadata": {},
   "source": [
    "6. Neutral control (but lowers precision)"
   ]
  },
  {
   "cell_type": "markdown",
   "metadata": {},
   "source": [
    "## 7."
   ]
  },
  {
   "cell_type": "markdown",
   "metadata": {},
   "source": [
    "![](assets/dags7.png)"
   ]
  },
  {
   "cell_type": "code",
   "execution_count": 22,
   "metadata": {},
   "outputs": [],
   "source": [
    "pop_X = np.random.normal(0, 1, (1_000_000, 1))\n",
    "pop_M = pop_X + np.random.normal(0, 1, (1_000_000, 1))\n",
    "pop_Z = pop_M + np.random.normal(0, 1, (1_000_000, 1))\n",
    "pop_Y = pop_M + np.random.normal(0, 1, (1_000_000, 1))"
   ]
  },
  {
   "cell_type": "code",
   "execution_count": 23,
   "metadata": {},
   "outputs": [
    {
     "name": "stdout",
     "output_type": "stream",
     "text": [
      "                                 OLS Regression Results                                \n",
      "=======================================================================================\n",
      "Dep. Variable:                      y   R-squared (uncentered):                   0.307\n",
      "Model:                            OLS   Adj. R-squared (uncentered):              0.307\n",
      "Method:                 Least Squares   F-statistic:                              463.3\n",
      "Date:                Thu, 03 Oct 2024   Prob (F-statistic):                    2.36e-85\n",
      "Time:                        12:12:16   Log-Likelihood:                         -1840.6\n",
      "No. Observations:                1046   AIC:                                      3683.\n",
      "Df Residuals:                    1045   BIC:                                      3688.\n",
      "Df Model:                           1                                                  \n",
      "Covariance Type:            nonrobust                                                  \n",
      "==============================================================================\n",
      "                 coef    std err          t      P>|t|      [0.025      0.975]\n",
      "------------------------------------------------------------------------------\n",
      "x1             0.9665      0.045     21.525      0.000       0.878       1.055\n",
      "==============================================================================\n",
      "Omnibus:                        2.324   Durbin-Watson:                   1.982\n",
      "Prob(Omnibus):                  0.313   Jarque-Bera (JB):                2.213\n",
      "Skew:                           0.109   Prob(JB):                        0.331\n",
      "Kurtosis:                       3.061   Cond. No.                         1.00\n",
      "==============================================================================\n",
      "\n",
      "Notes:\n",
      "[1] R² is computed without centering (uncentered) since the model does not contain a constant.\n",
      "[2] Standard Errors assume that the covariance matrix of the errors is correctly specified.\n"
     ]
    }
   ],
   "source": [
    "print(sms.OLS(pop_Y[sample_indices], pop_X[sample_indices]).fit().summary())"
   ]
  },
  {
   "cell_type": "code",
   "execution_count": 24,
   "metadata": {},
   "outputs": [
    {
     "name": "stdout",
     "output_type": "stream",
     "text": [
      "                                 OLS Regression Results                                \n",
      "=======================================================================================\n",
      "Dep. Variable:                      y   R-squared (uncentered):                   0.490\n",
      "Model:                            OLS   Adj. R-squared (uncentered):              0.489\n",
      "Method:                 Least Squares   F-statistic:                              500.7\n",
      "Date:                Thu, 03 Oct 2024   Prob (F-statistic):                   3.47e-153\n",
      "Time:                        12:12:16   Log-Likelihood:                         -1680.8\n",
      "No. Observations:                1046   AIC:                                      3366.\n",
      "Df Residuals:                    1044   BIC:                                      3376.\n",
      "Df Model:                           2                                                  \n",
      "Covariance Type:            nonrobust                                                  \n",
      "==============================================================================\n",
      "                 coef    std err          t      P>|t|      [0.025      0.975]\n",
      "------------------------------------------------------------------------------\n",
      "x1             0.4748      0.046     10.277      0.000       0.384       0.566\n",
      "x2             0.5128      0.027     19.315      0.000       0.461       0.565\n",
      "==============================================================================\n",
      "Omnibus:                        3.522   Durbin-Watson:                   1.933\n",
      "Prob(Omnibus):                  0.172   Jarque-Bera (JB):                3.636\n",
      "Skew:                           0.079   Prob(JB):                        0.162\n",
      "Kurtosis:                       3.242   Cond. No.                         2.35\n",
      "==============================================================================\n",
      "\n",
      "Notes:\n",
      "[1] R² is computed without centering (uncentered) since the model does not contain a constant.\n",
      "[2] Standard Errors assume that the covariance matrix of the errors is correctly specified.\n"
     ]
    }
   ],
   "source": [
    "print(sms.OLS(pop_Y[sample_indices], np.hstack((pop_X, pop_Z))[sample_indices]).fit().summary())"
   ]
  },
  {
   "cell_type": "markdown",
   "metadata": {},
   "source": [
    "7. Bad control: introduces overcontrol bias"
   ]
  },
  {
   "cell_type": "markdown",
   "metadata": {},
   "source": [
    "## 8."
   ]
  },
  {
   "cell_type": "markdown",
   "metadata": {},
   "source": [
    "![](assets/dags8.png)"
   ]
  },
  {
   "cell_type": "code",
   "execution_count": 25,
   "metadata": {},
   "outputs": [],
   "source": [
    "pop_X = np.random.normal(0, 1, (1_000_000, 1))\n",
    "pop_Z = np.random.normal(0, 1, (1_000_000, 1))\n",
    "pop_M = pop_X + pop_Z + np.random.normal(0, 1, (1_000_000, 1))\n",
    "pop_Y = pop_M + np.random.normal(0, 1, (1_000_000, 1))"
   ]
  },
  {
   "cell_type": "code",
   "execution_count": 26,
   "metadata": {},
   "outputs": [
    {
     "name": "stdout",
     "output_type": "stream",
     "text": [
      "                                 OLS Regression Results                                \n",
      "=======================================================================================\n",
      "Dep. Variable:                      y   R-squared (uncentered):                   0.259\n",
      "Model:                            OLS   Adj. R-squared (uncentered):              0.259\n",
      "Method:                 Least Squares   F-statistic:                              365.7\n",
      "Date:                Thu, 03 Oct 2024   Prob (F-statistic):                    3.86e-70\n",
      "Time:                        12:12:16   Log-Likelihood:                         -2065.8\n",
      "No. Observations:                1046   AIC:                                      4134.\n",
      "Df Residuals:                    1045   BIC:                                      4138.\n",
      "Df Model:                           1                                                  \n",
      "Covariance Type:            nonrobust                                                  \n",
      "==============================================================================\n",
      "                 coef    std err          t      P>|t|      [0.025      0.975]\n",
      "------------------------------------------------------------------------------\n",
      "x1             1.0372      0.054     19.124      0.000       0.931       1.144\n",
      "==============================================================================\n",
      "Omnibus:                        2.214   Durbin-Watson:                   2.007\n",
      "Prob(Omnibus):                  0.331   Jarque-Bera (JB):                2.112\n",
      "Skew:                           0.053   Prob(JB):                        0.348\n",
      "Kurtosis:                       2.807   Cond. No.                         1.00\n",
      "==============================================================================\n",
      "\n",
      "Notes:\n",
      "[1] R² is computed without centering (uncentered) since the model does not contain a constant.\n",
      "[2] Standard Errors assume that the covariance matrix of the errors is correctly specified.\n"
     ]
    }
   ],
   "source": [
    "print(sms.OLS(pop_Y[sample_indices], pop_X[sample_indices]).fit().summary())"
   ]
  },
  {
   "cell_type": "code",
   "execution_count": 27,
   "metadata": {},
   "outputs": [
    {
     "name": "stdout",
     "output_type": "stream",
     "text": [
      "                                 OLS Regression Results                                \n",
      "=======================================================================================\n",
      "Dep. Variable:                      y   R-squared (uncentered):                   0.520\n",
      "Model:                            OLS   Adj. R-squared (uncentered):              0.519\n",
      "Method:                 Least Squares   F-statistic:                              565.7\n",
      "Date:                Thu, 03 Oct 2024   Prob (F-statistic):                   3.73e-167\n",
      "Time:                        12:12:16   Log-Likelihood:                         -1838.8\n",
      "No. Observations:                1046   AIC:                                      3682.\n",
      "Df Residuals:                    1044   BIC:                                      3691.\n",
      "Df Model:                           2                                                  \n",
      "Covariance Type:            nonrobust                                                  \n",
      "==============================================================================\n",
      "                 coef    std err          t      P>|t|      [0.025      0.975]\n",
      "------------------------------------------------------------------------------\n",
      "x1             1.0269      0.044     23.510      0.000       0.941       1.113\n",
      "x2             1.0158      0.043     23.820      0.000       0.932       1.099\n",
      "==============================================================================\n",
      "Omnibus:                        4.807   Durbin-Watson:                   1.998\n",
      "Prob(Omnibus):                  0.090   Jarque-Bera (JB):                4.776\n",
      "Skew:                           0.131   Prob(JB):                       0.0918\n",
      "Kurtosis:                       3.202   Cond. No.                         1.03\n",
      "==============================================================================\n",
      "\n",
      "Notes:\n",
      "[1] R² is computed without centering (uncentered) since the model does not contain a constant.\n",
      "[2] Standard Errors assume that the covariance matrix of the errors is correctly specified.\n"
     ]
    }
   ],
   "source": [
    "print(sms.OLS(pop_Y[sample_indices], np.hstack((pop_X, pop_Z))[sample_indices]).fit().summary())"
   ]
  },
  {
   "cell_type": "markdown",
   "metadata": {},
   "source": [
    "8. Neutral control (but raises precision)"
   ]
  },
  {
   "cell_type": "markdown",
   "metadata": {},
   "source": [
    "## 9."
   ]
  },
  {
   "cell_type": "markdown",
   "metadata": {},
   "source": [
    "![](assets/dags9.png)"
   ]
  },
  {
   "cell_type": "code",
   "execution_count": 28,
   "metadata": {},
   "outputs": [],
   "source": [
    "pop_X = np.random.normal(0, 1, (1_000_000, 1))\n",
    "pop_U = np.random.normal(0, 1, (1_000_000, 1))\n",
    "pop_Y = pop_X + pop_U + np.random.normal(0, 1, (1_000_000, 1))\n",
    "pop_Z = pop_X + pop_U + np.random.normal(0, 1, (1_000_000, 1))"
   ]
  },
  {
   "cell_type": "code",
   "execution_count": 29,
   "metadata": {},
   "outputs": [
    {
     "name": "stdout",
     "output_type": "stream",
     "text": [
      "                                 OLS Regression Results                                \n",
      "=======================================================================================\n",
      "Dep. Variable:                      y   R-squared (uncentered):                   0.338\n",
      "Model:                            OLS   Adj. R-squared (uncentered):              0.338\n",
      "Method:                 Least Squares   F-statistic:                              534.2\n",
      "Date:                Thu, 03 Oct 2024   Prob (F-statistic):                    8.53e-96\n",
      "Time:                        12:12:16   Log-Likelihood:                         -1843.9\n",
      "No. Observations:                1046   AIC:                                      3690.\n",
      "Df Residuals:                    1045   BIC:                                      3695.\n",
      "Df Model:                           1                                                  \n",
      "Covariance Type:            nonrobust                                                  \n",
      "==============================================================================\n",
      "                 coef    std err          t      P>|t|      [0.025      0.975]\n",
      "------------------------------------------------------------------------------\n",
      "x1             1.0301      0.045     23.113      0.000       0.943       1.118\n",
      "==============================================================================\n",
      "Omnibus:                        5.128   Durbin-Watson:                   1.983\n",
      "Prob(Omnibus):                  0.077   Jarque-Bera (JB):                4.016\n",
      "Skew:                          -0.022   Prob(JB):                        0.134\n",
      "Kurtosis:                       2.700   Cond. No.                         1.00\n",
      "==============================================================================\n",
      "\n",
      "Notes:\n",
      "[1] R² is computed without centering (uncentered) since the model does not contain a constant.\n",
      "[2] Standard Errors assume that the covariance matrix of the errors is correctly specified.\n"
     ]
    }
   ],
   "source": [
    "print(sms.OLS(pop_Y[sample_indices], pop_X[sample_indices]).fit().summary())"
   ]
  },
  {
   "cell_type": "code",
   "execution_count": 30,
   "metadata": {},
   "outputs": [
    {
     "name": "stdout",
     "output_type": "stream",
     "text": [
      "                                 OLS Regression Results                                \n",
      "=======================================================================================\n",
      "Dep. Variable:                      y   R-squared (uncentered):                   0.503\n",
      "Model:                            OLS   Adj. R-squared (uncentered):              0.502\n",
      "Method:                 Least Squares   F-statistic:                              528.4\n",
      "Date:                Thu, 03 Oct 2024   Prob (F-statistic):                   3.03e-159\n",
      "Time:                        12:12:16   Log-Likelihood:                         -1694.2\n",
      "No. Observations:                1046   AIC:                                      3392.\n",
      "Df Residuals:                    1044   BIC:                                      3402.\n",
      "Df Model:                           2                                                  \n",
      "Covariance Type:            nonrobust                                                  \n",
      "==============================================================================\n",
      "                 coef    std err          t      P>|t|      [0.025      0.975]\n",
      "------------------------------------------------------------------------------\n",
      "x1             0.5265      0.047     11.159      0.000       0.434       0.619\n",
      "x2             0.4956      0.027     18.604      0.000       0.443       0.548\n",
      "==============================================================================\n",
      "Omnibus:                       10.064   Durbin-Watson:                   2.021\n",
      "Prob(Omnibus):                  0.007   Jarque-Bera (JB):                7.028\n",
      "Skew:                          -0.056   Prob(JB):                       0.0298\n",
      "Kurtosis:                       2.614   Cond. No.                         2.44\n",
      "==============================================================================\n",
      "\n",
      "Notes:\n",
      "[1] R² is computed without centering (uncentered) since the model does not contain a constant.\n",
      "[2] Standard Errors assume that the covariance matrix of the errors is correctly specified.\n"
     ]
    }
   ],
   "source": [
    "print(sms.OLS(pop_Y[sample_indices], np.hstack((pop_X, pop_Z))[sample_indices]).fit().summary())"
   ]
  },
  {
   "cell_type": "markdown",
   "metadata": {},
   "source": [
    "9. Bad control: introduces selection bias"
   ]
  },
  {
   "cell_type": "markdown",
   "metadata": {},
   "source": [
    "## 10"
   ]
  },
  {
   "cell_type": "markdown",
   "metadata": {},
   "source": [
    "![](assets/dags10.png)"
   ]
  },
  {
   "cell_type": "code",
   "execution_count": 31,
   "metadata": {},
   "outputs": [],
   "source": [
    "pop_X = np.random.normal(0, 1, (1_000_000, 1))\n",
    "pop_Y = pop_X + np.random.normal(0, 1, (1_000_000, 1))\n",
    "pop_Z = pop_Y + np.random.normal(0, 1, (1_000_000, 1))"
   ]
  },
  {
   "cell_type": "code",
   "execution_count": 32,
   "metadata": {},
   "outputs": [
    {
     "name": "stdout",
     "output_type": "stream",
     "text": [
      "                                 OLS Regression Results                                \n",
      "=======================================================================================\n",
      "Dep. Variable:                      y   R-squared (uncentered):                   0.508\n",
      "Model:                            OLS   Adj. R-squared (uncentered):              0.508\n",
      "Method:                 Least Squares   F-statistic:                              1079.\n",
      "Date:                Thu, 03 Oct 2024   Prob (F-statistic):                   3.60e-163\n",
      "Time:                        12:12:16   Log-Likelihood:                         -1509.5\n",
      "No. Observations:                1046   AIC:                                      3021.\n",
      "Df Residuals:                    1045   BIC:                                      3026.\n",
      "Df Model:                           1                                                  \n",
      "Covariance Type:            nonrobust                                                  \n",
      "==============================================================================\n",
      "                 coef    std err          t      P>|t|      [0.025      0.975]\n",
      "------------------------------------------------------------------------------\n",
      "x1             1.0064      0.031     32.853      0.000       0.946       1.066\n",
      "==============================================================================\n",
      "Omnibus:                        3.747   Durbin-Watson:                   1.986\n",
      "Prob(Omnibus):                  0.154   Jarque-Bera (JB):                3.262\n",
      "Skew:                           0.057   Prob(JB):                        0.196\n",
      "Kurtosis:                       2.751   Cond. No.                         1.00\n",
      "==============================================================================\n",
      "\n",
      "Notes:\n",
      "[1] R² is computed without centering (uncentered) since the model does not contain a constant.\n",
      "[2] Standard Errors assume that the covariance matrix of the errors is correctly specified.\n"
     ]
    }
   ],
   "source": [
    "print(sms.OLS(pop_Y[sample_indices], pop_X[sample_indices]).fit().summary())"
   ]
  },
  {
   "cell_type": "code",
   "execution_count": 33,
   "metadata": {},
   "outputs": [
    {
     "name": "stdout",
     "output_type": "stream",
     "text": [
      "                                 OLS Regression Results                                \n",
      "=======================================================================================\n",
      "Dep. Variable:                      y   R-squared (uncentered):                   0.756\n",
      "Model:                            OLS   Adj. R-squared (uncentered):              0.756\n",
      "Method:                 Least Squares   F-statistic:                              1618.\n",
      "Date:                Thu, 03 Oct 2024   Prob (F-statistic):                   1.58e-320\n",
      "Time:                        12:12:16   Log-Likelihood:                         -1142.8\n",
      "No. Observations:                1046   AIC:                                      2290.\n",
      "Df Residuals:                    1044   BIC:                                      2299.\n",
      "Df Model:                           2                                                  \n",
      "Covariance Type:            nonrobust                                                  \n",
      "==============================================================================\n",
      "                 coef    std err          t      P>|t|      [0.025      0.975]\n",
      "------------------------------------------------------------------------------\n",
      "x1             0.5121      0.026     19.409      0.000       0.460       0.564\n",
      "x2             0.5092      0.016     32.572      0.000       0.479       0.540\n",
      "==============================================================================\n",
      "Omnibus:                        0.852   Durbin-Watson:                   2.052\n",
      "Prob(Omnibus):                  0.653   Jarque-Bera (JB):                0.934\n",
      "Skew:                           0.051   Prob(JB):                        0.627\n",
      "Kurtosis:                       2.894   Cond. No.                         2.36\n",
      "==============================================================================\n",
      "\n",
      "Notes:\n",
      "[1] R² is computed without centering (uncentered) since the model does not contain a constant.\n",
      "[2] Standard Errors assume that the covariance matrix of the errors is correctly specified.\n"
     ]
    }
   ],
   "source": [
    "print(sms.OLS(pop_Y[sample_indices], np.hstack((pop_X, pop_Z))[sample_indices]).fit().summary())"
   ]
  },
  {
   "cell_type": "markdown",
   "metadata": {},
   "source": [
    "10. Bad control: this is called case-control bias"
   ]
  }
 ],
 "metadata": {
  "kernelspec": {
   "display_name": ".venv",
   "language": "python",
   "name": "python3"
  },
  "language_info": {
   "codemirror_mode": {
    "name": "ipython",
    "version": 3
   },
   "file_extension": ".py",
   "mimetype": "text/x-python",
   "name": "python",
   "nbconvert_exporter": "python",
   "pygments_lexer": "ipython3",
   "version": "3.11.5"
  }
 },
 "nbformat": 4,
 "nbformat_minor": 2
}

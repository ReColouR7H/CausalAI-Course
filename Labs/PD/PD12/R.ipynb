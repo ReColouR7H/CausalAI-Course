{
 "cells": [
  {
   "cell_type": "markdown",
   "metadata": {
    "id": "pb2sy6fp2HrD",
    "papermill": {
     "duration": 0.005873,
     "end_time": "2021-02-13T17:32:35.332473",
     "exception": false,
     "start_time": "2021-02-13T17:32:35.326600",
     "status": "completed"
    },
    "tags": []
   },
   "source": [
    "# Double/Debiased Machine Learning for the Partially Linear Regression Model\n",
    "\n",
    "This is a simple implementation of Debiased Machine Learning for the Partially Linear Regression Model, which provides an application of DML inference to determine the causal effect of countries' intitial wealth on the rate of economic growth.\n",
    "\n",
    "\n",
    "Reference:\n",
    "\n",
    "- https://arxiv.org/abs/1608.00060\n",
    "- https://www.amazon.com/Business-Data-Science-Combining-Accelerate/dp/1260452778\n",
    "\n",
    "The code is based on the book."
   ]
  },
  {
   "cell_type": "code",
   "execution_count": 1,
   "metadata": {
    "colab": {
     "base_uri": "https://localhost:8080/"
    },
    "collapsed": true,
    "execution": {
     "iopub.execute_input": "2021-02-13T17:32:35.378544Z",
     "iopub.status.busy": "2021-02-13T17:32:35.375857Z",
     "iopub.status.idle": "2021-02-13T17:33:08.345196Z",
     "shell.execute_reply": "2021-02-13T17:33:08.343218Z"
    },
    "id": "cbZVJg6j2HrH",
    "outputId": "6148cfbd-ab4f-4399-98a4-8dd9b963a220",
    "papermill": {
     "duration": 33.00131,
     "end_time": "2021-02-13T17:33:08.345470",
     "exception": false,
     "start_time": "2021-02-13T17:32:35.344160",
     "status": "completed"
    },
    "tags": [],
    "vscode": {
     "languageId": "r"
    }
   },
   "outputs": [
    {
     "name": "stdout",
     "output_type": "stream",
     "text": [
      "\n",
      "The downloaded binary packages are in\n",
      "\t/var/folders/k0/5jhn7d7s1l75cf1srqv1wy980000gn/T//RtmpMmnuJP/downloaded_packages\n",
      "\n",
      "  There is a binary version available but the source version is later:\n",
      "    binary source needs_compilation\n",
      "hdm  0.3.1  0.3.2             FALSE\n",
      "\n"
     ]
    },
    {
     "name": "stderr",
     "output_type": "stream",
     "text": [
      "installing the source package 'hdm'\n",
      "\n",
      "\n"
     ]
    },
    {
     "name": "stdout",
     "output_type": "stream",
     "text": [
      "\n",
      "  There is a binary version available but the source version is later:\n",
      "              binary  source needs_compilation\n",
      "randomForest 4.7-1.1 4.7-1.2              TRUE\n",
      "\n"
     ]
    },
    {
     "name": "stderr",
     "output_type": "stream",
     "text": [
      "installing the source package 'randomForest'\n",
      "\n",
      "\n"
     ]
    },
    {
     "name": "stdout",
     "output_type": "stream",
     "text": [
      "\n",
      "The downloaded binary packages are in\n",
      "\t/var/folders/k0/5jhn7d7s1l75cf1srqv1wy980000gn/T//RtmpMmnuJP/downloaded_packages\n",
      "\n",
      "  There is a binary version available but the source version is later:\n",
      "         binary source needs_compilation\n",
      "sandwich  3.1-0  3.1-1             FALSE\n",
      "\n"
     ]
    },
    {
     "name": "stderr",
     "output_type": "stream",
     "text": [
      "installing the source package 'sandwich'\n",
      "\n",
      "\n",
      "randomForest 4.7-1.2\n",
      "\n",
      "Type rfNews() to see new features/changes/bug fixes.\n",
      "\n",
      "Loading required package: Matrix\n",
      "\n",
      "Loaded glmnet 4.1-8\n",
      "\n"
     ]
    }
   ],
   "source": [
    "install.packages(\"xtable\")\n",
    "install.packages(\"hdm\")\n",
    "install.packages(\"randomForest\")\n",
    "install.packages(\"glmnet\")\n",
    "install.packages(\"sandwich\")\n",
    "\n",
    "library(xtable)\n",
    "library(randomForest)\n",
    "library(hdm)\n",
    "library(glmnet)\n",
    "library(sandwich)\n",
    "\n",
    "set.seed(1)"
   ]
  },
  {
   "cell_type": "code",
   "execution_count": 2,
   "metadata": {
    "id": "1I8mEMEM33fS",
    "vscode": {
     "languageId": "r"
    }
   },
   "outputs": [
    {
     "data": {
      "text/html": [
       "<table class=\"dataframe\">\n",
       "<caption>A data.frame: 6 x 63</caption>\n",
       "<thead>\n",
       "\t<tr><th></th><th scope=col>Outcome</th><th scope=col>intercept</th><th scope=col>gdpsh465</th><th scope=col>bmp1l</th><th scope=col>freeop</th><th scope=col>freetar</th><th scope=col>h65</th><th scope=col>hm65</th><th scope=col>hf65</th><th scope=col>p65</th><th scope=col>...</th><th scope=col>seccf65</th><th scope=col>syr65</th><th scope=col>syrm65</th><th scope=col>syrf65</th><th scope=col>teapri65</th><th scope=col>teasec65</th><th scope=col>ex1</th><th scope=col>im1</th><th scope=col>xr65</th><th scope=col>tot1</th></tr>\n",
       "\t<tr><th></th><th scope=col>&lt;dbl&gt;</th><th scope=col>&lt;int&gt;</th><th scope=col>&lt;dbl&gt;</th><th scope=col>&lt;dbl&gt;</th><th scope=col>&lt;dbl&gt;</th><th scope=col>&lt;dbl&gt;</th><th scope=col>&lt;dbl&gt;</th><th scope=col>&lt;dbl&gt;</th><th scope=col>&lt;dbl&gt;</th><th scope=col>&lt;dbl&gt;</th><th scope=col>...</th><th scope=col>&lt;dbl&gt;</th><th scope=col>&lt;dbl&gt;</th><th scope=col>&lt;dbl&gt;</th><th scope=col>&lt;dbl&gt;</th><th scope=col>&lt;dbl&gt;</th><th scope=col>&lt;dbl&gt;</th><th scope=col>&lt;dbl&gt;</th><th scope=col>&lt;dbl&gt;</th><th scope=col>&lt;dbl&gt;</th><th scope=col>&lt;dbl&gt;</th></tr>\n",
       "</thead>\n",
       "<tbody>\n",
       "\t<tr><th scope=row>1</th><td>-0.02433575</td><td>1</td><td>6.591674</td><td>0.2837</td><td>0.153491</td><td>0.043888</td><td>0.007</td><td>0.013</td><td>0.001</td><td>0.29</td><td>...</td><td> 0.04</td><td>0.033</td><td>0.057</td><td>0.010</td><td>47.6</td><td>17.3</td><td>0.0729</td><td>0.0667</td><td>0.348</td><td>-0.014727</td></tr>\n",
       "\t<tr><th scope=row>2</th><td> 0.10047257</td><td>1</td><td>6.829794</td><td>0.6141</td><td>0.313509</td><td>0.061827</td><td>0.019</td><td>0.032</td><td>0.007</td><td>0.91</td><td>...</td><td> 0.64</td><td>0.173</td><td>0.274</td><td>0.067</td><td>57.1</td><td>18.0</td><td>0.0940</td><td>0.1438</td><td>0.525</td><td> 0.005750</td></tr>\n",
       "\t<tr><th scope=row>3</th><td> 0.06705148</td><td>1</td><td>8.895082</td><td>0.0000</td><td>0.204244</td><td>0.009186</td><td>0.260</td><td>0.325</td><td>0.201</td><td>1.00</td><td>...</td><td>18.14</td><td>2.573</td><td>2.478</td><td>2.667</td><td>26.5</td><td>20.7</td><td>0.1741</td><td>0.1750</td><td>1.082</td><td>-0.010040</td></tr>\n",
       "\t<tr><th scope=row>4</th><td> 0.06408917</td><td>1</td><td>7.565275</td><td>0.1997</td><td>0.248714</td><td>0.036270</td><td>0.061</td><td>0.070</td><td>0.051</td><td>1.00</td><td>...</td><td> 2.63</td><td>0.438</td><td>0.453</td><td>0.424</td><td>27.8</td><td>22.7</td><td>0.1265</td><td>0.1496</td><td>6.625</td><td>-0.002195</td></tr>\n",
       "\t<tr><th scope=row>5</th><td> 0.02792955</td><td>1</td><td>7.162397</td><td>0.1740</td><td>0.299252</td><td>0.037367</td><td>0.017</td><td>0.027</td><td>0.007</td><td>0.82</td><td>...</td><td> 2.11</td><td>0.257</td><td>0.287</td><td>0.229</td><td>34.5</td><td>17.6</td><td>0.1211</td><td>0.1308</td><td>2.500</td><td> 0.003283</td></tr>\n",
       "\t<tr><th scope=row>6</th><td> 0.04640744</td><td>1</td><td>7.218910</td><td>0.0000</td><td>0.258865</td><td>0.020880</td><td>0.023</td><td>0.038</td><td>0.006</td><td>0.50</td><td>...</td><td> 1.46</td><td>0.160</td><td>0.174</td><td>0.146</td><td>34.3</td><td> 8.1</td><td>0.0634</td><td>0.0762</td><td>1.000</td><td>-0.001747</td></tr>\n",
       "</tbody>\n",
       "</table>\n"
      ],
      "text/latex": [
       "A data.frame: 6 x 63\n",
       "\\begin{tabular}{r|lllllllllllllllllllll}\n",
       "  & Outcome & intercept & gdpsh465 & bmp1l & freeop & freetar & h65 & hm65 & hf65 & p65 & ... & seccf65 & syr65 & syrm65 & syrf65 & teapri65 & teasec65 & ex1 & im1 & xr65 & tot1\\\\\n",
       "  & <dbl> & <int> & <dbl> & <dbl> & <dbl> & <dbl> & <dbl> & <dbl> & <dbl> & <dbl> & ... & <dbl> & <dbl> & <dbl> & <dbl> & <dbl> & <dbl> & <dbl> & <dbl> & <dbl> & <dbl>\\\\\n",
       "\\hline\n",
       "\t1 & -0.02433575 & 1 & 6.591674 & 0.2837 & 0.153491 & 0.043888 & 0.007 & 0.013 & 0.001 & 0.29 & ... &  0.04 & 0.033 & 0.057 & 0.010 & 47.6 & 17.3 & 0.0729 & 0.0667 & 0.348 & -0.014727\\\\\n",
       "\t2 &  0.10047257 & 1 & 6.829794 & 0.6141 & 0.313509 & 0.061827 & 0.019 & 0.032 & 0.007 & 0.91 & ... &  0.64 & 0.173 & 0.274 & 0.067 & 57.1 & 18.0 & 0.0940 & 0.1438 & 0.525 &  0.005750\\\\\n",
       "\t3 &  0.06705148 & 1 & 8.895082 & 0.0000 & 0.204244 & 0.009186 & 0.260 & 0.325 & 0.201 & 1.00 & ... & 18.14 & 2.573 & 2.478 & 2.667 & 26.5 & 20.7 & 0.1741 & 0.1750 & 1.082 & -0.010040\\\\\n",
       "\t4 &  0.06408917 & 1 & 7.565275 & 0.1997 & 0.248714 & 0.036270 & 0.061 & 0.070 & 0.051 & 1.00 & ... &  2.63 & 0.438 & 0.453 & 0.424 & 27.8 & 22.7 & 0.1265 & 0.1496 & 6.625 & -0.002195\\\\\n",
       "\t5 &  0.02792955 & 1 & 7.162397 & 0.1740 & 0.299252 & 0.037367 & 0.017 & 0.027 & 0.007 & 0.82 & ... &  2.11 & 0.257 & 0.287 & 0.229 & 34.5 & 17.6 & 0.1211 & 0.1308 & 2.500 &  0.003283\\\\\n",
       "\t6 &  0.04640744 & 1 & 7.218910 & 0.0000 & 0.258865 & 0.020880 & 0.023 & 0.038 & 0.006 & 0.50 & ... &  1.46 & 0.160 & 0.174 & 0.146 & 34.3 &  8.1 & 0.0634 & 0.0762 & 1.000 & -0.001747\\\\\n",
       "\\end{tabular}\n"
      ],
      "text/markdown": [
       "\n",
       "A data.frame: 6 x 63\n",
       "\n",
       "| <!--/--> | Outcome &lt;dbl&gt; | intercept &lt;int&gt; | gdpsh465 &lt;dbl&gt; | bmp1l &lt;dbl&gt; | freeop &lt;dbl&gt; | freetar &lt;dbl&gt; | h65 &lt;dbl&gt; | hm65 &lt;dbl&gt; | hf65 &lt;dbl&gt; | p65 &lt;dbl&gt; | ... ... | seccf65 &lt;dbl&gt; | syr65 &lt;dbl&gt; | syrm65 &lt;dbl&gt; | syrf65 &lt;dbl&gt; | teapri65 &lt;dbl&gt; | teasec65 &lt;dbl&gt; | ex1 &lt;dbl&gt; | im1 &lt;dbl&gt; | xr65 &lt;dbl&gt; | tot1 &lt;dbl&gt; |\n",
       "|---|---|---|---|---|---|---|---|---|---|---|---|---|---|---|---|---|---|---|---|---|---|\n",
       "| 1 | -0.02433575 | 1 | 6.591674 | 0.2837 | 0.153491 | 0.043888 | 0.007 | 0.013 | 0.001 | 0.29 | ... |  0.04 | 0.033 | 0.057 | 0.010 | 47.6 | 17.3 | 0.0729 | 0.0667 | 0.348 | -0.014727 |\n",
       "| 2 |  0.10047257 | 1 | 6.829794 | 0.6141 | 0.313509 | 0.061827 | 0.019 | 0.032 | 0.007 | 0.91 | ... |  0.64 | 0.173 | 0.274 | 0.067 | 57.1 | 18.0 | 0.0940 | 0.1438 | 0.525 |  0.005750 |\n",
       "| 3 |  0.06705148 | 1 | 8.895082 | 0.0000 | 0.204244 | 0.009186 | 0.260 | 0.325 | 0.201 | 1.00 | ... | 18.14 | 2.573 | 2.478 | 2.667 | 26.5 | 20.7 | 0.1741 | 0.1750 | 1.082 | -0.010040 |\n",
       "| 4 |  0.06408917 | 1 | 7.565275 | 0.1997 | 0.248714 | 0.036270 | 0.061 | 0.070 | 0.051 | 1.00 | ... |  2.63 | 0.438 | 0.453 | 0.424 | 27.8 | 22.7 | 0.1265 | 0.1496 | 6.625 | -0.002195 |\n",
       "| 5 |  0.02792955 | 1 | 7.162397 | 0.1740 | 0.299252 | 0.037367 | 0.017 | 0.027 | 0.007 | 0.82 | ... |  2.11 | 0.257 | 0.287 | 0.229 | 34.5 | 17.6 | 0.1211 | 0.1308 | 2.500 |  0.003283 |\n",
       "| 6 |  0.04640744 | 1 | 7.218910 | 0.0000 | 0.258865 | 0.020880 | 0.023 | 0.038 | 0.006 | 0.50 | ... |  1.46 | 0.160 | 0.174 | 0.146 | 34.3 |  8.1 | 0.0634 | 0.0762 | 1.000 | -0.001747 |\n",
       "\n"
      ],
      "text/plain": [
       "  Outcome     intercept gdpsh465 bmp1l  freeop   freetar  h65   hm65  hf65 \n",
       "1 -0.02433575 1         6.591674 0.2837 0.153491 0.043888 0.007 0.013 0.001\n",
       "2  0.10047257 1         6.829794 0.6141 0.313509 0.061827 0.019 0.032 0.007\n",
       "3  0.06705148 1         8.895082 0.0000 0.204244 0.009186 0.260 0.325 0.201\n",
       "4  0.06408917 1         7.565275 0.1997 0.248714 0.036270 0.061 0.070 0.051\n",
       "5  0.02792955 1         7.162397 0.1740 0.299252 0.037367 0.017 0.027 0.007\n",
       "6  0.04640744 1         7.218910 0.0000 0.258865 0.020880 0.023 0.038 0.006\n",
       "  p65  ... seccf65 syr65 syrm65 syrf65 teapri65 teasec65 ex1    im1    xr65 \n",
       "1 0.29 ...  0.04   0.033 0.057  0.010  47.6     17.3     0.0729 0.0667 0.348\n",
       "2 0.91 ...  0.64   0.173 0.274  0.067  57.1     18.0     0.0940 0.1438 0.525\n",
       "3 1.00 ... 18.14   2.573 2.478  2.667  26.5     20.7     0.1741 0.1750 1.082\n",
       "4 1.00 ...  2.63   0.438 0.453  0.424  27.8     22.7     0.1265 0.1496 6.625\n",
       "5 0.82 ...  2.11   0.257 0.287  0.229  34.5     17.6     0.1211 0.1308 2.500\n",
       "6 0.50 ...  1.46   0.160 0.174  0.146  34.3      8.1     0.0634 0.0762 1.000\n",
       "  tot1     \n",
       "1 -0.014727\n",
       "2  0.005750\n",
       "3 -0.010040\n",
       "4 -0.002195\n",
       "5  0.003283\n",
       "6 -0.001747"
      ]
     },
     "metadata": {},
     "output_type": "display_data"
    },
    {
     "data": {
      "text/html": [
       "<style>\n",
       ".list-inline {list-style: none; margin:0; padding: 0}\n",
       ".list-inline>li {display: inline-block}\n",
       ".list-inline>li:not(:last-child)::after {content: \"\\00b7\"; padding: 0 .5ex}\n",
       "</style>\n",
       "<ol class=list-inline><li>90</li><li>63</li></ol>\n"
      ],
      "text/latex": [
       "\\begin{enumerate*}\n",
       "\\item 90\n",
       "\\item 63\n",
       "\\end{enumerate*}\n"
      ],
      "text/markdown": [
       "1. 90\n",
       "2. 63\n",
       "\n",
       "\n"
      ],
      "text/plain": [
       "[1] 90 63"
      ]
     },
     "metadata": {},
     "output_type": "display_data"
    }
   ],
   "source": [
    "file <- \"https://raw.githubusercontent.com/CausalAIBook/MetricsMLNotebooks/main/data/GrowthData.csv\"\n",
    "data <- read.csv(file)\n",
    "data <- subset(data, select = -1) # get rid of index column\n",
    "head(data)\n",
    "dim(data)"
   ]
  },
  {
   "cell_type": "code",
   "execution_count": 3,
   "metadata": {
    "id": "hiwEVN6i4FIH",
    "vscode": {
     "languageId": "r"
    }
   },
   "outputs": [
    {
     "name": "stdout",
     "output_type": "stream",
     "text": [
      "\n",
      "The length of y is 90 \n"
     ]
    },
    {
     "name": "stdout",
     "output_type": "stream",
     "text": [
      "\n",
      "The number of features in x is 60 \n",
      "\n",
      "Naive OLS that uses all features w/o cross-fitting Y ~ D+X yields: \n",
      "coef (se) = -0.00937799 (0.0298877)\n"
     ]
    }
   ],
   "source": [
    "y = as.matrix(data[,1])         # outcome: growth rate\n",
    "d = as.matrix(data[,3])         # treatment: initial wealth\n",
    "x = as.matrix(data[,-c(1,2,3)]) # controls: country characteristics\n",
    "\n",
    "# some summary statistics\n",
    "cat(sprintf(\"\\nThe length of y is %g \\n\", length(y) ))\n",
    "cat(sprintf(\"\\nThe number of features in x is %g \\n\", dim(x)[2] ))\n",
    "\n",
    "lres=summary(lm(y~d +x))$coef[2,1:2]\n",
    "cat(sprintf(\"\\nNaive OLS that uses all features w/o cross-fitting Y ~ D+X yields: \\ncoef (se) = %g (%g)\\n\", lres[1] , lres[2]))"
   ]
  },
  {
   "cell_type": "markdown",
   "metadata": {
    "id": "OLPq-MxG2HrH",
    "papermill": {
     "duration": 0.003613,
     "end_time": "2021-02-13T17:32:35.340781",
     "exception": false,
     "start_time": "2021-02-13T17:32:35.337168",
     "status": "completed"
    },
    "tags": []
   },
   "source": [
    "# DML algorithm\n",
    "\n",
    "Here we perform estimation and inference of predictive coefficient $\\alpha$ in the partially linear statistical model,\n",
    "$$\n",
    "Y = D\\alpha + g(X) + U, \\quad E (U | D, X) = 0.\n",
    "$$\n",
    "For $\\tilde Y = Y- E(Y|X)$ and $\\tilde D= D- E(D|X)$, we can write\n",
    "$$\n",
    "\\tilde Y = \\alpha \\tilde D + U, \\quad E (U |\\tilde D) =0.\n",
    "$$\n",
    "Parameter $\\alpha$ is then estimated using cross-fitting approach to obtain the residuals $\\tilde D$ and $\\tilde Y$.\n",
    "The algorithm comsumes $Y, D, X$, and machine learning methods for learning the residuals $\\tilde Y$ and $\\tilde D$, where\n",
    "the residuals are obtained by cross-validation (cross-fitting).\n",
    "\n",
    "The statistical parameter $\\alpha$ has a causal interpretation of being the effect of $D$ on $Y$ in the causal DAG $$ D\\to Y, \\quad X\\to (D,Y)$$ or the counterfactual outcome model with conditionally exogenous (conditionally random) assignment of treatment $D$ given $X$:\n",
    "$$\n",
    "Y(d) = d\\alpha + g(X) + U(d),\\quad  U(d) \\text{ indep } D |X, \\quad Y = Y(D), \\quad U = U(D).\n",
    "$$\n"
   ]
  },
  {
   "cell_type": "code",
   "execution_count": 4,
   "metadata": {
    "execution": {
     "iopub.execute_input": "2021-02-13T17:33:08.406107Z",
     "iopub.status.busy": "2021-02-13T17:33:08.360037Z",
     "iopub.status.idle": "2021-02-13T17:33:08.423732Z",
     "shell.execute_reply": "2021-02-13T17:33:08.422038Z"
    },
    "id": "2HTwak-I2HrK",
    "papermill": {
     "duration": 0.07299,
     "end_time": "2021-02-13T17:33:08.423882",
     "exception": false,
     "start_time": "2021-02-13T17:33:08.350892",
     "status": "completed"
    },
    "tags": [],
    "vscode": {
     "languageId": "r"
    }
   },
   "outputs": [],
   "source": [
    "DML2.for.PLM <- function(x, d, y, dreg, yreg, nfold=2) {\n",
    "  nobs <- nrow(x) #number of observations\n",
    "  foldid <- rep.int(1:nfold,times = ceiling(nobs/nfold))[sample.int(nobs)] #define folds indices\n",
    "  I <- split(1:nobs, foldid)  #split observation indices into folds\n",
    "  ytil <- dtil <- rep(NA, nobs)\n",
    "  cat(\"fold: \")\n",
    "  for(b in 1:length(I)){\n",
    "    dfit <- dreg(x[-I[[b]],], d[-I[[b]]]) #take a fold out\n",
    "    yfit <- yreg(x[-I[[b]],], y[-I[[b]]]) # take a foldt out\n",
    "    dhat <- predict(dfit, x[I[[b]],], type=\"response\") #predict the left-out fold\n",
    "    yhat <- predict(yfit, x[I[[b]],], type=\"response\") #predict the left-out fold\n",
    "    dtil[I[[b]]] <- (d[I[[b]]] - dhat) #record residual for the left-out fold\n",
    "    ytil[I[[b]]] <- (y[I[[b]]] - yhat) #record residial for the left-out fold\n",
    "    cat(b,\" \")\n",
    "        }\n",
    "  rfit <- lm(ytil ~ dtil)    #estimate the main parameter by regressing one residual on the other\n",
    "  coef.est <- coef(rfit)[2]  #extract coefficient\n",
    "  se <- sqrt(vcovHC(rfit)[2,2]) #record robust standard error\n",
    "  cat(sprintf(\"\\ncoef (se) = %g (%g)\\n\", coef.est , se))  #printing output\n",
    "  return( list(coef.est =coef.est , se=se, dtil=dtil, ytil=ytil) ) #save output and residuals\n",
    "}\n"
   ]
  },
  {
   "cell_type": "markdown",
   "metadata": {
    "id": "IZ7zixqZCE3s"
   },
   "source": [
    "We now run through DML using as first stage models:\n",
    " 1. OLS\n",
    " 2. (Rigorous) Lasso\n",
    " 3. Random Forests\n",
    " 4. Mix of Random Forest and Lasso"
   ]
  },
  {
   "cell_type": "code",
   "execution_count": 5,
   "metadata": {
    "execution": {
     "iopub.execute_input": "2021-02-13T17:33:08.438648Z",
     "iopub.status.busy": "2021-02-13T17:33:08.436622Z",
     "iopub.status.idle": "2021-02-13T17:33:27.087838Z",
     "shell.execute_reply": "2021-02-13T17:33:27.086924Z"
    },
    "id": "6-yAopZY2HrK",
    "papermill": {
     "duration": 18.659748,
     "end_time": "2021-02-13T17:33:27.088051",
     "exception": false,
     "start_time": "2021-02-13T17:33:08.428303",
     "status": "completed"
    },
    "tags": [],
    "vscode": {
     "languageId": "r"
    }
   },
   "outputs": [
    {
     "name": "stdout",
     "output_type": "stream",
     "text": [
      "\n",
      "DML with OLS w/o feature selection \n",
      "fold: 1  2  3  4  5  6  7  8  9  10  \n",
      "coef (se) = 0.01013 (0.0167061)\n",
      "\n",
      "DML with Lasso \n",
      "fold: 1  2  3  4  5  6  7  8  9  10  \n",
      "coef (se) = -0.0417523 (0.016092)\n",
      "\n",
      "DML with Random Forest \n",
      "fold: 1  2  3  4  5  6  7  8  9  10  \n",
      "coef (se) = -0.038251 (0.0149232)\n",
      "\n",
      "DML with Lasso for D and Random Forest for Y \n",
      "fold: 1  2  3  4  5  6  7  8  9  10  \n",
      "coef (se) = -0.040615 (0.0130871)\n"
     ]
    }
   ],
   "source": [
    "#DML with OLS\n",
    "cat(sprintf(\"\\nDML with OLS w/o feature selection \\n\"))\n",
    "dreg <- function(x,d){ glmnet(x, d, lambda = 0) } #ML method= OLS using glmnet; using lm gives bugs\n",
    "yreg <- function(x,y){ glmnet(x, y, lambda = 0) } #ML method = OLS\n",
    "DML2.OLS = DML2.for.PLM(x, d, y, dreg, yreg, nfold=10)\n",
    "\n",
    "\n",
    "#DML with Lasso:\n",
    "cat(sprintf(\"\\nDML with Lasso \\n\"))\n",
    "dreg <- function(x,d){ rlasso(x,d, post=FALSE) } #ML method= lasso from hdm\n",
    "yreg <- function(x,y){ rlasso(x,y, post=FALSE) } #ML method = lasso from hdm\n",
    "DML2.lasso = DML2.for.PLM(x, d, y, dreg, yreg, nfold=10)\n",
    "\n",
    "\n",
    "#DML with Random Forest:\n",
    "cat(sprintf(\"\\nDML with Random Forest \\n\"))\n",
    "dreg <- function(x,d){ randomForest(x, d) } #ML method=Forest\n",
    "yreg <- function(x,y){ randomForest(x, y) } #ML method=Forest\n",
    "DML2.RF = DML2.for.PLM(x, d, y, dreg, yreg, nfold=10)\n",
    "\n",
    "#DML MIX:\n",
    "cat(sprintf(\"\\nDML with Lasso for D and Random Forest for Y \\n\"))\n",
    "dreg <- function(x,d){ rlasso(x,d, post=FALSE) } #ML method=Forest\n",
    "yreg <- function(x,y){ randomForest(x, y) } #ML method=Forest\n",
    "DML2.mix = DML2.for.PLM(x, d, y, dreg, yreg, nfold=10)\n"
   ]
  },
  {
   "cell_type": "markdown",
   "metadata": {
    "id": "KvnMvuYo_gm1"
   },
   "source": [
    "Now we examine the RMSE of D and Y to see which method performs well in the first-stage. We print all results below in the following table:"
   ]
  },
  {
   "cell_type": "code",
   "execution_count": 6,
   "metadata": {
    "execution": {
     "iopub.execute_input": "2021-02-13T17:33:27.115049Z",
     "iopub.status.busy": "2021-02-13T17:33:27.113322Z",
     "iopub.status.idle": "2021-02-13T17:33:27.269334Z",
     "shell.execute_reply": "2021-02-13T17:33:27.268359Z"
    },
    "id": "JLXHbUwN2HrL",
    "papermill": {
     "duration": 0.169839,
     "end_time": "2021-02-13T17:33:27.269543",
     "exception": false,
     "start_time": "2021-02-13T17:33:27.099704",
     "status": "completed"
    },
    "tags": [],
    "vscode": {
     "languageId": "r"
    }
   },
   "outputs": [],
   "source": [
    "prRes.D<- c( mean((DML2.OLS$dtil)^2), mean((DML2.lasso$dtil)^2), mean((DML2.RF$dtil)^2), mean((DML2.mix$dtil)^2));\n",
    "prRes.Y<- c(mean((DML2.OLS$ytil)^2), mean((DML2.lasso$ytil)^2),mean((DML2.RF$ytil)^2),mean((DML2.mix$ytil)^2));\n",
    "prRes<- rbind(sqrt(prRes.D), sqrt(prRes.Y));\n",
    "rownames(prRes)<- c(\"RMSE D\", \"RMSE Y\");\n",
    "colnames(prRes)<- c(\"OLS\", \"Lasso\", \"RF\", \"Mix\")"
   ]
  },
  {
   "cell_type": "code",
   "execution_count": null,
   "metadata": {
    "id": "a7WC2-_6_wMl",
    "vscode": {
     "languageId": "r"
    }
   },
   "outputs": [
    {
     "data": {
      "text/html": [
       "<table class=\"dataframe\">\n",
       "<caption>A matrix: 4 × 4 of type dbl</caption>\n",
       "<thead>\n",
       "\t<tr><th></th><th scope=col>Estimate</th><th scope=col>Standard Error</th><th scope=col>RMSE Y</th><th scope=col>RMSE D</th></tr>\n",
       "</thead>\n",
       "<tbody>\n",
       "\t<tr><th scope=row>OLS</th><td> 0.01013000</td><td>0.01670607</td><td>0.05372882</td><td>0.4667511</td></tr>\n",
       "\t<tr><th scope=row>Lasso</th><td>-0.04175226</td><td>0.01609199</td><td>0.05259734</td><td>0.3709391</td></tr>\n",
       "\t<tr><th scope=row>RF</th><td>-0.03825099</td><td>0.01492318</td><td>0.04574408</td><td>0.3806255</td></tr>\n",
       "\t<tr><th scope=row>RF/Lasso Mix</th><td>-0.04061496</td><td>0.01308714</td><td>0.04595863</td><td>0.3670470</td></tr>\n",
       "</tbody>\n",
       "</table>\n"
      ],
      "text/latex": [
       "A matrix: 4 × 4 of type dbl\n",
       "\\begin{tabular}{r|llll}\n",
       "  & Estimate & Standard Error & RMSE Y & RMSE D\\\\\n",
       "\\hline\n",
       "\tOLS &  0.01013000 & 0.01670607 & 0.05372882 & 0.4667511\\\\\n",
       "\tLasso & -0.04175226 & 0.01609199 & 0.05259734 & 0.3709391\\\\\n",
       "\tRF & -0.03825099 & 0.01492318 & 0.04574408 & 0.3806255\\\\\n",
       "\tRF/Lasso Mix & -0.04061496 & 0.01308714 & 0.04595863 & 0.3670470\\\\\n",
       "\\end{tabular}\n"
      ],
      "text/markdown": [
       "\n",
       "A matrix: 4 × 4 of type dbl\n",
       "\n",
       "| <!--/--> | Estimate | Standard Error | RMSE Y | RMSE D |\n",
       "|---|---|---|---|---|\n",
       "| OLS |  0.01013000 | 0.01670607 | 0.05372882 | 0.4667511 |\n",
       "| Lasso | -0.04175226 | 0.01609199 | 0.05259734 | 0.3709391 |\n",
       "| RF | -0.03825099 | 0.01492318 | 0.04574408 | 0.3806255 |\n",
       "| RF/Lasso Mix | -0.04061496 | 0.01308714 | 0.04595863 | 0.3670470 |\n",
       "\n"
      ],
      "text/plain": [
       "             Estimate    Standard Error RMSE Y     RMSE D   \n",
       "OLS           0.01013000 0.01670607     0.05372882 0.4667511\n",
       "Lasso        -0.04175226 0.01609199     0.05259734 0.3709391\n",
       "RF           -0.03825099 0.01492318     0.04574408 0.3806255\n",
       "RF/Lasso Mix -0.04061496 0.01308714     0.04595863 0.3670470"
      ]
     },
     "metadata": {},
     "output_type": "display_data"
    }
   ],
   "source": [
    "table <- matrix(0,3,4)\n",
    "\n",
    "# Point Estimate\n",
    "table[1,1] <- as.numeric(DML2.OLS$coef.est)\n",
    "table[2,1] <- as.numeric(DML2.lasso$coef.est)\n",
    "table[3,1] <- as.numeric(DML2.RF$coef.est)\n",
    "table[4,1]   <- as.numeric(DML2.mix$coef.est)\n",
    "\n",
    "# SE\n",
    "table[1,2] <- as.numeric(DML2.OLS$se)\n",
    "table[2,2] <- as.numeric(DML2.lasso$se)\n",
    "table[3,2] <- as.numeric(DML2.RF$se)\n",
    "table[4,2]   <- as.numeric(DML2.mix$se)\n",
    "\n",
    "# RMSE Y\n",
    "table[1,3] <- as.numeric(prRes[2,1])\n",
    "table[2,3] <- as.numeric(prRes[2,2])\n",
    "table[3,3] <- as.numeric(prRes[2,3])\n",
    "table[4,3]   <- as.numeric(prRes[2,4])\n",
    "\n",
    "# RMSE D\n",
    "table[1,4] <- as.numeric(prRes[1,1])\n",
    "table[2,4] <- as.numeric(prRes[1,2])\n",
    "table[3,4] <- as.numeric(prRes[1,3])\n",
    "table[4,4]   <- as.numeric(prRes[1,4])\n",
    "\n",
    "\n",
    "\n",
    "# print results\n",
    "colnames(table) <- c(\"Estimate\",\"Standard Error\", \"RMSE Y\", \"RMSE D\")\n",
    "rownames(table) <- c(\"OLS\", \"Lasso\", \"RF\", \"RF/Lasso Mix\")\n",
    "table"
   ]
  },
  {
   "cell_type": "code",
   "execution_count": 8,
   "metadata": {
    "id": "zZMbnWTE_yYd",
    "vscode": {
     "languageId": "r"
    }
   },
   "outputs": [
    {
     "name": "stdout",
     "output_type": "stream",
     "text": [
      "             Estimate Standard Error RMSE Y RMSE D\n",
      "OLS            0.0101         0.0167 0.0537  0.467\n",
      "Lasso         -0.0418         0.0161 0.0526  0.371\n",
      "RF            -0.0383         0.0149 0.0457  0.381\n",
      "RF/Lasso Mix  -0.0406         0.0131 0.0460  0.367\n"
     ]
    }
   ],
   "source": [
    "print(table, digit=3)"
   ]
  }
 ],
 "metadata": {
  "colab": {
   "provenance": []
  },
  "kernelspec": {
   "display_name": "R",
   "language": "R",
   "name": "ir"
  },
  "language_info": {
   "codemirror_mode": "r",
   "file_extension": ".r",
   "mimetype": "text/x-r-source",
   "name": "R",
   "pygments_lexer": "r",
   "version": "4.2.3"
  },
  "papermill": {
   "duration": 55.808166,
   "end_time": "2021-02-13T17:33:28.352086",
   "environment_variables": {},
   "exception": null,
   "input_path": "__notebook__.ipynb",
   "output_path": "__notebook__.ipynb",
   "parameters": {},
   "start_time": "2021-02-13T17:32:32.543920",
   "version": "2.1.3"
  }
 },
 "nbformat": 4,
 "nbformat_minor": 0
}

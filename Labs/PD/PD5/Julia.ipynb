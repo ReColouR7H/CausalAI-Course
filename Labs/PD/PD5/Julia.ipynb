{
 "cells": [
  {
   "cell_type": "code",
   "execution_count": 1,
   "metadata": {},
   "outputs": [],
   "source": [
    "cd(\"../../../temp\")"
   ]
  },
  {
   "cell_type": "code",
   "execution_count": 2,
   "metadata": {},
   "outputs": [
    {
     "name": "stderr",
     "output_type": "stream",
     "text": [
      "\u001b[32m\u001b[1m  Activating\u001b[22m\u001b[39m project at `c:\\Users\\Work\\Documents\\Personal\\Work\\classes\\PUCP 2024-II\\repo\\temp\\temp`\n"
     ]
    }
   ],
   "source": [
    "]activate temp"
   ]
  },
  {
   "cell_type": "markdown",
   "metadata": {},
   "source": [
    "# Lab 5: Causal Inference with Randomized Experiments\n",
    "\n",
    "As we saw in class, the problem of causal inference is the fact that we cannot observe, for the same individual, the outcome when they are put under a treatment and the same outcome when they are not put under the treatment. This means that we cannot find the individual effect of the treatment, which is the difference of the outcomes in either circumstance. However, we can approximate the expected difference at the population level, the **average treatment effect**. We also touched upon the fact that we cannot do this easily with observational data, as our observations may be biased because of underlying relationships between the real treatment and unobserved variables, meaning that a simple regression of the outcome on the treatment will not render a faithful approximation of the real. The following example will help illustrate how this failure to consider selection bias can lead us to both type 1 and type 2 errors.\n",
    "\n",
    "## Type 1 error:\n",
    "\n",
    "Imagine we are researchers in the first phase of research for a new drug aimed at reducing blood cholesterol levels. Because this is the first phase, we would like to assess the safety of the treatment. Therefor, we want to quantify the effect the the regime has on lung health. Let $Y(d)$ be the potential outcome of an indicator of overall respiratory health. Let $D$ be the observed treatment variable, and assume first that treatment was not assigned randomly, but that it is correlated with underlying variables lifestyle and demographic characteristics. Formally, we have the following model:\n",
    "\n",
    "\\begin{gather*}\n",
    "Y(0) = \\theta_0+\\epsilon_0\\\\\n",
    "Y(1) = \\theta_1+\\epsilon_1\\\\\n",
    "D = \\mathbb{1}(\\nu>0)\\\\\n",
    "Y=Y(D)=(1-D)Y(0)+DY(1)\n",
    "\\end{gather*}\n",
    "\n",
    "Here. $\\theta_0$ and $\\theta_1$ are the averages of their respective potential outcomes, $(\\epsilon_0, \\epsilon_1, \\nu)$ is a random vector of variables that are jointly distributed with mean 0 and covariance $\\Sigma$. $\\epsilon_0$ and $\\epsilon_1$ are determinants of overall lung health like lifestyle, exposure to environmental contaminants, diet, etc. For this specific example, the variable that determines treatment, $\\nu$, is negativelly correlated with $\\epsilon_0$ and $\\epsilon_1$. One way to interpret this is that people with worse overall lifestyle patterns that provoke worse lung health may also tend to have worse blood cholesterol content, and therefor are more likely to seek the treatment in question.\n",
    "\n",
    "For simulating the data, we will generate 100 000 observations of the variables in our model. We will assume that the average potential outcomes are $\\theta_0 = \\theta_1 =1$ and the covariance matrix is\n",
    "\n",
    "$$\n",
    "\\Sigma = \\left(\\begin{matrix}\n",
    "1 & 0 & -0.5\\\\\n",
    "0 & 1 & -0.5\\\\\n",
    "-0.5 & -0.5 & 1\n",
    "\\end{matrix}\\right)\n",
    "$$"
   ]
  },
  {
   "cell_type": "markdown",
   "metadata": {},
   "source": [
    "We start by simulating the data"
   ]
  },
  {
   "cell_type": "code",
   "execution_count": 3,
   "metadata": {},
   "outputs": [],
   "source": [
    "using Distributions\n",
    "using GLM"
   ]
  },
  {
   "cell_type": "code",
   "execution_count": 4,
   "metadata": {},
   "outputs": [],
   "source": [
    "N = 100_000\n",
    "cov_matrix = [1; 0; -.5;; 0; 1; -.5;; -.5; -.5; 1]\n",
    "random_shocks = rand(MvNormal([0, 0, 0], cov_matrix), N)'\n",
    "epsilon0 = random_shocks[:, 1]\n",
    "epsilon1 = random_shocks[:, 2]\n",
    "nu = random_shocks[:, 3]\n",
    "theta0 = 1\n",
    "theta1 = 1\n",
    "Y_0 = theta0 .+ epsilon0\n",
    "Y_1 = theta1 .+ epsilon1\n",
    "D_biased = Int.(nu .> 0)\n",
    "Y_biased = (1 .- D_biased) .* Y_0 + D_biased .* Y_1;"
   ]
  },
  {
   "cell_type": "markdown",
   "metadata": {},
   "source": [
    "Recall that the average treatment effect is defined as\n",
    "\n",
    "$$\n",
    "\\delta=E[Y(1) - Y(0)] = E[Y(1)] - E[Y(0)]\n",
    "$$\n",
    "\n",
    "In our example\n",
    "\n",
    "$$\n",
    "\\delta = \\theta_1-\\theta_0\n",
    "$$\n",
    "\n",
    "Given the way we have defined our model, this should just be 0. In reality, we cannot observe both $Y(0)$ and $Y(1)$. However, we can play by our own rules when we are the ones simulating the data, and find the actual ATE. We should expect to see a very small number as the result"
   ]
  },
  {
   "cell_type": "code",
   "execution_count": 5,
   "metadata": {},
   "outputs": [
    {
     "data": {
      "text/plain": [
       "-0.00038939332370180324"
      ]
     },
     "execution_count": 5,
     "metadata": {},
     "output_type": "execute_result"
    }
   ],
   "source": [
    "mean(Y_1) - mean(Y_0)"
   ]
  },
  {
   "cell_type": "markdown",
   "metadata": {},
   "source": [
    "We can calculate the variance of the individual diferences and see that it is much larger than the average diference. This should hint that the divergence from the true value of zero comes from imprecission caused by the random vairiables $\\epsilon_d$"
   ]
  },
  {
   "cell_type": "code",
   "execution_count": 6,
   "metadata": {},
   "outputs": [
    {
     "data": {
      "text/plain": [
       "0.004460763200112451"
      ]
     },
     "execution_count": 6,
     "metadata": {},
     "output_type": "execute_result"
    }
   ],
   "source": [
    "std(Y_1 - Y_0) / sqrt(N)"
   ]
  },
  {
   "cell_type": "markdown",
   "metadata": {},
   "source": [
    "In practice, we would approximate $\\theta_0, \\theta_1$ by getting each group's mean. This is:\n",
    "\n",
    "$$\n",
    "\\hat{\\theta}_d = \\frac{\\sum_{\\{i\\in[1,...,n]:D_i=d\\}}Y_i}{n_d} = \\frac{\\mathbb{E}_n[Y1(D=d)]}{\\mathbb{E}_n[1(D=d)]}\n",
    "$$\n",
    "\n",
    "Then we can approximate the ATE with $\\hat{\\theta}_1-\\hat{\\theta}_0$. We can also get confidence intervals for these estimators\n",
    "\n",
    "$$\n",
    "Var(\\hat{\\theta}_1)=\\frac{Var(Y|D=d)}{nP(D = d)}\n",
    "$$\n",
    "\n",
    "With this, our $\\hat{\\delta}$ estimate is distributed as:\n",
    "\n",
    "$$\n",
    "\\hat{\\delta}\\sim_a\\mathcal{N}(\\delta, Var(\\hat{\\theta}_1) + Var(\\hat{\\theta}_2))\n",
    "$$"
   ]
  },
  {
   "cell_type": "code",
   "execution_count": 7,
   "metadata": {},
   "outputs": [
    {
     "data": {
      "text/plain": [
       "-0.8030018222654203"
      ]
     },
     "execution_count": 7,
     "metadata": {},
     "output_type": "execute_result"
    }
   ],
   "source": [
    "mean(Y_biased .* D_biased) / mean(D_biased) - mean(Y_biased .* (1 .- D_biased)) / mean(1 .- D_biased)"
   ]
  },
  {
   "cell_type": "code",
   "execution_count": 8,
   "metadata": {},
   "outputs": [
    {
     "data": {
      "text/plain": [
       "0.00579962326147726"
      ]
     },
     "execution_count": 8,
     "metadata": {},
     "output_type": "execute_result"
    }
   ],
   "source": [
    "ate_variance = var(Y_biased[Bool.(D_biased)]) / mean(D_biased) / N + var(Y_biased[Bool.(1 .- D_biased)]) / mean(1 .- D_biased) / N\n",
    "sqrt(ate_variance)"
   ]
  },
  {
   "cell_type": "markdown",
   "metadata": {},
   "source": [
    "This is a very different result from the one above. First of all, we get a result that is relatively large in comparison to the real value of zero. Also, we get a very precise result that would imply high significance of our variable. This would lead us to reject the null hypothesis, even though it is true. For more clarity, we can run a regression of the recentered variables variables. Recentering is simply subtracting the mean.\n",
    "\n",
    "We see the same results, plus a very large $t$ statistic and a very small $p$ value."
   ]
  },
  {
   "cell_type": "code",
   "execution_count": 9,
   "metadata": {},
   "outputs": [
    {
     "data": {
      "text/plain": [
       "LinearModel{GLM.LmResp{Vector{Float64}}, GLM.DensePredChol{Float64, LinearAlgebra.CholeskyPivoted{Float64, Matrix{Float64}, Vector{Int64}}}}:\n",
       "\n",
       "Coefficients:\n",
       "──────────────────────────────────────────────────────────────────\n",
       "        Coef.  Std. Error        t  Pr(>|t|)  Lower 95%  Upper 95%\n",
       "──────────────────────────────────────────────────────────────────\n",
       "x1  -0.803002  0.00579962  -138.46    <1e-99  -0.814369  -0.791635\n",
       "──────────────────────────────────────────────────────────────────\n"
      ]
     },
     "execution_count": 9,
     "metadata": {},
     "output_type": "execute_result"
    }
   ],
   "source": [
    "using GLM\n",
    "lm([D_biased .- mean(D_biased);;], Y_biased .- mean(Y_biased))"
   ]
  },
  {
   "cell_type": "markdown",
   "metadata": {},
   "source": [
    "This happens because selection bias leads to an apparent negative relationship between the treatment and the outcome. In our research setting, we would interpret this finding as the drug having a negative effect on lung health, even though the true ATE is of 0. This relationship only arises because of underlying variables that determine both $Y(d)$ and $D$ simultaneously. A variable that affects both the propensity of treatment and the outcome is called a **confounder**, and not taking confounders into account can lead to the kinds of issues we are seeing in this example. One way of tackling the issue of confounding is to use randomized treatments. Now in our research example, instead of having a $D$ treatment that is correlated with some unobservables, we randomly assign the treatment to the population of interest. We can simulate that through our code."
   ]
  },
  {
   "cell_type": "code",
   "execution_count": 10,
   "metadata": {},
   "outputs": [],
   "source": [
    "D_random = Int.(randn(N) .> 0)\n",
    "Y_random = (1 .- D_random) .* Y_0 + D_random .* Y_1;"
   ]
  },
  {
   "cell_type": "markdown",
   "metadata": {},
   "source": [
    "We now estimate the ATE and its variance like before."
   ]
  },
  {
   "cell_type": "code",
   "execution_count": 11,
   "metadata": {},
   "outputs": [
    {
     "data": {
      "text/plain": [
       "0.0017307983766892132"
      ]
     },
     "execution_count": 11,
     "metadata": {},
     "output_type": "execute_result"
    }
   ],
   "source": [
    "mean(Y_random .* D_random) / mean(D_random) - mean(Y_random .* (1 .- D_random)) / mean(1 .- D_random)"
   ]
  },
  {
   "cell_type": "code",
   "execution_count": 12,
   "metadata": {},
   "outputs": [
    {
     "data": {
      "text/plain": [
       "0.006326239270608497"
      ]
     },
     "execution_count": 12,
     "metadata": {},
     "output_type": "execute_result"
    }
   ],
   "source": [
    "ate_variance = var(Y_random[Bool.(D_random)]) / mean(D_random) / N + var(Y_random[Bool.(1 .- D_random)]) / mean(1 .- D_random) / N\n",
    "sqrt(ate_variance)"
   ]
  },
  {
   "cell_type": "markdown",
   "metadata": {},
   "source": [
    "We can see now that we get a much smaller value for the treatment effect, and that it is not even significant at the standard levels. To see this, we can conduct a regression"
   ]
  },
  {
   "cell_type": "code",
   "execution_count": 13,
   "metadata": {},
   "outputs": [
    {
     "data": {
      "text/plain": [
       "LinearModel{GLM.LmResp{Vector{Float64}}, GLM.DensePredChol{Float64, LinearAlgebra.CholeskyPivoted{Float64, Matrix{Float64}, Vector{Int64}}}}:\n",
       "\n",
       "Coefficients:\n",
       "────────────────────────────────────────────────────────────────\n",
       "        Coef.  Std. Error     t  Pr(>|t|)   Lower 95%  Upper 95%\n",
       "────────────────────────────────────────────────────────────────\n",
       "x1  0.0017308  0.00632624  0.27    0.7844  -0.0106686  0.0141301\n",
       "────────────────────────────────────────────────────────────────\n"
      ]
     },
     "execution_count": 13,
     "metadata": {},
     "output_type": "execute_result"
    }
   ],
   "source": [
    "lm([D_random .- mean(D_random);;], Y_random .- mean(Y_random))"
   ]
  },
  {
   "cell_type": "markdown",
   "metadata": {},
   "source": [
    "The great utility of randomization is that it ensures that the realized treatment and the potential outcomes are uncorrelated, which leads to unbiased estimation.\n",
    "\n",
    "## Type 2 error\n",
    "\n",
    "Now, after having made sure that our treatment is safe, we can now look into its effectiveness in reducing blood cholesterol. Let the outcome now be inversely proportional to the blood cholesterol measure, such that a higher value represents lower cholesterol levels. For it to be considered effective it would have to have a positive and significant ATE. We will set the ATE for this example to 0.8. We will start with the observational setting, where we do not randomize the treatment."
   ]
  },
  {
   "cell_type": "code",
   "execution_count": 14,
   "metadata": {},
   "outputs": [],
   "source": [
    "theta0 = 1\n",
    "theta1 = 1.8\n",
    "Y_0 = theta0 .+ epsilon0\n",
    "Y_1 = theta1 .+ epsilon1\n",
    "D_biased = Int.(nu .> 0)\n",
    "Y_biased = (1 .- D_biased) .* Y_0 + D_biased .* Y_1;"
   ]
  },
  {
   "cell_type": "markdown",
   "metadata": {},
   "source": [
    "If we run a regression for the demeaned variables, we see that we get a small and insignificant estimator for our treatment effect. Again, the correlation between the treatment and the potential outcomes is causing us to get results that do not reflect reality. In this case we are led to not reject the null hypothesis, even though it is false and the true ATE is quite different from 0."
   ]
  },
  {
   "cell_type": "code",
   "execution_count": 15,
   "metadata": {},
   "outputs": [
    {
     "data": {
      "text/plain": [
       "LinearModel{GLM.LmResp{Vector{Float64}}, GLM.DensePredChol{Float64, LinearAlgebra.CholeskyPivoted{Float64, Matrix{Float64}, Vector{Int64}}}}:\n",
       "\n",
       "Coefficients:\n",
       "───────────────────────────────────────────────────────────────────\n",
       "          Coef.  Std. Error      t  Pr(>|t|)  Lower 95%   Upper 95%\n",
       "───────────────────────────────────────────────────────────────────\n",
       "x1  -0.00300182  0.00579962  -0.52    0.6047  -0.014369  0.00836537\n",
       "───────────────────────────────────────────────────────────────────\n"
      ]
     },
     "execution_count": 15,
     "metadata": {},
     "output_type": "execute_result"
    }
   ],
   "source": [
    "lm([D_biased .- mean(D_biased);;], Y_biased .- mean(Y_biased))"
   ]
  },
  {
   "cell_type": "markdown",
   "metadata": {},
   "source": [
    "However, with random assignment, we get much closer to the true ATE, and we can now (correctly) reject the null hypothesis"
   ]
  },
  {
   "cell_type": "code",
   "execution_count": 16,
   "metadata": {},
   "outputs": [],
   "source": [
    "D_random = Int.(randn(N) .> 0)\n",
    "Y_random = (1 .- D_random) .* Y_0 + D_random .* Y_1;"
   ]
  },
  {
   "cell_type": "code",
   "execution_count": 17,
   "metadata": {},
   "outputs": [
    {
     "data": {
      "text/plain": [
       "LinearModel{GLM.LmResp{Vector{Float64}}, GLM.DensePredChol{Float64, LinearAlgebra.CholeskyPivoted{Float64, Matrix{Float64}, Vector{Int64}}}}:\n",
       "\n",
       "Coefficients:\n",
       "────────────────────────────────────────────────────────────────\n",
       "       Coef.  Std. Error       t  Pr(>|t|)  Lower 95%  Upper 95%\n",
       "────────────────────────────────────────────────────────────────\n",
       "x1  0.791601  0.00631952  125.26    <1e-99   0.779215   0.803987\n",
       "────────────────────────────────────────────────────────────────\n"
      ]
     },
     "execution_count": 17,
     "metadata": {},
     "output_type": "execute_result"
    }
   ],
   "source": [
    "lm([D_random .- mean(D_random);;], Y_random .- mean(Y_random))"
   ]
  },
  {
   "cell_type": "markdown",
   "metadata": {},
   "source": [
    "## Identification through strong ignorability:\n",
    "\n",
    "Sometimes we don't have the means to conduct a full RCT. Most of the time we only have data available from surveys and administrative records. The root of the estimation bias is solved by randomization, but the lack of randomization is not the cause of the bias itself. We can find other procedures that can lead us to an unbiased estimate even with a biased treatment. Recall from class that we can identify treatment effects through strong ignorability. We call $D_i$ strongly ignorable conditional on a vector $X$ if it follows:\n",
    "\n",
    "- Ignorability: For a given value of $X_i$, $D_i$ is unrelated to the potential outcomes\n",
    "- Positivity: $P(D_i=1|X_i)\\in(0, 1)$. For a given value of $X_i$, there are treated and untreated individuals.\n",
    "\n",
    "The second condition is somewhat trivial but necessary to make sure that at any value of $X_i$ there exists a split, even if it is very unbalanced. The first condition, on the other hand, hearkens back to a topic we have explored before. Recall the partialling out procedure, where, for a variable $V_i$, we would construct $\\tilde{V}_i$ such that\n",
    "\n",
    "$$\n",
    "\\tilde{V}_i=V_i-E[V_i|X_i]\n",
    "$$\n",
    "\n",
    "We refer back to partialling out in this situation because, through it, we are able to \"remove\" the influence of $X$ (in this case, our $\\epsilon_0$ and $\\epsilon_1$ variables) on $D$ and on $Y$. Therefor, we would expect the regression between the variables $\\tilde{Y}$ and $\\tilde{D}$ to give us a better estimate even if the base variables are biased. Note that this is because we can observe $X$."
   ]
  },
  {
   "cell_type": "code",
   "execution_count": 18,
   "metadata": {},
   "outputs": [
    {
     "data": {
      "text/plain": [
       "LinearModel{GLM.LmResp{Vector{Float64}}, GLM.DensePredChol{Float64, LinearAlgebra.CholeskyPivoted{Float64, Matrix{Float64}, Vector{Int64}}}}:\n",
       "\n",
       "Coefficients:\n",
       "───────────────────────────────────────────────────────────────\n",
       "       Coef.  Std. Error      t  Pr(>|t|)  Lower 95%  Upper 95%\n",
       "───────────────────────────────────────────────────────────────\n",
       "x1  0.824144   0.0121874  67.62    <1e-99   0.800257   0.848031\n",
       "───────────────────────────────────────────────────────────────\n"
      ]
     },
     "execution_count": 18,
     "metadata": {},
     "output_type": "execute_result"
    }
   ],
   "source": [
    "D_model = glm([epsilon0;; epsilon1], D_biased, Binomial(), ProbitLink())\n",
    "D_resid = D_biased - predict(D_model, [epsilon0;; epsilon1])\n",
    "Y_model = lm([epsilon0;; epsilon1], Y_biased)\n",
    "Y_resid = Y_biased - predict(Y_model, [epsilon0;; epsilon1]);\n",
    "lm([D_resid;;], Y_resid)"
   ]
  }
 ],
 "metadata": {
  "kernelspec": {
   "display_name": "Julia 1.9.3",
   "language": "julia",
   "name": "julia-1.9"
  },
  "language_info": {
   "file_extension": ".jl",
   "mimetype": "application/julia",
   "name": "julia",
   "version": "1.9.3"
  }
 },
 "nbformat": 4,
 "nbformat_minor": 2
}
